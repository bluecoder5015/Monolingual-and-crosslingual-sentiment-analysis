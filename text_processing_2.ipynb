{
 "cells": [
  {
   "cell_type": "markdown",
   "metadata": {},
   "source": [
    "# Text Processing\n"
   ]
  },
  {
   "cell_type": "code",
   "execution_count": 11,
   "metadata": {},
   "outputs": [
    {
     "name": "stdout",
     "output_type": "stream",
     "text": [
      "Apple Inc. is an American multinational technology company headquartered in Cupertino, California that designs, develops, and sells consumer electronics, computer software, and online services. The company's hardware products include the iPhone smartphone, the iPad tablet computer, the Mac personal computer, the iPod portable media player, the Apple Watch smartwatch, and the Apple TV digital media player. Apple's consumer software includes the macOS and iOS operating systems, the iTunes media player, the Safari web browser, and the iLife and iWork creativity and productivity suites. Its online services include the iTunes Store, the iOS App Store and Mac App Store, Apple Music, and iCloud.\n",
      "\n"
     ]
    }
   ],
   "source": [
    "import os\n",
    "\n",
    "# Read in a plain text file\n",
    "with open(os.path.join('sample.txt'), 'r') as f:\n",
    "    text = f.read()\n",
    "    print(text)"
   ]
  },
  {
   "cell_type": "code",
   "execution_count": null,
   "metadata": {
    "scrolled": true
   },
   "outputs": [],
   "source": [
    "import pandas as pd\n",
    "\n",
    "# Extract text column from a dataframe\n",
    "df = pd.read_csv(os.path.join(\"file_name.csv\"))\n",
    "df.head()[['publisher', 'title']]\n",
    "\n",
    "# Convert text column to lowercase\n",
    "df['title'] = df['title'].str.lower()\n",
    "df.head()[['publisher', 'title']]"
   ]
  },
  {
   "cell_type": "markdown",
   "metadata": {},
   "source": [
    "### Online Resource"
   ]
  },
  {
   "cell_type": "code",
   "execution_count": 12,
   "metadata": {
    "scrolled": true
   },
   "outputs": [
    {
     "name": "stdout",
     "output_type": "stream",
     "text": [
      "{\n",
      "    \"success\": {\n",
      "        \"total\": 1\n",
      "    },\n",
      "    \"contents\": {\n",
      "        \"quotes\": [\n",
      "            {\n",
      "                \"quote\": \"We don't have to do all of it alone. We were never meant to.\",\n",
      "                \"length\": \"60\",\n",
      "                \"author\": \"Brene Brown\",\n",
      "                \"tags\": [\n",
      "                    \"inspire\",\n",
      "                    \"teamwork\"\n",
      "                ],\n",
      "                \"category\": \"inspire\",\n",
      "                \"language\": \"en\",\n",
      "                \"date\": \"2021-08-28\",\n",
      "                \"permalink\": \"https://theysaidso.com/quote/brene-brown-we-dont-have-to-do-all-of-it-alone-we-were-never-meant-to\",\n",
      "                \"id\": \"DhdoxV10LeG_3pD82xMmEgeF\",\n",
      "                \"background\": \"https://theysaidso.com/img/qod/qod-inspire.jpg\",\n",
      "                \"title\": \"Inspiring Quote of the day\"\n",
      "            }\n",
      "        ]\n",
      "    },\n",
      "    \"baseurl\": \"https://theysaidso.com\",\n",
      "    \"copyright\": {\n",
      "        \"year\": 2023,\n",
      "        \"url\": \"https://theysaidso.com\"\n",
      "    }\n",
      "}\n",
      "We don't have to do all of it alone. We were never meant to. \n",
      "-- Brene Brown\n"
     ]
    }
   ],
   "source": [
    "import requests\n",
    "import json\n",
    "\n",
    "# Fetch data from a REST API\n",
    "r = requests.get(\n",
    "    \"https://quotes.rest/qod.json\")\n",
    "res = r.json()\n",
    "print(json.dumps(res, indent=4))\n",
    "\n",
    "# Extract relevant object and field\n",
    "q = res[\"contents\"][\"quotes\"][0]\n",
    "print(q[\"quote\"], \"\\n--\", q[\"author\"])"
   ]
  },
  {
   "cell_type": "markdown",
   "metadata": {},
   "source": [
    "## Cleaning"
   ]
  },
  {
   "cell_type": "code",
   "execution_count": 13,
   "metadata": {
    "scrolled": true
   },
   "outputs": [
    {
     "name": "stdout",
     "output_type": "stream",
     "text": [
      "<html lang=\"en\" op=\"news\"><head><meta name=\"referrer\" content=\"origin\"><meta name=\"viewport\" content=\"width=device-width, initial-scale=1.0\"><link rel=\"stylesheet\" type=\"text/css\" href=\"news.css?Wioqzw1qYS0QVlWlv1P5\">\n",
      "        <link rel=\"shortcut icon\" href=\"favicon.ico\">\n",
      "          <link rel=\"alternate\" type=\"application/rss+xml\" title=\"RSS\" href=\"rss\">\n",
      "        <title>Hacker News</title></head><body><center><table id=\"hnmain\" border=\"0\" cellpadding=\"0\" cellspacing=\"0\" width=\"85%\" bgcolor=\"#f6f6ef\">\n",
      "        <tr><td bgcolor=\"#ff6600\"><table border=\"0\" cellpadding=\"0\" cellspacing=\"0\" width=\"100%\" style=\"padding:2px\"><tr><td style=\"width:18px;padding-right:4px\"><a href=\"https://news.ycombinator.com\"><img src=\"y18.gif\" width=\"18\" height=\"18\" style=\"border:1px white solid;\"></a></td>\n",
      "                  <td style=\"line-height:12pt; height:10px;\"><span class=\"pagetop\"><b class=\"hnname\"><a href=\"news\">Hacker News</a></b>\n",
      "              <a href=\"newest\">new</a> | <a href=\"front\">past</a> | <a href=\"newcomments\">comments</a> | <a href=\"ask\">ask</a> | <a href=\"show\">show</a> | <a href=\"jobs\">jobs</a> | <a href=\"submit\">submit</a>            </span></td><td style=\"text-align:right;padding-right:4px;\"><span class=\"pagetop\">\n",
      "                              <a href=\"login?goto=news\">login</a>\n",
      "                          </span></td>\n",
      "              </tr></table></td></tr>\n",
      "<tr id=\"pagespace\" title=\"\" style=\"height:10px\"></tr><tr><td><table border=\"0\" cellpadding=\"0\" cellspacing=\"0\" class=\"itemlist\">\n",
      "              <tr class='athing' id='28327022'>\n",
      "      <td align=\"right\" valign=\"top\" class=\"title\"><span class=\"rank\">1.</span></td>      <td valign=\"top\" class=\"votelinks\"><center><a id='up_28327022' href='vote?id=28327022&amp;how=up&amp;goto=news'><div class='votearrow' title='upvote'></div></a></center></td><td class=\"title\"><a href=\"https://neilbostian.github.io/#/doomphone\" class=\"storylink\">I hacked an office telephone to play DOOM</a><span class=\"sitebit comhead\"> (<a href=\"from?site=neilbostian.github.io\"><span class=\"sitestr\">neilbostian.github.io</span></a>)</span></td></tr><tr><td colspan=\"2\"></td><td class=\"subtext\">\n",
      "        <span class=\"score\" id=\"score_28327022\">82 points</span> by <a href=\"user?id=joshmanders\" class=\"hnuser\">joshmanders</a> <span class=\"age\" title=\"2021-08-27T12:38:12\"><a href=\"item?id=28327022\">3 hours ago</a></span> <span id=\"unv_28327022\"></span> | <a href=\"hide?id=28327022&amp;goto=news\">hide</a> | <a href=\"item?id=28327022\">14&nbsp;comments</a>              </td></tr>\n",
      "      <tr class=\"spacer\" style=\"height:5px\"></tr>\n",
      "                <tr class='athing' id='28332205'>\n",
      "      <td align=\"right\" valign=\"top\" class=\"title\"><span class=\"rank\">2.</span></td>      <td valign=\"top\" class=\"votelinks\"><center><a id='up_28332205' href='vote?id=28332205&amp;how=up&amp;goto=news'><div class='votearrow' title='upvote'></div></a></center></td><td class=\"title\"><a href=\"https://www.pldi21.org/prerecorded_hopl.17.html\" class=\"storylink\">The Evolution of Smalltalk from Smalltalk-72 to Squeak [video]</a><span class=\"sitebit comhead\"> (<a href=\"from?site=pldi21.org\"><span class=\"sitestr\">pldi21.org</span></a>)</span></td></tr><tr><td colspan=\"2\"></td><td class=\"subtext\">\n",
      "        <span class=\"score\" id=\"score_28332205\">151 points</span> by <a href=\"user?id=gjvc\" class=\"hnuser\">gjvc</a> <span class=\"age\" title=\"2021-08-27T19:45:32\"><a href=\"item?id=28332205\">9 hours ago</a></span> <span id=\"unv_28332205\"></span> | <a href=\"hide?id=28332205&amp;goto=news\">hide</a> | <a href=\"item?id=28332205\">37&nbsp;comments</a>              </td></tr>\n",
      "      <tr class=\"spacer\" style=\"height:5px\"></tr>\n",
      "                <tr class='athing' id='28326275'>\n",
      "      <td align=\"right\" valign=\"top\" class=\"title\"><span class=\"rank\">3.</span></td>      <td valign=\"top\" class=\"votelinks\"><center><a id='up_28326275' href='vote?id=28326275&amp;how=up&amp;goto=news'><div class='votearrow' title='upvote'></div></a></center></td><td class=\"title\"><a href=\"https://danluu.com/why-benchmark/\" class=\"storylink\">Some Reasons to Measure</a><span class=\"sitebit comhead\"> (<a href=\"from?site=danluu.com\"><span class=\"sitestr\">danluu.com</span></a>)</span></td></tr><tr><td colspan=\"2\"></td><td class=\"subtext\">\n",
      "        <span class=\"score\" id=\"score_28326275\">78 points</span> by <a href=\"user?id=cdwhite\" class=\"hnuser\">cdwhite</a> <span class=\"age\" title=\"2021-08-27T11:00:20\"><a href=\"item?id=28326275\">6 hours ago</a></span> <span id=\"unv_28326275\"></span> | <a href=\"hide?id=28326275&amp;goto=news\">hide</a> | <a href=\"item?id=28326275\">6&nbsp;comments</a>              </td></tr>\n",
      "      <tr class=\"spacer\" style=\"height:5px\"></tr>\n",
      "                <tr class='athing' id='28310814'>\n",
      "      <td align=\"right\" valign=\"top\" class=\"title\"><span class=\"rank\">4.</span></td>      <td valign=\"top\" class=\"votelinks\"><center><a id='up_28310814' href='vote?id=28310814&amp;how=up&amp;goto=news'><div class='votearrow' title='upvote'></div></a></center></td><td class=\"title\"><a href=\"https://blog.roboflow.com/zero-shot-object-tracking/\" class=\"storylink\">Zero Shot Object Tracking</a><span class=\"sitebit comhead\"> (<a href=\"from?site=roboflow.com\"><span class=\"sitestr\">roboflow.com</span></a>)</span></td></tr><tr><td colspan=\"2\"></td><td class=\"subtext\">\n",
      "        <span class=\"score\" id=\"score_28310814\">30 points</span> by <a href=\"user?id=jonbaer\" class=\"hnuser\">jonbaer</a> <span class=\"age\" title=\"2021-08-26T04:48:04\"><a href=\"item?id=28310814\">4 hours ago</a></span> <span id=\"unv_28310814\"></span> | <a href=\"hide?id=28310814&amp;goto=news\">hide</a> | <a href=\"item?id=28310814\">3&nbsp;comments</a>              </td></tr>\n",
      "      <tr class=\"spacer\" style=\"height:5px\"></tr>\n",
      "                <tr class='athing' id='28327660'>\n",
      "      <td align=\"right\" valign=\"top\" class=\"title\"><span class=\"rank\">5.</span></td>      <td valign=\"top\" class=\"votelinks\"><center><a id='up_28327660' href='vote?id=28327660&amp;how=up&amp;goto=news'><div class='votearrow' title='upvote'></div></a></center></td><td class=\"title\"><a href=\"item?id=28327660\" class=\"storylink\">Launch HN: Hotswap (YC S21) – Easily migrate customers away from competitors</a></td></tr><tr><td colspan=\"2\"></td><td class=\"subtext\">\n",
      "        <span class=\"score\" id=\"score_28327660\">287 points</span> by <a href=\"user?id=memset\" class=\"hnuser\">memset</a> <span class=\"age\" title=\"2021-08-27T13:39:29\"><a href=\"item?id=28327660\">15 hours ago</a></span> <span id=\"unv_28327660\"></span> | <a href=\"hide?id=28327660&amp;goto=news\">hide</a> | <a href=\"item?id=28327660\">131&nbsp;comments</a>              </td></tr>\n",
      "      <tr class=\"spacer\" style=\"height:5px\"></tr>\n",
      "                <tr class='athing' id='28329444'>\n",
      "      <td align=\"right\" valign=\"top\" class=\"title\"><span class=\"rank\">6.</span></td>      <td valign=\"top\" class=\"votelinks\"><center><a id='up_28329444' href='vote?id=28329444&amp;how=up&amp;goto=news'><div class='votearrow' title='upvote'></div></a></center></td><td class=\"title\"><a href=\"https://metameme.app/\" class=\"storylink\">Show HN: I made a meme creator that makes around $4k a month</a><span class=\"sitebit comhead\"> (<a href=\"from?site=metameme.app\"><span class=\"sitestr\">metameme.app</span></a>)</span></td></tr><tr><td colspan=\"2\"></td><td class=\"subtext\">\n",
      "        <span class=\"score\" id=\"score_28329444\">280 points</span> by <a href=\"user?id=par\" class=\"hnuser\">par</a> <span class=\"age\" title=\"2021-08-27T15:59:18\"><a href=\"item?id=28329444\">13 hours ago</a></span> <span id=\"unv_28329444\"></span> | <a href=\"hide?id=28329444&amp;goto=news\">hide</a> | <a href=\"item?id=28329444\">164&nbsp;comments</a>              </td></tr>\n",
      "      <tr class=\"spacer\" style=\"height:5px\"></tr>\n",
      "                <tr class='athing' id='28331345'>\n",
      "      <td align=\"right\" valign=\"top\" class=\"title\"><span class=\"rank\">7.</span></td>      <td valign=\"top\" class=\"votelinks\"><center><a id='up_28331345' href='vote?id=28331345&amp;how=up&amp;goto=news'><div class='votearrow' title='upvote'></div></a></center></td><td class=\"title\"><a href=\"https://www.theguardian.com/world/2021/aug/27/brussels-battles-old-prejudices-as-it-frees-unloved-river-senne-from-its-vault\" class=\"storylink\">Brussels battles old prejudices as it frees unloved river from its vault</a><span class=\"sitebit comhead\"> (<a href=\"from?site=theguardian.com\"><span class=\"sitestr\">theguardian.com</span></a>)</span></td></tr><tr><td colspan=\"2\"></td><td class=\"subtext\">\n",
      "        <span class=\"score\" id=\"score_28331345\">115 points</span> by <a href=\"user?id=f_allwein\" class=\"hnuser\">f_allwein</a> <span class=\"age\" title=\"2021-08-27T18:27:47\"><a href=\"item?id=28331345\">10 hours ago</a></span> <span id=\"unv_28331345\"></span> | <a href=\"hide?id=28331345&amp;goto=news\">hide</a> | <a href=\"item?id=28331345\">51&nbsp;comments</a>              </td></tr>\n",
      "      <tr class=\"spacer\" style=\"height:5px\"></tr>\n",
      "                <tr class='athing' id='28335202'>\n",
      "      <td align=\"right\" valign=\"top\" class=\"title\"><span class=\"rank\">8.</span></td>      <td valign=\"top\" class=\"votelinks\"><center><a id='up_28335202' href='vote?id=28335202&amp;how=up&amp;goto=news'><div class='votearrow' title='upvote'></div></a></center></td><td class=\"title\"><a href=\"https://www.cbc.ca/news/canada/british-columbia/woman-ordered-to-pay-30k-in-damages-for-negative-breast-implant-review-1.6156240\" class=\"storylink\">Woman ordered to pay $30K for defamation by BC Supreme Court for online review</a><span class=\"sitebit comhead\"> (<a href=\"from?site=cbc.ca\"><span class=\"sitestr\">cbc.ca</span></a>)</span></td></tr><tr><td colspan=\"2\"></td><td class=\"subtext\">\n",
      "        <span class=\"score\" id=\"score_28335202\">9 points</span> by <a href=\"user?id=stygiansonic\" class=\"hnuser\">stygiansonic</a> <span class=\"age\" title=\"2021-08-28T02:50:47\"><a href=\"item?id=28335202\">2 hours ago</a></span> <span id=\"unv_28335202\"></span> | <a href=\"hide?id=28335202&amp;goto=news\">hide</a> | <a href=\"item?id=28335202\">discuss</a>              </td></tr>\n",
      "      <tr class=\"spacer\" style=\"height:5px\"></tr>\n",
      "                <tr class='athing' id='28332962'>\n",
      "      <td align=\"right\" valign=\"top\" class=\"title\"><span class=\"rank\">9.</span></td>      <td valign=\"top\" class=\"votelinks\"><center><a id='up_28332962' href='vote?id=28332962&amp;how=up&amp;goto=news'><div class='votearrow' title='upvote'></div></a></center></td><td class=\"title\"><a href=\"https://searchvoidstar.tumblr.com/post/659634228574715904/an-amazing-error-message-if-you-put-more-than-2-24\" class=\"storylink\">An error message if you put more than 2^24 items in a JS Map object</a><span class=\"sitebit comhead\"> (<a href=\"from?site=searchvoidstar.tumblr.com\"><span class=\"sitestr\">searchvoidstar.tumblr.com</span></a>)</span></td></tr><tr><td colspan=\"2\"></td><td class=\"subtext\">\n",
      "        <span class=\"score\" id=\"score_28332962\">82 points</span> by <a href=\"user?id=norescue\" class=\"hnuser\">norescue</a> <span class=\"age\" title=\"2021-08-27T21:05:36\"><a href=\"item?id=28332962\">8 hours ago</a></span> <span id=\"unv_28332962\"></span> | <a href=\"hide?id=28332962&amp;goto=news\">hide</a> | <a href=\"item?id=28332962\">54&nbsp;comments</a>              </td></tr>\n",
      "      <tr class=\"spacer\" style=\"height:5px\"></tr>\n",
      "                <tr class='athing' id='28334516'>\n",
      "      <td align=\"right\" valign=\"top\" class=\"title\"><span class=\"rank\">10.</span></td>      <td valign=\"top\" class=\"votelinks\"><center><a id='up_28334516' href='vote?id=28334516&amp;how=up&amp;goto=news'><div class='votearrow' title='upvote'></div></a></center></td><td class=\"title\"><a href=\"https://gist.github.com/Rapptz/4a2f62751b9600a31a0d3c78100287f1\" class=\"storylink\">The Future of discord.py</a><span class=\"sitebit comhead\"> (<a href=\"from?site=gist.github.com\"><span class=\"sitestr\">gist.github.com</span></a>)</span></td></tr><tr><td colspan=\"2\"></td><td class=\"subtext\">\n",
      "        <span class=\"score\" id=\"score_28334516\">317 points</span> by <a href=\"user?id=AngelOnFira\" class=\"hnuser\">AngelOnFira</a> <span class=\"age\" title=\"2021-08-28T00:42:11\"><a href=\"item?id=28334516\">4 hours ago</a></span> <span id=\"unv_28334516\"></span> | <a href=\"hide?id=28334516&amp;goto=news\">hide</a> | <a href=\"item?id=28334516\">83&nbsp;comments</a>              </td></tr>\n",
      "      <tr class=\"spacer\" style=\"height:5px\"></tr>\n",
      "                <tr class='athing' id='28333608'>\n",
      "      <td align=\"right\" valign=\"top\" class=\"title\"><span class=\"rank\">11.</span></td>      <td valign=\"top\" class=\"votelinks\"><center><a id='up_28333608' href='vote?id=28333608&amp;how=up&amp;goto=news'><div class='votearrow' title='upvote'></div></a></center></td><td class=\"title\"><a href=\"https://bsdly.blogspot.com/2021/08/recent-and-not-so-recent-changes-in.html\" class=\"storylink\">Recent and not so recent changes in OpenBSD</a><span class=\"sitebit comhead\"> (<a href=\"from?site=bsdly.blogspot.com\"><span class=\"sitestr\">bsdly.blogspot.com</span></a>)</span></td></tr><tr><td colspan=\"2\"></td><td class=\"subtext\">\n",
      "        <span class=\"score\" id=\"score_28333608\">58 points</span> by <a href=\"user?id=elchief\" class=\"hnuser\">elchief</a> <span class=\"age\" title=\"2021-08-27T22:23:34\"><a href=\"item?id=28333608\">6 hours ago</a></span> <span id=\"unv_28333608\"></span> | <a href=\"hide?id=28333608&amp;goto=news\">hide</a> | <a href=\"item?id=28333608\">19&nbsp;comments</a>              </td></tr>\n",
      "      <tr class=\"spacer\" style=\"height:5px\"></tr>\n",
      "                <tr class='athing' id='28329286'>\n",
      "      <td align=\"right\" valign=\"top\" class=\"title\"><span class=\"rank\">12.</span></td>      <td valign=\"top\" class=\"votelinks\"><center><a id='up_28329286' href='vote?id=28329286&amp;how=up&amp;goto=news'><div class='votearrow' title='upvote'></div></a></center></td><td class=\"title\"><a href=\"https://www.kalzumeus.com/2021/08/27/app-store-payment-competition/\" class=\"storylink\">App store payments will have increased competition</a><span class=\"sitebit comhead\"> (<a href=\"from?site=kalzumeus.com\"><span class=\"sitestr\">kalzumeus.com</span></a>)</span></td></tr><tr><td colspan=\"2\"></td><td class=\"subtext\">\n",
      "        <span class=\"score\" id=\"score_28329286\">295 points</span> by <a href=\"user?id=laurieg\" class=\"hnuser\">laurieg</a> <span class=\"age\" title=\"2021-08-27T15:45:30\"><a href=\"item?id=28329286\">13 hours ago</a></span> <span id=\"unv_28329286\"></span> | <a href=\"hide?id=28329286&amp;goto=news\">hide</a> | <a href=\"item?id=28329286\">262&nbsp;comments</a>              </td></tr>\n",
      "      <tr class=\"spacer\" style=\"height:5px\"></tr>\n",
      "                <tr class='athing' id='28324626'>\n",
      "      <td align=\"right\" valign=\"top\" class=\"title\"><span class=\"rank\">13.</span></td>      <td valign=\"top\" class=\"votelinks\"><center><a id='up_28324626' href='vote?id=28324626&amp;how=up&amp;goto=news'><div class='votearrow' title='upvote'></div></a></center></td><td class=\"title\"><a href=\"https://prezu.ca/post/2021-07-30-totp-1/\" class=\"storylink\">How does Google Authenticator work?</a><span class=\"sitebit comhead\"> (<a href=\"from?site=prezu.ca\"><span class=\"sitestr\">prezu.ca</span></a>)</span></td></tr><tr><td colspan=\"2\"></td><td class=\"subtext\">\n",
      "        <span class=\"score\" id=\"score_28324626\">181 points</span> by <a href=\"user?id=ecliptik\" class=\"hnuser\">ecliptik</a> <span class=\"age\" title=\"2021-08-27T05:38:14\"><a href=\"item?id=28324626\">12 hours ago</a></span> <span id=\"unv_28324626\"></span> | <a href=\"hide?id=28324626&amp;goto=news\">hide</a> | <a href=\"item?id=28324626\">116&nbsp;comments</a>              </td></tr>\n",
      "      <tr class=\"spacer\" style=\"height:5px\"></tr>\n",
      "                <tr class='athing' id='28329672'>\n",
      "      <td align=\"right\" valign=\"top\" class=\"title\"><span class=\"rank\">14.</span></td>      <td valign=\"top\" class=\"votelinks\"><center><a id='up_28329672' href='vote?id=28329672&amp;how=up&amp;goto=news'><div class='votearrow' title='upvote'></div></a></center></td><td class=\"title\"><a href=\"https://github.com/nim-lang/nimforum\" class=\"storylink\">Nimforum: Lightweight alternative to Discourse written in Nim</a><span class=\"sitebit comhead\"> (<a href=\"from?site=github.com/nim-lang\"><span class=\"sitestr\">github.com/nim-lang</span></a>)</span></td></tr><tr><td colspan=\"2\"></td><td class=\"subtext\">\n",
      "        <span class=\"score\" id=\"score_28329672\">149 points</span> by <a href=\"user?id=ducktective\" class=\"hnuser\">ducktective</a> <span class=\"age\" title=\"2021-08-27T16:20:28\"><a href=\"item?id=28329672\">12 hours ago</a></span> <span id=\"unv_28329672\"></span> | <a href=\"hide?id=28329672&amp;goto=news\">hide</a> | <a href=\"item?id=28329672\">83&nbsp;comments</a>              </td></tr>\n",
      "      <tr class=\"spacer\" style=\"height:5px\"></tr>\n",
      "                <tr class='athing' id='28325421'>\n",
      "      <td align=\"right\" valign=\"top\" class=\"title\"><span class=\"rank\">15.</span></td>      <td valign=\"top\" class=\"votelinks\"><center><a id='up_28325421' href='vote?id=28325421&amp;how=up&amp;goto=news'><div class='votearrow' title='upvote'></div></a></center></td><td class=\"title\"><a href=\"https://ramblemaps.com/turning-satellite-imagery-into-wall-art\" class=\"storylink\">Turning satellite imagery into wall art</a><span class=\"sitebit comhead\"> (<a href=\"from?site=ramblemaps.com\"><span class=\"sitestr\">ramblemaps.com</span></a>)</span></td></tr><tr><td colspan=\"2\"></td><td class=\"subtext\">\n",
      "        <span class=\"score\" id=\"score_28325421\">93 points</span> by <a href=\"user?id=mparr4\" class=\"hnuser\">mparr4</a> <span class=\"age\" title=\"2021-08-27T08:09:57\"><a href=\"item?id=28325421\">10 hours ago</a></span> <span id=\"unv_28325421\"></span> | <a href=\"hide?id=28325421&amp;goto=news\">hide</a> | <a href=\"item?id=28325421\">18&nbsp;comments</a>              </td></tr>\n",
      "      <tr class=\"spacer\" style=\"height:5px\"></tr>\n",
      "                <tr class='athing' id='28333274'>\n",
      "      <td align=\"right\" valign=\"top\" class=\"title\"><span class=\"rank\">16.</span></td>      <td valign=\"top\" class=\"votelinks\"><center><a id='up_28333274' href='vote?id=28333274&amp;how=up&amp;goto=news'><div class='votearrow' title='upvote'></div></a></center></td><td class=\"title\"><a href=\"https://www.economist.com/united-states/2021/08/28/why-san-franciscos-city-government-is-so-dysfunctional\" class=\"storylink\">Why San Francisco’s city government is so dysfunctional</a><span class=\"sitebit comhead\"> (<a href=\"from?site=economist.com\"><span class=\"sitestr\">economist.com</span></a>)</span></td></tr><tr><td colspan=\"2\"></td><td class=\"subtext\">\n",
      "        <span class=\"score\" id=\"score_28333274\">158 points</span> by <a href=\"user?id=JumpCrisscross\" class=\"hnuser\">JumpCrisscross</a> <span class=\"age\" title=\"2021-08-27T21:41:52\"><a href=\"item?id=28333274\">7 hours ago</a></span> <span id=\"unv_28333274\"></span> | <a href=\"hide?id=28333274&amp;goto=news\">hide</a> | <a href=\"item?id=28333274\">256&nbsp;comments</a>              </td></tr>\n",
      "      <tr class=\"spacer\" style=\"height:5px\"></tr>\n",
      "                <tr class='athing' id='28335085'>\n",
      "      <td align=\"right\" valign=\"top\" class=\"title\"><span class=\"rank\">17.</span></td>      <td valign=\"top\" class=\"votelinks\"><center><a id='up_28335085' href='vote?id=28335085&amp;how=up&amp;goto=news'><div class='votearrow' title='upvote'></div></a></center></td><td class=\"title\"><a href=\"https://chicago.eater.com/2021/8/27/22644787/chicago-grubhub-doordash-lawsuit-third-party-delivery\" class=\"storylink\">Chicago Sues Grubhub and DoorDash for Allegedly Scamming Basically Everyone</a><span class=\"sitebit comhead\"> (<a href=\"from?site=eater.com\"><span class=\"sitestr\">eater.com</span></a>)</span></td></tr><tr><td colspan=\"2\"></td><td class=\"subtext\">\n",
      "        <span class=\"score\" id=\"score_28335085\">41 points</span> by <a href=\"user?id=Larrikin\" class=\"hnuser\">Larrikin</a> <span class=\"age\" title=\"2021-08-28T02:29:16\"><a href=\"item?id=28335085\">2 hours ago</a></span> <span id=\"unv_28335085\"></span> | <a href=\"hide?id=28335085&amp;goto=news\">hide</a> | <a href=\"item?id=28335085\">5&nbsp;comments</a>              </td></tr>\n",
      "      <tr class=\"spacer\" style=\"height:5px\"></tr>\n",
      "                <tr class='athing' id='28326120'>\n",
      "      <td align=\"right\" valign=\"top\" class=\"title\"><span class=\"rank\">18.</span></td>      <td valign=\"top\" class=\"votelinks\"><center><a id='up_28326120' href='vote?id=28326120&amp;how=up&amp;goto=news'><div class='votearrow' title='upvote'></div></a></center></td><td class=\"title\"><a href=\"https://nautil.us/issue/104/harmony/the-electromagnetic-force-of-fridge-magnets\" class=\"storylink\">The Electromagnetic Force of Fridge Magnets</a><span class=\"sitebit comhead\"> (<a href=\"from?site=nautil.us\"><span class=\"sitestr\">nautil.us</span></a>)</span></td></tr><tr><td colspan=\"2\"></td><td class=\"subtext\">\n",
      "        <span class=\"score\" id=\"score_28326120\">55 points</span> by <a href=\"user?id=dnetesn\" class=\"hnuser\">dnetesn</a> <span class=\"age\" title=\"2021-08-27T10:33:04\"><a href=\"item?id=28326120\">9 hours ago</a></span> <span id=\"unv_28326120\"></span> | <a href=\"hide?id=28326120&amp;goto=news\">hide</a> | <a href=\"item?id=28326120\">16&nbsp;comments</a>              </td></tr>\n",
      "      <tr class=\"spacer\" style=\"height:5px\"></tr>\n",
      "                <tr class='athing' id='28310204'>\n",
      "      <td align=\"right\" valign=\"top\" class=\"title\"><span class=\"rank\">19.</span></td>      <td valign=\"top\" class=\"votelinks\"><center><a id='up_28310204' href='vote?id=28310204&amp;how=up&amp;goto=news'><div class='votearrow' title='upvote'></div></a></center></td><td class=\"title\"><a href=\"https://onezero.medium.com/how-data-science-pinpointed-the-creepiest-word-in-macbeth-3150995d3808\" class=\"storylink\">Overuse of the word “the” in “Macbeth”</a><span class=\"sitebit comhead\"> (<a href=\"from?site=onezero.medium.com\"><span class=\"sitestr\">onezero.medium.com</span></a>)</span></td></tr><tr><td colspan=\"2\"></td><td class=\"subtext\">\n",
      "        <span class=\"score\" id=\"score_28310204\">39 points</span> by <a href=\"user?id=rouli\" class=\"hnuser\">rouli</a> <span class=\"age\" title=\"2021-08-26T03:14:48\"><a href=\"item?id=28310204\">9 hours ago</a></span> <span id=\"unv_28310204\"></span> | <a href=\"hide?id=28310204&amp;goto=news\">hide</a> | <a href=\"item?id=28310204\">37&nbsp;comments</a>              </td></tr>\n",
      "      <tr class=\"spacer\" style=\"height:5px\"></tr>\n",
      "                <tr class='athing' id='28325709'>\n",
      "      <td align=\"right\" valign=\"top\" class=\"title\"><span class=\"rank\">20.</span></td>      <td valign=\"top\" class=\"votelinks\"><center><a id='up_28325709' href='vote?id=28325709&amp;how=up&amp;goto=news'><div class='votearrow' title='upvote'></div></a></center></td><td class=\"title\"><a href=\"https://oilyraincloud.com/2021/08/16/mental-health-impacts-of-a-big-tech-job/\" class=\"storylink\">Mental health impacts of a Big Tech job</a><span class=\"sitebit comhead\"> (<a href=\"from?site=oilyraincloud.com\"><span class=\"sitestr\">oilyraincloud.com</span></a>)</span></td></tr><tr><td colspan=\"2\"></td><td class=\"subtext\">\n",
      "        <span class=\"score\" id=\"score_28325709\">142 points</span> by <a href=\"user?id=gixo\" class=\"hnuser\">gixo</a> <span class=\"age\" title=\"2021-08-27T09:10:48\"><a href=\"item?id=28325709\">5 hours ago</a></span> <span id=\"unv_28325709\"></span> | <a href=\"hide?id=28325709&amp;goto=news\">hide</a> | <a href=\"item?id=28325709\">101&nbsp;comments</a>              </td></tr>\n",
      "      <tr class=\"spacer\" style=\"height:5px\"></tr>\n",
      "                <tr class='athing' id='28334566'>\n",
      "      <td align=\"right\" valign=\"top\" class=\"title\"><span class=\"rank\">21.</span></td>      <td valign=\"top\" class=\"votelinks\"><center><a id='up_28334566' href='vote?id=28334566&amp;how=up&amp;goto=news'><div class='votearrow' title='upvote'></div></a></center></td><td class=\"title\"><a href=\"https://streetlifesolutions.blogspot.com/2021/08/i-believe-california-is-dumping-ground.html\" class=\"storylink\">I believe California is the dumping ground for America's homeless problem</a><span class=\"sitebit comhead\"> (<a href=\"from?site=streetlifesolutions.blogspot.com\"><span class=\"sitestr\">streetlifesolutions.blogspot.com</span></a>)</span></td></tr><tr><td colspan=\"2\"></td><td class=\"subtext\">\n",
      "        <span class=\"score\" id=\"score_28334566\">93 points</span> by <a href=\"user?id=DoreenMichele\" class=\"hnuser\">DoreenMichele</a> <span class=\"age\" title=\"2021-08-28T00:52:33\"><a href=\"item?id=28334566\">4 hours ago</a></span> <span id=\"unv_28334566\"></span> | <a href=\"hide?id=28334566&amp;goto=news\">hide</a> | <a href=\"item?id=28334566\">137&nbsp;comments</a>              </td></tr>\n",
      "      <tr class=\"spacer\" style=\"height:5px\"></tr>\n",
      "                <tr class='athing' id='28327198'>\n",
      "      <td align=\"right\" valign=\"top\" class=\"title\"><span class=\"rank\">22.</span></td>      <td valign=\"top\" class=\"votelinks\"><center><a id='up_28327198' href='vote?id=28327198&amp;how=up&amp;goto=news'><div class='votearrow' title='upvote'></div></a></center></td><td class=\"title\"><a href=\"https://www.narrator.ai/blog/when-correlation-is-better-than-causation/\" class=\"storylink\">When correlation is better than causation</a><span class=\"sitebit comhead\"> (<a href=\"from?site=narrator.ai\"><span class=\"sitestr\">narrator.ai</span></a>)</span></td></tr><tr><td colspan=\"2\"></td><td class=\"subtext\">\n",
      "        <span class=\"score\" id=\"score_28327198\">40 points</span> by <a href=\"user?id=mattjstar\" class=\"hnuser\">mattjstar</a> <span class=\"age\" title=\"2021-08-27T12:55:51\"><a href=\"item?id=28327198\">9 hours ago</a></span> <span id=\"unv_28327198\"></span> | <a href=\"hide?id=28327198&amp;goto=news\">hide</a> | <a href=\"item?id=28327198\">27&nbsp;comments</a>              </td></tr>\n",
      "      <tr class=\"spacer\" style=\"height:5px\"></tr>\n",
      "                <tr class='athing' id='28332917'>\n",
      "      <td align=\"right\" valign=\"top\" class=\"title\"><span class=\"rank\">23.</span></td>      <td></td><td class=\"title\"><a href=\"https://www.humandx.org/team?gh_jid=4859261002\" class=\"storylink\" rel=\"nofollow\">Human Dx is hiring part-time community/growth team members</a><span class=\"sitebit comhead\"> (<a href=\"from?site=humandx.org\"><span class=\"sitestr\">humandx.org</span></a>)</span></td></tr><tr><td colspan=\"2\"></td><td class=\"subtext\">\n",
      "        <span class=\"age\" title=\"2021-08-27T21:00:04\"><a href=\"item?id=28332917\">8 hours ago</a></span> | <a href=\"hide?id=28332917&amp;goto=news\">hide</a>      </td></tr>\n",
      "      <tr class=\"spacer\" style=\"height:5px\"></tr>\n",
      "                <tr class='athing' id='28331686'>\n",
      "      <td align=\"right\" valign=\"top\" class=\"title\"><span class=\"rank\">24.</span></td>      <td valign=\"top\" class=\"votelinks\"><center><a id='up_28331686' href='vote?id=28331686&amp;how=up&amp;goto=news'><div class='votearrow' title='upvote'></div></a></center></td><td class=\"title\"><a href=\"https://techcrunch.com/2021/08/27/yc-grad-buoyant-wants-to-solve-middle-mile-delivery-with-cargo-airships/\" class=\"storylink\">Buoyant wants to solve middle-mile delivery with cargo airships</a><span class=\"sitebit comhead\"> (<a href=\"from?site=techcrunch.com\"><span class=\"sitestr\">techcrunch.com</span></a>)</span></td></tr><tr><td colspan=\"2\"></td><td class=\"subtext\">\n",
      "        <span class=\"score\" id=\"score_28331686\">54 points</span> by <a href=\"user?id=prostoalex\" class=\"hnuser\">prostoalex</a> <span class=\"age\" title=\"2021-08-27T18:58:26\"><a href=\"item?id=28331686\">10 hours ago</a></span> <span id=\"unv_28331686\"></span> | <a href=\"hide?id=28331686&amp;goto=news\">hide</a> | <a href=\"item?id=28331686\">49&nbsp;comments</a>              </td></tr>\n",
      "      <tr class=\"spacer\" style=\"height:5px\"></tr>\n",
      "                <tr class='athing' id='28330122'>\n",
      "      <td align=\"right\" valign=\"top\" class=\"title\"><span class=\"rank\">25.</span></td>      <td valign=\"top\" class=\"votelinks\"><center><a id='up_28330122' href='vote?id=28330122&amp;how=up&amp;goto=news'><div class='votearrow' title='upvote'></div></a></center></td><td class=\"title\"><a href=\"https://www.gq.com/story/the-dresden-job\" class=\"storylink\">The Dresden Job</a><span class=\"sitebit comhead\"> (<a href=\"from?site=gq.com\"><span class=\"sitestr\">gq.com</span></a>)</span></td></tr><tr><td colspan=\"2\"></td><td class=\"subtext\">\n",
      "        <span class=\"score\" id=\"score_28330122\">57 points</span> by <a href=\"user?id=axiomdata316\" class=\"hnuser\">axiomdata316</a> <span class=\"age\" title=\"2021-08-27T16:52:22\"><a href=\"item?id=28330122\">12 hours ago</a></span> <span id=\"unv_28330122\"></span> | <a href=\"hide?id=28330122&amp;goto=news\">hide</a> | <a href=\"item?id=28330122\">31&nbsp;comments</a>              </td></tr>\n",
      "      <tr class=\"spacer\" style=\"height:5px\"></tr>\n",
      "                <tr class='athing' id='28326319'>\n",
      "      <td align=\"right\" valign=\"top\" class=\"title\"><span class=\"rank\">26.</span></td>      <td valign=\"top\" class=\"votelinks\"><center><a id='up_28326319' href='vote?id=28326319&amp;how=up&amp;goto=news'><div class='votearrow' title='upvote'></div></a></center></td><td class=\"title\"><a href=\"https://www.hetwebsite.net/het/schools/vienna.htm\" class=\"storylink\" rel=\"nofollow\">Karl Menger's Vienna Colloquium (1927-38)</a><span class=\"sitebit comhead\"> (<a href=\"from?site=hetwebsite.net\"><span class=\"sitestr\">hetwebsite.net</span></a>)</span></td></tr><tr><td colspan=\"2\"></td><td class=\"subtext\">\n",
      "        <span class=\"score\" id=\"score_28326319\">3 points</span> by <a href=\"user?id=privatdozent\" class=\"hnuser\">privatdozent</a> <span class=\"age\" title=\"2021-08-27T11:08:58\"><a href=\"item?id=28326319\">2 hours ago</a></span> <span id=\"unv_28326319\"></span> | <a href=\"hide?id=28326319&amp;goto=news\">hide</a> | <a href=\"item?id=28326319\">1&nbsp;comment</a>              </td></tr>\n",
      "      <tr class=\"spacer\" style=\"height:5px\"></tr>\n",
      "                <tr class='athing' id='28326106'>\n",
      "      <td align=\"right\" valign=\"top\" class=\"title\"><span class=\"rank\">27.</span></td>      <td valign=\"top\" class=\"votelinks\"><center><a id='up_28326106' href='vote?id=28326106&amp;how=up&amp;goto=news'><div class='votearrow' title='upvote'></div></a></center></td><td class=\"title\"><a href=\"https://without.boats/blog/the-problem-of-effects/\" class=\"storylink\">The Problem of Effects (2020)</a><span class=\"sitebit comhead\"> (<a href=\"from?site=without.boats\"><span class=\"sitestr\">without.boats</span></a>)</span></td></tr><tr><td colspan=\"2\"></td><td class=\"subtext\">\n",
      "        <span class=\"score\" id=\"score_28326106\">26 points</span> by <a href=\"user?id=agluszak\" class=\"hnuser\">agluszak</a> <span class=\"age\" title=\"2021-08-27T10:30:32\"><a href=\"item?id=28326106\">6 hours ago</a></span> <span id=\"unv_28326106\"></span> | <a href=\"hide?id=28326106&amp;goto=news\">hide</a> | <a href=\"item?id=28326106\">5&nbsp;comments</a>              </td></tr>\n",
      "      <tr class=\"spacer\" style=\"height:5px\"></tr>\n",
      "                <tr class='athing' id='28327909'>\n",
      "      <td align=\"right\" valign=\"top\" class=\"title\"><span class=\"rank\">28.</span></td>      <td valign=\"top\" class=\"votelinks\"><center><a id='up_28327909' href='vote?id=28327909&amp;how=up&amp;goto=news'><div class='votearrow' title='upvote'></div></a></center></td><td class=\"title\"><a href=\"https://www.bbc.com/news/business-58331168\" class=\"storylink\">UK loses 83% of department stores since BHS collapsed</a><span class=\"sitebit comhead\"> (<a href=\"from?site=bbc.com\"><span class=\"sitestr\">bbc.com</span></a>)</span></td></tr><tr><td colspan=\"2\"></td><td class=\"subtext\">\n",
      "        <span class=\"score\" id=\"score_28327909\">83 points</span> by <a href=\"user?id=pseudolus\" class=\"hnuser\">pseudolus</a> <span class=\"age\" title=\"2021-08-27T14:02:47\"><a href=\"item?id=28327909\">8 hours ago</a></span> <span id=\"unv_28327909\"></span> | <a href=\"hide?id=28327909&amp;goto=news\">hide</a> | <a href=\"item?id=28327909\">97&nbsp;comments</a>              </td></tr>\n",
      "      <tr class=\"spacer\" style=\"height:5px\"></tr>\n",
      "                <tr class='athing' id='28328657'>\n",
      "      <td align=\"right\" valign=\"top\" class=\"title\"><span class=\"rank\">29.</span></td>      <td valign=\"top\" class=\"votelinks\"><center><a id='up_28328657' href='vote?id=28328657&amp;how=up&amp;goto=news'><div class='votearrow' title='upvote'></div></a></center></td><td class=\"title\"><a href=\"https://duckdb.org/2021/08/27/external-sorting.html\" class=\"storylink\">Fastest table sort in the West – Redesigning DuckDB's sort</a><span class=\"sitebit comhead\"> (<a href=\"from?site=duckdb.org\"><span class=\"sitestr\">duckdb.org</span></a>)</span></td></tr><tr><td colspan=\"2\"></td><td class=\"subtext\">\n",
      "        <span class=\"score\" id=\"score_28328657\">106 points</span> by <a href=\"user?id=hfmuehleisen\" class=\"hnuser\">hfmuehleisen</a> <span class=\"age\" title=\"2021-08-27T14:56:41\"><a href=\"item?id=28328657\">14 hours ago</a></span> <span id=\"unv_28328657\"></span> | <a href=\"hide?id=28328657&amp;goto=news\">hide</a> | <a href=\"item?id=28328657\">25&nbsp;comments</a>              </td></tr>\n",
      "      <tr class=\"spacer\" style=\"height:5px\"></tr>\n",
      "                <tr class='athing' id='28329211'>\n",
      "      <td align=\"right\" valign=\"top\" class=\"title\"><span class=\"rank\">30.</span></td>      <td valign=\"top\" class=\"votelinks\"><center><a id='up_28329211' href='vote?id=28329211&amp;how=up&amp;goto=news'><div class='votearrow' title='upvote'></div></a></center></td><td class=\"title\"><a href=\"item?id=28329211\" class=\"storylink\">Launch HN: Lemonade Finance (YC S21) – Digital Bank for the African Diaspora</a></td></tr><tr><td colspan=\"2\"></td><td class=\"subtext\">\n",
      "        <span class=\"score\" id=\"score_28329211\">72 points</span> by <a href=\"user?id=ridwan_olalere1\" class=\"hnuser\">ridwan_olalere1</a> <span class=\"age\" title=\"2021-08-27T15:39:25\"><a href=\"item?id=28329211\">13 hours ago</a></span> <span id=\"unv_28329211\"></span> | <a href=\"hide?id=28329211&amp;goto=news\">hide</a> | <a href=\"item?id=28329211\">45&nbsp;comments</a>              </td></tr>\n",
      "      <tr class=\"spacer\" style=\"height:5px\"></tr>\n",
      "            <tr class=\"morespace\" style=\"height:10px\"></tr><tr><td colspan=\"2\"></td><td class=\"title\"><a href=\"news?p=2\" class=\"morelink\" rel=\"next\">More</a></td></tr>\n",
      "  </table>\n",
      "</td></tr>\n",
      "<tr><td><img src=\"s.gif\" height=\"10\" width=\"0\"><table width=\"100%\" cellspacing=\"0\" cellpadding=\"1\"><tr><td bgcolor=\"#ff6600\"></td></tr></table><br><center><a href=\"https://www.ycombinator.com/apply/\">\n",
      "        Applications are open for YC Winter 2022\n",
      "      </a></center><br><center><span class=\"yclinks\"><a href=\"newsguidelines.html\">Guidelines</a>\n",
      "        | <a href=\"newsfaq.html\">FAQ</a>\n",
      "        | <a href=\"lists\">Lists</a>\n",
      "        | <a href=\"https://github.com/HackerNews/API\">API</a>\n",
      "        | <a href=\"security.html\">Security</a>\n",
      "        | <a href=\"http://www.ycombinator.com/legal/\">Legal</a>\n",
      "        | <a href=\"http://www.ycombinator.com/apply/\">Apply to YC</a>\n",
      "        | <a href=\"mailto:hn@ycombinator.com\">Contact</a></span><br><br><form method=\"get\" action=\"//hn.algolia.com/\">Search:\n",
      "          <input type=\"text\" name=\"q\" value=\"\" size=\"17\" autocorrect=\"off\" spellcheck=\"false\" autocapitalize=\"off\" autocomplete=\"false\"></form>\n",
      "            </center></td></tr>\n",
      "      </table></center></body><script type='text/javascript' src='hn.js?Wioqzw1qYS0QVlWlv1P5'></script></html>\n",
      "\n"
     ]
    }
   ],
   "source": [
    "import requests\n",
    "\n",
    "# Fetch a web page\n",
    "r = requests.get(\"https://news.ycombinator.com\")\n",
    "print(r.text)"
   ]
  },
  {
   "cell_type": "code",
   "execution_count": 14,
   "metadata": {},
   "outputs": [
    {
     "name": "stdout",
     "output_type": "stream",
     "text": [
      "\n",
      "        \n",
      "          \n",
      "        Hacker News\n",
      "        \n",
      "                  Hacker News\n",
      "              new | past | comments | ask | show | jobs | submit            \n",
      "                              login\n",
      "                          \n",
      "              \n",
      "\n",
      "              \n",
      "      1.      I hacked an office telephone to play DOOM (neilbostian.github.io)\n",
      "        82 points by joshmanders 3 hours ago  | hide | 14&nbsp;comments              \n",
      "      \n",
      "                \n",
      "      2.      The Evolution of Smalltalk from Smalltalk-72 to Squeak [video] (pldi21.org)\n",
      "        151 points by gjvc 9 hours ago  | hide | 37&nbsp;comments              \n",
      "      \n",
      "                \n",
      "      3.      Some Reasons to Measure (danluu.com)\n",
      "        78 points by cdwhite 6 hours ago  | hide | 6&nbsp;comments              \n",
      "      \n",
      "                \n",
      "      4.      Zero Shot Object Tracking (roboflow.com)\n",
      "        30 points by jonbaer 4 hours ago  | hide | 3&nbsp;comments              \n",
      "      \n",
      "                \n",
      "      5.      Launch HN: Hotswap (YC S21) – Easily migrate customers away from competitors\n",
      "        287 points by memset 15 hours ago  | hide | 131&nbsp;comments              \n",
      "      \n",
      "                \n",
      "      6.      Show HN: I made a meme creator that makes around $4k a month (metameme.app)\n",
      "        280 points by par 13 hours ago  | hide | 164&nbsp;comments              \n",
      "      \n",
      "                \n",
      "      7.      Brussels battles old prejudices as it frees unloved river from its vault (theguardian.com)\n",
      "        115 points by f_allwein 10 hours ago  | hide | 51&nbsp;comments              \n",
      "      \n",
      "                \n",
      "      8.      Woman ordered to pay $30K for defamation by BC Supreme Court for online review (cbc.ca)\n",
      "        9 points by stygiansonic 2 hours ago  | hide | discuss              \n",
      "      \n",
      "                \n",
      "      9.      An error message if you put more than 2^24 items in a JS Map object (searchvoidstar.tumblr.com)\n",
      "        82 points by norescue 8 hours ago  | hide | 54&nbsp;comments              \n",
      "      \n",
      "                \n",
      "      10.      The Future of discord.py (gist.github.com)\n",
      "        317 points by AngelOnFira 4 hours ago  | hide | 83&nbsp;comments              \n",
      "      \n",
      "                \n",
      "      11.      Recent and not so recent changes in OpenBSD (bsdly.blogspot.com)\n",
      "        58 points by elchief 6 hours ago  | hide | 19&nbsp;comments              \n",
      "      \n",
      "                \n",
      "      12.      App store payments will have increased competition (kalzumeus.com)\n",
      "        295 points by laurieg 13 hours ago  | hide | 262&nbsp;comments              \n",
      "      \n",
      "                \n",
      "      13.      How does Google Authenticator work? (prezu.ca)\n",
      "        181 points by ecliptik 12 hours ago  | hide | 116&nbsp;comments              \n",
      "      \n",
      "                \n",
      "      14.      Nimforum: Lightweight alternative to Discourse written in Nim (github.com/nim-lang)\n",
      "        149 points by ducktective 12 hours ago  | hide | 83&nbsp;comments              \n",
      "      \n",
      "                \n",
      "      15.      Turning satellite imagery into wall art (ramblemaps.com)\n",
      "        93 points by mparr4 10 hours ago  | hide | 18&nbsp;comments              \n",
      "      \n",
      "                \n",
      "      16.      Why San Francisco’s city government is so dysfunctional (economist.com)\n",
      "        158 points by JumpCrisscross 7 hours ago  | hide | 256&nbsp;comments              \n",
      "      \n",
      "                \n",
      "      17.      Chicago Sues Grubhub and DoorDash for Allegedly Scamming Basically Everyone (eater.com)\n",
      "        41 points by Larrikin 2 hours ago  | hide | 5&nbsp;comments              \n",
      "      \n",
      "                \n",
      "      18.      The Electromagnetic Force of Fridge Magnets (nautil.us)\n",
      "        55 points by dnetesn 9 hours ago  | hide | 16&nbsp;comments              \n",
      "      \n",
      "                \n",
      "      19.      Overuse of the word “the” in “Macbeth” (onezero.medium.com)\n",
      "        39 points by rouli 9 hours ago  | hide | 37&nbsp;comments              \n",
      "      \n",
      "                \n",
      "      20.      Mental health impacts of a Big Tech job (oilyraincloud.com)\n",
      "        142 points by gixo 5 hours ago  | hide | 101&nbsp;comments              \n",
      "      \n",
      "                \n",
      "      21.      I believe California is the dumping ground for America's homeless problem (streetlifesolutions.blogspot.com)\n",
      "        93 points by DoreenMichele 4 hours ago  | hide | 137&nbsp;comments              \n",
      "      \n",
      "                \n",
      "      22.      When correlation is better than causation (narrator.ai)\n",
      "        40 points by mattjstar 9 hours ago  | hide | 27&nbsp;comments              \n",
      "      \n",
      "                \n",
      "      23.      Human Dx is hiring part-time community/growth team members (humandx.org)\n",
      "        8 hours ago | hide      \n",
      "      \n",
      "                \n",
      "      24.      Buoyant wants to solve middle-mile delivery with cargo airships (techcrunch.com)\n",
      "        54 points by prostoalex 10 hours ago  | hide | 49&nbsp;comments              \n",
      "      \n",
      "                \n",
      "      25.      The Dresden Job (gq.com)\n",
      "        57 points by axiomdata316 12 hours ago  | hide | 31&nbsp;comments              \n",
      "      \n",
      "                \n",
      "      26.      Karl Menger's Vienna Colloquium (1927-38) (hetwebsite.net)\n",
      "        3 points by privatdozent 2 hours ago  | hide | 1&nbsp;comment              \n",
      "      \n",
      "                \n",
      "      27.      The Problem of Effects (2020) (without.boats)\n",
      "        26 points by agluszak 6 hours ago  | hide | 5&nbsp;comments              \n",
      "      \n",
      "                \n",
      "      28.      UK loses 83% of department stores since BHS collapsed (bbc.com)\n",
      "        83 points by pseudolus 8 hours ago  | hide | 97&nbsp;comments              \n",
      "      \n",
      "                \n",
      "      29.      Fastest table sort in the West – Redesigning DuckDB's sort (duckdb.org)\n",
      "        106 points by hfmuehleisen 14 hours ago  | hide | 25&nbsp;comments              \n",
      "      \n",
      "                \n",
      "      30.      Launch HN: Lemonade Finance (YC S21) – Digital Bank for the African Diaspora\n",
      "        72 points by ridwan_olalere1 13 hours ago  | hide | 45&nbsp;comments              \n",
      "      \n",
      "            More\n",
      "  \n",
      "\n",
      "\n",
      "        Applications are open for YC Winter 2022\n",
      "      Guidelines\n",
      "        | FAQ\n",
      "        | Lists\n",
      "        | API\n",
      "        | Security\n",
      "        | Legal\n",
      "        | Apply to YC\n",
      "        | ContactSearch:\n",
      "          \n",
      "            \n",
      "      \n",
      "\n"
     ]
    }
   ],
   "source": [
    "import re\n",
    "\n",
    "# Remove HTML tags using RegEx\n",
    "pattern = re.compile(r'<.*?>')  # tags look like <...>\n",
    "print(pattern.sub('', r.text))  # replace them with blank"
   ]
  },
  {
   "cell_type": "code",
   "execution_count": 15,
   "metadata": {},
   "outputs": [
    {
     "name": "stdout",
     "output_type": "stream",
     "text": [
      "\n",
      "        \n",
      "          \n",
      "        Hacker News\n",
      "        \n",
      "                  Hacker News\n",
      "              new | past | comments | ask | show | jobs | submit            \n",
      "                              login\n",
      "                          \n",
      "              \n",
      "\n",
      "              \n",
      "      1.      I hacked an office telephone to play DOOM (neilbostian.github.io)\n",
      "        82 points by joshmanders 3 hours ago  | hide | 14 comments              \n",
      "      \n",
      "                \n",
      "      2.      The Evolution of Smalltalk from Smalltalk-72 to Squeak [video] (pldi21.org)\n",
      "        151 points by gjvc 9 hours ago  | hide | 37 comments              \n",
      "      \n",
      "                \n",
      "      3.      Some Reasons to Measure (danluu.com)\n",
      "        78 points by cdwhite 6 hours ago  | hide | 6 comments              \n",
      "      \n",
      "                \n",
      "      4.      Zero Shot Object Tracking (roboflow.com)\n",
      "        30 points by jonbaer 4 hours ago  | hide | 3 comments              \n",
      "      \n",
      "                \n",
      "      5.      Launch HN: Hotswap (YC S21) – Easily migrate customers away from competitors\n",
      "        287 points by memset 15 hours ago  | hide | 131 comments              \n",
      "      \n",
      "                \n",
      "      6.      Show HN: I made a meme creator that makes around $4k a month (metameme.app)\n",
      "        280 points by par 13 hours ago  | hide | 164 comments              \n",
      "      \n",
      "                \n",
      "      7.      Brussels battles old prejudices as it frees unloved river from its vault (theguardian.com)\n",
      "        115 points by f_allwein 10 hours ago  | hide | 51 comments              \n",
      "      \n",
      "                \n",
      "      8.      Woman ordered to pay $30K for defamation by BC Supreme Court for online review (cbc.ca)\n",
      "        9 points by stygiansonic 2 hours ago  | hide | discuss              \n",
      "      \n",
      "                \n",
      "      9.      An error message if you put more than 2^24 items in a JS Map object (searchvoidstar.tumblr.com)\n",
      "        82 points by norescue 8 hours ago  | hide | 54 comments              \n",
      "      \n",
      "                \n",
      "      10.      The Future of discord.py (gist.github.com)\n",
      "        317 points by AngelOnFira 4 hours ago  | hide | 83 comments              \n",
      "      \n",
      "                \n",
      "      11.      Recent and not so recent changes in OpenBSD (bsdly.blogspot.com)\n",
      "        58 points by elchief 6 hours ago  | hide | 19 comments              \n",
      "      \n",
      "                \n",
      "      12.      App store payments will have increased competition (kalzumeus.com)\n",
      "        295 points by laurieg 13 hours ago  | hide | 262 comments              \n",
      "      \n",
      "                \n",
      "      13.      How does Google Authenticator work? (prezu.ca)\n",
      "        181 points by ecliptik 12 hours ago  | hide | 116 comments              \n",
      "      \n",
      "                \n",
      "      14.      Nimforum: Lightweight alternative to Discourse written in Nim (github.com/nim-lang)\n",
      "        149 points by ducktective 12 hours ago  | hide | 83 comments              \n",
      "      \n",
      "                \n",
      "      15.      Turning satellite imagery into wall art (ramblemaps.com)\n",
      "        93 points by mparr4 10 hours ago  | hide | 18 comments              \n",
      "      \n",
      "                \n",
      "      16.      Why San Francisco’s city government is so dysfunctional (economist.com)\n",
      "        158 points by JumpCrisscross 7 hours ago  | hide | 256 comments              \n",
      "      \n",
      "                \n",
      "      17.      Chicago Sues Grubhub and DoorDash for Allegedly Scamming Basically Everyone (eater.com)\n",
      "        41 points by Larrikin 2 hours ago  | hide | 5 comments              \n",
      "      \n",
      "                \n",
      "      18.      The Electromagnetic Force of Fridge Magnets (nautil.us)\n",
      "        55 points by dnetesn 9 hours ago  | hide | 16 comments              \n",
      "      \n",
      "                \n",
      "      19.      Overuse of the word “the” in “Macbeth” (onezero.medium.com)\n",
      "        39 points by rouli 9 hours ago  | hide | 37 comments              \n",
      "      \n",
      "                \n",
      "      20.      Mental health impacts of a Big Tech job (oilyraincloud.com)\n",
      "        142 points by gixo 5 hours ago  | hide | 101 comments              \n",
      "      \n",
      "                \n",
      "      21.      I believe California is the dumping ground for America's homeless problem (streetlifesolutions.blogspot.com)\n",
      "        93 points by DoreenMichele 4 hours ago  | hide | 137 comments              \n",
      "      \n",
      "                \n",
      "      22.      When correlation is better than causation (narrator.ai)\n",
      "        40 points by mattjstar 9 hours ago  | hide | 27 comments              \n",
      "      \n",
      "                \n",
      "      23.      Human Dx is hiring part-time community/growth team members (humandx.org)\n",
      "        8 hours ago | hide      \n",
      "      \n",
      "                \n",
      "      24.      Buoyant wants to solve middle-mile delivery with cargo airships (techcrunch.com)\n",
      "        54 points by prostoalex 10 hours ago  | hide | 49 comments              \n",
      "      \n",
      "                \n",
      "      25.      The Dresden Job (gq.com)\n",
      "        57 points by axiomdata316 12 hours ago  | hide | 31 comments              \n",
      "      \n",
      "                \n",
      "      26.      Karl Menger's Vienna Colloquium (1927-38) (hetwebsite.net)\n",
      "        3 points by privatdozent 2 hours ago  | hide | 1 comment              \n",
      "      \n",
      "                \n",
      "      27.      The Problem of Effects (2020) (without.boats)\n",
      "        26 points by agluszak 6 hours ago  | hide | 5 comments              \n",
      "      \n",
      "                \n",
      "      28.      UK loses 83% of department stores since BHS collapsed (bbc.com)\n",
      "        83 points by pseudolus 8 hours ago  | hide | 97 comments              \n",
      "      \n",
      "                \n",
      "      29.      Fastest table sort in the West – Redesigning DuckDB's sort (duckdb.org)\n",
      "        106 points by hfmuehleisen 14 hours ago  | hide | 25 comments              \n",
      "      \n",
      "                \n",
      "      30.      Launch HN: Lemonade Finance (YC S21) – Digital Bank for the African Diaspora\n",
      "        72 points by ridwan_olalere1 13 hours ago  | hide | 45 comments              \n",
      "      \n",
      "            More\n",
      "  \n",
      "\n",
      "\n",
      "        Applications are open for YC Winter 2022\n",
      "      Guidelines\n",
      "        | FAQ\n",
      "        | Lists\n",
      "        | API\n",
      "        | Security\n",
      "        | Legal\n",
      "        | Apply to YC\n",
      "        | ContactSearch:\n",
      "          \n",
      "            \n",
      "      \n",
      "\n"
     ]
    }
   ],
   "source": [
    "from bs4 import BeautifulSoup\n",
    "\n",
    "# Remove HTML tags using Beautiful Soup library\n",
    "soup = BeautifulSoup(r.text, \"html5lib\")\n",
    "print(soup.get_text())"
   ]
  },
  {
   "cell_type": "code",
   "execution_count": 16,
   "metadata": {
    "scrolled": true
   },
   "outputs": [
    {
     "data": {
      "text/plain": [
       "<tr class=\"athing\" id=\"28327022\">\n",
       "      <td align=\"right\" class=\"title\" valign=\"top\"><span class=\"rank\">1.</span></td>      <td class=\"votelinks\" valign=\"top\"><center><a href=\"vote?id=28327022&amp;how=up&amp;goto=news\" id=\"up_28327022\"><div class=\"votearrow\" title=\"upvote\"></div></a></center></td><td class=\"title\"><a class=\"storylink\" href=\"https://neilbostian.github.io/#/doomphone\">I hacked an office telephone to play DOOM</a><span class=\"sitebit comhead\"> (<a href=\"from?site=neilbostian.github.io\"><span class=\"sitestr\">neilbostian.github.io</span></a>)</span></td></tr>"
      ]
     },
     "execution_count": 16,
     "metadata": {},
     "output_type": "execute_result"
    }
   ],
   "source": [
    "# Find all articles\n",
    "summaries = soup.find_all(\"tr\", class_=\"athing\")\n",
    "summaries[0]"
   ]
  },
  {
   "cell_type": "code",
   "execution_count": 17,
   "metadata": {},
   "outputs": [
    {
     "data": {
      "text/plain": [
       "'I hacked an office telephone to play DOOM'"
      ]
     },
     "execution_count": 17,
     "metadata": {},
     "output_type": "execute_result"
    }
   ],
   "source": [
    "# Extract title\n",
    "summaries[0].find(\"a\", class_=\"storylink\").get_text().strip()"
   ]
  },
  {
   "cell_type": "code",
   "execution_count": 18,
   "metadata": {},
   "outputs": [
    {
     "name": "stdout",
     "output_type": "stream",
     "text": [
      "30 Article summaries found. Sample:\n",
      "I hacked an office telephone to play DOOM\n"
     ]
    }
   ],
   "source": [
    "# Find all articles, extract titles\n",
    "articles = []\n",
    "summaries = soup.find_all(\"tr\", class_=\"athing\")\n",
    "for summary in summaries:\n",
    "    title = summary.find(\"a\", class_=\"storylink\").get_text().strip()\n",
    "    articles.append((title))\n",
    "\n",
    "print(len(articles), \"Article summaries found. Sample:\")\n",
    "print(articles[0])"
   ]
  },
  {
   "cell_type": "markdown",
   "metadata": {
    "collapsed": true
   },
   "source": [
    "## Normalization"
   ]
  },
  {
   "cell_type": "markdown",
   "metadata": {},
   "source": [
    "### Case Normalization"
   ]
  },
  {
   "cell_type": "code",
   "execution_count": 19,
   "metadata": {},
   "outputs": [
    {
     "name": "stdout",
     "output_type": "stream",
     "text": [
      "The first time you see The Second Renaissance it may look boring. Look at it at least twice and definitely watch part 2. It will change your view of the matrix. Are the human people the ones who started the war ? Is AI a bad thing ?\n"
     ]
    }
   ],
   "source": [
    "# Sample text\n",
    "text = \"The first time you see The Second Renaissance it may look boring. Look at it at least twice and definitely watch part 2. It will change your view of the matrix. Are the human people the ones who started the war ? Is AI a bad thing ?\"\n",
    "print(text)"
   ]
  },
  {
   "cell_type": "code",
   "execution_count": 20,
   "metadata": {},
   "outputs": [
    {
     "name": "stdout",
     "output_type": "stream",
     "text": [
      "the first time you see the second renaissance it may look boring. look at it at least twice and definitely watch part 2. it will change your view of the matrix. are the human people the ones who started the war ? is ai a bad thing ?\n"
     ]
    }
   ],
   "source": [
    "# Convert to lowercase\n",
    "text = text.lower() \n",
    "print(text)"
   ]
  },
  {
   "cell_type": "markdown",
   "metadata": {},
   "source": [
    "### Punctuation Removal"
   ]
  },
  {
   "cell_type": "code",
   "execution_count": 21,
   "metadata": {},
   "outputs": [
    {
     "name": "stdout",
     "output_type": "stream",
     "text": [
      "the first time you see the second renaissance it may look boring  look at it at least twice and definitely watch part 2  it will change your view of the matrix  are the human people the ones who started the war   is ai a bad thing  \n"
     ]
    }
   ],
   "source": [
    "import re\n",
    "\n",
    "# Remove punctuation characters\n",
    "text = re.sub(r\"[^a-zA-Z0-9]\", \" \", text) \n",
    "print(text)"
   ]
  },
  {
   "cell_type": "markdown",
   "metadata": {},
   "source": [
    "## Tokenization"
   ]
  },
  {
   "cell_type": "code",
   "execution_count": 22,
   "metadata": {},
   "outputs": [
    {
     "name": "stdout",
     "output_type": "stream",
     "text": [
      "['the', 'first', 'time', 'you', 'see', 'the', 'second', 'renaissance', 'it', 'may', 'look', 'boring', 'look', 'at', 'it', 'at', 'least', 'twice', 'and', 'definitely', 'watch', 'part', '2', 'it', 'will', 'change', 'your', 'view', 'of', 'the', 'matrix', 'are', 'the', 'human', 'people', 'the', 'ones', 'who', 'started', 'the', 'war', 'is', 'ai', 'a', 'bad', 'thing']\n"
     ]
    }
   ],
   "source": [
    "# Split text into tokens (words)\n",
    "words = text.split()\n",
    "print(words)"
   ]
  },
  {
   "cell_type": "markdown",
   "metadata": {},
   "source": [
    "### NLTK: Natural Language ToolKit"
   ]
  },
  {
   "cell_type": "code",
   "execution_count": 212,
   "metadata": {},
   "outputs": [
    {
     "name": "stderr",
     "output_type": "stream",
     "text": [
      "[nltk_data] Downloading package maxent_ne_chunker to\n",
      "[nltk_data]     C:\\Users\\bluecoder\\AppData\\Roaming\\nltk_data...\n",
      "[nltk_data]   Package maxent_ne_chunker is already up-to-date!\n",
      "[nltk_data] Downloading package averaged_perceptron_tagger to\n",
      "[nltk_data]     C:\\Users\\bluecoder\\AppData\\Roaming\\nltk_data...\n",
      "[nltk_data]   Package averaged_perceptron_tagger is already up-to-\n",
      "[nltk_data]       date!\n",
      "[nltk_data] Downloading package punkt to\n",
      "[nltk_data]     C:\\Users\\bluecoder\\AppData\\Roaming\\nltk_data...\n",
      "[nltk_data]   Package punkt is already up-to-date!\n",
      "[nltk_data] Downloading package stopwords to\n",
      "[nltk_data]     C:\\Users\\bluecoder\\AppData\\Roaming\\nltk_data...\n",
      "[nltk_data]   Package stopwords is already up-to-date!\n",
      "[nltk_data] Downloading package wordnet to\n",
      "[nltk_data]     C:\\Users\\bluecoder\\AppData\\Roaming\\nltk_data...\n",
      "[nltk_data]   Package wordnet is already up-to-date!\n",
      "[nltk_data] Downloading package words to\n",
      "[nltk_data]     C:\\Users\\bluecoder\\AppData\\Roaming\\nltk_data...\n",
      "[nltk_data]   Package words is already up-to-date!\n"
     ]
    }
   ],
   "source": [
    "import os\n",
    "import nltk\n",
    "nltk.download('maxent_ne_chunker')\n",
    "nltk.download('averaged_perceptron_tagger')\n",
    "nltk.download('punkt')\n",
    "nltk.download('stopwords')\n",
    "nltk.download('wordnet')\n",
    "nltk.download('words')\n",
    "nltk.data.path.append(os.path.join(os.getcwd(), \"nltk_data\"))"
   ]
  },
  {
   "cell_type": "code",
   "execution_count": 2,
   "metadata": {},
   "outputs": [
    {
     "name": "stdout",
     "output_type": "stream",
     "text": [
      "Dr. Smith graduated from the University of Washington. He later started an analytics firm called Lux, which catered to enterprise customers.\n"
     ]
    }
   ],
   "source": [
    "# Another sample text\n",
    "text = \"Dr. Smith graduated from the University of Washington. He later started an analytics firm called Lux, which catered to enterprise customers.\"\n",
    "print(text)"
   ]
  },
  {
   "cell_type": "code",
   "execution_count": 3,
   "metadata": {},
   "outputs": [
    {
     "name": "stdout",
     "output_type": "stream",
     "text": [
      "['Dr.', 'Smith', 'graduated', 'from', 'the', 'University', 'of', 'Washington', '.', 'He', 'later', 'started', 'an', 'analytics', 'firm', 'called', 'Lux', ',', 'which', 'catered', 'to', 'enterprise', 'customers', '.']\n"
     ]
    }
   ],
   "source": [
    "from nltk.tokenize import word_tokenize\n",
    "\n",
    "# Split text into words using NLTK\n",
    "words = word_tokenize(text)\n",
    "print(words)"
   ]
  },
  {
   "cell_type": "code",
   "execution_count": 4,
   "metadata": {},
   "outputs": [
    {
     "name": "stdout",
     "output_type": "stream",
     "text": [
      "['Dr. Smith graduated from the University of Washington.', 'He later started an analytics firm called Lux, which catered to enterprise customers.']\n"
     ]
    }
   ],
   "source": [
    "from nltk.tokenize import sent_tokenize\n",
    "\n",
    "# Split text into sentences\n",
    "sentences = sent_tokenize(text)\n",
    "print(sentences)"
   ]
  },
  {
   "cell_type": "code",
   "execution_count": 5,
   "metadata": {},
   "outputs": [
    {
     "name": "stdout",
     "output_type": "stream",
     "text": [
      "['i', 'me', 'my', 'myself', 'we', 'our', 'ours', 'ourselves', 'you', \"you're\", \"you've\", \"you'll\", \"you'd\", 'your', 'yours', 'yourself', 'yourselves', 'he', 'him', 'his', 'himself', 'she', \"she's\", 'her', 'hers', 'herself', 'it', \"it's\", 'its', 'itself', 'they', 'them', 'their', 'theirs', 'themselves', 'what', 'which', 'who', 'whom', 'this', 'that', \"that'll\", 'these', 'those', 'am', 'is', 'are', 'was', 'were', 'be', 'been', 'being', 'have', 'has', 'had', 'having', 'do', 'does', 'did', 'doing', 'a', 'an', 'the', 'and', 'but', 'if', 'or', 'because', 'as', 'until', 'while', 'of', 'at', 'by', 'for', 'with', 'about', 'against', 'between', 'into', 'through', 'during', 'before', 'after', 'above', 'below', 'to', 'from', 'up', 'down', 'in', 'out', 'on', 'off', 'over', 'under', 'again', 'further', 'then', 'once', 'here', 'there', 'when', 'where', 'why', 'how', 'all', 'any', 'both', 'each', 'few', 'more', 'most', 'other', 'some', 'such', 'no', 'nor', 'not', 'only', 'own', 'same', 'so', 'than', 'too', 'very', 's', 't', 'can', 'will', 'just', 'don', \"don't\", 'should', \"should've\", 'now', 'd', 'll', 'm', 'o', 're', 've', 'y', 'ain', 'aren', \"aren't\", 'couldn', \"couldn't\", 'didn', \"didn't\", 'doesn', \"doesn't\", 'hadn', \"hadn't\", 'hasn', \"hasn't\", 'haven', \"haven't\", 'isn', \"isn't\", 'ma', 'mightn', \"mightn't\", 'mustn', \"mustn't\", 'needn', \"needn't\", 'shan', \"shan't\", 'shouldn', \"shouldn't\", 'wasn', \"wasn't\", 'weren', \"weren't\", 'won', \"won't\", 'wouldn', \"wouldn't\"]\n"
     ]
    }
   ],
   "source": [
    "# List stop words\n",
    "from nltk.corpus import stopwords\n",
    "print(stopwords.words(\"english\"))"
   ]
  },
  {
   "cell_type": "code",
   "execution_count": 7,
   "metadata": {},
   "outputs": [
    {
     "name": "stdout",
     "output_type": "stream",
     "text": [
      "['the', 'first', 'time', 'you', 'see', 'the', 'second', 'renaissance', 'it', 'may', 'look', 'boring', 'look', 'at', 'it', 'at', 'least', 'twice', 'and', 'definitely', 'watch', 'part', '2', 'it', 'will', 'change', 'your', 'view', 'of', 'the', 'matrix', 'are', 'the', 'human', 'people', 'the', 'ones', 'who', 'started', 'the', 'war', 'is', 'ai', 'a', 'bad', 'thing']\n"
     ]
    }
   ],
   "source": [
    "# Reset text\n",
    "import re\n",
    "text = \"The first time you see The Second Renaissance it may look boring. Look at it at least twice and definitely watch part 2. It will change your view of the matrix. Are the human people the ones who started the war ? Is AI a bad thing ?\"\n",
    "\n",
    "# Normalize it\n",
    "text = re.sub(r\"[^a-zA-Z0-9]\", \" \", text.lower())\n",
    "\n",
    "# Tokenize it\n",
    "words = text.split()\n",
    "print(words)"
   ]
  },
  {
   "cell_type": "code",
   "execution_count": 8,
   "metadata": {},
   "outputs": [
    {
     "name": "stdout",
     "output_type": "stream",
     "text": [
      "['first', 'time', 'see', 'second', 'renaissance', 'may', 'look', 'boring', 'look', 'least', 'twice', 'definitely', 'watch', 'part', '2', 'change', 'view', 'matrix', 'human', 'people', 'ones', 'started', 'war', 'ai', 'bad', 'thing']\n"
     ]
    }
   ],
   "source": [
    "# Remove stop words\n",
    "words = [w for w in words if w not in stopwords.words(\"english\")]\n",
    "print(words)"
   ]
  },
  {
   "cell_type": "markdown",
   "metadata": {},
   "source": [
    "## Stemming & Lemmatization\n",
    "\n",
    "### Stemming"
   ]
  },
  {
   "cell_type": "code",
   "execution_count": 9,
   "metadata": {},
   "outputs": [
    {
     "name": "stdout",
     "output_type": "stream",
     "text": [
      "['first', 'time', 'see', 'second', 'renaiss', 'may', 'look', 'bore', 'look', 'least', 'twice', 'definit', 'watch', 'part', '2', 'chang', 'view', 'matrix', 'human', 'peopl', 'one', 'start', 'war', 'ai', 'bad', 'thing']\n"
     ]
    }
   ],
   "source": [
    "from nltk.stem.porter import PorterStemmer\n",
    "\n",
    "# Reduce words to their stems\n",
    "stemmed = [PorterStemmer().stem(w) for w in words]\n",
    "print(stemmed)"
   ]
  },
  {
   "cell_type": "markdown",
   "metadata": {},
   "source": [
    "### Lemmatization"
   ]
  },
  {
   "cell_type": "code",
   "execution_count": 10,
   "metadata": {},
   "outputs": [
    {
     "name": "stdout",
     "output_type": "stream",
     "text": [
      "['first', 'time', 'see', 'second', 'renaissance', 'may', 'look', 'boring', 'look', 'least', 'twice', 'definitely', 'watch', 'part', '2', 'change', 'view', 'matrix', 'human', 'people', 'one', 'started', 'war', 'ai', 'bad', 'thing']\n"
     ]
    }
   ],
   "source": [
    "from nltk.stem.wordnet import WordNetLemmatizer\n",
    "\n",
    "# Reduce words to their root form\n",
    "lemmed = [WordNetLemmatizer().lemmatize(w) for w in words]\n",
    "print(lemmed)"
   ]
  },
  {
   "cell_type": "code",
   "execution_count": 11,
   "metadata": {},
   "outputs": [
    {
     "name": "stdout",
     "output_type": "stream",
     "text": [
      "['first', 'time', 'see', 'second', 'renaissance', 'may', 'look', 'bore', 'look', 'least', 'twice', 'definitely', 'watch', 'part', '2', 'change', 'view', 'matrix', 'human', 'people', 'one', 'start', 'war', 'ai', 'bad', 'thing']\n"
     ]
    }
   ],
   "source": [
    "# Lemmatize verbs by specifying pos\n",
    "lemmed = [WordNetLemmatizer().lemmatize(w, pos='v') for w in lemmed]\n",
    "print(lemmed)"
   ]
  },
  {
   "cell_type": "markdown",
   "metadata": {},
   "source": [
    "# Named Entity Using NTLK"
   ]
  },
  {
   "cell_type": "code",
   "execution_count": 4,
   "metadata": {},
   "outputs": [],
   "source": [
    "import nltk\n",
    "from nltk.tokenize import word_tokenize\n",
    "from nltk.tag import pos_tag"
   ]
  },
  {
   "cell_type": "code",
   "execution_count": 5,
   "metadata": {},
   "outputs": [],
   "source": [
    "sent= '''Prime Minister Jacinda Ardern has claimed that New Zealand had won a big battle over the spread of coronavirus. Her words came as the country begins to exit from its lockdown.'''\n",
    "words= word_tokenize(sent)\n",
    "postags=pos_tag(words)"
   ]
  },
  {
   "cell_type": "code",
   "execution_count": 6,
   "metadata": {},
   "outputs": [
    {
     "name": "stdout",
     "output_type": "stream",
     "text": [
      "(S\n",
      "  Prime/NNP\n",
      "  Minister/NNP\n",
      "  (NE Jacinda/NNP Ardern/NNP)\n",
      "  has/VBZ\n",
      "  claimed/VBN\n",
      "  that/IN\n",
      "  (NE New/NNP Zealand/NNP)\n",
      "  had/VBD\n",
      "  won/VBN\n",
      "  a/DT\n",
      "  big/JJ\n",
      "  battle/NN\n",
      "  over/IN\n",
      "  the/DT\n",
      "  spread/NN\n",
      "  of/IN\n",
      "  coronavirus/NN\n",
      "  ./.\n",
      "  Her/PRP$\n",
      "  words/NNS\n",
      "  came/VBD\n",
      "  as/IN\n",
      "  the/DT\n",
      "  country/NN\n",
      "  begins/VBZ\n",
      "  to/TO\n",
      "  exit/VB\n",
      "  from/IN\n",
      "  its/PRP$\n",
      "  lockdown/NN\n",
      "  ./.)\n"
     ]
    }
   ],
   "source": [
    "ne_tree = nltk.ne_chunk(postags,binary=True)\n",
    "print(ne_tree)"
   ]
  },
  {
   "cell_type": "markdown",
   "metadata": {},
   "source": [
    "# Named Entity Using SpaCy"
   ]
  },
  {
   "cell_type": "code",
   "execution_count": 2,
   "metadata": {},
   "outputs": [],
   "source": [
    "import spacy\n",
    "from spacy import displacy\n",
    "\n",
    "NER = spacy.load(\"en_core_web_sm\")"
   ]
  },
  {
   "cell_type": "code",
   "execution_count": 2,
   "metadata": {},
   "outputs": [],
   "source": [
    "raw_text=\"The Indian Space Research Organisation or is the national space agency of India, headquartered in Bengaluru. It operates under Department of Space which is directly overseen by the Prime Minister of India while Chairman of ISRO acts as executive of DOS as well.\""
   ]
  },
  {
   "cell_type": "code",
   "execution_count": 3,
   "metadata": {},
   "outputs": [
    {
     "name": "stdout",
     "output_type": "stream",
     "text": [
      "The Indian Space Research Organisation ORG\n",
      "India GPE\n",
      "Bengaluru GPE\n",
      "Department of Space ORG\n",
      "India GPE\n",
      "ISRO ORG\n",
      "DOS ORG\n"
     ]
    }
   ],
   "source": [
    "text1= NER(raw_text)\n",
    "for word in text1.ents:\n",
    "    print(word.text,word.label_)"
   ]
  },
  {
   "cell_type": "code",
   "execution_count": 5,
   "metadata": {},
   "outputs": [
    {
     "data": {
      "text/plain": [
       "'Countries, cities, states'"
      ]
     },
     "execution_count": 5,
     "metadata": {},
     "output_type": "execute_result"
    }
   ],
   "source": [
    "spacy.explain(\"GPE\")"
   ]
  },
  {
   "cell_type": "code",
   "execution_count": 4,
   "metadata": {},
   "outputs": [
    {
     "data": {
      "text/html": [
       "<span class=\"tex2jax_ignore\"><div class=\"entities\" style=\"line-height: 2.5; direction: ltr\">\n",
       "<mark class=\"entity\" style=\"background: #7aecec; padding: 0.45em 0.6em; margin: 0 0.25em; line-height: 1; border-radius: 0.35em;\">\n",
       "    The Indian Space Research Organisation\n",
       "    <span style=\"font-size: 0.8em; font-weight: bold; line-height: 1; border-radius: 0.35em; vertical-align: middle; margin-left: 0.5rem\">ORG</span>\n",
       "</mark>\n",
       " or is the national space agency of \n",
       "<mark class=\"entity\" style=\"background: #feca74; padding: 0.45em 0.6em; margin: 0 0.25em; line-height: 1; border-radius: 0.35em;\">\n",
       "    India\n",
       "    <span style=\"font-size: 0.8em; font-weight: bold; line-height: 1; border-radius: 0.35em; vertical-align: middle; margin-left: 0.5rem\">GPE</span>\n",
       "</mark>\n",
       ", headquartered in \n",
       "<mark class=\"entity\" style=\"background: #feca74; padding: 0.45em 0.6em; margin: 0 0.25em; line-height: 1; border-radius: 0.35em;\">\n",
       "    Bengaluru\n",
       "    <span style=\"font-size: 0.8em; font-weight: bold; line-height: 1; border-radius: 0.35em; vertical-align: middle; margin-left: 0.5rem\">GPE</span>\n",
       "</mark>\n",
       ". It operates under \n",
       "<mark class=\"entity\" style=\"background: #7aecec; padding: 0.45em 0.6em; margin: 0 0.25em; line-height: 1; border-radius: 0.35em;\">\n",
       "    Department of Space\n",
       "    <span style=\"font-size: 0.8em; font-weight: bold; line-height: 1; border-radius: 0.35em; vertical-align: middle; margin-left: 0.5rem\">ORG</span>\n",
       "</mark>\n",
       " which is directly overseen by the Prime Minister of \n",
       "<mark class=\"entity\" style=\"background: #feca74; padding: 0.45em 0.6em; margin: 0 0.25em; line-height: 1; border-radius: 0.35em;\">\n",
       "    India\n",
       "    <span style=\"font-size: 0.8em; font-weight: bold; line-height: 1; border-radius: 0.35em; vertical-align: middle; margin-left: 0.5rem\">GPE</span>\n",
       "</mark>\n",
       " while Chairman of \n",
       "<mark class=\"entity\" style=\"background: #7aecec; padding: 0.45em 0.6em; margin: 0 0.25em; line-height: 1; border-radius: 0.35em;\">\n",
       "    ISRO\n",
       "    <span style=\"font-size: 0.8em; font-weight: bold; line-height: 1; border-radius: 0.35em; vertical-align: middle; margin-left: 0.5rem\">ORG</span>\n",
       "</mark>\n",
       " acts as executive of \n",
       "<mark class=\"entity\" style=\"background: #7aecec; padding: 0.45em 0.6em; margin: 0 0.25em; line-height: 1; border-radius: 0.35em;\">\n",
       "    DOS\n",
       "    <span style=\"font-size: 0.8em; font-weight: bold; line-height: 1; border-radius: 0.35em; vertical-align: middle; margin-left: 0.5rem\">ORG</span>\n",
       "</mark>\n",
       " as well.</div></span>"
      ],
      "text/plain": [
       "<IPython.core.display.HTML object>"
      ]
     },
     "metadata": {},
     "output_type": "display_data"
    }
   ],
   "source": [
    "displacy.render(text1,style=\"ent\",jupyter=True)"
   ]
  },
  {
   "cell_type": "code",
   "execution_count": null,
   "metadata": {},
   "outputs": [],
   "source": []
  },
  {
   "cell_type": "code",
   "execution_count": null,
   "metadata": {},
   "outputs": [],
   "source": []
  },
  {
   "cell_type": "code",
   "execution_count": null,
   "metadata": {},
   "outputs": [],
   "source": []
  },
  {
   "cell_type": "markdown",
   "metadata": {},
   "source": [
    "# Text Preprocessing"
   ]
  },
  {
   "cell_type": "code",
   "execution_count": 115,
   "metadata": {},
   "outputs": [],
   "source": [
    "import pandas as pd\n",
    "import numpy as np\n",
    "import nltk\n",
    "from nltk.tokenize import word_tokenize\n",
    "from nltk.corpus import stopwords\n",
    "from nltk.stem import WordNetLemmatizer\n",
    "from nltk.tokenize import word_tokenize,sent_tokenize\n",
    "from bs4 import BeautifulSoup\n",
    "import spacy\n",
    "import re,string,unicodedata\n",
    "from wordcloud import WordCloud\n",
    "from nltk.tokenize.toktok import ToktokTokenizer\n",
    "from nltk.stem import LancasterStemmer,WordNetLemmatizer\n",
    "from sklearn.feature_extraction.text import CountVectorizer\n",
    "from sklearn.feature_extraction.text import TfidfVectorizer\n",
    "from sklearn.preprocessing import LabelBinarizer\n",
    "from sklearn.linear_model import LogisticRegression,SGDClassifier\n",
    "from sklearn.naive_bayes import MultinomialNB\n",
    "from sklearn.svm import SVC\n",
    "from sklearn.metrics import classification_report,confusion_matrix,accuracy_score"
   ]
  },
  {
   "cell_type": "code",
   "execution_count": 116,
   "metadata": {},
   "outputs": [],
   "source": [
    "df = pd.read_csv('result.csv')"
   ]
  },
  {
   "cell_type": "code",
   "execution_count": 117,
   "metadata": {},
   "outputs": [
    {
     "data": {
      "text/plain": [
       "Index(['sent_id', 'text', 'opinions/0/Target/0/0', 'opinions/0/Target/1/0',\n",
       "       'opinions/0/Polar_expression/0/0', 'opinions/0/Polar_expression/1/0',\n",
       "       'opinions/0/Polarity', 'opinions/0/Intensity', 'opinions/0/Source/0/0',\n",
       "       'opinions/0/Source/1/0',\n",
       "       ...\n",
       "       'opinions/15/Polar_expression/0/0', 'opinions/15/Polar_expression/1/0',\n",
       "       'opinions/15/Polarity', 'opinions/15/Intensity',\n",
       "       'opinions/16/Target/0/0', 'opinions/16/Target/1/0',\n",
       "       'opinions/16/Polar_expression/0/0', 'opinions/16/Polar_expression/1/0',\n",
       "       'opinions/16/Polarity', 'opinions/16/Intensity'],\n",
       "      dtype='object', length=124)"
      ]
     },
     "execution_count": 117,
     "metadata": {},
     "output_type": "execute_result"
    }
   ],
   "source": [
    "df.columns"
   ]
  },
  {
   "cell_type": "code",
   "execution_count": 118,
   "metadata": {},
   "outputs": [
    {
     "data": {
      "text/html": [
       "<div>\n",
       "<style scoped>\n",
       "    .dataframe tbody tr th:only-of-type {\n",
       "        vertical-align: middle;\n",
       "    }\n",
       "\n",
       "    .dataframe tbody tr th {\n",
       "        vertical-align: top;\n",
       "    }\n",
       "\n",
       "    .dataframe thead th {\n",
       "        text-align: right;\n",
       "    }\n",
       "</style>\n",
       "<table border=\"1\" class=\"dataframe\">\n",
       "  <thead>\n",
       "    <tr style=\"text-align: right;\">\n",
       "      <th></th>\n",
       "      <th>sent_id</th>\n",
       "      <th>text</th>\n",
       "      <th>opinions/0/Target/0/0</th>\n",
       "      <th>opinions/0/Target/1/0</th>\n",
       "      <th>opinions/0/Polar_expression/0/0</th>\n",
       "      <th>opinions/0/Polar_expression/1/0</th>\n",
       "      <th>opinions/0/Polarity</th>\n",
       "      <th>opinions/0/Intensity</th>\n",
       "      <th>opinions/0/Source/0/0</th>\n",
       "      <th>opinions/0/Source/1/0</th>\n",
       "      <th>...</th>\n",
       "      <th>opinions/15/Polar_expression/0/0</th>\n",
       "      <th>opinions/15/Polar_expression/1/0</th>\n",
       "      <th>opinions/15/Polarity</th>\n",
       "      <th>opinions/15/Intensity</th>\n",
       "      <th>opinions/16/Target/0/0</th>\n",
       "      <th>opinions/16/Target/1/0</th>\n",
       "      <th>opinions/16/Polar_expression/0/0</th>\n",
       "      <th>opinions/16/Polar_expression/1/0</th>\n",
       "      <th>opinions/16/Polarity</th>\n",
       "      <th>opinions/16/Intensity</th>\n",
       "    </tr>\n",
       "  </thead>\n",
       "  <tbody>\n",
       "    <tr>\n",
       "      <th>0</th>\n",
       "      <td>../opener/en/kaf/hotel/english00192_e3fe22eeb3...</td>\n",
       "      <td>Experienced staff and had a memorable stay</td>\n",
       "      <td>NaN</td>\n",
       "      <td>NaN</td>\n",
       "      <td>NaN</td>\n",
       "      <td>NaN</td>\n",
       "      <td>NaN</td>\n",
       "      <td>NaN</td>\n",
       "      <td>NaN</td>\n",
       "      <td>NaN</td>\n",
       "      <td>...</td>\n",
       "      <td>NaN</td>\n",
       "      <td>NaN</td>\n",
       "      <td>NaN</td>\n",
       "      <td>NaN</td>\n",
       "      <td>NaN</td>\n",
       "      <td>NaN</td>\n",
       "      <td>NaN</td>\n",
       "      <td>NaN</td>\n",
       "      <td>NaN</td>\n",
       "      <td>NaN</td>\n",
       "    </tr>\n",
       "    <tr>\n",
       "      <th>1</th>\n",
       "      <td>../opener/en/kaf/hotel/english00192_e3fe22eeb3...</td>\n",
       "      <td>India as a country has always fascinated me an...</td>\n",
       "      <td>NaN</td>\n",
       "      <td>NaN</td>\n",
       "      <td>NaN</td>\n",
       "      <td>NaN</td>\n",
       "      <td>NaN</td>\n",
       "      <td>NaN</td>\n",
       "      <td>NaN</td>\n",
       "      <td>NaN</td>\n",
       "      <td>...</td>\n",
       "      <td>NaN</td>\n",
       "      <td>NaN</td>\n",
       "      <td>NaN</td>\n",
       "      <td>NaN</td>\n",
       "      <td>NaN</td>\n",
       "      <td>NaN</td>\n",
       "      <td>NaN</td>\n",
       "      <td>NaN</td>\n",
       "      <td>NaN</td>\n",
       "      <td>NaN</td>\n",
       "    </tr>\n",
       "    <tr>\n",
       "      <th>2</th>\n",
       "      <td>../opener/en/kaf/hotel/english00192_e3fe22eeb3...</td>\n",
       "      <td>One of my friends who had been there before wa...</td>\n",
       "      <td>NaN</td>\n",
       "      <td>NaN</td>\n",
       "      <td>NaN</td>\n",
       "      <td>NaN</td>\n",
       "      <td>NaN</td>\n",
       "      <td>NaN</td>\n",
       "      <td>NaN</td>\n",
       "      <td>NaN</td>\n",
       "      <td>...</td>\n",
       "      <td>NaN</td>\n",
       "      <td>NaN</td>\n",
       "      <td>NaN</td>\n",
       "      <td>NaN</td>\n",
       "      <td>NaN</td>\n",
       "      <td>NaN</td>\n",
       "      <td>NaN</td>\n",
       "      <td>NaN</td>\n",
       "      <td>NaN</td>\n",
       "      <td>NaN</td>\n",
       "    </tr>\n",
       "    <tr>\n",
       "      <th>3</th>\n",
       "      <td>../opener/en/kaf/hotel/english00192_e3fe22eeb3...</td>\n",
       "      <td>Yes , it really was a great experience and we ...</td>\n",
       "      <td>the Oberoi Udaivilas Luxury Hotel</td>\n",
       "      <td>125:158</td>\n",
       "      <td>the most wonderful part of the trip</td>\n",
       "      <td>73:108</td>\n",
       "      <td>Positive</td>\n",
       "      <td>Standard</td>\n",
       "      <td>NaN</td>\n",
       "      <td>NaN</td>\n",
       "      <td>...</td>\n",
       "      <td>NaN</td>\n",
       "      <td>NaN</td>\n",
       "      <td>NaN</td>\n",
       "      <td>NaN</td>\n",
       "      <td>NaN</td>\n",
       "      <td>NaN</td>\n",
       "      <td>NaN</td>\n",
       "      <td>NaN</td>\n",
       "      <td>NaN</td>\n",
       "      <td>NaN</td>\n",
       "    </tr>\n",
       "    <tr>\n",
       "      <th>4</th>\n",
       "      <td>../opener/en/kaf/hotel/english00192_e3fe22eeb3...</td>\n",
       "      <td>I can ’t explain in words how grand this place...</td>\n",
       "      <td>this place</td>\n",
       "      <td>36:46</td>\n",
       "      <td>how grand looks</td>\n",
       "      <td>26:52</td>\n",
       "      <td>Positive</td>\n",
       "      <td>Standard</td>\n",
       "      <td>NaN</td>\n",
       "      <td>NaN</td>\n",
       "      <td>...</td>\n",
       "      <td>NaN</td>\n",
       "      <td>NaN</td>\n",
       "      <td>NaN</td>\n",
       "      <td>NaN</td>\n",
       "      <td>NaN</td>\n",
       "      <td>NaN</td>\n",
       "      <td>NaN</td>\n",
       "      <td>NaN</td>\n",
       "      <td>NaN</td>\n",
       "      <td>NaN</td>\n",
       "    </tr>\n",
       "    <tr>\n",
       "      <th>...</th>\n",
       "      <td>...</td>\n",
       "      <td>...</td>\n",
       "      <td>...</td>\n",
       "      <td>...</td>\n",
       "      <td>...</td>\n",
       "      <td>...</td>\n",
       "      <td>...</td>\n",
       "      <td>...</td>\n",
       "      <td>...</td>\n",
       "      <td>...</td>\n",
       "      <td>...</td>\n",
       "      <td>...</td>\n",
       "      <td>...</td>\n",
       "      <td>...</td>\n",
       "      <td>...</td>\n",
       "      <td>...</td>\n",
       "      <td>...</td>\n",
       "      <td>...</td>\n",
       "      <td>...</td>\n",
       "      <td>...</td>\n",
       "      <td>...</td>\n",
       "    </tr>\n",
       "    <tr>\n",
       "      <th>1740</th>\n",
       "      <td>../opener/en/kaf/hotel/english00011_0b57ac0ca8...</td>\n",
       "      <td>Hotel offers nice spa , large pool area and en...</td>\n",
       "      <td>Hotel</td>\n",
       "      <td>0:5</td>\n",
       "      <td>offers</td>\n",
       "      <td>6:12</td>\n",
       "      <td>Positive</td>\n",
       "      <td>Standard</td>\n",
       "      <td>NaN</td>\n",
       "      <td>NaN</td>\n",
       "      <td>...</td>\n",
       "      <td>NaN</td>\n",
       "      <td>NaN</td>\n",
       "      <td>NaN</td>\n",
       "      <td>NaN</td>\n",
       "      <td>NaN</td>\n",
       "      <td>NaN</td>\n",
       "      <td>NaN</td>\n",
       "      <td>NaN</td>\n",
       "      <td>NaN</td>\n",
       "      <td>NaN</td>\n",
       "    </tr>\n",
       "    <tr>\n",
       "      <th>1741</th>\n",
       "      <td>../opener/en/kaf/hotel/english00011_0b57ac0ca8...</td>\n",
       "      <td>Hospitality and services at the highest level .</td>\n",
       "      <td>Hospitality</td>\n",
       "      <td>0:11</td>\n",
       "      <td>at the highest level</td>\n",
       "      <td>25:45</td>\n",
       "      <td>Positive</td>\n",
       "      <td>Strong</td>\n",
       "      <td>NaN</td>\n",
       "      <td>NaN</td>\n",
       "      <td>...</td>\n",
       "      <td>NaN</td>\n",
       "      <td>NaN</td>\n",
       "      <td>NaN</td>\n",
       "      <td>NaN</td>\n",
       "      <td>NaN</td>\n",
       "      <td>NaN</td>\n",
       "      <td>NaN</td>\n",
       "      <td>NaN</td>\n",
       "      <td>NaN</td>\n",
       "      <td>NaN</td>\n",
       "    </tr>\n",
       "    <tr>\n",
       "      <th>1742</th>\n",
       "      <td>../opener/en/kaf/hotel/english00011_0b57ac0ca8...</td>\n",
       "      <td>I will definitely come back !</td>\n",
       "      <td>NaN</td>\n",
       "      <td>NaN</td>\n",
       "      <td>will definitely come back !</td>\n",
       "      <td>2:29</td>\n",
       "      <td>Positive</td>\n",
       "      <td>Strong</td>\n",
       "      <td>I</td>\n",
       "      <td>0:1</td>\n",
       "      <td>...</td>\n",
       "      <td>NaN</td>\n",
       "      <td>NaN</td>\n",
       "      <td>NaN</td>\n",
       "      <td>NaN</td>\n",
       "      <td>NaN</td>\n",
       "      <td>NaN</td>\n",
       "      <td>NaN</td>\n",
       "      <td>NaN</td>\n",
       "      <td>NaN</td>\n",
       "      <td>NaN</td>\n",
       "    </tr>\n",
       "    <tr>\n",
       "      <th>1743</th>\n",
       "      <td>../opener/en/kaf/hotel/english00011_0b57ac0ca8...</td>\n",
       "      <td>;</td>\n",
       "      <td>NaN</td>\n",
       "      <td>NaN</td>\n",
       "      <td>NaN</td>\n",
       "      <td>NaN</td>\n",
       "      <td>NaN</td>\n",
       "      <td>NaN</td>\n",
       "      <td>NaN</td>\n",
       "      <td>NaN</td>\n",
       "      <td>...</td>\n",
       "      <td>NaN</td>\n",
       "      <td>NaN</td>\n",
       "      <td>NaN</td>\n",
       "      <td>NaN</td>\n",
       "      <td>NaN</td>\n",
       "      <td>NaN</td>\n",
       "      <td>NaN</td>\n",
       "      <td>NaN</td>\n",
       "      <td>NaN</td>\n",
       "      <td>NaN</td>\n",
       "    </tr>\n",
       "    <tr>\n",
       "      <th>1744</th>\n",
       "      <td>../opener/en/kaf/hotel/english00032_30ddf6dff4...</td>\n",
       "      <td>Best in class</td>\n",
       "      <td>NaN</td>\n",
       "      <td>NaN</td>\n",
       "      <td>Best</td>\n",
       "      <td>0:4</td>\n",
       "      <td>Positive</td>\n",
       "      <td>Strong</td>\n",
       "      <td>NaN</td>\n",
       "      <td>NaN</td>\n",
       "      <td>...</td>\n",
       "      <td>NaN</td>\n",
       "      <td>NaN</td>\n",
       "      <td>NaN</td>\n",
       "      <td>NaN</td>\n",
       "      <td>NaN</td>\n",
       "      <td>NaN</td>\n",
       "      <td>NaN</td>\n",
       "      <td>NaN</td>\n",
       "      <td>NaN</td>\n",
       "      <td>NaN</td>\n",
       "    </tr>\n",
       "  </tbody>\n",
       "</table>\n",
       "<p>1745 rows × 124 columns</p>\n",
       "</div>"
      ],
      "text/plain": [
       "                                                sent_id  \\\n",
       "0     ../opener/en/kaf/hotel/english00192_e3fe22eeb3...   \n",
       "1     ../opener/en/kaf/hotel/english00192_e3fe22eeb3...   \n",
       "2     ../opener/en/kaf/hotel/english00192_e3fe22eeb3...   \n",
       "3     ../opener/en/kaf/hotel/english00192_e3fe22eeb3...   \n",
       "4     ../opener/en/kaf/hotel/english00192_e3fe22eeb3...   \n",
       "...                                                 ...   \n",
       "1740  ../opener/en/kaf/hotel/english00011_0b57ac0ca8...   \n",
       "1741  ../opener/en/kaf/hotel/english00011_0b57ac0ca8...   \n",
       "1742  ../opener/en/kaf/hotel/english00011_0b57ac0ca8...   \n",
       "1743  ../opener/en/kaf/hotel/english00011_0b57ac0ca8...   \n",
       "1744  ../opener/en/kaf/hotel/english00032_30ddf6dff4...   \n",
       "\n",
       "                                                   text  \\\n",
       "0            Experienced staff and had a memorable stay   \n",
       "1     India as a country has always fascinated me an...   \n",
       "2     One of my friends who had been there before wa...   \n",
       "3     Yes , it really was a great experience and we ...   \n",
       "4     I can ’t explain in words how grand this place...   \n",
       "...                                                 ...   \n",
       "1740  Hotel offers nice spa , large pool area and en...   \n",
       "1741    Hospitality and services at the highest level .   \n",
       "1742                      I will definitely come back !   \n",
       "1743                                                  ;   \n",
       "1744                                      Best in class   \n",
       "\n",
       "                  opinions/0/Target/0/0 opinions/0/Target/1/0  \\\n",
       "0                                   NaN                   NaN   \n",
       "1                                   NaN                   NaN   \n",
       "2                                   NaN                   NaN   \n",
       "3     the Oberoi Udaivilas Luxury Hotel               125:158   \n",
       "4                            this place                 36:46   \n",
       "...                                 ...                   ...   \n",
       "1740                              Hotel                   0:5   \n",
       "1741                        Hospitality                  0:11   \n",
       "1742                                NaN                   NaN   \n",
       "1743                                NaN                   NaN   \n",
       "1744                                NaN                   NaN   \n",
       "\n",
       "          opinions/0/Polar_expression/0/0 opinions/0/Polar_expression/1/0  \\\n",
       "0                                     NaN                             NaN   \n",
       "1                                     NaN                             NaN   \n",
       "2                                     NaN                             NaN   \n",
       "3     the most wonderful part of the trip                          73:108   \n",
       "4                         how grand looks                           26:52   \n",
       "...                                   ...                             ...   \n",
       "1740                               offers                            6:12   \n",
       "1741                 at the highest level                           25:45   \n",
       "1742          will definitely come back !                            2:29   \n",
       "1743                                  NaN                             NaN   \n",
       "1744                                 Best                             0:4   \n",
       "\n",
       "     opinions/0/Polarity opinions/0/Intensity opinions/0/Source/0/0  \\\n",
       "0                    NaN                  NaN                   NaN   \n",
       "1                    NaN                  NaN                   NaN   \n",
       "2                    NaN                  NaN                   NaN   \n",
       "3               Positive             Standard                   NaN   \n",
       "4               Positive             Standard                   NaN   \n",
       "...                  ...                  ...                   ...   \n",
       "1740            Positive             Standard                   NaN   \n",
       "1741            Positive               Strong                   NaN   \n",
       "1742            Positive               Strong                     I   \n",
       "1743                 NaN                  NaN                   NaN   \n",
       "1744            Positive               Strong                   NaN   \n",
       "\n",
       "     opinions/0/Source/1/0  ... opinions/15/Polar_expression/0/0  \\\n",
       "0                      NaN  ...                              NaN   \n",
       "1                      NaN  ...                              NaN   \n",
       "2                      NaN  ...                              NaN   \n",
       "3                      NaN  ...                              NaN   \n",
       "4                      NaN  ...                              NaN   \n",
       "...                    ...  ...                              ...   \n",
       "1740                   NaN  ...                              NaN   \n",
       "1741                   NaN  ...                              NaN   \n",
       "1742                   0:1  ...                              NaN   \n",
       "1743                   NaN  ...                              NaN   \n",
       "1744                   NaN  ...                              NaN   \n",
       "\n",
       "     opinions/15/Polar_expression/1/0 opinions/15/Polarity  \\\n",
       "0                                 NaN                  NaN   \n",
       "1                                 NaN                  NaN   \n",
       "2                                 NaN                  NaN   \n",
       "3                                 NaN                  NaN   \n",
       "4                                 NaN                  NaN   \n",
       "...                               ...                  ...   \n",
       "1740                              NaN                  NaN   \n",
       "1741                              NaN                  NaN   \n",
       "1742                              NaN                  NaN   \n",
       "1743                              NaN                  NaN   \n",
       "1744                              NaN                  NaN   \n",
       "\n",
       "     opinions/15/Intensity opinions/16/Target/0/0 opinions/16/Target/1/0  \\\n",
       "0                      NaN                    NaN                    NaN   \n",
       "1                      NaN                    NaN                    NaN   \n",
       "2                      NaN                    NaN                    NaN   \n",
       "3                      NaN                    NaN                    NaN   \n",
       "4                      NaN                    NaN                    NaN   \n",
       "...                    ...                    ...                    ...   \n",
       "1740                   NaN                    NaN                    NaN   \n",
       "1741                   NaN                    NaN                    NaN   \n",
       "1742                   NaN                    NaN                    NaN   \n",
       "1743                   NaN                    NaN                    NaN   \n",
       "1744                   NaN                    NaN                    NaN   \n",
       "\n",
       "     opinions/16/Polar_expression/0/0 opinions/16/Polar_expression/1/0  \\\n",
       "0                                 NaN                              NaN   \n",
       "1                                 NaN                              NaN   \n",
       "2                                 NaN                              NaN   \n",
       "3                                 NaN                              NaN   \n",
       "4                                 NaN                              NaN   \n",
       "...                               ...                              ...   \n",
       "1740                              NaN                              NaN   \n",
       "1741                              NaN                              NaN   \n",
       "1742                              NaN                              NaN   \n",
       "1743                              NaN                              NaN   \n",
       "1744                              NaN                              NaN   \n",
       "\n",
       "     opinions/16/Polarity opinions/16/Intensity  \n",
       "0                     NaN                   NaN  \n",
       "1                     NaN                   NaN  \n",
       "2                     NaN                   NaN  \n",
       "3                     NaN                   NaN  \n",
       "4                     NaN                   NaN  \n",
       "...                   ...                   ...  \n",
       "1740                  NaN                   NaN  \n",
       "1741                  NaN                   NaN  \n",
       "1742                  NaN                   NaN  \n",
       "1743                  NaN                   NaN  \n",
       "1744                  NaN                   NaN  \n",
       "\n",
       "[1745 rows x 124 columns]"
      ]
     },
     "execution_count": 118,
     "metadata": {},
     "output_type": "execute_result"
    }
   ],
   "source": [
    "df"
   ]
  },
  {
   "cell_type": "code",
   "execution_count": 119,
   "metadata": {},
   "outputs": [
    {
     "data": {
      "text/html": [
       "<div>\n",
       "<style scoped>\n",
       "    .dataframe tbody tr th:only-of-type {\n",
       "        vertical-align: middle;\n",
       "    }\n",
       "\n",
       "    .dataframe tbody tr th {\n",
       "        vertical-align: top;\n",
       "    }\n",
       "\n",
       "    .dataframe thead th {\n",
       "        text-align: right;\n",
       "    }\n",
       "</style>\n",
       "<table border=\"1\" class=\"dataframe\">\n",
       "  <thead>\n",
       "    <tr style=\"text-align: right;\">\n",
       "      <th></th>\n",
       "      <th>sent_id</th>\n",
       "      <th>text</th>\n",
       "      <th>opinions/0/Target/0/0</th>\n",
       "      <th>opinions/0/Target/1/0</th>\n",
       "      <th>opinions/0/Polar_expression/0/0</th>\n",
       "      <th>opinions/0/Polar_expression/1/0</th>\n",
       "      <th>opinions/0/Polarity</th>\n",
       "      <th>opinions/0/Intensity</th>\n",
       "      <th>opinions/0/Source/0/0</th>\n",
       "      <th>opinions/0/Source/1/0</th>\n",
       "      <th>...</th>\n",
       "      <th>opinions/15/Polar_expression/0/0</th>\n",
       "      <th>opinions/15/Polar_expression/1/0</th>\n",
       "      <th>opinions/15/Polarity</th>\n",
       "      <th>opinions/15/Intensity</th>\n",
       "      <th>opinions/16/Target/0/0</th>\n",
       "      <th>opinions/16/Target/1/0</th>\n",
       "      <th>opinions/16/Polar_expression/0/0</th>\n",
       "      <th>opinions/16/Polar_expression/1/0</th>\n",
       "      <th>opinions/16/Polarity</th>\n",
       "      <th>opinions/16/Intensity</th>\n",
       "    </tr>\n",
       "  </thead>\n",
       "  <tbody>\n",
       "    <tr>\n",
       "      <th>count</th>\n",
       "      <td>1745</td>\n",
       "      <td>1745</td>\n",
       "      <td>1260</td>\n",
       "      <td>1260</td>\n",
       "      <td>1400</td>\n",
       "      <td>1400</td>\n",
       "      <td>1400</td>\n",
       "      <td>1400</td>\n",
       "      <td>150</td>\n",
       "      <td>150</td>\n",
       "      <td>...</td>\n",
       "      <td>2</td>\n",
       "      <td>2</td>\n",
       "      <td>2</td>\n",
       "      <td>2</td>\n",
       "      <td>2</td>\n",
       "      <td>2</td>\n",
       "      <td>2</td>\n",
       "      <td>2</td>\n",
       "      <td>2</td>\n",
       "      <td>2</td>\n",
       "    </tr>\n",
       "    <tr>\n",
       "      <th>unique</th>\n",
       "      <td>1745</td>\n",
       "      <td>1700</td>\n",
       "      <td>667</td>\n",
       "      <td>633</td>\n",
       "      <td>937</td>\n",
       "      <td>817</td>\n",
       "      <td>2</td>\n",
       "      <td>2</td>\n",
       "      <td>7</td>\n",
       "      <td>54</td>\n",
       "      <td>...</td>\n",
       "      <td>2</td>\n",
       "      <td>2</td>\n",
       "      <td>1</td>\n",
       "      <td>1</td>\n",
       "      <td>2</td>\n",
       "      <td>2</td>\n",
       "      <td>2</td>\n",
       "      <td>2</td>\n",
       "      <td>1</td>\n",
       "      <td>2</td>\n",
       "    </tr>\n",
       "    <tr>\n",
       "      <th>top</th>\n",
       "      <td>../opener/en/kaf/hotel/english00041_2d00f34ba5...</td>\n",
       "      <td>Friendly , helpful hosts</td>\n",
       "      <td>hotel</td>\n",
       "      <td>0:9</td>\n",
       "      <td>good</td>\n",
       "      <td>0:4</td>\n",
       "      <td>Positive</td>\n",
       "      <td>Standard</td>\n",
       "      <td>I</td>\n",
       "      <td>0:1</td>\n",
       "      <td>...</td>\n",
       "      <td>clean</td>\n",
       "      <td>24:29</td>\n",
       "      <td>Positive</td>\n",
       "      <td>Standard</td>\n",
       "      <td>room</td>\n",
       "      <td>205:209</td>\n",
       "      <td>Fantastic</td>\n",
       "      <td>34:43</td>\n",
       "      <td>Positive</td>\n",
       "      <td>Strong</td>\n",
       "    </tr>\n",
       "    <tr>\n",
       "      <th>freq</th>\n",
       "      <td>1</td>\n",
       "      <td>2</td>\n",
       "      <td>73</td>\n",
       "      <td>82</td>\n",
       "      <td>40</td>\n",
       "      <td>51</td>\n",
       "      <td>1012</td>\n",
       "      <td>935</td>\n",
       "      <td>69</td>\n",
       "      <td>43</td>\n",
       "      <td>...</td>\n",
       "      <td>1</td>\n",
       "      <td>1</td>\n",
       "      <td>2</td>\n",
       "      <td>2</td>\n",
       "      <td>1</td>\n",
       "      <td>1</td>\n",
       "      <td>1</td>\n",
       "      <td>1</td>\n",
       "      <td>2</td>\n",
       "      <td>1</td>\n",
       "    </tr>\n",
       "  </tbody>\n",
       "</table>\n",
       "<p>4 rows × 124 columns</p>\n",
       "</div>"
      ],
      "text/plain": [
       "                                                  sent_id  \\\n",
       "count                                                1745   \n",
       "unique                                               1745   \n",
       "top     ../opener/en/kaf/hotel/english00041_2d00f34ba5...   \n",
       "freq                                                    1   \n",
       "\n",
       "                            text opinions/0/Target/0/0 opinions/0/Target/1/0  \\\n",
       "count                       1745                  1260                  1260   \n",
       "unique                      1700                   667                   633   \n",
       "top     Friendly , helpful hosts                 hotel                   0:9   \n",
       "freq                           2                    73                    82   \n",
       "\n",
       "       opinions/0/Polar_expression/0/0 opinions/0/Polar_expression/1/0  \\\n",
       "count                             1400                            1400   \n",
       "unique                             937                             817   \n",
       "top                               good                             0:4   \n",
       "freq                                40                              51   \n",
       "\n",
       "       opinions/0/Polarity opinions/0/Intensity opinions/0/Source/0/0  \\\n",
       "count                 1400                 1400                   150   \n",
       "unique                   2                    2                     7   \n",
       "top               Positive             Standard                     I   \n",
       "freq                  1012                  935                    69   \n",
       "\n",
       "       opinions/0/Source/1/0  ... opinions/15/Polar_expression/0/0  \\\n",
       "count                    150  ...                                2   \n",
       "unique                    54  ...                                2   \n",
       "top                      0:1  ...                            clean   \n",
       "freq                      43  ...                                1   \n",
       "\n",
       "       opinions/15/Polar_expression/1/0 opinions/15/Polarity  \\\n",
       "count                                 2                    2   \n",
       "unique                                2                    1   \n",
       "top                               24:29             Positive   \n",
       "freq                                  1                    2   \n",
       "\n",
       "       opinions/15/Intensity opinions/16/Target/0/0 opinions/16/Target/1/0  \\\n",
       "count                      2                      2                      2   \n",
       "unique                     1                      2                      2   \n",
       "top                 Standard                   room                205:209   \n",
       "freq                       2                      1                      1   \n",
       "\n",
       "       opinions/16/Polar_expression/0/0 opinions/16/Polar_expression/1/0  \\\n",
       "count                                 2                                2   \n",
       "unique                                2                                2   \n",
       "top                           Fantastic                            34:43   \n",
       "freq                                  1                                1   \n",
       "\n",
       "       opinions/16/Polarity opinions/16/Intensity  \n",
       "count                     2                     2  \n",
       "unique                    1                     2  \n",
       "top                Positive                Strong  \n",
       "freq                      2                     1  \n",
       "\n",
       "[4 rows x 124 columns]"
      ]
     },
     "execution_count": 119,
     "metadata": {},
     "output_type": "execute_result"
    }
   ],
   "source": [
    "df.describe()"
   ]
  },
  {
   "cell_type": "markdown",
   "metadata": {},
   "source": [
    "## Subtask - 1\n",
    "## Building model for predicting polarity of given review"
   ]
  },
  {
   "cell_type": "markdown",
   "metadata": {},
   "source": [
    "### Basic Data Preprocessing"
   ]
  },
  {
   "cell_type": "code",
   "execution_count": 120,
   "metadata": {},
   "outputs": [],
   "source": [
    "df.drop(['sent_id'],axis=1,inplace = True)"
   ]
  },
  {
   "cell_type": "code",
   "execution_count": 121,
   "metadata": {},
   "outputs": [
    {
     "data": {
      "text/plain": [
       "Index(['text', 'opinions/0/Target/0/0', 'opinions/0/Target/1/0',\n",
       "       'opinions/0/Polar_expression/0/0', 'opinions/0/Polar_expression/1/0',\n",
       "       'opinions/0/Polarity', 'opinions/0/Intensity', 'opinions/0/Source/0/0',\n",
       "       'opinions/0/Source/1/0', 'opinions/1/Polar_expression/0/0',\n",
       "       ...\n",
       "       'opinions/15/Polar_expression/0/0', 'opinions/15/Polar_expression/1/0',\n",
       "       'opinions/15/Polarity', 'opinions/15/Intensity',\n",
       "       'opinions/16/Target/0/0', 'opinions/16/Target/1/0',\n",
       "       'opinions/16/Polar_expression/0/0', 'opinions/16/Polar_expression/1/0',\n",
       "       'opinions/16/Polarity', 'opinions/16/Intensity'],\n",
       "      dtype='object', length=123)"
      ]
     },
     "execution_count": 121,
     "metadata": {},
     "output_type": "execute_result"
    }
   ],
   "source": [
    "df.columns"
   ]
  },
  {
   "cell_type": "code",
   "execution_count": 122,
   "metadata": {},
   "outputs": [],
   "source": [
    "df2 = df.iloc[:,[0,5]]\n",
    "df_intensity = df.iloc[:,[0,5,6]]"
   ]
  },
  {
   "cell_type": "code",
   "execution_count": 123,
   "metadata": {},
   "outputs": [
    {
     "data": {
      "text/html": [
       "<div>\n",
       "<style scoped>\n",
       "    .dataframe tbody tr th:only-of-type {\n",
       "        vertical-align: middle;\n",
       "    }\n",
       "\n",
       "    .dataframe tbody tr th {\n",
       "        vertical-align: top;\n",
       "    }\n",
       "\n",
       "    .dataframe thead th {\n",
       "        text-align: right;\n",
       "    }\n",
       "</style>\n",
       "<table border=\"1\" class=\"dataframe\">\n",
       "  <thead>\n",
       "    <tr style=\"text-align: right;\">\n",
       "      <th></th>\n",
       "      <th>Text</th>\n",
       "      <th>Polarity</th>\n",
       "    </tr>\n",
       "  </thead>\n",
       "  <tbody>\n",
       "    <tr>\n",
       "      <th>0</th>\n",
       "      <td>Experienced staff and had a memorable stay</td>\n",
       "      <td>NaN</td>\n",
       "    </tr>\n",
       "    <tr>\n",
       "      <th>1</th>\n",
       "      <td>India as a country has always fascinated me an...</td>\n",
       "      <td>NaN</td>\n",
       "    </tr>\n",
       "    <tr>\n",
       "      <th>2</th>\n",
       "      <td>One of my friends who had been there before wa...</td>\n",
       "      <td>NaN</td>\n",
       "    </tr>\n",
       "    <tr>\n",
       "      <th>3</th>\n",
       "      <td>Yes , it really was a great experience and we ...</td>\n",
       "      <td>Positive</td>\n",
       "    </tr>\n",
       "    <tr>\n",
       "      <th>4</th>\n",
       "      <td>I can ’t explain in words how grand this place...</td>\n",
       "      <td>Positive</td>\n",
       "    </tr>\n",
       "  </tbody>\n",
       "</table>\n",
       "</div>"
      ],
      "text/plain": [
       "                                                Text  Polarity\n",
       "0         Experienced staff and had a memorable stay       NaN\n",
       "1  India as a country has always fascinated me an...       NaN\n",
       "2  One of my friends who had been there before wa...       NaN\n",
       "3  Yes , it really was a great experience and we ...  Positive\n",
       "4  I can ’t explain in words how grand this place...  Positive"
      ]
     },
     "execution_count": 123,
     "metadata": {},
     "output_type": "execute_result"
    }
   ],
   "source": [
    "df2 = df2.rename({'text': 'Text', 'opinions/0/Polarity': 'Polarity'}, axis=1)\n",
    "df_intensity = df_intensity.rename({'text': 'Text', 'opinions/0/Polarity': 'Polarity','opinions/0/Intensity':'Intensity'},axis=1)\n",
    "df2.head()"
   ]
  },
  {
   "cell_type": "code",
   "execution_count": 124,
   "metadata": {},
   "outputs": [
    {
     "data": {
      "text/html": [
       "<div>\n",
       "<style scoped>\n",
       "    .dataframe tbody tr th:only-of-type {\n",
       "        vertical-align: middle;\n",
       "    }\n",
       "\n",
       "    .dataframe tbody tr th {\n",
       "        vertical-align: top;\n",
       "    }\n",
       "\n",
       "    .dataframe thead th {\n",
       "        text-align: right;\n",
       "    }\n",
       "</style>\n",
       "<table border=\"1\" class=\"dataframe\">\n",
       "  <thead>\n",
       "    <tr style=\"text-align: right;\">\n",
       "      <th></th>\n",
       "      <th>Text</th>\n",
       "      <th>Polarity</th>\n",
       "      <th>Intensity</th>\n",
       "    </tr>\n",
       "  </thead>\n",
       "  <tbody>\n",
       "    <tr>\n",
       "      <th>0</th>\n",
       "      <td>Experienced staff and had a memorable stay</td>\n",
       "      <td>NaN</td>\n",
       "      <td>NaN</td>\n",
       "    </tr>\n",
       "    <tr>\n",
       "      <th>1</th>\n",
       "      <td>India as a country has always fascinated me an...</td>\n",
       "      <td>NaN</td>\n",
       "      <td>NaN</td>\n",
       "    </tr>\n",
       "    <tr>\n",
       "      <th>2</th>\n",
       "      <td>One of my friends who had been there before wa...</td>\n",
       "      <td>NaN</td>\n",
       "      <td>NaN</td>\n",
       "    </tr>\n",
       "    <tr>\n",
       "      <th>3</th>\n",
       "      <td>Yes , it really was a great experience and we ...</td>\n",
       "      <td>Positive</td>\n",
       "      <td>Standard</td>\n",
       "    </tr>\n",
       "    <tr>\n",
       "      <th>4</th>\n",
       "      <td>I can ’t explain in words how grand this place...</td>\n",
       "      <td>Positive</td>\n",
       "      <td>Standard</td>\n",
       "    </tr>\n",
       "  </tbody>\n",
       "</table>\n",
       "</div>"
      ],
      "text/plain": [
       "                                                Text  Polarity Intensity\n",
       "0         Experienced staff and had a memorable stay       NaN       NaN\n",
       "1  India as a country has always fascinated me an...       NaN       NaN\n",
       "2  One of my friends who had been there before wa...       NaN       NaN\n",
       "3  Yes , it really was a great experience and we ...  Positive  Standard\n",
       "4  I can ’t explain in words how grand this place...  Positive  Standard"
      ]
     },
     "execution_count": 124,
     "metadata": {},
     "output_type": "execute_result"
    }
   ],
   "source": [
    "df_intensity.head()"
   ]
  },
  {
   "cell_type": "code",
   "execution_count": 125,
   "metadata": {},
   "outputs": [
    {
     "data": {
      "text/html": [
       "<div>\n",
       "<style scoped>\n",
       "    .dataframe tbody tr th:only-of-type {\n",
       "        vertical-align: middle;\n",
       "    }\n",
       "\n",
       "    .dataframe tbody tr th {\n",
       "        vertical-align: top;\n",
       "    }\n",
       "\n",
       "    .dataframe thead th {\n",
       "        text-align: right;\n",
       "    }\n",
       "</style>\n",
       "<table border=\"1\" class=\"dataframe\">\n",
       "  <thead>\n",
       "    <tr style=\"text-align: right;\">\n",
       "      <th></th>\n",
       "      <th>Text</th>\n",
       "      <th>Polarity</th>\n",
       "    </tr>\n",
       "  </thead>\n",
       "  <tbody>\n",
       "    <tr>\n",
       "      <th>count</th>\n",
       "      <td>1745</td>\n",
       "      <td>1400</td>\n",
       "    </tr>\n",
       "    <tr>\n",
       "      <th>unique</th>\n",
       "      <td>1700</td>\n",
       "      <td>2</td>\n",
       "    </tr>\n",
       "    <tr>\n",
       "      <th>top</th>\n",
       "      <td>Friendly , helpful hosts</td>\n",
       "      <td>Positive</td>\n",
       "    </tr>\n",
       "    <tr>\n",
       "      <th>freq</th>\n",
       "      <td>2</td>\n",
       "      <td>1012</td>\n",
       "    </tr>\n",
       "  </tbody>\n",
       "</table>\n",
       "</div>"
      ],
      "text/plain": [
       "                            Text  Polarity\n",
       "count                       1745      1400\n",
       "unique                      1700         2\n",
       "top     Friendly , helpful hosts  Positive\n",
       "freq                           2      1012"
      ]
     },
     "execution_count": 125,
     "metadata": {},
     "output_type": "execute_result"
    }
   ],
   "source": [
    "df2.describe()"
   ]
  },
  {
   "cell_type": "code",
   "execution_count": 126,
   "metadata": {},
   "outputs": [
    {
     "data": {
      "text/plain": [
       "Text          0\n",
       "Polarity    345\n",
       "dtype: int64"
      ]
     },
     "execution_count": 126,
     "metadata": {},
     "output_type": "execute_result"
    }
   ],
   "source": [
    "df2.isnull().sum()"
   ]
  },
  {
   "cell_type": "code",
   "execution_count": 127,
   "metadata": {},
   "outputs": [
    {
     "name": "stdout",
     "output_type": "stream",
     "text": [
      "False\n",
      "False\n"
     ]
    }
   ],
   "source": [
    "df2.dropna(axis=0,inplace=True)\n",
    "df_intensity.dropna(axis=0,inplace=True)\n",
    "print(df2.isnull().values.any())\n",
    "print(df_intensity.isnull().values.any())"
   ]
  },
  {
   "cell_type": "code",
   "execution_count": 128,
   "metadata": {},
   "outputs": [
    {
     "data": {
      "text/html": [
       "<div>\n",
       "<style scoped>\n",
       "    .dataframe tbody tr th:only-of-type {\n",
       "        vertical-align: middle;\n",
       "    }\n",
       "\n",
       "    .dataframe tbody tr th {\n",
       "        vertical-align: top;\n",
       "    }\n",
       "\n",
       "    .dataframe thead th {\n",
       "        text-align: right;\n",
       "    }\n",
       "</style>\n",
       "<table border=\"1\" class=\"dataframe\">\n",
       "  <thead>\n",
       "    <tr style=\"text-align: right;\">\n",
       "      <th></th>\n",
       "      <th>Text</th>\n",
       "      <th>Polarity</th>\n",
       "      <th>Intensity</th>\n",
       "    </tr>\n",
       "  </thead>\n",
       "  <tbody>\n",
       "    <tr>\n",
       "      <th>0</th>\n",
       "      <td>Yes , it really was a great experience and we ...</td>\n",
       "      <td>Positive</td>\n",
       "      <td>Standard</td>\n",
       "    </tr>\n",
       "    <tr>\n",
       "      <th>1</th>\n",
       "      <td>I can ’t explain in words how grand this place...</td>\n",
       "      <td>Positive</td>\n",
       "      <td>Standard</td>\n",
       "    </tr>\n",
       "    <tr>\n",
       "      <th>2</th>\n",
       "      <td>It is a unique blend of the old world royal ch...</td>\n",
       "      <td>Positive</td>\n",
       "      <td>Strong</td>\n",
       "    </tr>\n",
       "    <tr>\n",
       "      <th>3</th>\n",
       "      <td>I ’m definitely going there again whenever I g...</td>\n",
       "      <td>Positive</td>\n",
       "      <td>Strong</td>\n",
       "    </tr>\n",
       "    <tr>\n",
       "      <th>4</th>\n",
       "      <td>Bit pricey and but away from center</td>\n",
       "      <td>Negative</td>\n",
       "      <td>Standard</td>\n",
       "    </tr>\n",
       "    <tr>\n",
       "      <th>...</th>\n",
       "      <td>...</td>\n",
       "      <td>...</td>\n",
       "      <td>...</td>\n",
       "    </tr>\n",
       "    <tr>\n",
       "      <th>1395</th>\n",
       "      <td>Golf courses can be easily reached from the ho...</td>\n",
       "      <td>Positive</td>\n",
       "      <td>Standard</td>\n",
       "    </tr>\n",
       "    <tr>\n",
       "      <th>1396</th>\n",
       "      <td>Hotel offers nice spa , large pool area and en...</td>\n",
       "      <td>Positive</td>\n",
       "      <td>Standard</td>\n",
       "    </tr>\n",
       "    <tr>\n",
       "      <th>1397</th>\n",
       "      <td>Hospitality and services at the highest level .</td>\n",
       "      <td>Positive</td>\n",
       "      <td>Strong</td>\n",
       "    </tr>\n",
       "    <tr>\n",
       "      <th>1398</th>\n",
       "      <td>I will definitely come back !</td>\n",
       "      <td>Positive</td>\n",
       "      <td>Strong</td>\n",
       "    </tr>\n",
       "    <tr>\n",
       "      <th>1399</th>\n",
       "      <td>Best in class</td>\n",
       "      <td>Positive</td>\n",
       "      <td>Strong</td>\n",
       "    </tr>\n",
       "  </tbody>\n",
       "</table>\n",
       "<p>1400 rows × 3 columns</p>\n",
       "</div>"
      ],
      "text/plain": [
       "                                                   Text  Polarity Intensity\n",
       "0     Yes , it really was a great experience and we ...  Positive  Standard\n",
       "1     I can ’t explain in words how grand this place...  Positive  Standard\n",
       "2     It is a unique blend of the old world royal ch...  Positive    Strong\n",
       "3     I ’m definitely going there again whenever I g...  Positive    Strong\n",
       "4                   Bit pricey and but away from center  Negative  Standard\n",
       "...                                                 ...       ...       ...\n",
       "1395  Golf courses can be easily reached from the ho...  Positive  Standard\n",
       "1396  Hotel offers nice spa , large pool area and en...  Positive  Standard\n",
       "1397    Hospitality and services at the highest level .  Positive    Strong\n",
       "1398                      I will definitely come back !  Positive    Strong\n",
       "1399                                      Best in class  Positive    Strong\n",
       "\n",
       "[1400 rows x 3 columns]"
      ]
     },
     "execution_count": 128,
     "metadata": {},
     "output_type": "execute_result"
    }
   ],
   "source": [
    "df2.reset_index(drop=True,inplace=True)\n",
    "df_intensity.reset_index(drop=True,inplace=True)\n",
    "df_intensity"
   ]
  },
  {
   "cell_type": "code",
   "execution_count": 129,
   "metadata": {},
   "outputs": [
    {
     "data": {
      "text/plain": [
       "'I can ’t explain in words how grand this place looks .'"
      ]
     },
     "execution_count": 129,
     "metadata": {},
     "output_type": "execute_result"
    }
   ],
   "source": [
    "df2['Text'][1]"
   ]
  },
  {
   "cell_type": "code",
   "execution_count": null,
   "metadata": {},
   "outputs": [],
   "source": []
  },
  {
   "cell_type": "code",
   "execution_count": 130,
   "metadata": {},
   "outputs": [],
   "source": [
    "#Removing the html strips\n",
    "def strip_html(text):\n",
    "    soup = BeautifulSoup(text, \"html.parser\")\n",
    "    return soup.get_text()\n",
    "\n",
    "#Removing the square brackets\n",
    "def remove_between_square_brackets(text):\n",
    "    return re.sub('\\[[^]]*\\]', '', text)\n",
    "\n",
    "#Removing the noisy text\n",
    "def denoise_text(text):\n",
    "    text = strip_html(text)\n",
    "    text = remove_between_square_brackets(text)\n",
    "    return text\n",
    "#Apply function on review column\n",
    "df2['Text']=df2['Text'].apply(denoise_text)\n",
    "df_intensity['Text']=df_intensity['Text'].apply(denoise_text)"
   ]
  },
  {
   "cell_type": "code",
   "execution_count": 131,
   "metadata": {},
   "outputs": [],
   "source": [
    "def remove_special_characters(text,remove_digit=True):\n",
    "    pattern = r'[^a-zA-Z0-9\\s]'\n",
    "    text=re.sub(pattern,'',text)\n",
    "    return text\n",
    "\n",
    "df2['Text'] = df2['Text'].apply(remove_special_characters)\n",
    "df_intensity['Text'] = df_intensity['Text'].apply(remove_special_characters)"
   ]
  },
  {
   "cell_type": "code",
   "execution_count": 132,
   "metadata": {},
   "outputs": [
    {
     "data": {
      "text/html": [
       "<div>\n",
       "<style scoped>\n",
       "    .dataframe tbody tr th:only-of-type {\n",
       "        vertical-align: middle;\n",
       "    }\n",
       "\n",
       "    .dataframe tbody tr th {\n",
       "        vertical-align: top;\n",
       "    }\n",
       "\n",
       "    .dataframe thead th {\n",
       "        text-align: right;\n",
       "    }\n",
       "</style>\n",
       "<table border=\"1\" class=\"dataframe\">\n",
       "  <thead>\n",
       "    <tr style=\"text-align: right;\">\n",
       "      <th></th>\n",
       "      <th>Text</th>\n",
       "      <th>Polarity</th>\n",
       "    </tr>\n",
       "  </thead>\n",
       "  <tbody>\n",
       "    <tr>\n",
       "      <th>0</th>\n",
       "      <td>Yes  it really was a great experience and we v...</td>\n",
       "      <td>Positive</td>\n",
       "    </tr>\n",
       "    <tr>\n",
       "      <th>1</th>\n",
       "      <td>I can t explain in words how grand this place ...</td>\n",
       "      <td>Positive</td>\n",
       "    </tr>\n",
       "    <tr>\n",
       "      <th>2</th>\n",
       "      <td>It is a unique blend of the old world royal ch...</td>\n",
       "      <td>Positive</td>\n",
       "    </tr>\n",
       "    <tr>\n",
       "      <th>3</th>\n",
       "      <td>I m definitely going there again whenever I ge...</td>\n",
       "      <td>Positive</td>\n",
       "    </tr>\n",
       "    <tr>\n",
       "      <th>4</th>\n",
       "      <td>Bit pricey and but away from center</td>\n",
       "      <td>Negative</td>\n",
       "    </tr>\n",
       "  </tbody>\n",
       "</table>\n",
       "</div>"
      ],
      "text/plain": [
       "                                                Text  Polarity\n",
       "0  Yes  it really was a great experience and we v...  Positive\n",
       "1  I can t explain in words how grand this place ...  Positive\n",
       "2  It is a unique blend of the old world royal ch...  Positive\n",
       "3  I m definitely going there again whenever I ge...  Positive\n",
       "4                Bit pricey and but away from center  Negative"
      ]
     },
     "execution_count": 132,
     "metadata": {},
     "output_type": "execute_result"
    }
   ],
   "source": [
    "df2.head()"
   ]
  },
  {
   "cell_type": "code",
   "execution_count": 133,
   "metadata": {},
   "outputs": [],
   "source": [
    "# Normalising the data"
   ]
  },
  {
   "cell_type": "code",
   "execution_count": 134,
   "metadata": {},
   "outputs": [],
   "source": [
    "def Capital_to_lower(text):\n",
    "    return text.lower()\n",
    "\n",
    "df2['Text'] = df2.Text.apply(Capital_to_lower)\n",
    "df_intensity['Text'] = df_intensity.Text.apply(Capital_to_lower)"
   ]
  },
  {
   "cell_type": "code",
   "execution_count": 135,
   "metadata": {},
   "outputs": [
    {
     "data": {
      "text/html": [
       "<div>\n",
       "<style scoped>\n",
       "    .dataframe tbody tr th:only-of-type {\n",
       "        vertical-align: middle;\n",
       "    }\n",
       "\n",
       "    .dataframe tbody tr th {\n",
       "        vertical-align: top;\n",
       "    }\n",
       "\n",
       "    .dataframe thead th {\n",
       "        text-align: right;\n",
       "    }\n",
       "</style>\n",
       "<table border=\"1\" class=\"dataframe\">\n",
       "  <thead>\n",
       "    <tr style=\"text-align: right;\">\n",
       "      <th></th>\n",
       "      <th>Text</th>\n",
       "      <th>Polarity</th>\n",
       "    </tr>\n",
       "  </thead>\n",
       "  <tbody>\n",
       "    <tr>\n",
       "      <th>0</th>\n",
       "      <td>yes  it really was a great experience and we v...</td>\n",
       "      <td>Positive</td>\n",
       "    </tr>\n",
       "    <tr>\n",
       "      <th>1</th>\n",
       "      <td>i can t explain in words how grand this place ...</td>\n",
       "      <td>Positive</td>\n",
       "    </tr>\n",
       "    <tr>\n",
       "      <th>2</th>\n",
       "      <td>it is a unique blend of the old world royal ch...</td>\n",
       "      <td>Positive</td>\n",
       "    </tr>\n",
       "    <tr>\n",
       "      <th>3</th>\n",
       "      <td>i m definitely going there again whenever i ge...</td>\n",
       "      <td>Positive</td>\n",
       "    </tr>\n",
       "    <tr>\n",
       "      <th>4</th>\n",
       "      <td>bit pricey and but away from center</td>\n",
       "      <td>Negative</td>\n",
       "    </tr>\n",
       "  </tbody>\n",
       "</table>\n",
       "</div>"
      ],
      "text/plain": [
       "                                                Text  Polarity\n",
       "0  yes  it really was a great experience and we v...  Positive\n",
       "1  i can t explain in words how grand this place ...  Positive\n",
       "2  it is a unique blend of the old world royal ch...  Positive\n",
       "3  i m definitely going there again whenever i ge...  Positive\n",
       "4                bit pricey and but away from center  Negative"
      ]
     },
     "execution_count": 135,
     "metadata": {},
     "output_type": "execute_result"
    }
   ],
   "source": [
    "df2.head()"
   ]
  },
  {
   "cell_type": "markdown",
   "metadata": {},
   "source": [
    "## Advanced Preprocessing"
   ]
  },
  {
   "cell_type": "code",
   "execution_count": 136,
   "metadata": {},
   "outputs": [
    {
     "name": "stdout",
     "output_type": "stream",
     "text": [
      "['i', 'me', 'my', 'myself', 'we', 'our', 'ours', 'ourselves', 'you', \"you're\", \"you've\", \"you'll\", \"you'd\", 'your', 'yours', 'yourself', 'yourselves', 'he', 'him', 'his', 'himself', 'she', \"she's\", 'her', 'hers', 'herself', 'it', \"it's\", 'its', 'itself', 'they', 'them', 'their', 'theirs', 'themselves', 'what', 'which', 'who', 'whom', 'this', 'that', \"that'll\", 'these', 'those', 'am', 'is', 'are', 'was', 'were', 'be', 'been', 'being', 'have', 'has', 'had', 'having', 'do', 'does', 'did', 'doing', 'a', 'an', 'the', 'and', 'but', 'if', 'or', 'because', 'as', 'until', 'while', 'of', 'at', 'by', 'for', 'with', 'about', 'against', 'between', 'into', 'through', 'during', 'before', 'after', 'above', 'below', 'to', 'from', 'up', 'down', 'in', 'out', 'on', 'off', 'over', 'under', 'again', 'further', 'then', 'once', 'here', 'there', 'when', 'where', 'why', 'how', 'all', 'any', 'both', 'each', 'few', 'more', 'most', 'other', 'some', 'such', 'no', 'nor', 'not', 'only', 'own', 'same', 'so', 'than', 'too', 'very', 's', 't', 'can', 'will', 'just', 'don', \"don't\", 'should', \"should've\", 'now', 'd', 'll', 'm', 'o', 're', 've', 'y', 'ain', 'aren', \"aren't\", 'couldn', \"couldn't\", 'didn', \"didn't\", 'doesn', \"doesn't\", 'hadn', \"hadn't\", 'hasn', \"hasn't\", 'haven', \"haven't\", 'isn', \"isn't\", 'ma', 'mightn', \"mightn't\", 'mustn', \"mustn't\", 'needn', \"needn't\", 'shan', \"shan't\", 'shouldn', \"shouldn't\", 'wasn', \"wasn't\", 'weren', \"weren't\", 'won', \"won't\", 'wouldn', \"wouldn't\"]\n"
     ]
    }
   ],
   "source": [
    "#stopword removal\n",
    "sw = stopwords.words(\"english\")\n",
    "print(sw)\n",
    "tokenizer=ToktokTokenizer()\n",
    "\n",
    "def removeStopwords(text):\n",
    "    tokens = tokenizer.tokenize(text)\n",
    "    tokens = [token.strip() for token in tokens]\n",
    "    filtered_tokens = [token for token in tokens if token not in sw]\n",
    "    \n",
    "    filtered_text = ' '.join(filtered_tokens)    \n",
    "    return filtered_text\n",
    "df3 = df2.copy()\n",
    "df2['Text'] = df2['Text'].apply(removeStopwords)\n",
    "df_intensity['Text'] = df_intensity['Text'].apply(removeStopwords)"
   ]
  },
  {
   "cell_type": "code",
   "execution_count": 137,
   "metadata": {},
   "outputs": [
    {
     "data": {
      "text/html": [
       "<div>\n",
       "<style scoped>\n",
       "    .dataframe tbody tr th:only-of-type {\n",
       "        vertical-align: middle;\n",
       "    }\n",
       "\n",
       "    .dataframe tbody tr th {\n",
       "        vertical-align: top;\n",
       "    }\n",
       "\n",
       "    .dataframe thead th {\n",
       "        text-align: right;\n",
       "    }\n",
       "</style>\n",
       "<table border=\"1\" class=\"dataframe\">\n",
       "  <thead>\n",
       "    <tr style=\"text-align: right;\">\n",
       "      <th></th>\n",
       "      <th>Text</th>\n",
       "      <th>Polarity</th>\n",
       "    </tr>\n",
       "  </thead>\n",
       "  <tbody>\n",
       "    <tr>\n",
       "      <th>0</th>\n",
       "      <td>yes  it really was a great experience and we v...</td>\n",
       "      <td>Positive</td>\n",
       "    </tr>\n",
       "    <tr>\n",
       "      <th>1</th>\n",
       "      <td>i can t explain in words how grand this place ...</td>\n",
       "      <td>Positive</td>\n",
       "    </tr>\n",
       "    <tr>\n",
       "      <th>2</th>\n",
       "      <td>it is a unique blend of the old world royal ch...</td>\n",
       "      <td>Positive</td>\n",
       "    </tr>\n",
       "    <tr>\n",
       "      <th>3</th>\n",
       "      <td>i m definitely going there again whenever i ge...</td>\n",
       "      <td>Positive</td>\n",
       "    </tr>\n",
       "    <tr>\n",
       "      <th>4</th>\n",
       "      <td>bit pricey and but away from center</td>\n",
       "      <td>Negative</td>\n",
       "    </tr>\n",
       "    <tr>\n",
       "      <th>...</th>\n",
       "      <td>...</td>\n",
       "      <td>...</td>\n",
       "    </tr>\n",
       "    <tr>\n",
       "      <th>1395</th>\n",
       "      <td>golf courses can be easily reached from the ho...</td>\n",
       "      <td>Positive</td>\n",
       "    </tr>\n",
       "    <tr>\n",
       "      <th>1396</th>\n",
       "      <td>hotel offers nice spa  large pool area and eno...</td>\n",
       "      <td>Positive</td>\n",
       "    </tr>\n",
       "    <tr>\n",
       "      <th>1397</th>\n",
       "      <td>hospitality and services at the highest level</td>\n",
       "      <td>Positive</td>\n",
       "    </tr>\n",
       "    <tr>\n",
       "      <th>1398</th>\n",
       "      <td>i will definitely come back</td>\n",
       "      <td>Positive</td>\n",
       "    </tr>\n",
       "    <tr>\n",
       "      <th>1399</th>\n",
       "      <td>best in class</td>\n",
       "      <td>Positive</td>\n",
       "    </tr>\n",
       "  </tbody>\n",
       "</table>\n",
       "<p>1400 rows × 2 columns</p>\n",
       "</div>"
      ],
      "text/plain": [
       "                                                   Text  Polarity\n",
       "0     yes  it really was a great experience and we v...  Positive\n",
       "1     i can t explain in words how grand this place ...  Positive\n",
       "2     it is a unique blend of the old world royal ch...  Positive\n",
       "3     i m definitely going there again whenever i ge...  Positive\n",
       "4                   bit pricey and but away from center  Negative\n",
       "...                                                 ...       ...\n",
       "1395  golf courses can be easily reached from the ho...  Positive\n",
       "1396  hotel offers nice spa  large pool area and eno...  Positive\n",
       "1397     hospitality and services at the highest level   Positive\n",
       "1398                       i will definitely come back   Positive\n",
       "1399                                      best in class  Positive\n",
       "\n",
       "[1400 rows x 2 columns]"
      ]
     },
     "execution_count": 137,
     "metadata": {},
     "output_type": "execute_result"
    }
   ],
   "source": [
    "df3"
   ]
  },
  {
   "cell_type": "code",
   "execution_count": 138,
   "metadata": {},
   "outputs": [],
   "source": [
    "#Stemming the text\n",
    "def simple_stemmer(text):\n",
    "    ps=nltk.porter.PorterStemmer()\n",
    "    text= ' '.join([ps.stem(word) for word in text.split()])\n",
    "    return text\n",
    "df_stemmer = df2.copy()\n",
    "df_stemmer['Text']=df_stemmer['Text'].apply(simple_stemmer)\n",
    "df_intensity['Text']=df_intensity['Text'].apply(simple_stemmer)"
   ]
  },
  {
   "cell_type": "code",
   "execution_count": 139,
   "metadata": {},
   "outputs": [],
   "source": [
    "#Lemmatization\n",
    "def simple_lemmatization(text):\n",
    "    lm=WordNetLemmatizer()\n",
    "    text= ' '.join([lm.lemmatize(word) for word in text.split()])\n",
    "    return text\n",
    "df_lemm = df2.copy()\n",
    "df_lemm['Text']=df_lemm['Text'].apply(simple_lemmatization)\n",
    "df_intensity['Text']=df_intensity['Text'].apply(simple_lemmatization)"
   ]
  },
  {
   "cell_type": "code",
   "execution_count": 140,
   "metadata": {},
   "outputs": [
    {
     "data": {
      "text/html": [
       "<div>\n",
       "<style scoped>\n",
       "    .dataframe tbody tr th:only-of-type {\n",
       "        vertical-align: middle;\n",
       "    }\n",
       "\n",
       "    .dataframe tbody tr th {\n",
       "        vertical-align: top;\n",
       "    }\n",
       "\n",
       "    .dataframe thead th {\n",
       "        text-align: right;\n",
       "    }\n",
       "</style>\n",
       "<table border=\"1\" class=\"dataframe\">\n",
       "  <thead>\n",
       "    <tr style=\"text-align: right;\">\n",
       "      <th></th>\n",
       "      <th>Text</th>\n",
       "      <th>Polarity</th>\n",
       "    </tr>\n",
       "  </thead>\n",
       "  <tbody>\n",
       "    <tr>\n",
       "      <th>0</th>\n",
       "      <td>yes really great experience visited various pl...</td>\n",
       "      <td>Positive</td>\n",
       "    </tr>\n",
       "    <tr>\n",
       "      <th>1</th>\n",
       "      <td>explain word grand place look</td>\n",
       "      <td>Positive</td>\n",
       "    </tr>\n",
       "    <tr>\n",
       "      <th>2</th>\n",
       "      <td>unique blend old world royal charm modern luxury</td>\n",
       "      <td>Positive</td>\n",
       "    </tr>\n",
       "    <tr>\n",
       "      <th>3</th>\n",
       "      <td>definitely going whenever get chance</td>\n",
       "      <td>Positive</td>\n",
       "    </tr>\n",
       "    <tr>\n",
       "      <th>4</th>\n",
       "      <td>bit pricey away center</td>\n",
       "      <td>Negative</td>\n",
       "    </tr>\n",
       "  </tbody>\n",
       "</table>\n",
       "</div>"
      ],
      "text/plain": [
       "                                                Text  Polarity\n",
       "0  yes really great experience visited various pl...  Positive\n",
       "1                      explain word grand place look  Positive\n",
       "2   unique blend old world royal charm modern luxury  Positive\n",
       "3               definitely going whenever get chance  Positive\n",
       "4                             bit pricey away center  Negative"
      ]
     },
     "execution_count": 140,
     "metadata": {},
     "output_type": "execute_result"
    }
   ],
   "source": [
    "df_lemm.head()"
   ]
  },
  {
   "cell_type": "markdown",
   "metadata": {},
   "source": [
    "# Polarity with intensity"
   ]
  },
  {
   "cell_type": "code",
   "execution_count": 141,
   "metadata": {},
   "outputs": [],
   "source": [
    "df_intensity[\"Polarity\"] = df_intensity[\"Polarity\"].apply(lambda x: 1 if x == 'Positive' else 0)"
   ]
  },
  {
   "cell_type": "code",
   "execution_count": 142,
   "metadata": {},
   "outputs": [],
   "source": [
    "df_intensity['Intensity'] = df_intensity['Intensity'].apply(lambda x: 1 if x=='Strong' else 0)\n",
    "#strong: 1, Standard: 0"
   ]
  },
  {
   "cell_type": "code",
   "execution_count": 143,
   "metadata": {},
   "outputs": [
    {
     "data": {
      "text/html": [
       "<div>\n",
       "<style scoped>\n",
       "    .dataframe tbody tr th:only-of-type {\n",
       "        vertical-align: middle;\n",
       "    }\n",
       "\n",
       "    .dataframe tbody tr th {\n",
       "        vertical-align: top;\n",
       "    }\n",
       "\n",
       "    .dataframe thead th {\n",
       "        text-align: right;\n",
       "    }\n",
       "</style>\n",
       "<table border=\"1\" class=\"dataframe\">\n",
       "  <thead>\n",
       "    <tr style=\"text-align: right;\">\n",
       "      <th></th>\n",
       "      <th>Text</th>\n",
       "      <th>Polarity</th>\n",
       "      <th>Intensity</th>\n",
       "    </tr>\n",
       "  </thead>\n",
       "  <tbody>\n",
       "    <tr>\n",
       "      <th>0</th>\n",
       "      <td>ye realli great experi visit variou place wond...</td>\n",
       "      <td>1</td>\n",
       "      <td>0</td>\n",
       "    </tr>\n",
       "    <tr>\n",
       "      <th>1</th>\n",
       "      <td>explain word grand place look</td>\n",
       "      <td>1</td>\n",
       "      <td>0</td>\n",
       "    </tr>\n",
       "    <tr>\n",
       "      <th>2</th>\n",
       "      <td>uniqu blend old world royal charm modern luxuri</td>\n",
       "      <td>1</td>\n",
       "      <td>1</td>\n",
       "    </tr>\n",
       "    <tr>\n",
       "      <th>3</th>\n",
       "      <td>definit go whenev get chanc</td>\n",
       "      <td>1</td>\n",
       "      <td>1</td>\n",
       "    </tr>\n",
       "    <tr>\n",
       "      <th>4</th>\n",
       "      <td>bit pricey away center</td>\n",
       "      <td>0</td>\n",
       "      <td>0</td>\n",
       "    </tr>\n",
       "  </tbody>\n",
       "</table>\n",
       "</div>"
      ],
      "text/plain": [
       "                                                Text  Polarity  Intensity\n",
       "0  ye realli great experi visit variou place wond...         1          0\n",
       "1                      explain word grand place look         1          0\n",
       "2    uniqu blend old world royal charm modern luxuri         1          1\n",
       "3                        definit go whenev get chanc         1          1\n",
       "4                             bit pricey away center         0          0"
      ]
     },
     "execution_count": 143,
     "metadata": {},
     "output_type": "execute_result"
    }
   ],
   "source": [
    "df_intensity.head()"
   ]
  },
  {
   "cell_type": "markdown",
   "metadata": {},
   "source": [
    "## Visualisation "
   ]
  },
  {
   "cell_type": "code",
   "execution_count": 144,
   "metadata": {},
   "outputs": [],
   "source": [
    "import seaborn as sns\n",
    "import matplotlib.pyplot as plt"
   ]
  },
  {
   "cell_type": "code",
   "execution_count": 145,
   "metadata": {},
   "outputs": [
    {
     "data": {
      "text/plain": [
       "Positive    1012\n",
       "Negative     388\n",
       "Name: Polarity, dtype: int64"
      ]
     },
     "execution_count": 145,
     "metadata": {},
     "output_type": "execute_result"
    }
   ],
   "source": [
    "df_lemm['Polarity'].value_counts()"
   ]
  },
  {
   "cell_type": "markdown",
   "metadata": {},
   "source": [
    "# Modeling"
   ]
  },
  {
   "cell_type": "code",
   "execution_count": 146,
   "metadata": {},
   "outputs": [
    {
     "data": {
      "text/plain": [
       "(1400, 2)"
      ]
     },
     "execution_count": 146,
     "metadata": {},
     "output_type": "execute_result"
    }
   ],
   "source": [
    "df_lemm.shape"
   ]
  },
  {
   "cell_type": "code",
   "execution_count": 147,
   "metadata": {},
   "outputs": [],
   "source": [
    "train_reviews = df_lemm.Text[:1350]\n",
    "test_reviews = df_lemm.Text[1350:]"
   ]
  },
  {
   "cell_type": "code",
   "execution_count": 148,
   "metadata": {},
   "outputs": [
    {
     "name": "stdout",
     "output_type": "stream",
     "text": [
      "(1350,)\n",
      "(50,)\n"
     ]
    }
   ],
   "source": [
    "print(train_reviews.shape)\n",
    "print(test_reviews.shape)"
   ]
  },
  {
   "cell_type": "markdown",
   "metadata": {},
   "source": [
    "### Bag of word (BOW) and TF-IDF"
   ]
  },
  {
   "cell_type": "code",
   "execution_count": 149,
   "metadata": {},
   "outputs": [],
   "source": [
    "#Count Vectorizer\n",
    "cv = CountVectorizer(min_df=0,max_df=1,binary=False,ngram_range=(1,3))\n",
    "cv_train_reviews=cv.fit_transform(train_reviews)\n",
    "cv_test_reviews=cv.transform(test_reviews)\n",
    "\n",
    "#TF-IDF vectorizer\n",
    "#It is used to convert text documents to matrix of tfidf features\n",
    "tv = TfidfVectorizer(min_df=0,max_df=1,use_idf=True,ngram_range=(1,3))\n",
    "tv_train_reviews = tv.fit_transform(train_reviews)\n",
    "tv_test_reviews = tv.transform(test_reviews)"
   ]
  },
  {
   "cell_type": "code",
   "execution_count": 150,
   "metadata": {},
   "outputs": [
    {
     "name": "stdout",
     "output_type": "stream",
     "text": [
      "Count Vectorizer:\n",
      "(1350, 13611)\n",
      "(50, 13611)\n",
      "Tf-Idf Vectorizer\n",
      "(1350, 13611)\n",
      "(50, 13611)\n"
     ]
    }
   ],
   "source": [
    "print('Count Vectorizer:')\n",
    "print(cv_train_reviews.shape)\n",
    "print(cv_test_reviews.shape)\n",
    "\n",
    "print(\"Tf-Idf Vectorizer\")\n",
    "print(tv_train_reviews.shape)\n",
    "print(tv_test_reviews.shape)"
   ]
  },
  {
   "cell_type": "code",
   "execution_count": 151,
   "metadata": {},
   "outputs": [
    {
     "name": "stdout",
     "output_type": "stream",
     "text": [
      "{'yes': 13585, 'oberoi': 8505, 'udaivilas': 12756, 'yes really': 13586, 'experience visited': 4192, 'visited various': 13020, 'various place': 12908, 'place wonderful': 9169, 'wonderful part': 13420, 'part trip': 8918, 'trip stay': 12660, 'stay oberoi': 11696, 'oberoi udaivilas': 8506, 'udaivilas luxury': 12757, 'luxury hotel': 7424, 'yes really great': 13587, 'really great experience': 9743, 'great experience visited': 5386, 'experience visited various': 4193, 'visited various place': 13021, 'various place wonderful': 12909, 'place wonderful part': 9170, 'wonderful part trip': 13421, 'part trip stay': 8919, 'trip stay oberoi': 12661, 'stay oberoi udaivilas': 11697, 'oberoi udaivilas luxury': 8507, 'udaivilas luxury hotel': 12758, 'explain': 4204, 'explain word': 4205, 'word grand': 13428, 'grand place': 5360, 'place look': 9144, 'explain word grand': 4206, 'word grand place': 13429, 'grand place look': 5361, 'blend': 1487, 'royal': 10521, 'charm': 2082, 'unique blend': 12799, 'blend old': 1488, 'old world': 8614, 'world royal': 13477, 'royal charm': 10522, 'charm modern': 2083, 'modern luxury': 7895, 'unique blend old': 12800, 'blend old world': 1489, 'old world royal': 8615, 'world royal charm': 13478, 'royal charm modern': 10523, 'charm modern luxury': 2084, 'whenever': 13326, 'definitely going': 3106, 'going whenever': 5151, 'whenever get': 13327, 'get chance': 5030, 'definitely going whenever': 3107, 'going whenever get': 5152, 'whenever get chance': 13328, 'pricey': 9441, 'bit pricey': 1468, 'pricey away': 9442, 'away center': 917, 'bit pricey away': 1469, 'pricey away center': 9443, 'count': 2827, 'dubling': 3471, 'need count': 8106, 'count 20': 2828, '20 30': 48, 'walking time': 13099, 'time get': 12377, 'get dubling': 5035, 'dubling city': 3472, 'center hotel': 1963, 'need count 20': 8107, 'count 20 30': 2829, '20 30 minute': 49, '30 minute walking': 84, 'minute walking time': 7843, 'walking time get': 13100, 'time get dubling': 12378, 'get dubling city': 5036, 'dubling city center': 3473, 'city center hotel': 2218, 'sauna swimming': 10621, 'sauna swimming pool': 10622, 'hbo': 5637, 'flat tv': 4544, 'tv discovery': 12700, 'discovery hbo': 3316, 'flat tv discovery': 4545, 'tv discovery hbo': 12701, 'complaining': 2613, 'particular': 8922, 'room mattress': 10406, 'mattress ok': 7661, 'ok quiet': 8560, 'quiet room': 9594, 'view wall': 12971, 'wall colleague': 13101, 'colleague complaining': 2483, 'complaining mattress': 2614, 'mattress old': 7663, 'old noise': 8601, 'outside train': 8769, 'train particular': 12563, 'room mattress ok': 10407, 'mattress ok quiet': 7662, 'ok quiet room': 8561, 'quiet room view': 9595, 'room view wall': 10511, 'view wall colleague': 12972, 'wall colleague complaining': 13102, 'colleague complaining mattress': 2484, 'complaining mattress old': 2615, 'mattress old noise': 7664, 'old noise outside': 8602, 'noise outside train': 8418, 'outside train particular': 8770, 'service hand': 10819, 'hand good': 5587, 'good stuff': 5320, 'stuff quite': 11891, 'quite international': 9617, 'service hand good': 10820, 'hand good stuff': 5588, 'good stuff quite': 5321, 'stuff quite international': 11892, 'think much': 12282, 'much offer': 8016, 'think much offer': 12283, 'relax city': 9950, 'discover': 3310, 'bahn': 995, 'hotel discover': 5978, 'discover kln': 3311, 'kln real': 6715, 'center stop': 1984, 'stop bahn': 11824, 'perfect hotel discover': 9015, 'hotel discover kln': 5979, 'discover kln real': 3312, 'kln real center': 6716, 'real center stop': 9708, 'center stop bahn': 1985, 'reach car': 9694, 'car enough': 1893, 'enough parking': 3720, 'parking place': 8896, 'easy reach car': 3531, 'reach car enough': 9695, 'car enough parking': 1894, 'enough parking place': 3721, 'saturday': 10612, 'facility perfect': 4283, 'perfect crowded': 9008, 'crowded saturday': 2914, 'wellness facility perfect': 13307, 'facility perfect crowded': 4284, 'perfect crowded saturday': 9009, 'quite comfortable': 9609, 'quite comfortable hotel': 9610, 'comfortable hotel excellent': 2543, 'also stayed': 438, 'hotel nh': 6155, 'carlton definitely': 1923, 'definitely best': 3101, 'also stayed hotel': 439, 'stayed hotel nh': 11745, 'hotel nh carlton': 6156, 'nh carlton definitely': 8233, 'carlton definitely best': 1924, 'flower': 4574, 'path': 8945, 'close flower': 2399, 'flower market': 4575, 'market path': 7632, 'path cinema': 8946, 'cinema bar': 2213, 'bar every': 1033, 'every kind': 3939, 'kind convenient': 6687, 'convenient nearby': 2733, 'nearby tram': 8089, 'close flower market': 2400, 'flower market path': 4576, 'market path cinema': 7633, 'path cinema bar': 8947, 'cinema bar every': 2214, 'bar every kind': 1034, 'every kind convenient': 3940, 'kind convenient nearby': 6688, 'convenient nearby tram': 2734, 'nearby tram stop': 8090, 'superbly': 11969, 'overcharged': 8800, 'breakfast superbly': 1681, 'superbly decorated': 11970, 'decorated furnished': 3081, 'furnished lounge': 4934, 'lounge delicious': 7330, 'delicious though': 3129, 'though somewhat': 12307, 'somewhat overcharged': 11281, 'overcharged try': 8801, 'try book': 12673, 'room nh': 10412, 'carlton breakfast': 1921, 'included view': 6445, 'city great': 2239, 'breakfast superbly decorated': 1682, 'superbly decorated furnished': 11971, 'decorated furnished lounge': 3082, 'furnished lounge delicious': 4935, 'lounge delicious though': 7331, 'delicious though somewhat': 3130, 'though somewhat overcharged': 12308, 'somewhat overcharged try': 11282, 'overcharged try book': 8802, 'try book room': 12674, 'book room nh': 1529, 'room nh carlton': 10413, 'nh carlton breakfast': 8232, 'carlton breakfast included': 1922, 'breakfast included view': 1642, 'included view city': 6446, 'view city great': 12944, 'neatly': 8094, 'spacious neatly': 11344, 'neatly decorated': 8095, 'room spacious neatly': 10484, 'spacious neatly decorated': 11345, 'dam': 2945, 'dam square': 2946, 'square minute': 11421, 'walk tram': 13081, 'stop away': 11823, 'dam square minute': 2947, 'square minute walk': 11422, 'minute walk tram': 7841, 'walk tram stop': 13082, 'tram stop away': 12571, 'recommended hotel': 9902, 'highly recommended hotel': 5748, 'sizeable': 11100, 'clean sizeable': 2323, 'sizeable room': 11101, 'facility part': 4281, 'clean sizeable room': 2324, 'sizeable room good': 11102, 'room good facility': 10363, 'good facility part': 5218, 'facility part hotel': 4282, 'larger': 6798, 'larger smaller': 6799, 'smaller room': 11198, 'larger smaller room': 6800, 'although edible': 463, 'edible borring': 3557, 'although edible borring': 464, 'spirit': 11393, 'inclusive spirit': 6463, 'spirit perfume': 11394, 'perfume taste': 9034, 'inclusive spirit perfume': 6464, 'spirit perfume taste': 11395, 'vodka': 13028, 'rum': 10544, 'brandy': 1578, 'whisky': 13332, 'similar': 11035, 'flavouring': 4546, 'vodka rum': 13029, 'rum brandy': 10545, 'brandy whisky': 1579, 'whisky although': 13333, 'although diffrent': 459, 'diffrent similar': 3230, 'similar perfume': 11036, 'perfume flavouring': 9033, 'vodka rum brandy': 13030, 'rum brandy whisky': 10546, 'brandy whisky although': 1580, 'whisky although diffrent': 13334, 'although diffrent similar': 460, 'diffrent similar perfume': 3231, 'similar perfume flavouring': 11037, 'know people': 6726, 'people complained': 8975, 'know people complained': 6727, 'service staff wonderful': 10846, 'beautiful honeymoon': 1234, 'classiest': 2259, 'establishment': 3820, 'hotel easily': 5986, 'easily one': 3517, 'one classiest': 8638, 'classiest establishment': 2260, 'establishment ever': 3821, 'ever honor': 3910, 'honor staying': 5818, 'hotel easily one': 5987, 'easily one classiest': 3518, 'one classiest establishment': 8639, 'classiest establishment ever': 2261, 'establishment ever honor': 3822, 'ever honor staying': 3911, 'layout': 6842, 'staff extremely': 11472, 'extremely friendly': 4238, 'friendly layout': 4830, 'layout superb': 6843, 'superb architecture': 11963, 'architecture elegant': 701, 'elegant sea': 3598, 'sea literally': 10685, 'literally step': 6998, 'step hotel': 11797, 'staff extremely friendly': 11473, 'extremely friendly layout': 4239, 'friendly layout superb': 4831, 'layout superb architecture': 6844, 'superb architecture elegant': 11964, 'architecture elegant sea': 702, 'elegant sea literally': 3599, 'sea literally step': 10686, 'literally step hotel': 6999, 'step hotel room': 11798, 'landscape': 6761, 'view made': 12952, 'made beautiful': 7440, 'hotel landscape': 6086, 'landscape architecture': 6762, 'architecture friendly': 703, 'beautiful view made': 1249, 'view made beautiful': 12953, 'made beautiful hotel': 7441, 'beautiful hotel landscape': 1236, 'hotel landscape architecture': 6087, 'landscape architecture friendly': 6763, 'architecture friendly staff': 704, 'cheap noisy': 2099, 'noisy hotel': 8428, 'cheap noisy hotel': 2100, 'noisy hotel good': 8429, 'opera': 8701, 'near place': 8079, 'place de': 9122, 'de opera': 3048, 'opera side': 8702, 'hotel located near': 6101, 'located near place': 7100, 'near place de': 8080, 'place de opera': 9123, 'de opera side': 3049, 'opera side street': 8703, 'location probably': 7180, 'probably good': 9461, 'good thing': 5324, 'location probably good': 7181, 'probably good thing': 9462, 'good thing hotel': 5325, 'thin': 12239, 'woke': 13414, 'entering': 3737, 'noisy thin': 8432, 'thin wall': 12240, 'wall door': 13103, 'door woke': 3400, 'woke several': 13415, 'time thought': 12395, 'thought someone': 12317, 'someone entering': 11271, 'entering room': 3738, 'room smelly': 10478, 'smelly small': 11216, 'small dirty': 11137, 'noisy thin wall': 8433, 'thin wall door': 12241, 'wall door woke': 13104, 'door woke several': 3401, 'woke several time': 13416, 'several time thought': 10873, 'time thought someone': 12396, 'thought someone entering': 12318, 'someone entering room': 11272, 'entering room smelly': 3739, 'room smelly small': 10479, 'smelly small dirty': 11217, 'tub': 12685, 'glad take': 5083, 'take shower': 12096, 'shower bath': 10967, 'bath tub': 1111, 'tub dirty': 12686, 'dirty used': 3271, 'glad take shower': 5084, 'take shower bath': 12097, 'shower bath tub': 10968, 'bath tub dirty': 1112, 'tub dirty used': 12687, 'though price': 12305, 'price decent': 9414, 'decent paris': 3065, 'paris would': 8868, 'even though price': 3887, 'though price decent': 12306, 'price decent paris': 9415, 'decent paris would': 3066, 'paris would recommend': 8869, 'hotel outside': 6174, 'outside amsterdam': 8757, 'basic hotel outside': 1088, 'hotel outside amsterdam': 6175, 'amsterdammajor': 593, 'quite ok': 9623, 'ok hotel': 8556, 'next amsterdammajor': 8200, 'amsterdammajor advantage': 594, 'advantage free': 253, 'parking subway': 8904, 'station within': 11656, 'within min': 13398, 'quite ok hotel': 9624, 'ok hotel next': 8557, 'hotel next amsterdammajor': 6151, 'next amsterdammajor advantage': 8201, 'amsterdammajor advantage free': 595, 'advantage free parking': 254, 'free parking subway': 4760, 'parking subway station': 8905, 'subway station within': 11911, 'station within min': 11657, 'within min walk': 13399, 'nothing highway': 8463, 'highway close': 5749, 'close hotel': 2401, 'nothing highway close': 8464, 'highway close hotel': 5750, 'conected': 2663, '25': 75, 'well conected': 13246, 'conected amsterdam': 2664, 'amsterdam city': 585, 'center min': 1966, 'walk 25': 13056, '25 min': 76, 'min subway': 7793, 'well conected amsterdam': 13247, 'conected amsterdam city': 2665, 'amsterdam city center': 586, 'city center min': 2219, 'center min walk': 1967, 'min walk 25': 7794, 'walk 25 min': 13057, '25 min subway': 77, 'marvelous': 7644, 'arrived marvelous': 792, 'marvelous place': 7645, 'arrived marvelous place': 793, 'experienced best': 4194, 'experienced best holiday': 4195, 'plaesantly': 9177, 'based': 1073, 'photo': 9081, 'online': 8696, 'plaesantly surprised': 9178, 'surprised liked': 12014, 'liked overall': 6970, 'overall location': 8792, 'even expected': 3870, 'expected based': 4168, 'based review': 1074, 'review photo': 10200, 'photo available': 9082, 'available online': 897, 'plaesantly surprised liked': 9179, 'surprised liked overall': 12015, 'liked overall location': 6971, 'overall location hotel': 8793, 'location hotel even': 7161, 'hotel even expected': 5993, 'even expected based': 3871, 'expected based review': 4169, 'based review photo': 1075, 'review photo available': 10201, 'photo available online': 9083, 'preciseness': 9380, 'tha': 12204, 'like stress': 6954, 'stress preciseness': 11862, 'preciseness quality': 9381, 'quality tha': 9557, 'tha staff': 12205, 'service especially': 10798, 'especially restaurant': 3808, 'would like stress': 13535, 'like stress preciseness': 6955, 'stress preciseness quality': 11863, 'preciseness quality tha': 9382, 'quality tha staff': 9558, 'tha staff service': 12206, 'staff service especially': 11546, 'service especially restaurant': 10799, 'thank guy': 12209, 'guy great': 5542, 'great fun': 5397, 'thank guy great': 12210, 'guy great fun': 5543, 'good hotel business': 5227, 'hotel business trip': 5938, 'overall good hotel': 8783, 'nice lounge': 8298, 'lounge top': 7336, 'nice lounge top': 8299, 'lounge top floor': 7337, 'big air': 1400, 'clean big air': 2273, 'big air conditioning': 1401, 'little gym': 7026, 'gym first': 5551, 'little gym first': 7027, 'gym first floor': 5552, 'correct': 2765, 'breakfast correct': 1618, 'wifi internet': 13369, 'connection good': 2696, 'wifi internet connection': 13370, 'internet connection good': 6564, 'spectacular': 11377, 'look spectacular': 7231, 'hotel look spectacular': 6107, 'colorful': 2500, 'getaway': 5056, 'colorful perfect': 2501, 'perfect romantic': 9022, 'romantic getaway': 10253, 'colorful perfect romantic': 2502, 'perfect romantic getaway': 9023, 'dusting': 3492, 'lamp': 6757, 'decorative': 3084, 'could work': 2825, 'work little': 13441, 'little dusting': 7024, 'dusting place': 3493, 'place better': 9116, 'better lamp': 1369, 'lamp decorative': 6758, 'decorative item': 3085, 'item full': 6618, 'full dust': 4902, 'could work little': 2826, 'work little dusting': 13442, 'little dusting place': 7025, 'dusting place better': 3494, 'place better lamp': 9117, 'better lamp decorative': 1370, 'lamp decorative item': 6759, 'decorative item full': 3086, 'item full dust': 6619, 'cracked': 2879, 'damaged': 2951, 'purposed': 9536, 'item room': 6624, 'room looked': 10395, 'looked old': 7236, 'old cracked': 8587, 'cracked chair': 2880, 'chair damaged': 2048, 'damaged cabinet': 2952, 'cabinet looked': 1842, 'looked purposed': 7240, 'item room looked': 6625, 'room looked old': 10396, 'looked old cracked': 7237, 'old cracked chair': 8588, 'cracked chair damaged': 2881, 'chair damaged cabinet': 2049, 'damaged cabinet looked': 2953, 'cabinet looked purposed': 1843, 'deter': 3196, 'mean deter': 7701, 'deter staying': 3197, 'mean deter staying': 7702, 'cuddle': 2921, 'darling': 2976, 'dreamy': 3427, 'wonderful romantic': 13422, 'romantic cozy': 10251, 'cozy spot': 2877, 'spot could': 11409, 'could cuddle': 2789, 'cuddle darling': 2922, 'darling dreamy': 2977, 'dreamy way': 3428, 'wonderful romantic cozy': 13423, 'romantic cozy spot': 10252, 'cozy spot could': 2878, 'spot could cuddle': 11410, 'could cuddle darling': 2790, 'cuddle darling dreamy': 2923, 'darling dreamy way': 2978, 'exceptionally': 4120, 'bed exceptionally': 1277, 'exceptionally comfy': 4121, 'bed exceptionally comfy': 1278, 'location expect': 7145, 'expect better': 4148, 'better chain': 1359, 'good location expect': 5247, 'location expect better': 7146, 'expect better chain': 4149, 'flamingo': 4541, 'location step': 7186, 'step strip': 11803, 'strip right': 11877, 'right behind': 10215, 'behind flamingo': 1313, 'pretty good location': 9401, 'good location step': 5254, 'location step strip': 7187, 'step strip right': 11804, 'strip right behind': 11878, 'right behind flamingo': 10216, 'interest': 6536, 'huge plus': 6355, 'plus really': 9230, 'really easily': 9733, 'easily walk': 3521, 'walk place': 13076, 'place interest': 9143, 'huge plus really': 6356, 'plus really easily': 9231, 'really easily walk': 9734, 'easily walk place': 3522, 'walk place interest': 13077, 'broken': 1709, 'messed': 7745, '11pm': 18, 'spend': 11382, 'vega': 12914, 'compensated': 2596, 'voucher': 13034, 'however bathroom': 6322, 'bathroom door': 1127, 'door broken': 3388, 'broken messed': 1710, 'messed reservation': 7746, 'reservation good': 10041, 'good 11pm': 5163, '11pm already': 19, 'already tired': 379, 'tired whole': 12421, 'whole day': 13338, 'day spend': 3030, 'spend vega': 11385, 'vega compensated': 12915, 'compensated voucher': 2597, 'voucher spend': 13035, 'spend food': 11383, 'food shopping': 4656, 'shopping hotel': 10930, 'however bathroom door': 6323, 'bathroom door broken': 1128, 'door broken messed': 3389, 'broken messed reservation': 1711, 'messed reservation good': 7747, 'reservation good 11pm': 10042, 'good 11pm already': 5164, '11pm already tired': 20, 'already tired whole': 380, 'tired whole day': 12422, 'whole day spend': 13339, 'day spend vega': 3031, 'spend vega compensated': 11386, 'vega compensated voucher': 12916, 'compensated voucher spend': 2598, 'voucher spend food': 13036, 'spend food shopping': 11384, 'food shopping hotel': 4657, 'balcony cannot': 1000, 'cannot open': 1880, 'balcony cannot open': 1001, 'cannot open window': 1881, 'happen': 5604, 'problem happen': 9468, 'happen place': 5605, 'place course': 9120, 'course say': 2864, 'say stay': 10647, 'stay location': 11684, 'location pretty': 7176, 'good maybe': 5262, 'maybe someone': 7681, 'someone else': 11269, 'else experience': 3613, 'experience better': 4181, 'better stayed': 1383, 'stayed better': 11733, 'problem happen place': 9469, 'happen place course': 5606, 'place course say': 9121, 'course say stay': 2865, 'say stay location': 10648, 'stay location pretty': 11685, 'location pretty good': 7177, 'pretty good maybe': 9402, 'good maybe someone': 5263, 'maybe someone else': 7682, 'someone else experience': 11270, 'else experience better': 3614, 'experience better stayed': 4182, 'better stayed better': 1384, 'stayed better hotel': 11734, 'seven star': 10863, 'seven star hotel': 10864, 'suprise': 11990, 'suprise honeymooner': 11991, 'honeymooner special': 5815, 'suprise honeymooner special': 11992, 'tournament': 12524, 'video': 12935, 'game': 4951, 'entertainment tourist': 3747, 'tourist would': 12516, 'like music': 6940, 'music tournament': 8038, 'tournament swimming': 12525, 'beach video': 1218, 'video game': 12936, 'game cinema': 4952, 'cinema etc': 2215, 'etc available': 3825, 'entertainment tourist would': 3748, 'tourist would like': 12517, 'would like music': 13533, 'like music tournament': 6941, 'music tournament swimming': 8039, 'tournament swimming pool': 12526, 'swimming pool beach': 12049, 'pool beach video': 9275, 'beach video game': 1219, 'video game cinema': 12937, 'game cinema etc': 4953, 'cinema etc available': 2216, 'mr': 7996, 'ihsan': 6404, 'employee helpful': 3628, 'helpful kind': 5702, 'kind best': 6685, 'best keep': 1340, 'keep customer': 6651, 'customer comfortable': 2928, 'comfortable especially': 2538, 'especially mr': 3806, 'mr ihsan': 7997, 'employee helpful kind': 3629, 'helpful kind best': 5703, 'kind best keep': 6686, 'best keep customer': 1341, 'keep customer comfortable': 6652, 'customer comfortable especially': 2929, 'comfortable especially mr': 2539, 'especially mr ihsan': 3807, 'arabic': 693, 'region': 9943, 'employee know': 3630, 'know world': 6728, 'world main': 13471, 'main language': 7489, 'language english': 6767, 'english german': 3653, 'german russian': 5020, 'russian arabic': 10558, 'arabic etc': 694, 'etc last': 3830, 'last thing': 6810, 'thing would': 12270, 'like say': 6950, 'say find': 10639, 'find kind': 4455, 'kind food': 6690, 'different region': 3218, 'region world': 9944, 'employee know world': 3631, 'know world main': 6729, 'world main language': 13472, 'main language english': 7490, 'language english german': 6768, 'english german russian': 3654, 'german russian arabic': 5021, 'russian arabic etc': 10559, 'arabic etc last': 695, 'etc last thing': 3831, 'last thing would': 6811, 'thing would like': 12271, 'would like say': 13534, 'like say find': 6951, 'say find kind': 10640, 'find kind food': 4456, 'kind food different': 6691, 'food different region': 4603, 'different region world': 3219, 'recommendable': 9891, 'recommendable extremely': 9892, 'extremely kind': 4240, 'kind staff': 6698, 'recommendable extremely kind': 9893, 'extremely kind staff': 4241, 'palazzo': 8844, 'part old': 8914, 'old palazzo': 8603, 'palazzo recently': 8845, 'renovated adjusted': 9998, 'adjusted modern': 236, 'modern standard': 7901, 'standard including': 11589, 'including free': 6451, 'part old palazzo': 8915, 'old palazzo recently': 8604, 'palazzo recently renovated': 8846, 'recently renovated adjusted': 9817, 'renovated adjusted modern': 9999, 'adjusted modern standard': 237, 'modern standard including': 7902, 'standard including free': 11590, 'including free wifi': 6452, 'di': 3204, 'pantaneto': 8853, 'traffic': 12552, 'nearly': 8091, 'rear': 9793, 'countryside': 2833, 'although entrance': 465, 'entrance building': 3759, 'building front': 1757, 'front via': 4888, 'via di': 12924, 'di pantaneto': 3205, 'pantaneto road': 8854, 'road le': 10235, 'le traffic': 6859, 'traffic nearly': 12553, 'nearly room': 8092, 'room rear': 10443, 'rear splendid': 9794, 'splendid view': 11398, 'view siena': 12962, 'siena countryside': 11013, 'although entrance building': 466, 'entrance building front': 3760, 'building front via': 1758, 'front via di': 4889, 'via di pantaneto': 12925, 'di pantaneto road': 3206, 'pantaneto road le': 8855, 'road le traffic': 10236, 'le traffic nearly': 6860, 'traffic nearly room': 12554, 'nearly room rear': 8093, 'room rear splendid': 10444, 'rear splendid view': 9795, 'splendid view siena': 11399, 'view siena countryside': 12963, 'accustomed': 190, 'handicapped': 5591, 'enter climb': 3732, 'climb 20': 2374, '20 step': 53, 'step reach': 11801, 'reach first': 9696, 'floor le': 4561, 'le accustomed': 6845, 'accustomed handicapped': 191, 'handicapped people': 5592, 'enter climb 20': 3733, 'climb 20 step': 2375, '20 step reach': 54, 'step reach first': 11802, 'reach first floor': 9697, 'first floor le': 4498, 'floor le accustomed': 4562, 'le accustomed handicapped': 6846, 'accustomed handicapped people': 192, 'elevator owner': 3606, 'owner young': 8818, 'couple willing': 2852, 'help luggage': 5677, 'elevator owner young': 3607, 'owner young couple': 8819, 'young couple willing': 13603, 'couple willing help': 2853, 'willing help luggage': 13375, 'felt holiday': 4423, 'holiday like': 5786, 'like paradise': 6942, 'felt holiday like': 4424, 'holiday like paradise': 5787, 'friendly welcome': 4865, 'welcome hotel': 13225, 'hotel generous': 6039, 'generous size': 5008, 'room cleanliness': 10314, 'cleanliness overal': 2368, 'overal big': 8776, 'big size': 1426, 'bathroom great': 1137, 'friendly welcome hotel': 4866, 'welcome hotel generous': 13226, 'hotel generous size': 6040, 'generous size room': 5009, 'size room cleanliness': 11094, 'room cleanliness overal': 10315, 'cleanliness overal big': 2369, 'overal big size': 8777, 'big size room': 1427, 'size room bathroom': 11092, 'room bathroom great': 10288, 'arranged': 786, 'location surrounding': 7190, 'surrounding lovely': 12024, 'lovely arranged': 7356, 'location surrounding lovely': 7191, 'surrounding lovely arranged': 12025, 'suprised': 11993, 'knowledge': 6730, 'suprised staff': 11994, 'staff knowledge': 11507, 'knowledge foreign': 6731, 'suprised staff knowledge': 11995, 'staff knowledge foreign': 11508, 'knowledge foreign language': 6732, 'weather every': 13172, 'day fine': 3005, 'fine beach': 4465, 'beach great': 1189, 'weather every day': 13173, 'every day fine': 3932, 'day fine beach': 3006, 'fine beach great': 4466, 'liked generous': 6966, 'generous variety': 5010, 'variety food': 12900, 'liked generous variety': 6967, 'generous variety food': 5011, 'variety food different': 12901, 'food different restaurant': 4604, 'would like visit': 13537, 'like visit dana': 6960, 'great pleasure': 5426, 'holiday year': 5800, 'best holiday year': 1333, 'setting': 10857, 'tidy beautiful': 12351, 'beautiful setting': 1244, 'setting spacious': 10858, 'hotel clean tidy': 5945, 'clean tidy beautiful': 2328, 'tidy beautiful setting': 12352, 'beautiful setting spacious': 1245, 'apposed': 684, 'sentido': 10751, 'aimed': 299, 'preferred use': 9388, 'use sunrise': 12846, 'sunrise restaurant': 11947, 'restaurant apposed': 10094, 'apposed sentido': 685, 'sentido found': 10752, 'found service': 4718, 'service much': 10832, 'better air': 1355, 'conditioning worked': 2661, 'worked better': 13446, 'better although': 1357, 'although food': 467, 'food think': 4666, 'think could': 12276, 'better meal': 1374, 'meal aimed': 7689, 'aimed russian': 300, 'russian egyptian': 10565, 'preferred use sunrise': 9389, 'use sunrise restaurant': 12847, 'sunrise restaurant apposed': 11948, 'restaurant apposed sentido': 10095, 'apposed sentido found': 686, 'sentido found service': 10753, 'found service much': 4719, 'service much better': 10833, 'much better air': 7998, 'better air conditioning': 1356, 'air conditioning worked': 312, 'conditioning worked better': 2662, 'worked better although': 13447, 'better although food': 1358, 'although food think': 468, 'food think could': 4667, 'think could better': 12277, 'could better meal': 2787, 'better meal aimed': 1375, 'meal aimed russian': 7690, 'aimed russian egyptian': 301, 'competent': 2601, 'money competent': 7914, 'competent friendly': 2602, 'friendly personnel': 4839, 'personnel willing': 9068, 'help offer': 5678, 'value money competent': 12883, 'money competent friendly': 7915, 'competent friendly personnel': 2603, 'friendly personnel willing': 4840, 'personnel willing help': 9069, 'willing help offer': 13376, 'help offer good': 5679, 'offer good service': 8524, 'excellent room': 4082, 'room space': 10480, 'space cleanliness': 11325, 'excellent room space': 4083, 'room space cleanliness': 10481, 'good restaurant bar': 5296, 'excellent close': 4045, 'central square': 1998, 'square make': 11419, 'make easy': 7520, 'easy walk': 3535, 'location excellent close': 7141, 'excellent close central': 4046, 'close central square': 2390, 'central square make': 1999, 'square make easy': 11420, 'make easy walk': 7521, 'easy walk around': 3536, 'bad good': 984, 'food restaurant': 4650, 'however coffee': 6326, 'coffee good': 2465, 'breakfast bad good': 1604, 'bad good food': 985, 'good food restaurant': 5222, 'food restaurant however': 4651, 'restaurant however coffee': 10133, 'however coffee good': 6327, 'stable': 11434, 'lose': 7256, 'login': 7200, 'free stable': 4767, 'stable making': 11435, 'making annoying': 7540, 'annoying lose': 622, 'lose connection': 7257, 'connection login': 2697, 'wifi free stable': 13367, 'free stable making': 4768, 'stable making annoying': 11436, 'making annoying lose': 7541, 'annoying lose connection': 623, 'lose connection login': 7258, 'centrally': 2001, 'centrally located': 2002, 'located low': 7094, 'low value': 7394, 'value hotel': 12882, 'centrally located low': 2003, 'located low value': 7095, 'low value hotel': 7395, '160': 37, 'believe': 1316, 'case': 1946, '160 without': 38, 'without breakfast': 13404, 'breakfast believe': 1608, 'believe get': 1317, 'get decent': 5033, 'decent room': 3067, 'also paris': 428, 'paris case': 8861, '160 without breakfast': 39, 'without breakfast believe': 13405, 'breakfast believe get': 1609, 'believe get decent': 1318, 'get decent room': 5034, 'decent room also': 3068, 'room also paris': 10272, 'also paris case': 429, 'unbearable': 12763, 'size unbearable': 11098, 'unbearable bathroom': 12764, 'bathroom even': 1131, 'even smaller': 3882, 'room size unbearable': 10465, 'size unbearable bathroom': 11099, 'unbearable bathroom even': 12765, 'bathroom even smaller': 1132, 'shame': 10889, '13': 26, 'asked iron': 829, 'iron never': 6586, 'never arrived': 8148, 'arrived offered': 794, 'offered access': 8531, 'access full': 169, 'full continental': 4900, 'continental breakfast': 2718, 'breakfast shame': 1675, 'shame even': 10890, 'even charge': 3864, 'charge 13': 2071, 'asked iron never': 830, 'iron never arrived': 6587, 'never arrived offered': 8149, 'arrived offered access': 795, 'offered access full': 8532, 'access full continental': 170, 'full continental breakfast': 4901, 'continental breakfast shame': 2719, 'breakfast shame even': 1676, 'shame even charge': 10891, 'even charge 13': 3865, 'reseption': 10034, 'manger': 7586, 'nite': 8397, 'stay titanic': 11713, 'titanic nice': 12425, 'nice welcome': 8339, 'welcome reseption': 13229, 'reseption general': 10035, 'general manger': 4992, 'manger nice': 7587, 'nice meet': 8300, 'meet animation': 7706, 'animation staff': 607, 'nice big': 8249, 'big room': 1424, 'room couple': 10329, 'couple nice': 2848, 'pool view': 9309, 'view dinner': 12945, 'dinner always': 3243, 'always nice': 505, 'nice never': 8304, 'never nite': 8161, 'nite could': 8398, 'could find': 2800, 'find something': 4461, 'looked bar': 7232, 'staff waiter': 11562, 'waiter help': 13048, 'help full': 5672, 'stay titanic nice': 11714, 'titanic nice welcome': 12426, 'nice welcome reseption': 8340, 'welcome reseption general': 13230, 'reseption general manger': 10036, 'general manger nice': 4993, 'manger nice meet': 7588, 'nice meet animation': 8301, 'meet animation staff': 7707, 'animation staff nice': 608, 'staff nice big': 11525, 'nice big room': 8250, 'big room couple': 1425, 'room couple nice': 10330, 'couple nice pool': 2849, 'nice pool view': 8311, 'pool view dinner': 9310, 'view dinner always': 12946, 'dinner always nice': 3244, 'always nice never': 506, 'nice never nite': 8305, 'never nite could': 8162, 'nite could find': 8399, 'could find something': 2801, 'find something eat': 4462, 'something eat hotel': 11278, 'eat hotel well': 3542, 'hotel well looked': 6283, 'well looked bar': 13273, 'looked bar staff': 7233, 'bar staff waiter': 1060, 'staff waiter help': 11563, 'waiter help full': 13049, 'dive': 3359, 'restaurant dive': 10114, 'good restaurant dive': 5297, 'swisshotel': 12060, 'term': 12188, 'fast business': 4374, 'traveller couple': 12611, 'couple day': 2836, 'day ok': 3022, 'ok key': 8558, 'key hotel': 6660, 'hotel swisshotel': 6262, 'swisshotel far': 12061, 'far better': 4363, 'better offer': 1376, 'traveller term': 12614, 'term service': 12189, 'fast business traveller': 4375, 'business traveller couple': 1817, 'traveller couple day': 12612, 'couple day ok': 2837, 'day ok key': 3023, 'ok key hotel': 8559, 'key hotel swisshotel': 6661, 'hotel swisshotel far': 6263, 'swisshotel far better': 12062, 'far better offer': 4364, 'better offer business': 1377, 'offer business traveller': 8521, 'business traveller term': 1819, 'traveller term service': 12615, 'sport pool': 11405, 'area boring': 715, 'boring small': 1561, 'sport pool area': 11406, 'pool area boring': 9269, 'area boring small': 716, 'plus view': 9232, 'city fitness': 2235, 'plus view city': 9233, 'view city fitness': 12943, 'city fitness room': 2236, 'unmatched': 12810, 'top bar': 12468, 'great unmatched': 5451, 'unmatched hotel': 12811, 'roof top bar': 10259, 'top bar great': 12469, 'bar great unmatched': 1037, 'great unmatched hotel': 5452, 'incredibly': 6468, 'ok breakfast': 8549, 'breakfast incredibly': 1643, 'incredibly boring': 6469, 'boring lunch': 1559, 'restaurant ok breakfast': 10158, 'ok breakfast incredibly': 8550, 'breakfast incredibly boring': 1644, 'incredibly boring lunch': 6470, 'boring lunch dinner': 1560, 'sensational': 10748, 'superfriendly': 11972, 'sensational located': 10749, 'located superfriendly': 7109, 'superfriendly hotel': 11973, 'sensational located superfriendly': 10750, 'located superfriendly hotel': 7110, 'top top': 12488, 'frienly': 4872, 'renovarted': 9995, 'buiseness': 1769, 'staff frienly': 11492, 'frienly room': 4873, 'room new': 10410, 'new renovarted': 8189, 'renovarted luxury': 9996, 'style clean': 11901, 'clean fine': 2287, 'fine lot': 4471, 'lot opportunity': 7293, 'opportunity possible': 8710, 'possible ideal': 9361, 'ideal hotel': 6388, 'hotel buiseness': 5930, 'buiseness stay': 1770, 'staff frienly room': 11493, 'frienly room new': 4874, 'room new renovarted': 10411, 'new renovarted luxury': 8190, 'renovarted luxury modern': 9997, 'luxury modern style': 7426, 'modern style clean': 7903, 'style clean fine': 11902, 'clean fine lot': 2288, 'fine lot opportunity': 4472, 'lot opportunity possible': 7294, 'opportunity possible ideal': 8711, 'possible ideal hotel': 9362, 'ideal hotel buiseness': 6389, 'hotel buiseness stay': 5931, 'buiseness stay city': 1771, 'stay city trip': 11662, 'excellent hotel service': 4063, 'happy food': 5613, 'chip': 2164, 'burger': 1782, 'hotdog': 5861, 'occasional': 8511, 'bbq': 1163, 'salad': 10584, 'five free': 4527, 'free restaurant': 4762, 'restaurant gave': 10123, 'gave excellent': 4970, 'excellent choice': 4043, 'food although': 4579, 'although beach': 452, 'bar chip': 1029, 'chip burger': 2165, 'burger hotdog': 1783, 'hotdog occasional': 5862, 'occasional bbq': 8512, 'bbq fish': 1164, 'fish salad': 4521, 'five free restaurant': 4528, 'free restaurant gave': 4763, 'restaurant gave excellent': 10124, 'gave excellent choice': 4971, 'excellent choice food': 4044, 'choice food although': 2175, 'food although beach': 4580, 'although beach bar': 453, 'beach bar chip': 1174, 'bar chip burger': 1030, 'chip burger hotdog': 2166, 'burger hotdog occasional': 1784, 'hotdog occasional bbq': 5863, 'occasional bbq fish': 8513, 'bbq fish salad': 1165, 'friendly service': 4853, 'staff friendly service': 11490, 'friendly service excellent': 4854, 'nicest hotel': 8353, 'nicest hotel ever': 8354, 'favourite holiday': 4394, 'holiday place': 5794, 'place ever': 9130, 'favourite holiday place': 4395, 'holiday place ever': 5795, 'retuning': 10191, 'advise': 267, 'definitely retuning': 3110, 'retuning advise': 10192, 'advise people': 268, 'people go': 8978, 'go great': 5111, 'definitely retuning advise': 3111, 'retuning advise people': 10193, 'advise people go': 269, 'people go great': 8979, 'go great holiday': 5112, 'people great': 8980, 'great whole': 5463, 'holiday package': 5792, 'package fantastic': 8823, 'staff great whole': 11500, 'great whole holiday': 5464, 'whole holiday package': 13341, 'holiday package fantastic': 5793, 'definitely five': 3104, 'definitely five star': 3105, 'first impression': 4499, 'impression good': 6423, 'first impression good': 4500, 'excellent check': 4041, 'check given': 2118, 'given information': 5079, 'information needed': 6484, 'excellent check given': 4042, 'check given information': 2119, 'given information needed': 5080, 'realizing': 9716, 'started realizing': 11625, 'realizing money': 9717, 'money paid': 7920, 'paid far': 8830, 'far much': 4369, 'much got': 8008, 'started realizing money': 11626, 'realizing money paid': 9718, 'money paid far': 7921, 'paid far much': 8831, 'far much got': 4370, 'excellent always': 4035, 'always willing': 515, 'help lack': 5673, 'management easy': 7568, 'easy see': 3533, 'see service': 10704, 'service even': 10800, 'close star': 2420, 'staff excellent always': 11470, 'excellent always willing': 4036, 'always willing help': 516, 'willing help lack': 13374, 'help lack management': 5674, 'lack management easy': 6747, 'management easy see': 7569, 'easy see service': 3534, 'see service even': 10705, 'service even close': 10801, 'even close star': 3868, 'poor enough': 9324, 'enough staff': 3726, 'staff employee': 11466, 'employee running': 3632, 'running like': 10551, 'like crazy': 6925, 'crazy could': 2886, 'could tell': 2819, 'tell lack': 12181, 'choice food poor': 2177, 'food poor enough': 4647, 'poor enough staff': 9325, 'enough staff employee': 3727, 'staff employee running': 11467, 'employee running like': 3633, 'running like crazy': 10552, 'like crazy could': 6926, 'crazy could tell': 2887, 'could tell lack': 2820, 'tell lack management': 12182, 'great design': 5378, 'hotel every': 5996, 'every detail': 3935, 'detail looked': 3193, 'great design hotel': 5379, 'design hotel every': 3159, 'hotel every detail': 5997, 'every detail looked': 3936, 'living': 7049, 'terrace': 12194, 'villa spacious': 12985, 'spacious living': 11339, 'living room': 7050, 'room private': 10431, 'private terrace': 9453, 'terrace fantastic': 12195, 'fantastic bathroom': 4337, 'bathroom really': 1152, 'nice bed': 8248, 'villa spacious living': 12986, 'spacious living room': 11340, 'living room private': 7051, 'room private terrace': 10432, 'private terrace fantastic': 9454, 'terrace fantastic bathroom': 12196, 'fantastic bathroom really': 4338, 'bathroom really nice': 1153, 'really nice bed': 9761, 'comply': 2631, 'wish': 13395, 'staff always': 11439, 'always happy': 497, 'happy comply': 5611, 'comply wish': 2632, 'staff always happy': 11440, 'always happy comply': 498, 'happy comply wish': 5612, 'absolutely unique': 150, 'unique pool': 12801, 'absolutely unique pool': 151, 'excellent restaurant': 4078, 'restaurant offering': 10155, 'offering wide': 8540, 'excellent restaurant offering': 4079, 'restaurant offering wide': 10156, 'offering wide range': 8541, 'never guest': 8156, 'tat': 12134, 'fron': 4876, '22': 68, '00': 0, 'quit': 9600, 'luck': 7397, 'staaf': 11431, 'motorcycle': 7987, 'put': 9537, 'shed': 10895, 'loud noisy': 7314, 'noisy despite': 8421, 'despite rule': 3186, 'rule tat': 10542, 'tat fron': 12135, 'fron 22': 4877, '22 00': 69, '00 everything': 1, 'everything must': 3996, 'must quit': 8044, 'quit staff': 9601, 'staff say': 11544, 'say bad': 10633, 'bad luck': 987, 'luck also': 7398, 'also staaf': 434, 'staaf responsible': 11432, 'responsible serious': 10074, 'serious damage': 10764, 'damage motorcycle': 2949, 'motorcycle put': 7988, 'put bike': 9538, 'bike shed': 1447, 'shed could': 10896, 'could enter': 2797, 'loud noisy despite': 7315, 'noisy despite rule': 8422, 'despite rule tat': 3187, 'rule tat fron': 10543, 'tat fron 22': 12136, 'fron 22 00': 4878, '22 00 everything': 70, '00 everything must': 2, 'everything must quit': 3997, 'must quit staff': 8045, 'quit staff say': 9602, 'staff say bad': 11545, 'say bad luck': 10634, 'bad luck also': 988, 'luck also staaf': 7399, 'also staaf responsible': 435, 'staaf responsible serious': 11433, 'responsible serious damage': 10075, 'serious damage motorcycle': 10765, 'damage motorcycle put': 2950, 'motorcycle put bike': 7989, 'put bike shed': 9539, 'bike shed could': 1448, 'shed could enter': 10897, 'crappy': 2883, 'motorbike': 7986, 'hotel crappy': 5964, 'crappy room': 2884, 'food horrible': 4628, 'horrible left': 5834, 'left went': 6886, 'went town': 13314, 'town food': 12545, 'food night': 4644, 'night rest': 8381, 'rest 100': 10076, '100 euro': 12, 'euro damage': 3846, 'damage motorbike': 2948, 'price cheap hotel': 9413, 'cheap hotel crappy': 2096, 'hotel crappy room': 5965, 'crappy room food': 2885, 'room food horrible': 10350, 'food horrible left': 4629, 'horrible left went': 5835, 'left went town': 6887, 'went town food': 13315, 'town food night': 12546, 'food night rest': 4645, 'night rest 100': 8382, 'rest 100 euro': 10077, '100 euro damage': 13, 'euro damage motorbike': 3847, 'took package': 12462, 'package honeymooner': 8824, 'honeymooner spent': 5816, 'spent one': 11389, 'took package honeymooner': 12463, 'package honeymooner spent': 8825, 'honeymooner spent one': 5817, 'spent one best': 11390, 'refilled': 9916, 'alcohol': 336, 'sweet': 12036, 'laundry': 6830, 'level member': 6906, 'member offer': 7725, 'offer several': 8525, 'several vip': 10874, 'vip service': 12997, 'service free': 10814, 'free mini': 4754, 'mini bar': 7798, 'bar refilled': 1050, 'refilled bottle': 9917, 'bottle wine': 1567, 'wine welcoming': 13387, 'welcoming reception': 13236, 'reception vip': 9847, 'vip restaurant': 12995, 'restaurant breakfast': 10105, 'free lounge': 4752, 'bar access': 1023, 'access alcohol': 165, 'alcohol sweet': 337, 'sweet tea': 12037, 'coffee discount': 2461, 'discount several': 3308, 'several thing': 10871, 'restaurant laundry': 10137, 'laundry shopping': 6831, 'shopping area': 10922, 'area club': 721, 'level member offer': 6907, 'member offer several': 7726, 'offer several vip': 8526, 'several vip service': 10875, 'vip service free': 12998, 'service free mini': 10815, 'free mini bar': 4755, 'mini bar refilled': 7799, 'bar refilled bottle': 1051, 'refilled bottle wine': 9918, 'bottle wine welcoming': 1568, 'wine welcoming reception': 13388, 'welcoming reception vip': 13237, 'reception vip restaurant': 9848, 'vip restaurant breakfast': 12996, 'restaurant breakfast free': 10106, 'breakfast free lounge': 1626, 'free lounge bar': 4753, 'lounge bar access': 7328, 'bar access alcohol': 1024, 'access alcohol sweet': 166, 'alcohol sweet tea': 338, 'sweet tea coffee': 12038, 'tea coffee discount': 12146, 'coffee discount several': 2462, 'discount several thing': 3309, 'several thing restaurant': 10872, 'thing restaurant laundry': 12265, 'restaurant laundry shopping': 10138, 'laundry shopping area': 6832, 'shopping area club': 10923, 'vip area': 12993, 'area pool': 749, 'pool garden': 9286, 'garden special': 4964, 'special spa': 11369, 'treatment many': 12628, 'many special': 7613, 'special service': 11368, 'vip area pool': 12994, 'area pool garden': 750, 'pool garden special': 9287, 'garden special spa': 4965, 'special spa treatment': 11370, 'spa treatment many': 11320, 'treatment many special': 12629, 'many special service': 7614, 'hostess': 5848, 'named': 8051, 'anna': 619, 'level lounge': 6904, 'bar amazing': 1025, 'amazing hostess': 527, 'hostess named': 5849, 'named anna': 8052, 'anna friendly': 620, 'friendly smart': 4855, 'smart elegant': 11203, 'elegant treated': 3600, 'treated vip': 12623, 'service level lounge': 10827, 'level lounge bar': 6905, 'lounge bar amazing': 7329, 'bar amazing hostess': 1026, 'amazing hostess named': 528, 'hostess named anna': 5850, 'named anna friendly': 8053, 'anna friendly smart': 621, 'friendly smart elegant': 4856, 'smart elegant treated': 11204, 'elegant treated vip': 3601, 'surely visit': 12002, 'surely visit next': 12003, 'visit next summer': 13014, 'french hotel': 4778, 'near monmarte': 8076, 'cozy french hotel': 2875, 'french hotel near': 4779, 'hotel near monmarte': 6146, 'really cozy': 9729, 'french style': 4782, 'style hotel': 11904, 'hotel small': 6247, 'small still': 11179, 'still quite': 11815, 'nice expect': 8268, 'expect much': 4156, 'much hotel': 8009, 'really cozy french': 9730, 'cozy french style': 2876, 'french style hotel': 4783, 'style hotel small': 11905, 'hotel small still': 6248, 'small still quite': 11180, 'still quite nice': 11816, 'quite nice expect': 9618, 'nice expect much': 8269, 'expect much hotel': 4157, '1mile': 45, 'monmarte really': 7932, 'really near': 9758, 'near 1mile': 8062, '1mile great': 46, 'great walk': 5457, 'hotel part': 6178, 'part city': 8908, 'city crowded': 2229, 'crowded location': 2910, 'monmarte really near': 7933, 'really near 1mile': 9759, 'near 1mile great': 8063, '1mile great walk': 47, 'great walk around': 5458, 'walk around hotel': 13058, 'around hotel part': 777, 'hotel part city': 6179, 'part city crowded': 8909, 'city crowded location': 2230, 'crowded location excellent': 2911, 'metro bus': 7752, 'bus train': 1802, 'station near': 11652, 'metro bus train': 7753, 'bus train station': 1803, 'train station near': 12564, 'understanding': 12778, 'staff positive': 11532, 'positive person': 9354, 'person world': 9051, 'world still': 13479, 'still helpful': 11809, 'helpful understanding': 5711, 'understanding need': 12779, 'staff positive person': 11533, 'positive person world': 9355, 'person world still': 9052, 'world still helpful': 13480, 'still helpful understanding': 11810, 'helpful understanding need': 5712, 'understanding need something': 12780, 'trip well': 12662, 'well short': 13288, 'stay great': 11671, 'business trip well': 1821, 'trip well short': 12663, 'well short stay': 13289, 'short stay great': 10951, 'stay great place': 11672, 'build': 1751, '70': 107, 'though hotel': 12301, 'hotel build': 5924, 'build 70': 1752, '70 everything': 108, 'even though hotel': 3885, 'though hotel build': 12302, 'hotel build 70': 5925, 'build 70 everything': 1753, '70 everything good': 109, 'everything good shape': 3988, 'lobby executive': 7059, 'executive lounge': 4132, 'lounge room': 7332, 'room left': 10389, 'left good': 6880, 'lobby executive lounge': 7060, 'executive lounge room': 4133, 'lounge room left': 7333, 'room left good': 10390, 'left good impression': 6881, 'room smaller': 10474, 'smaller side': 11199, 'side room': 11007, 'room seemed': 10456, 'seemed good': 10707, 'room smaller side': 10475, 'smaller side room': 11200, 'side room seemed': 11008, 'room seemed good': 10457, 'seemed good shape': 10708, 'checkin': 2129, 'checkin fast': 2130, 'fast convenient': 4376, 'convenient friendly': 2731, 'checkin fast convenient': 2131, 'fast convenient friendly': 4377, 'rate 95': 9663, '95 price': 124, 'price good': 9423, 'food airport': 4577, 'airport hotel': 316, 'rate 95 price': 9664, '95 price good': 125, 'price good food': 9424, 'good food airport': 5219, 'food airport hotel': 4578, 'transit': 12579, 'recommend transit': 9890, 'would recommend transit': 13549, 'enjoyable vacation': 3681, 'vacation family': 12873, 'enjoyable vacation family': 3682, 'ever hurghada': 3912, 'holiday ever hurghada': 5775, 'decided visit': 3077, 'resort next': 10061, 'next holiday': 8212, 'decided visit dana': 3078, 'beach resort next': 1205, 'resort next holiday': 10062, 'thanks friendly': 12221, 'friendly stuff': 4860, 'stuff excellent': 11888, 'excellent management': 4070, 'management best': 7562, 'thanks friendly stuff': 12222, 'friendly stuff excellent': 4861, 'stuff excellent management': 11889, 'excellent management best': 4071, 'management best holiday': 7563, 'marriott': 7637, 'marriott standard': 7638, 'marriott standard room': 7639, 'standard room clean': 11595, 'room clean enough': 10305, 'deco': 3079, 'location block': 7128, 'block form': 1494, 'form beach': 4683, 'beach heart': 1190, 'heart art': 5655, 'art deco': 805, 'deco district': 3080, 'location block form': 7129, 'block form beach': 1495, 'form beach heart': 4684, 'beach heart art': 1191, 'heart art deco': 5656, 'art deco district': 806, 'properly': 9502, 'perhaps': 9035, 'size good': 11090, 'impression cleaned': 6421, 'cleaned properly': 2341, 'properly perhaps': 9503, 'perhaps asked': 9036, 'asked got': 827, 'got early': 5347, 'early check': 3503, 'room size good': 10464, 'size good impression': 11091, 'good impression cleaned': 5231, 'impression cleaned properly': 6422, 'cleaned properly perhaps': 2342, 'properly perhaps asked': 9504, 'perhaps asked got': 9037, 'asked got early': 828, 'got early check': 5348, 'bathroom rather': 1150, 'small washbasin': 11189, 'room thought': 10499, 'great idea': 5407, 'bathroom rather small': 1151, 'rather small washbasin': 9685, 'small washbasin room': 11190, 'washbasin room thought': 13142, 'room thought great': 10500, 'thought great idea': 12316, 'coffee machine': 2466, 'room coffee machine': 10317, 'rooftop': 10261, 'loved rooftop': 7354, 'rooftop swimming': 10262, 'loved rooftop swimming': 7355, 'rooftop swimming pool': 10263, 'relaxation': 9958, 'big view': 1434, 'view nice': 12956, 'nice towel': 8335, 'towel relaxation': 12535, 'relaxation area': 9959, 'big view nice': 1435, 'view nice towel': 12957, 'nice towel relaxation': 8336, 'towel relaxation area': 12536, 'reception staff friendly': 9841, 'arrival': 787, 'ideal late': 6390, 'late arrival': 6815, 'ideal late arrival': 6391, 'one great': 8656, 'great thing': 5447, 'thing friendly': 12252, 'hotel one great': 6172, 'one great thing': 8657, 'great thing friendly': 5448, 'thing friendly staff': 12253, 'worn': 13481, 'mess': 7742, 'worn clean': 13482, 'look like': 7228, 'like mess': 6939, 'worn clean whole': 13483, 'whole hotel look': 13343, 'hotel look like': 6106, 'look like mess': 7229, 'positive offering': 9352, 'offering free': 8537, 'internet lobby': 6566, 'lobby welcome': 7070, 'welcome drink': 13217, 'drink buffet': 3439, 'buffet friendly': 1740, 'positive offering free': 9353, 'offering free internet': 8538, 'free internet lobby': 4750, 'internet lobby welcome': 6567, 'lobby welcome drink': 7071, 'welcome drink buffet': 13218, 'drink buffet friendly': 3440, 'buffet friendly reception': 1741, 'friendly reception staff': 4850, 'hardware': 5636, 'close station': 2421, 'station hotel': 11646, 'hotel quite': 6202, 'quite unpleasant': 9636, 'unpleasant experience': 12812, 'experience looking': 4186, 'looking hotel': 7252, 'hotel hardware': 6055, 'location close station': 7133, 'close station hotel': 2422, 'station hotel quite': 11647, 'hotel quite unpleasant': 6203, 'quite unpleasant experience': 9637, 'unpleasant experience looking': 12813, 'experience looking hotel': 4187, 'looking hotel hardware': 7253, 'tip': 12414, 'room tip': 10503, 'tip best': 12415, 'best room': 1348, 'room another': 10275, 'room tip best': 10504, 'tip best room': 12416, 'best room another': 1349, 'room another hotel': 10276, 'ancient': 596, 'ancient charme': 597, 'charme outside': 2085, 'outside modern': 8767, 'modern inside': 7892, 'ancient charme outside': 598, 'charme outside modern': 2086, 'outside modern inside': 8768, 'stay extended': 11666, 'extended weekend': 4224, 'place stay extended': 9159, 'stay extended weekend': 11667, 'allows': 347, 'location allows': 7120, 'allows visit': 348, 'visit interested': 13010, 'interested place': 6539, 'place barcelona': 9115, 'perfect location allows': 9016, 'location allows visit': 7121, 'allows visit interested': 349, 'visit interested place': 13011, 'interested place barcelona': 6540, 'famous': 4331, 'zurich': 13608, 'meter': 7749, 'peple': 8995, 'hotel expensive': 6004, 'expensive option': 4177, 'option decided': 8714, 'decided go': 3075, 'go famous': 5109, 'famous cafe': 4332, 'cafe zurich': 1848, 'zurich 100': 13609, '100 meter': 14, 'meter every': 7750, 'every morning': 3941, 'morning enjoy': 7965, 'enjoy lovely': 3670, 'lovely weather': 7379, 'weather many': 13174, 'many peple': 7603, 'peple going': 8996, 'going around': 5135, 'breakfast hotel expensive': 1639, 'hotel expensive option': 6005, 'expensive option decided': 4178, 'option decided go': 8715, 'decided go famous': 3076, 'go famous cafe': 5110, 'famous cafe zurich': 4333, 'cafe zurich 100': 1849, 'zurich 100 meter': 13610, '100 meter every': 15, 'meter every morning': 7751, 'every morning enjoy': 3942, 'morning enjoy lovely': 7966, 'enjoy lovely weather': 3671, 'lovely weather many': 7380, 'weather many peple': 13175, 'many peple going': 7604, 'peple going around': 8997, 'corte': 2769, 'ingles': 6493, 'store': 11838, 'staying place': 11777, 'place easy': 9124, 'access hop': 173, 'bus tour': 1800, 'tour coach': 12503, 'coach airport': 2444, 'airport corte': 313, 'corte ingles': 2770, 'ingles wonderful': 6494, 'wonderful store': 13424, 'staying place easy': 11778, 'place easy access': 9125, 'easy access hop': 3526, 'access hop hop': 174, 'hop bus tour': 5823, 'bus tour coach': 1801, 'tour coach airport': 12504, 'coach airport corte': 2445, 'airport corte ingles': 314, 'corte ingles wonderful': 2771, 'ingles wonderful store': 6495, 'hotel interior': 6071, 'interior modern': 6551, 'modern elegant': 7884, 'hotel interior modern': 6072, 'interior modern elegant': 6552, 'room unfortunately': 10507, 'unfortunately small': 12784, 'small bed': 11130, 'comfortable linen': 2546, 'linen clean': 6985, 'room unfortunately small': 10508, 'unfortunately small bed': 12785, 'small bed comfortable': 11131, 'bed comfortable linen': 1268, 'comfortable linen clean': 2547, 'century luxury': 2029, '18th century luxury': 43, 'century luxury modern': 2030, 'luxury modern comfort': 7425, 'restored': 10175, 'old villa': 8611, 'villa recently': 12981, 'recently restored': 9819, 'restored great': 10176, 'great modern': 5416, 'luxury 18th': 7420, 'century palace': 2031, 'old villa recently': 8612, 'villa recently restored': 12982, 'recently restored great': 9820, 'restored great modern': 10177, 'great modern comfort': 5417, 'modern comfort luxury': 7883, 'comfort luxury 18th': 2522, 'luxury 18th century': 7421, '18th century palace': 44, 'separate': 10754, 'dressing': 3434, 'room ideal': 10377, 'ideal romantic': 6394, 'romantic stay': 10254, 'stay large': 11682, 'large comfortable': 6784, 'bed separate': 1294, 'separate furnished': 10755, 'furnished dressing': 4932, 'dressing room': 3435, 'room well': 10514, 'well equipped': 13257, 'equipped bathroom': 3778, 'room ideal romantic': 10378, 'ideal romantic stay': 6395, 'romantic stay large': 10255, 'stay large comfortable': 11683, 'large comfortable bed': 6785, 'comfortable bed separate': 2534, 'bed separate furnished': 1295, 'separate furnished dressing': 10756, 'furnished dressing room': 4933, 'dressing room well': 3436, 'room well equipped': 10515, 'well equipped bathroom': 13258, 'although dinner': 461, 'dinner elegant': 3247, 'elegant restaurant': 3596, 'choice view': 2191, 'view splendid': 12966, 'splendid surrounding': 11396, 'surrounding garden': 12023, 'although dinner elegant': 462, 'dinner elegant restaurant': 3248, 'elegant restaurant great': 3597, 'restaurant great breakfast': 10130, 'great breakfast lot': 5372, 'lot choice view': 7267, 'choice view splendid': 2192, 'view splendid surrounding': 12967, 'splendid surrounding garden': 11397, 'economically': 3551, 'economically priced': 3552, 'priced hotel': 9438, 'economically priced hotel': 3553, 'enjoyed central': 3685, 'near barcelona': 8066, 'barcelona main': 1068, 'main touristic': 7499, 'touristic street': 12519, 'street la': 11851, 'enjoyed central location': 3686, 'location near barcelona': 7170, 'near barcelona main': 8067, 'barcelona main touristic': 1069, 'main touristic street': 7500, 'touristic street la': 12520, 'street la rambla': 11852, 'stare': 11618, 'lift difficult': 6912, 'difficult climb': 3222, 'climb upper': 2376, 'floor luggage': 4563, 'luggage narrow': 7404, 'narrow stare': 8057, 'lift difficult climb': 6913, 'difficult climb upper': 3223, 'climb upper floor': 2377, 'upper floor luggage': 12829, 'floor luggage narrow': 4564, 'luggage narrow stare': 7405, 'hardly stay': 5633, 'general liked': 4991, 'hardly stay hotel': 5634, 'stay hotel general': 11674, 'hotel general liked': 6036, 'stay ibis': 11678, 'ibis bilbao': 6380, 'bilbao november': 1449, 'great stay ibis': 5441, 'stay ibis bilbao': 11679, 'ibis bilbao november': 6381, 'one ibis': 8658, 'ibis chain': 6382, 'chain hotel': 2046, 'business oriented': 1809, 'oriented service': 8741, 'service everything': 10806, 'clean amenity': 2267, 'amenity well': 554, 'well known': 13268, 'known time': 6734, 'time booking': 12362, 'one ibis chain': 8659, 'ibis chain hotel': 6383, 'chain hotel offer': 2047, 'hotel offer business': 6167, 'offer business oriented': 8520, 'business oriented service': 1810, 'oriented service everything': 8742, 'service everything clean': 10807, 'everything clean amenity': 3979, 'clean amenity well': 2268, 'amenity well known': 555, 'well known time': 13269, 'known time booking': 6735, 'place family': 9131, 'family kid': 4319, 'kid used': 6681, 'used comfort': 12850, 'place family kid': 9132, 'family kid used': 4320, 'kid used comfort': 6682, 'place good': 9139, 'enough couple': 3712, 'couple leisure': 2842, 'leisure holiday': 6891, 'holiday business': 5767, 'place good enough': 9140, 'good enough couple': 5206, 'enough couple leisure': 3713, 'couple leisure holiday': 2843, 'leisure holiday business': 6892, 'holiday business trip': 5768, 'location far': 7151, 'far city': 4365, 'center never': 1968, 'never needed': 8159, 'needed bus': 8129, 'bus ride': 1794, 'ride stay': 10208, 'great location far': 5415, 'location far city': 7152, 'far city center': 4366, 'city center never': 2220, 'center never needed': 1969, 'never needed bus': 8160, 'needed bus ride': 8130, 'bus ride stay': 1795, 'neighborhood': 8135, 'pintxos': 9101, 'hopping': 5832, 'close receptionist': 2416, 'receptionist happy': 9855, 'happy give': 5614, 'give recommendation': 5069, 'recommendation cheap': 9894, 'cheap place': 2101, 'place eat': 9126, 'eat best': 3539, 'best neighborhood': 1344, 'neighborhood pintxos': 8136, 'pintxos hopping': 9102, 'many restaurant close': 7606, 'restaurant close receptionist': 10111, 'close receptionist happy': 2417, 'receptionist happy give': 9856, 'happy give recommendation': 5615, 'give recommendation cheap': 5070, 'recommendation cheap place': 9895, 'cheap place eat': 2102, 'place eat best': 9127, 'eat best neighborhood': 3540, 'best neighborhood pintxos': 1345, 'neighborhood pintxos hopping': 8137, 'fab': 4257, 'refurb': 9929, 'feyyoz': 4426, 'server': 10782, 'laugh': 6824, 'alwys': 517, 'sat': 10602, 'didnt': 3208, 'heard': 5652, 'washing': 13143, 'fab location': 4258, 'location great': 7159, 'view management': 12954, 'management could': 7566, 'better part': 1379, 'hotel dirty': 5976, 'dirty whole': 3272, 'whole public': 13345, 'public area': 9524, 'area need': 746, 'need refurb': 8111, 'refurb bit': 9930, 'tired restaurant': 12419, 'good long': 5256, 'long feyyoz': 7206, 'feyyoz server': 4427, 'server attentive': 10783, 'attentive made': 872, 'made laugh': 7448, 'laugh alwys': 6825, 'alwys got': 518, 'got drink': 5345, 'drink sat': 3453, 'sat always': 10603, 'always made': 503, 'made welcome': 7461, 'welcome ala': 13213, 'carte italian': 1935, 'italian awful': 6603, 'awful didnt': 943, 'didnt try': 3209, 'try others': 12679, 'others heard': 8749, 'heard fish': 5653, 'fish one': 4517, 'one good': 8653, 'service bar': 10788, 'bar slow': 1056, 'slow interested': 11121, 'interested washing': 6541, 'fab location great': 4259, 'location great view': 7160, 'great view management': 5456, 'view management could': 12955, 'management could better': 7567, 'could better part': 2788, 'better part hotel': 1380, 'part hotel dirty': 8912, 'hotel dirty whole': 5977, 'dirty whole public': 3273, 'whole public area': 13346, 'public area need': 9525, 'area need refurb': 747, 'need refurb bit': 8112, 'refurb bit tired': 9931, 'bit tired restaurant': 1481, 'tired restaurant good': 12420, 'restaurant good long': 10126, 'good long feyyoz': 5257, 'long feyyoz server': 7207, 'feyyoz server attentive': 4428, 'server attentive made': 10784, 'attentive made laugh': 873, 'made laugh alwys': 7449, 'laugh alwys got': 6826, 'alwys got drink': 519, 'got drink sat': 5346, 'drink sat always': 3454, 'sat always made': 10604, 'always made welcome': 504, 'made welcome ala': 7462, 'welcome ala carte': 13214, 'ala carte italian': 331, 'carte italian awful': 1936, 'italian awful didnt': 6604, 'awful didnt try': 944, 'didnt try others': 3210, 'try others heard': 12680, 'others heard fish': 8750, 'heard fish one': 5654, 'fish one good': 4518, 'one good service': 8654, 'good service bar': 5302, 'service bar slow': 10789, 'bar slow interested': 1057, 'slow interested washing': 11122, 'refurbed': 9932, 'back year': 971, 'year refurbed': 13578, 'refurbed better': 9933, 'better management': 1373, 'great time would': 5450, 'time would go': 12399, 'go back year': 5096, 'back year refurbed': 972, 'year refurbed better': 13579, 'refurbed better management': 9934, 'poor food': 9326, 'hotel brit': 5921, 'really poor food': 9764, 'poor food hotel': 9327, 'food hotel brit': 4632, 'inspection': 6511, 'hi got': 5728, 'got back': 5341, 'back mamlouk': 964, 'mamlouk palace': 7555, 'palace hotel': 8838, 'look every': 7222, 'every bit': 3928, 'bit five': 1462, 'hotel however': 6063, 'however close': 6324, 'close inspection': 2402, 'inspection like': 6512, 'like average': 6919, 'average star': 909, 'hi got back': 5729, 'got back mamlouk': 5342, 'back mamlouk palace': 965, 'mamlouk palace hotel': 7556, 'palace hotel look': 8839, 'hotel look every': 6105, 'look every bit': 7223, 'every bit five': 3929, 'bit five star': 1463, 'star hotel however': 11611, 'hotel however close': 6064, 'however close inspection': 6325, 'close inspection like': 2403, 'inspection like average': 6513, 'like average star': 6920, 'cater': 1949, 'egyptian people': 3581, 'people friendly': 8976, 'friendly happy': 4819, 'happy talk': 5618, 'talk really': 12108, 'nice atmosphere': 8240, 'though guest': 12299, 'guest rude': 5527, 'rude mainly': 10531, 'russian lovely': 10568, 'breakfast cold': 1616, 'cold day': 2479, 'day honest': 3010, 'honest really': 5811, 'really cater': 9721, 'cater brit': 1950, 'egyptian people friendly': 3582, 'people friendly happy': 8977, 'friendly happy talk': 4820, 'happy talk really': 5619, 'talk really nice': 12109, 'really nice atmosphere': 9760, 'nice atmosphere hotel': 8241, 'atmosphere hotel even': 849, 'hotel even though': 5994, 'even though guest': 3884, 'though guest rude': 12300, 'guest rude mainly': 5528, 'rude mainly russian': 10532, 'mainly russian lovely': 7505, 'russian lovely clean': 10569, 'lovely clean food': 7361, 'clean food poor': 2290, 'food poor breakfast': 4646, 'poor breakfast cold': 9323, 'breakfast cold day': 1617, 'cold day honest': 2480, 'day honest really': 3011, 'honest really cater': 5812, 'really cater brit': 9722, 'bank': 1020, 'either': 3583, 'guaranteed': 5504, 'tan': 12116, 'yearly': 13582, 'although say': 473, 'say cheap': 10635, 'cheap holiday': 2092, 'holiday break': 5765, 'break bank': 1589, 'bank either': 1021, 'either want': 3584, 'want guaranteed': 13115, 'guaranteed tan': 5505, 'tan go': 12117, 'go egypt': 5105, 'egypt main': 3579, 'main summer': 7497, 'summer yearly': 11929, 'yearly holiday': 13583, 'holiday recommended': 5796, 'recommended go': 9900, 'go somewhere': 5115, 'else avoid': 3611, 'avoid disappointment': 910, 'although say cheap': 474, 'say cheap holiday': 10636, 'cheap holiday break': 2093, 'holiday break bank': 5766, 'break bank either': 1590, 'bank either want': 1022, 'either want guaranteed': 3585, 'want guaranteed tan': 13116, 'guaranteed tan go': 5506, 'tan go egypt': 12118, 'go egypt main': 5106, 'egypt main summer': 3580, 'main summer yearly': 7498, 'summer yearly holiday': 11930, 'yearly holiday recommended': 13584, 'holiday recommended go': 5797, 'recommended go somewhere': 9901, 'go somewhere else': 5116, 'somewhere else avoid': 11283, 'else avoid disappointment': 3612, 'soon': 11284, 'looked staff': 7241, 'helpfull lot': 5719, 'lot excellent': 7278, 'stay going': 11669, 'going back': 5136, 'back soon': 967, 'everything clean well': 3980, 'clean well looked': 2332, 'well looked staff': 13275, 'looked staff friendly': 7242, 'friendly helpfull lot': 4825, 'helpfull lot excellent': 5720, 'lot excellent place': 7279, 'place stay going': 9161, 'stay going back': 11670, 'going back soon': 5137, 'royalty': 10524, 'like royalty': 6949, 'treated like royalty': 12622, 'appearance': 672, 'bit shabby': 1474, 'shabby first': 10884, 'first appearance': 4490, 'appearance room': 673, 'room absolutely': 10264, 'absolutely fine': 145, 'hotel little bit': 6097, 'little bit shabby': 7013, 'bit shabby first': 1475, 'shabby first appearance': 10885, 'first appearance room': 4491, 'appearance room absolutely': 674, 'room absolutely fine': 10265, 'delighed': 3131, 'english stay': 3663, 'stay staff': 11709, 'staff delighed': 11462, 'delighed talk': 3132, 'english stay staff': 3664, 'stay staff delighed': 11710, 'staff delighed talk': 11463, 'food disappointment': 4605, 'disappointment although': 3288, 'although plenty': 471, 'plenty variety': 9224, 'food disappointment although': 4606, 'disappointment although plenty': 3289, 'although plenty variety': 472, 'overcooked': 8803, 'luke': 7406, 'overcooked luke': 8804, 'luke warm': 7407, 'overcooked luke warm': 8805, 'rundown': 10548, 'budget option': 1729, 'option strip': 8721, 'strip bit': 11873, 'bit rundown': 1472, 'good budget option': 5187, 'budget option strip': 1730, 'option strip bit': 8722, 'strip bit rundown': 11874, 'think luxor': 12278, 'luxor much': 7411, '10 20': 5, 'ago seems': 297, 'seems bit': 10713, 'bit run': 1471, 'think luxor much': 12279, 'luxor much better': 7412, 'much better hotel': 7999, 'better hotel 10': 1367, 'hotel 10 20': 5864, '10 20 year': 6, '20 year ago': 55, 'year ago seems': 13565, 'ago seems bit': 298, 'seems bit run': 10714, 'still decent': 11807, 'decent option': 3063, 'option though': 8723, 'though want': 12314, 'want strip': 13122, 'strip good': 11875, 'still decent option': 11808, 'decent option though': 3064, 'option though want': 8724, 'though want strip': 12315, 'want strip good': 13123, 'strip good price': 11876, 'trailer': 12558, 'addition room': 224, 'quite disgusting': 9611, 'disgusting condition': 3318, 'condition bathroom': 2647, 'bathroom like': 1139, 'like toilet': 6958, 'toilet trailer': 12447, 'trailer placed': 12559, 'placed room': 9173, 'addition room quite': 225, 'room quite disgusting': 10435, 'quite disgusting condition': 9612, 'disgusting condition bathroom': 3319, 'condition bathroom like': 2648, 'bathroom like toilet': 1140, 'like toilet trailer': 6959, 'toilet trailer placed': 12448, 'trailer placed room': 12560, 'possibility': 9356, 'looking bed': 7245, 'bed nothing': 1289, 'nothing else': 8457, 'else possibility': 3615, 'looking bed nothing': 7246, 'bed nothing else': 1290, 'nothing else possibility': 8458, 'disclose': 3293, 'check machine': 2120, 'machine disclose': 7436, 'disclose room': 3294, 'room card': 10297, 'card key': 1903, 'key thus': 6666, 'thus reception': 12340, 'reception least': 9835, 'least night': 6869, 'check machine disclose': 2121, 'machine disclose room': 7437, 'disclose room card': 3295, 'room card key': 10298, 'card key thus': 1904, 'key thus reception': 6667, 'thus reception least': 12341, 'reception least night': 9836, 'antwerp': 644, 'comfortable modern': 2550, 'central rail': 1994, 'rail station': 9643, 'station antwerp': 11640, 'antwerp shop': 645, 'comfortable modern hotel': 2551, 'modern hotel close': 7890, 'hotel close central': 5946, 'close central rail': 2389, 'central rail station': 1995, 'rail station antwerp': 9644, 'station antwerp shop': 11641, 'antwerp shop restaurant': 646, 'powerful': 9371, 'room warm': 10512, 'warm air': 13130, 'conditioning powerful': 2659, 'powerful enough': 9372, 'enough cool': 3710, 'cool room': 2752, 'hotel room warm': 6228, 'room warm air': 10513, 'warm air conditioning': 13131, 'air conditioning powerful': 311, 'conditioning powerful enough': 2660, 'powerful enough cool': 9373, 'enough cool room': 3711, 'ironing': 6592, 'supplied': 11980, 'requested': 10028, 'useless': 12855, 'removing': 9991, 'crease': 2893, 'cotton': 2782, 'shirt': 10906, 'ironing board': 6593, 'board iron': 1508, 'iron room': 6588, 'small table': 11182, 'table top': 12074, 'top board': 12470, 'board non': 1510, 'non steam': 8440, 'steam iron': 11784, 'iron supplied': 6590, 'supplied requested': 11981, 'requested honest': 10029, 'honest useless': 5813, 'useless removing': 12856, 'removing crease': 9992, 'crease cotton': 2894, 'cotton shirt': 2783, 'ironing board iron': 6594, 'board iron room': 1509, 'iron room small': 6589, 'room small table': 10472, 'small table top': 11183, 'table top board': 12075, 'top board non': 12471, 'board non steam': 1511, 'non steam iron': 8441, 'steam iron supplied': 11785, 'iron supplied requested': 6591, 'supplied requested honest': 11982, 'requested honest useless': 10030, 'honest useless removing': 5814, 'useless removing crease': 12857, 'removing crease cotton': 9993, 'crease cotton shirt': 2895, 'fat': 4384, 'milk': 7790, 'yoghurt': 13597, 'denmark': 3143, 'scandic': 10653, 'reasonable breakfast': 9796, 'breakfast low': 1646, 'low fat': 7388, 'fat option': 4385, 'option milk': 8717, 'milk yoghurt': 7791, 'yoghurt cereal': 13598, 'cereal etc': 2034, 'etc compared': 3826, 'compared recent': 2594, 'recent visit': 9813, 'visit denmark': 13003, 'denmark scandic': 3144, 'scandic hotel': 10654, 'reasonable breakfast low': 9797, 'breakfast low fat': 1647, 'low fat option': 7389, 'fat option milk': 4386, 'option milk yoghurt': 8718, 'milk yoghurt cereal': 7792, 'yoghurt cereal etc': 13599, 'cereal etc compared': 2035, 'etc compared recent': 3827, 'compared recent visit': 2595, 'recent visit denmark': 9814, 'visit denmark scandic': 13004, 'denmark scandic hotel': 3145, 'fruit choice': 4890, 'choice large': 2180, 'fruit choice large': 4891, 'tried gym': 12637, 'gym see': 5559, 'see quite': 10702, 'small new': 11160, 'new equipment': 8182, 'equipment available': 3771, 'tried gym see': 12638, 'gym see quite': 5560, 'see quite small': 10703, 'quite small new': 9627, 'small new equipment': 11161, 'new equipment available': 8183, 'super hotel': 11953, 'perfect service': 9024, 'poor beach': 9319, 'super hotel perfect': 11954, 'hotel perfect service': 6183, 'perfect service poor': 9025, 'service poor beach': 10838, 'dangerous': 2966, 'wave': 13156, 'perfect beach': 9002, 'beach steep': 1212, 'steep dangerous': 11788, 'dangerous wave': 2967, 'wave red': 13157, 'red flag': 9903, 'flag walk': 4536, 'walk outside': 13074, 'hotel access': 5872, 'everything perfect beach': 4000, 'perfect beach steep': 9003, 'beach steep dangerous': 1213, 'steep dangerous wave': 11789, 'dangerous wave red': 2968, 'wave red flag': 13158, 'red flag walk': 9904, 'flag walk outside': 4537, 'walk outside hotel': 13075, 'outside hotel access': 8762, 'layed': 6836, 'stretcher': 11864, 'lawn': 6833, 'layed stretcher': 6837, 'stretcher lawn': 11865, 'lawn super': 6834, 'super service': 11959, 'service bad': 10787, 'layed stretcher lawn': 6838, 'stretcher lawn super': 11866, 'lawn super service': 6835, 'super service bad': 11960, 'smallest': 11201, 'campsite expensive': 1864, 'expensive ever': 4175, 'stayed smallest': 11759, 'smallest pitch': 11202, 'campsite expensive ever': 1865, 'expensive ever stayed': 4176, 'ever stayed smallest': 3917, 'stayed smallest pitch': 11760, 'tent': 12185, 'peg': 8964, 'ground hard': 5483, 'hard tent': 5629, 'tent peg': 12186, 'peg stay': 8965, 'ground hard tent': 5484, 'hard tent peg': 5630, 'tent peg stay': 12187, 'redeeming': 9910, 'feature': 4398, 'climbing': 2378, 'redeeming feature': 9911, 'feature location': 4399, 'location interested': 7166, 'interested climbing': 6537, 'climbing walking': 2379, 'distance wide': 3355, 'wide variety': 13359, 'variety climb': 12897, 'redeeming feature location': 9912, 'feature location interested': 4400, 'location interested climbing': 7167, 'interested climbing walking': 6538, 'climbing walking distance': 2380, 'walking distance wide': 13091, 'distance wide variety': 3356, 'wide variety climb': 13360, 'expense': 4172, 'however make': 6334, 'make expense': 7524, 'expense lack': 4173, 'lack space': 6750, 'however make expense': 6335, 'make expense lack': 7525, 'expense lack space': 4174, 'hotel amazing': 5881, 'amazing staff': 538, 'staff best': 11448, 'beautiful hotel amazing': 1235, 'hotel amazing staff': 5882, 'amazing staff best': 539, 'staff best holiday': 11449, 'everyday': 3967, 'tasted': 12125, 'exceeded': 4030, 'room lovely': 10401, 'lovely cleaned': 7363, 'cleaned really': 2343, 'really well': 9786, 'well everyday': 13259, 'everyday beautiful': 3968, 'view food': 12947, 'food tasted': 4662, 'tasted good': 12126, 'good lot': 5258, 'choice hotel': 2178, 'nicest ever': 8351, 'stayed exceeded': 11741, 'exceeded expectation': 4031, 'room lovely cleaned': 10402, 'lovely cleaned really': 7364, 'cleaned really well': 2344, 'really well everyday': 9787, 'well everyday beautiful': 13260, 'everyday beautiful view': 3969, 'beautiful view food': 1248, 'view food tasted': 12948, 'food tasted good': 4663, 'tasted good lot': 12127, 'good lot choice': 5259, 'lot choice hotel': 7265, 'choice hotel nicest': 2179, 'hotel nicest ever': 6161, 'nicest ever stayed': 8352, 'ever stayed exceeded': 3916, 'stayed exceeded expectation': 11742, 'enjoyed lot': 3695, 'hope next': 5826, 'summer day': 11927, 'hope next summer': 5827, 'next summer day': 8224, 'absolutely value': 152, 'absolutely value money': 153, 'completely': 2623, 'dissatisfied': 3331, 'foto': 4703, 'smelling': 11213, 'hospital': 5839, 'completely dissatisfied': 2624, 'dissatisfied owner': 3332, 'owner unfriendly': 8816, 'unfriendly attitude': 12791, 'lot different': 7274, 'different foto': 3214, 'foto hotel': 4704, 'hotel internet': 6075, 'internet site': 6570, 'site room': 11069, 'room smelling': 10476, 'smelling bad': 11214, 'bad hospital': 986, 'completely dissatisfied owner': 2625, 'dissatisfied owner unfriendly': 3333, 'owner unfriendly attitude': 8817, 'unfriendly attitude room': 12792, 'attitude room lot': 883, 'room lot different': 10397, 'lot different foto': 7275, 'different foto hotel': 3215, 'foto hotel internet': 4705, 'hotel internet site': 6076, 'internet site room': 6571, 'site room smelling': 11070, 'room smelling bad': 10477, 'smelling bad hospital': 11215, 'compact': 2587, 'nice spacious': 8323, 'spacious yet': 11350, 'yet compact': 13592, 'compact hotel': 2588, 'area thing': 759, 'thing want': 12266, 'want beach': 13111, 'beach holiday': 1192, 'holiday inside': 5784, 'inside hotel': 6509, 'nice spacious yet': 8324, 'spacious yet compact': 11351, 'yet compact hotel': 13593, 'compact hotel area': 2589, 'hotel area thing': 5894, 'area thing want': 760, 'thing want beach': 12267, 'want beach holiday': 13112, 'beach holiday inside': 1193, 'holiday inside hotel': 5785, 'inside hotel area': 6510, 'humorous': 6357, 'peace': 8961, 'choose friendly': 2201, 'friendly humorous': 4828, 'humorous staff': 6358, 'facility activity': 4266, 'activity peace': 208, 'peace quiet': 8962, 'quiet want': 9596, 'lot restaurant choose': 7296, 'restaurant choose friendly': 10108, 'choose friendly humorous': 2202, 'friendly humorous staff': 4829, 'humorous staff good': 6359, 'staff good facility': 11496, 'good facility activity': 5217, 'facility activity peace': 4267, 'activity peace quiet': 209, 'peace quiet want': 8963, 'partyplace': 8930, 'sence': 10747, 'partyplace good': 8931, 'good sence': 5301, 'partyplace good sence': 8932, 'nightclub right': 8388, 'right across': 10212, 'nightclub right across': 8389, 'right across street': 10213, 'clean service': 2321, 'hotel nice clean': 6157, 'nice clean service': 8258, 'clean service great': 2322, 'good vegetarian': 5333, 'vegetarian little': 12917, 'restaurant good vegetarian': 10129, 'good vegetarian little': 5334, 'vegetarian little choice': 12918, 'sauna little': 10618, 'small two': 11187, 'two clean': 12721, 'sauna little bit': 10619, 'little bit small': 7014, 'bit small two': 1478, 'small two clean': 11188, 'two clean nice': 12722, 'good situation': 5310, 'located access': 7080, 'access town': 179, 'well located access': 13270, 'located access town': 7081, 'revisiting': 10204, 'stay revisiting': 11705, 'revisiting town': 10205, 'would stay revisiting': 13552, 'stay revisiting town': 11706, 'whatsoever': 13323, 'problem whatsoever': 9477, 'camping': 1861, 'camping village': 1862, 'village well': 12991, 'looked provided': 7238, 'provided many': 9509, 'many comfort': 7593, 'comfort restourant': 2526, 'restourant supermarket': 10180, 'bar two': 1065, 'two swimming': 12738, 'pool one': 9296, 'one adult': 8619, 'adult smaller': 249, 'smaller child': 11193, 'camping village well': 1863, 'village well looked': 12992, 'well looked provided': 13274, 'looked provided many': 7239, 'provided many comfort': 9510, 'many comfort restourant': 7594, 'comfort restourant supermarket': 2527, 'restourant supermarket bar': 10181, 'supermarket bar two': 11974, 'bar two swimming': 1066, 'two swimming pool': 12739, 'swimming pool one': 12051, 'pool one adult': 9297, 'one adult smaller': 8620, 'adult smaller child': 250, 'pinewold': 9098, 'mosquito': 7974, 'along': 364, 'lotion': 7306, 'middle pinewold': 7773, 'pinewold lot': 9099, 'lot mosquito': 7287, 'mosquito bring': 7975, 'bring along': 1702, 'along lotion': 365, 'lotion near': 7307, 'near sea': 8084, 'situated middle pinewold': 11078, 'middle pinewold lot': 7774, 'pinewold lot mosquito': 9100, 'lot mosquito bring': 7288, 'mosquito bring along': 7976, 'bring along lotion': 1703, 'along lotion near': 366, 'lotion near sea': 7308, 'cottage': 2779, 'cottage comfortable': 2780, 'comfortable pretty': 2555, 'pretty clean': 9397, 'cottage comfortable pretty': 2781, 'comfortable pretty clean': 2556, 'typical': 12750, 'tuscan': 12692, 'pizza': 9111, 'restourant eat': 10178, 'eat typical': 3547, 'typical tuscan': 12751, 'tuscan food': 12693, 'good pizza': 5278, 'pizza special': 9112, 'restourant eat typical': 10179, 'eat typical tuscan': 3548, 'typical tuscan food': 12752, 'tuscan food good': 12694, 'food good pizza': 4621, 'good pizza special': 5279, 'employes': 3634, 'kind friendly': 6692, 'friendly employes': 4812, 'employes reception': 3635, 'reception supermarket': 9843, 'kind friendly employes': 6693, 'friendly employes reception': 4813, 'employes reception supermarket': 3636, 'reception supermarket bar': 9844, 'atmosphere good': 848, 'going visit': 5149, 'going visit next': 5150, 'visit next year': 13015, 'quality price': 9555, 'good quality price': 5286, 'good position': 5282, 'position close': 9341, 'center train': 1988, 'hotel good position': 6046, 'good position close': 5283, 'position close city': 9342, 'city center train': 2224, 'center train station': 1989, 'internal': 6553, 'hallmark': 5578, 'applied': 678, 'hotel internal': 6073, 'internal restaurant': 6554, 'however two': 6343, 'two option': 12736, 'option small': 8719, 'small restaurant': 11167, 'restaurant next': 10153, 'next hallmark': 8210, 'hallmark hotel': 5579, 'restaurant across': 10092, 'street discount': 11849, 'discount applied': 3305, 'applied customer': 679, 'customer hallmark': 2930, 'hallmark inn': 5581, 'hotel internal restaurant': 6074, 'internal restaurant however': 6555, 'restaurant however two': 10134, 'however two option': 6344, 'two option small': 12737, 'option small restaurant': 8720, 'small restaurant next': 11168, 'restaurant next hallmark': 10154, 'next hallmark hotel': 8211, 'hallmark hotel restaurant': 5580, 'hotel restaurant across': 6221, 'restaurant across street': 10093, 'across street discount': 201, 'street discount applied': 11850, 'discount applied customer': 3306, 'applied customer hallmark': 680, 'customer hallmark inn': 2931, 'noticeable': 8469, 'noticeable free': 8470, 'hotel inn': 6065, 'inn customer': 6499, 'noticeable free parking': 8471, 'parking hotel inn': 8892, 'hotel inn customer': 6066, 'decently': 3073, 'quality hotel': 9551, 'hotel inside': 6067, 'inside good': 6507, 'room simple': 10462, 'simple clean': 11038, 'clean furnished': 2291, 'furnished decently': 4930, 'decently well': 3074, 'quality hotel inside': 9552, 'hotel inside good': 6068, 'inside good room': 6508, 'good room simple': 5300, 'room simple clean': 10463, 'simple clean furnished': 11039, 'clean furnished decently': 2292, 'furnished decently well': 4931, 'ration': 9688, 'fairly': 4306, 'hotel ration': 6204, 'ration cost': 9689, 'cost quality': 2776, 'quality fairly': 9546, 'fairly good': 4307, 'good also': 5167, 'also free': 414, 'connection wifi': 2698, 'budget hotel ration': 1724, 'hotel ration cost': 6205, 'ration cost quality': 9690, 'cost quality fairly': 2777, 'quality fairly good': 9547, 'fairly good also': 4308, 'good also free': 5168, 'also free internet': 415, 'free internet connection': 4749, 'internet connection wifi': 6565, 'hotel three': 6270, 'three time': 12323, 'time experience': 12371, 'experience time': 4190, 'time amazing': 12360, 'amazing room': 534, 'hotel considering': 5958, 'considering 20': 2702, 'year old': 13576, 'old amazing': 8572, 'amazing condition': 523, 'back hotel three': 963, 'hotel three time': 6271, 'three time experience': 12324, 'time experience time': 12372, 'experience time amazing': 4191, 'time amazing room': 12361, 'amazing room clean': 535, 'clean comfortable hotel': 2278, 'comfortable hotel considering': 2542, 'hotel considering 20': 5959, 'considering 20 year': 2703, '20 year old': 56, 'year old amazing': 13577, 'old amazing condition': 8573, 'hotel awesome': 5896, 'shadow': 10888, 'pool shadow': 9301, 'nice location': 8297, 'lovely clean nice': 7362, 'clean nice room': 2313, 'nice room nice': 8318, 'room nice location': 10416, 'paaid': 8820, 'exactly': 4020, 'sevice': 10876, 'include': 6436, 'rs375': 10525, 'insult': 6527, 'paaid inclusive': 8821, 'inclusive exactly': 6457, 'exactly received': 4021, 'received pay': 9809, 'pay extra': 8953, 'extra inclusive': 4228, 'hotel meal': 6133, 'meal main': 7696, 'main self': 7495, 'self sevice': 10742, 'sevice restaurant': 10877, 'restaurant include': 10135, 'include restaurant': 6437, 'restaurant site': 10161, 'site local': 11066, 'local fish': 7074, 'fish market': 4513, 'market evening': 7630, 'evening extra': 3899, 'extra well': 4231, 'well ala': 13240, 'carte give': 1933, 'give rs375': 5071, 'rs375 ala': 10526, 'carte menu': 1937, 'menu insult': 7740, 'insult due': 6528, 'due price': 3479, 'price charged': 9410, 'charged self': 2078, 'self service': 10741, 'paaid inclusive exactly': 8822, 'inclusive exactly received': 6458, 'exactly received pay': 4022, 'received pay extra': 9810, 'pay extra inclusive': 8954, 'extra inclusive hotel': 4229, 'inclusive hotel meal': 6459, 'hotel meal main': 6134, 'meal main self': 7697, 'main self sevice': 7496, 'self sevice restaurant': 10743, 'sevice restaurant include': 10878, 'restaurant include restaurant': 10136, 'include restaurant site': 6438, 'restaurant site local': 10162, 'site local fish': 11067, 'local fish market': 7075, 'fish market evening': 4514, 'market evening extra': 7631, 'evening extra well': 3900, 'extra well ala': 4232, 'well ala carte': 13241, 'ala carte give': 330, 'carte give rs375': 1934, 'give rs375 ala': 5072, 'rs375 ala carte': 10527, 'ala carte menu': 332, 'carte menu insult': 1938, 'menu insult due': 7741, 'insult due price': 6529, 'due price charged': 3480, 'price charged self': 9411, 'charged self service': 2079, 'liquires': 6995, 'wine included': 13385, 'included inclusive': 6441, 'inclusive even': 6455, 'even meal': 3874, 'meal paid': 7698, 'paid extra': 8828, 'extra liquires': 4230, 'wine included inclusive': 13386, 'included inclusive even': 6442, 'inclusive even meal': 6456, 'even meal paid': 3875, 'meal paid extra': 7699, 'paid extra liquires': 8829, 'hotel kind': 6081, 'kind personnel': 6696, 'personnel delicious': 9061, 'great hotel kind': 5405, 'hotel kind personnel': 6082, 'kind personnel delicious': 6697, 'personnel delicious food': 9062, 'warm comfy': 13132, 'comfy hotel': 2567, 'hotel make': 6122, 'make feel': 7526, 'feel home': 4408, 'home right': 5808, 'right away': 10214, 'warm comfy hotel': 13133, 'comfy hotel make': 2568, 'hotel make feel': 6123, 'make feel home': 7527, 'feel home right': 4409, 'home right away': 5809, 'room small sufficient': 10471, 'definitely clean': 3102, 'clean important': 2299, 'definitely clean important': 3103, 'bathroom pretty': 1148, 'pretty new': 9403, 'new also': 8176, 'also absolutely': 389, 'absolutely clean': 143, 'bathroom pretty new': 1149, 'pretty new also': 9404, 'new also absolutely': 8177, 'also absolutely clean': 390, 'enjoyed breakfast': 3683, 'one dinner': 8645, 'dinner hotel': 3250, 'enjoyed breakfast one': 3684, 'breakfast one dinner': 1657, 'one dinner hotel': 8646, 'dinner hotel great': 3251, 'baby': 950, 'keen': 6648, 'stroller': 11881, 'month old': 7944, 'old baby': 8574, 'baby personnel': 951, 'personnel keen': 9064, 'keen find': 6649, 'find good': 4453, 'good table': 5322, 'table stroller': 12073, 'month old baby': 7945, 'old baby personnel': 8575, 'baby personnel keen': 952, 'personnel keen find': 9065, 'keen find good': 6650, 'find good table': 4454, 'good table stroller': 5323, 'small park': 11162, 'park right': 8878, 'right next': 10223, 'nice take': 8331, 'take walk': 12100, 'small park right': 11163, 'park right next': 8879, 'right next hotel': 10224, 'next hotel nice': 8214, 'hotel nice take': 6160, 'nice take walk': 8332, 'center trier': 1990, 'trier 10': 12643, '10 15': 3, 'minute drive': 7828, 'drive away': 3459, 'center trier 10': 1991, 'trier 10 15': 12644, '10 15 minute': 4, '15 minute drive': 33, 'minute drive away': 7829, 'enjoyed hotel': 3691, 'hotel much': 6143, 'much recommend': 8021, 'enjoyed hotel much': 3692, 'hotel much recommend': 6144, 'hotel centre': 5941, 'nice hotel centre': 8282, 'hotel centre ne': 5942, 'accomodation': 187, 'nice accomodation': 8234, 'accomodation really': 188, 'nice accomodation really': 8235, 'accomodation really great': 189, 'really great breakfast': 9742, 'really close': 9723, 'close centre': 2391, 'ne within': 8060, 'minute beach': 7824, 'beach bike': 1176, 'really close centre': 9724, 'close centre ne': 2392, 'centre ne within': 2012, 'ne within minute': 8061, 'within minute beach': 13400, 'minute beach bike': 7825, 'mold': 7908, 'tile': 12353, 'lower': 7396, 'lot smaller': 7297, 'smaller expected': 11194, 'expected bathroom': 4170, 'bathroom mold': 1142, 'mold tile': 7909, 'tile rated': 12354, 'rated part': 9671, 'part lower': 8913, 'room lot smaller': 10398, 'lot smaller expected': 7298, 'smaller expected bathroom': 11195, 'expected bathroom mold': 4171, 'bathroom mold tile': 1143, 'mold tile rated': 7910, 'tile rated part': 12355, 'rated part lower': 9672, 'amazing wellness': 543, 'facility dorint': 4274, 'amazing wellness facility': 544, 'wellness facility dorint': 13305, 'facility dorint der': 4275, 'messe cologne': 7743, 'cologne nice': 2495, 'der messe cologne': 3152, 'messe cologne nice': 7744, 'cologne nice star': 2496, 'spa wellness': 11321, 'facility better': 4272, 'better hoped': 1365, 'hoped would': 5830, 'would get': 13523, 'get four': 5039, 'hotel compared': 5955, 'compared five': 2590, 'spa wellness facility': 11322, 'wellness facility better': 13304, 'facility better hoped': 4273, 'better hoped would': 1366, 'hoped would get': 5831, 'would get four': 13524, 'get four star': 5040, 'star hotel compared': 11607, 'hotel compared five': 5956, 'compared five star': 2591, 'star hotel stayed': 11614, 'jacuzzi sauna': 6630, 'sauna clean': 10614, 'clean relaxing': 2316, 'pool jacuzzi sauna': 9293, 'jacuzzi sauna clean': 6631, 'sauna clean relaxing': 10615, 'room comfort': 10319, 'comfort need': 2523, 'need breakfast': 8104, 'room standard room': 10486, 'standard room comfort': 11596, 'room comfort need': 10320, 'comfort need breakfast': 2524, 'need breakfast excellent': 8105, 'table clean': 12069, 'friendly crowded': 4809, 'table clean staff': 12070, 'clean staff friendly': 2325, 'staff friendly crowded': 11484, 'plan': 9183, 'plan another': 9184, 'another visit': 630, 'cologne would': 2497, 'plan another visit': 9185, 'another visit cologne': 631, 'visit cologne would': 13002, 'cologne would certainly': 2498, 'certainly stay hotel': 2042, 'disappointing': 3285, 'disappointing priced': 3286, 'priced rude': 9439, 'rude staff': 10533, 'disappointing priced rude': 3287, 'priced rude staff': 9440, 'ruined': 10536, 'boast': 1512, 'collection': 2492, 'hotel priced': 6190, 'priced considering': 9436, 'considering get': 2704, 'get dated': 5031, 'dated room': 2986, 'old hard': 8595, 'hard linen': 5621, 'linen towel': 6988, 'towel etc': 12533, 'etc poor': 3834, 'poor selection': 9333, 'selection quality': 10736, 'breakfast many': 1648, 'many part': 7599, 'hotel closed': 5951, 'closed refurbishment': 2434, 'refurbishment rude': 9937, 'rude unfriendly': 10534, 'unfriendly staff': 12794, 'staff ruined': 11542, 'ruined stay': 10537, 'hotel boast': 5910, 'boast art': 1513, 'art collection': 803, 'collection pay': 2493, 'pay attention': 8948, 'attention customer': 864, 'customer service': 2934, 'service standard': 10847, 'standard guest': 11588, 'hotel priced considering': 6191, 'priced considering get': 9437, 'considering get dated': 2705, 'get dated room': 5032, 'dated room old': 2987, 'room old hard': 10422, 'old hard linen': 8596, 'hard linen towel': 5622, 'linen towel etc': 6989, 'towel etc poor': 12534, 'etc poor selection': 3835, 'poor selection quality': 9334, 'selection quality food': 10737, 'quality food breakfast': 9548, 'food breakfast many': 4587, 'breakfast many part': 1649, 'many part hotel': 7600, 'part hotel closed': 8911, 'hotel closed refurbishment': 5952, 'closed refurbishment rude': 2435, 'refurbishment rude unfriendly': 9938, 'rude unfriendly staff': 10535, 'unfriendly staff ruined': 12795, 'staff ruined stay': 11543, 'ruined stay hotel': 10538, 'stay hotel boast': 11673, 'hotel boast art': 5911, 'boast art collection': 1514, 'art collection pay': 804, 'collection pay attention': 2494, 'pay attention customer': 8949, 'attention customer service': 865, 'customer service standard': 2935, 'service standard guest': 10848, 'resort great': 10060, 'beach resort great': 1204, 'bad comment': 980, 'coffecorner': 2458, 'italian coffecorner': 6605, 'coffecorner columbus': 2459, 'columbus great': 2504, 'great also': 5366, 'italian coffecorner columbus': 6606, 'coffecorner columbus great': 2460, 'columbus great also': 2505, 'great also service': 5367, 'service staff excellent': 10844, 'rate good': 9665, 'quality rate good': 9556, 'rate good breakfast': 9666, 'choice nice': 2185, 'nice helpful': 8279, 'helpful people': 5706, 'lot choice nice': 7266, 'choice nice helpful': 2186, 'nice helpful people': 8280, 'rebuilding hotel': 9806, 'location perfect': 7173, 'close amsterdam': 2381, 'amsterdam highway': 588, 'close amsterdam highway': 2382, 'dirt': 3260, 'builder': 1754, 'hotel yet': 6290, 'yet rebuilding': 13595, 'rebuilding noise': 9807, 'noise dirt': 8410, 'dirt builder': 3261, 'recommend hotel yet': 9885, 'hotel yet rebuilding': 6291, 'yet rebuilding noise': 13596, 'rebuilding noise dirt': 9808, 'noise dirt builder': 8411, 'hotel directly': 5974, 'directly strip': 3259, 'great hotel directly': 5404, 'hotel directly strip': 5975, 'held': 5666, 'held clean': 5667, 'clean everyone': 2284, 'everyone friendly': 3972, 'held clean everyone': 5668, 'clean everyone friendly': 2285, 'casino': 1947, 'big take': 1428, 'take quite': 12090, 'quite get': 9615, 'get one': 5052, 'one place': 8671, 'place especially': 9128, 'especially get': 3797, 'get casino': 5028, 'casino shop': 1948, 'hotel big take': 5906, 'big take quite': 1429, 'take quite get': 12091, 'quite get one': 9616, 'get one place': 5053, 'one place especially': 8672, 'place especially get': 9129, 'especially get casino': 3798, 'get casino shop': 5029, 'built': 1766, 'hotel built': 5928, 'built year': 1767, 'ago run': 295, 'run modern': 10547, 'hotel built year': 5929, 'built year ago': 1768, 'year ago run': 13564, 'ago run modern': 296, 'nice modern': 8302, 'really nice modern': 9763, 'nice modern hotel': 8303, 'ness': 8147, 'located town': 7111, 'town ness': 12547, 'nice hotel well': 8294, 'well located town': 13272, 'located town ness': 7112, 'modern room': 7899, 'tea machine': 12150, 'free coffee': 4737, 'modern room coffee': 7900, 'room coffee tea': 10318, 'coffee tea machine': 2473, 'tea machine free': 12151, 'machine free coffee': 7438, 'free coffee tea': 4738, 'staff helpfull': 11503, 'staff helpfull friendly': 11504, 'small clean': 11134, 'little small clean': 7039, 'size tv': 11097, 'good size tv': 5312, 'serve really': 10768, 'serve really nice': 10769, 'really nice breakfast': 9762, 'missing': 7857, 'read': 9700, 'missing thing': 7858, 'hotel lounge': 6110, 'lounge sit': 7334, 'sit relax': 11062, 'relax read': 9955, 'read paper': 9701, 'missing thing hotel': 7859, 'thing hotel lounge': 12258, 'hotel lounge sit': 6111, 'lounge sit relax': 7335, 'sit relax read': 11063, 'relax read paper': 9956, 'pleasant place': 9208, 'pleasant hotel': 9205, 'neightborhood': 8138, 'neightborhood nice': 8139, 'nice central': 8254, 'neightborhood nice central': 8140, 'away everything': 918, 'everything might': 3994, 'might need': 7776, 'minute away everything': 7819, 'away everything might': 919, 'everything might need': 3995, 'big clean': 1409, 'room big clean': 10291, 'bathroom extremely': 1133, 'extremely large': 4242, 'large yet': 6796, 'yet comfortable': 13588, 'comfortable clean': 2537, 'bathroom extremely large': 1134, 'extremely large yet': 4243, 'large yet comfortable': 6797, 'yet comfortable clean': 13589, 'connection free': 2694, 'free high': 4747, 'internet connection free': 6563, 'connection free high': 2695, 'free high speed': 4748, 'nice table': 8329, 'table work': 12076, 'work room': 13445, 'nice table work': 8330, 'table work room': 12077, 'definitively': 3116, 'definitively good': 3117, 'trip holiday': 12654, 'definitively good place': 3118, 'good place business': 5281, 'place business trip': 9119, 'business trip holiday': 1820, 'higly': 5751, 'higly recommended': 5752, 'highlight': 5740, 'nadia': 8046, 'petros': 9072, 'highlight included': 5741, 'included great': 6439, 'staff nadia': 11522, 'nadia petros': 8047, 'petros top': 9073, 'top great': 12482, 'nice apartment': 8238, 'apartment cleaned': 665, 'cleaned daily': 2335, 'daily short': 2943, 'short taxi': 10952, 'taxi ride': 12144, 'ride town': 10209, 'town center': 12543, 'center amp': 1957, 'amp bar': 570, 'bar thought': 1063, 'highlight included great': 5742, 'included great staff': 6440, 'great staff nadia': 5440, 'staff nadia petros': 11523, 'nadia petros top': 8048, 'petros top great': 9074, 'top great food': 12483, 'great food nice': 5392, 'food nice apartment': 4642, 'nice apartment cleaned': 8239, 'apartment cleaned daily': 666, 'cleaned daily short': 2336, 'daily short taxi': 2944, 'short taxi ride': 10953, 'taxi ride town': 12145, 'ride town center': 10210, 'town center amp': 12544, 'center amp bar': 1958, 'amp bar thought': 571, 'bar thought great': 1064, 'remarkable': 9981, 'nightlife': 8392, 'rembrantplein': 9984, 'hotel remarkable': 6215, 'remarkable position': 9982, 'position town': 9343, 'town 10': 12540, 'minute foot': 7832, 'foot get': 4677, 'get nightlife': 5050, 'nightlife rembrantplein': 8393, 'hotel remarkable position': 6216, 'remarkable position town': 9983, 'position town 10': 9344, 'town 10 minute': 12541, '10 minute foot': 7, 'minute foot get': 7833, 'foot get nightlife': 4678, 'get nightlife rembrantplein': 5051, 'insect': 6502, 'rest dirty': 10080, 'dirty example': 3264, 'example found': 4023, 'found little': 4708, 'little insect': 7030, 'insect room': 6503, 'room sheet': 10460, 'sheet well': 10901, 'well cleaned': 13244, 'cleaned found': 2339, 'found stain': 4720, 'stain want': 11578, 'want know': 13117, 'rest dirty example': 10081, 'dirty example found': 3265, 'example found little': 4024, 'found little insect': 4709, 'little insect room': 7031, 'insect room sheet': 6504, 'room sheet well': 10461, 'sheet well cleaned': 10902, 'well cleaned found': 13245, 'cleaned found stain': 2340, 'found stain want': 4721, 'stain want know': 11579, 'sink': 11058, 'addition bathroom': 222, 'little cannot': 7017, 'cannot use': 1884, 'use sink': 12844, 'sink door': 11059, 'door closed': 3390, 'closed space': 2436, 'addition bathroom little': 223, 'bathroom little cannot': 1141, 'little cannot use': 7018, 'cannot use sink': 1885, 'use sink door': 12845, 'sink door closed': 11060, 'door closed space': 3391, 'money spent': 7926, 'worth money spent': 13494, 'great family': 5387, 'family friendly': 4317, 'great family friendly': 5388, 'family friendly hotel': 4318, 'nice hotel great': 8287, 'hotel great staff': 6050, 'repeatative': 10014, 'food bit': 4585, 'bit repeatative': 1470, 'food bit repeatative': 4586, 'much choice': 8000, 'choice english': 2172, 'much choice english': 8001, 'lot eastern': 7276, 'european food': 3854, 'lot eastern european': 7277, 'eastern european food': 3523, 'russian happy': 10566, 'happy go': 5616, 'year great': 13570, 'russian happy go': 10567, 'happy go back': 5617, 'hotel next year': 6154, 'next year great': 8231, 'year great holiday': 13571, 'quite nice hotel': 9619, 'swift': 12039, 'pc': 8958, 'platinum': 9189, 'hi one': 5730, 'expect hi': 4154, 'hi although': 5726, 'although check': 455, 'quite swift': 9630, 'swift upgrade': 12040, 'upgrade pc': 12824, 'pc platinum': 8959, 'platinum member': 9190, 'hi one would': 5731, 'one would expect': 8694, 'would expect hi': 13520, 'expect hi although': 4155, 'hi although check': 5727, 'although check quite': 456, 'check quite swift': 2126, 'quite swift upgrade': 9631, 'swift upgrade pc': 12041, 'upgrade pc platinum': 12825, 'pc platinum member': 8960, 'school': 10664, 'failed': 4298, 'intervene': 6577, 'stay quite': 11701, 'quite noisy': 9621, 'noisy group': 8426, 'group school': 5502, 'school child': 10665, 'child staying': 2162, 'staying hotel': 11770, 'hotel making': 6124, 'making lot': 7544, 'lot noise': 7291, 'noise night': 8416, 'night reception': 8379, 'reception failed': 9831, 'failed intervene': 4299, 'stay quite noisy': 11702, 'quite noisy group': 9622, 'noisy group school': 8427, 'group school child': 5503, 'school child staying': 10666, 'child staying hotel': 2163, 'staying hotel making': 11771, 'hotel making lot': 6125, 'making lot noise': 7545, 'lot noise night': 7292, 'noise night reception': 8417, 'night reception failed': 8380, 'reception failed intervene': 9832, 'go steigenberger': 5117, 'go steigenberger frankfurtter': 5118, 'hof great': 5760, 'stay frankfurt': 11668, 'frankfurtter hof great': 4734, 'hof great place': 5761, 'place stay frankfurt': 9160, 'location absolutely': 7116, 'absolutely top': 148, 'top going': 12480, 'going shopping': 5144, 'shopping business': 10924, 'location absolutely top': 7117, 'absolutely top going': 149, 'top going shopping': 12481, 'going shopping business': 5145, 'classy': 2262, 'really top': 9780, 'top line': 12484, 'line room': 6983, 'room renovated': 10447, 'renovated classy': 10000, 'classy modern': 2263, 'service really top': 10841, 'really top line': 9781, 'top line room': 12485, 'line room renovated': 6984, 'room renovated classy': 10448, 'renovated classy modern': 10001, 'classy modern style': 2264, 'rank': 9658, 'among': 563, 'would rank': 13545, 'rank one': 9659, 'one among': 8621, 'among top': 564, 'top five': 12477, 'five visit': 4532, 'visit ever': 13005, 'would rank one': 13546, 'rank one among': 9660, 'one among top': 8622, 'among top five': 565, 'top five visit': 12478, 'five visit ever': 4533, 'ritz': 10225, 'stayed ritz': 11755, 'ritz carlton': 10226, 'carlton south': 1925, 'beach due': 1183, 'due conference': 3476, 'conference experience': 2668, 'experience excellent': 4183, 'stayed ritz carlton': 11756, 'ritz carlton south': 10227, 'carlton south beach': 1926, 'south beach due': 11301, 'beach due conference': 1184, 'due conference experience': 3477, 'conference experience excellent': 2669, 'great room': 5429, 'breakfast pool': 1661, 'pool gym': 9290, 'friendly staff great': 4858, 'staff great room': 11499, 'great room good': 5430, 'room good breakfast': 10361, 'good breakfast pool': 5184, 'breakfast pool gym': 1662, 'choice enjoy': 2173, 'enjoy comfort': 3666, 'good choice enjoy': 5191, 'choice enjoy comfort': 2174, 'enjoy comfort luxury': 3667, 'wonderful time': 13425, '80': 110, '90th': 121, 'bob': 1518, 'marley': 7634, 'imposible': 6419, 'time nothing': 12390, 'complain except': 2607, 'except disco': 4109, 'disco music': 3303, 'music need': 8033, 'need adjusted': 8100, 'adjusted went': 238, 'went disco': 13309, 'disco group': 3301, 'group people': 5500, 'people ask': 8971, 'ask dj': 817, 'dj play': 3363, 'play music': 9195, 'music 80': 8025, '80 90th': 111, '90th play': 122, 'play bob': 9191, 'bob marley': 1519, 'marley music': 7635, 'music imposible': 8031, 'imposible dance': 6420, 'good time nothing': 5326, 'time nothing complain': 12391, 'nothing complain except': 8452, 'complain except disco': 2608, 'except disco music': 4110, 'disco music need': 3304, 'music need adjusted': 8034, 'need adjusted went': 8101, 'adjusted went disco': 239, 'went disco group': 13310, 'disco group people': 3302, 'group people ask': 5501, 'people ask dj': 8972, 'ask dj play': 818, 'dj play music': 3364, 'play music 80': 9196, 'music 80 90th': 8026, '80 90th play': 112, '90th play bob': 123, 'play bob marley': 9192, 'bob marley music': 1520, 'marley music imposible': 7636, 'music imposible dance': 8032, 'noticed': 8472, 'noticed disco': 8473, 'disco always': 3299, 'always empty': 491, 'empty change': 3637, 'change music': 2059, 'music dj': 8028, 'noticed disco always': 8474, 'disco always empty': 3300, 'always empty change': 492, 'empty change music': 3638, 'change music dj': 2060, 'dancer': 2960, 'entertain': 3740, 'stupid': 11895, 'dansing': 2969, 'pant': 8850, 'audience': 887, 'liked lot': 6968, 'lot dancer': 7272, 'dancer guest': 2961, 'guest entertain': 5515, 'entertain guest': 3741, 'guest stupid': 5531, 'stupid dansing': 11897, 'dansing running': 2970, 'running around': 10549, 'around take': 782, 'take shoe': 12092, 'shoe pant': 10909, 'pant audience': 8851, 'audience stupid': 888, 'stupid borring': 11896, 'liked lot dancer': 6969, 'lot dancer guest': 7273, 'dancer guest entertain': 2962, 'guest entertain guest': 5516, 'entertain guest stupid': 3742, 'guest stupid dansing': 5532, 'stupid dansing running': 11898, 'dansing running around': 2971, 'running around take': 10550, 'around take shoe': 783, 'take shoe pant': 12093, 'shoe pant audience': 10910, 'pant audience stupid': 8852, 'audience stupid borring': 889, 'food wonderful': 4672, 'room food wonderful': 10352, '830': 113, '900': 120, 'beach small': 1208, 'small rock': 11169, 'rock water': 10245, 'water shoe': 13150, 'shoe come': 10907, 'come early': 2513, 'early beach': 3501, 'beach expect': 1185, 'expect towel': 4162, 'towel 830': 12527, '830 900': 114, 'beach small rock': 1209, 'small rock water': 11170, 'rock water shoe': 10246, 'water shoe come': 13151, 'shoe come early': 10908, 'come early beach': 2514, 'early beach expect': 3502, 'beach expect towel': 1186, 'expect towel 830': 4163, 'towel 830 900': 12528, 'overal resort': 8778, 'resort good': 10059, 'overal resort good': 8779, 'back bring': 955, 'bring music': 1704, 'music disco': 8027, 'go back bring': 5095, 'back bring music': 956, 'bring music disco': 1705, 'defiantly': 3089, 'scenic': 10655, 'defiantly return': 3090, 'staff lovely': 11513, 'lovely lobby': 7373, 'lobby welcoming': 7072, 'welcoming hotel': 13234, 'great condition': 5376, 'room comfortable': 10321, 'comfortable kln': 2544, 'kln city': 6712, 'centre short': 2019, 'short scenic': 10945, 'scenic walk': 10656, 'walk room': 13078, 'defiantly return hotel': 3091, 'return hotel staff': 10197, 'hotel staff lovely': 6253, 'staff lovely lobby': 11514, 'lovely lobby welcoming': 7374, 'lobby welcoming hotel': 7073, 'welcoming hotel great': 13235, 'hotel great condition': 6047, 'great condition room': 5377, 'condition room comfortable': 2653, 'room comfortable kln': 10322, 'comfortable kln city': 2545, 'kln city centre': 6713, 'city centre short': 2227, 'centre short scenic': 2020, 'short scenic walk': 10946, 'scenic walk room': 10657, 'poor service': 9335, 'poor hotel': 9328, 'poor service poor': 9336, 'service poor hotel': 10839, 'disaster': 3292, 'bad facility': 982, 'facility service': 4285, 'service disaster': 10797, 'star hotel bad': 11604, 'hotel bad facility': 5898, 'bad facility service': 983, 'facility service disaster': 4286, 'country': 2830, 'locates': 7113, 'nowhere': 8491, 'heater': 5659, 'locked': 7197, 'sound': 11296, 'proof': 9496, 'allow': 344, 'old country': 8585, 'country house': 2831, 'house locates': 6314, 'locates middle': 7114, 'middle nowhere': 7770, 'nowhere facility': 8492, 'facility old': 4279, 'old heater': 8597, 'heater warm': 5660, 'warm night': 13134, 'night door': 8362, 'door locked': 3396, 'locked using': 7198, 'using key': 12860, 'key wall': 6668, 'wall sound': 13109, 'sound proof': 11297, 'proof allow': 9497, 'allow hear': 345, 'everything breakfast': 3977, 'breakfast cost': 1619, 'cost 30': 2772, '30 euro': 81, 'per person': 9000, 'person awful': 9044, 'awful amp': 941, 'amp little': 572, 'old country house': 8586, 'country house locates': 2832, 'house locates middle': 6315, 'locates middle nowhere': 7115, 'middle nowhere facility': 7771, 'nowhere facility old': 8493, 'facility old heater': 4280, 'old heater warm': 8598, 'heater warm night': 5661, 'warm night door': 13135, 'night door locked': 8363, 'door locked using': 3397, 'locked using key': 7199, 'using key wall': 12861, 'key wall sound': 6669, 'wall sound proof': 13110, 'sound proof allow': 11298, 'proof allow hear': 9498, 'allow hear everything': 346, 'hear everything breakfast': 5646, 'everything breakfast cost': 3978, 'breakfast cost 30': 1620, 'cost 30 euro': 2773, '30 euro per': 82, 'euro per person': 3850, 'per person awful': 9001, 'person awful amp': 9045, 'awful amp little': 942, 'amp little choice': 573, 'blonde': 1497, 'putting': 9540, 'butt': 1832, 'bloody': 1500, 'mobile': 7872, 'receptionist rude': 9859, 'rude even': 10528, 'close trying': 2427, 'trying help': 12681, 'help checkout': 5670, 'checkout walk': 2137, 'walk hotel': 13072, 'hotel morning': 6141, 'morning blonde': 7961, 'blonde duty': 1498, 'manager literally': 7576, 'literally putting': 6996, 'putting butt': 9541, 'butt reception': 1833, 'reception desk': 9829, 'desk one': 3175, 'one foot': 8651, 'foot chair': 4675, 'chair talking': 2050, 'talking bloody': 12110, 'bloody loud': 1501, 'loud mobile': 7311, 'mobile star': 7873, 'receptionist rude even': 9860, 'rude even close': 10529, 'even close trying': 3869, 'close trying help': 2428, 'trying help checkout': 12682, 'help checkout walk': 5671, 'checkout walk hotel': 2138, 'walk hotel morning': 13073, 'hotel morning blonde': 6142, 'morning blonde duty': 7962, 'blonde duty manager': 1499, 'duty manager literally': 3500, 'manager literally putting': 7577, 'literally putting butt': 6997, 'putting butt reception': 9542, 'butt reception desk': 1834, 'reception desk one': 9830, 'desk one foot': 3176, 'one foot chair': 8652, 'foot chair talking': 4676, 'chair talking bloody': 2051, 'talking bloody loud': 12111, 'bloody loud mobile': 1502, 'loud mobile star': 7312, 'mobile star hotel': 7874, 'gone': 5160, 'stay travel': 11717, 'travel stress': 12598, 'stress gone': 11860, 'gone left': 5161, 'left breakfast': 6876, 'one kind': 8662, 'great stay travel': 5442, 'stay travel stress': 11718, 'travel stress gone': 12599, 'stress gone left': 11861, 'gone left breakfast': 5162, 'left breakfast one': 6877, 'breakfast one kind': 1658, 'afterwards': 283, 'tanning': 12119, 'afterwards relaxed': 284, 'relaxed pool': 9961, 'pool spa': 9302, 'steam bath': 11782, 'bath massage': 1105, 'massage tanning': 7651, 'afterwards relaxed pool': 285, 'relaxed pool spa': 9962, 'pool spa sauna': 9303, 'spa sauna steam': 11314, 'sauna steam bath': 10620, 'steam bath massage': 11783, 'bath massage tanning': 1106, 'worked gym': 13450, 'gym hour': 5553, 'hour great': 6301, 'view area': 12939, 'area airport': 707, 'worked gym hour': 13451, 'gym hour great': 5554, 'hour great view': 6302, 'great view area': 5455, 'view area airport': 12940, 'downside': 3416, 'downside business': 3417, 'business center': 1806, 'center one': 1972, 'one closed': 8640, 'downside business center': 3418, 'business center one': 1807, 'center one closed': 1973, 'daytime': 3047, 'quite tiny': 9634, 'tiny one': 12412, 'one window': 8692, 'window going': 13377, 'going yard': 5153, 'yard much': 13562, 'much light': 8012, 'light daytime': 6916, 'room quite tiny': 10437, 'quite tiny one': 9635, 'tiny one window': 12413, 'one window going': 8693, 'window going yard': 13378, 'going yard much': 5154, 'yard much light': 13563, 'much light daytime': 8013, 'silent': 11030, 'silent night': 11031, 'essential': 3817, 'bathtube': 1162, 'bed big': 1265, 'big really': 1422, 'really comfortable': 9725, 'comfortable whole': 2560, 'whole room': 13347, 'room everything': 10343, 'everything essential': 3983, 'essential minibar': 3818, 'minibar tv': 7807, 'tv huge': 12708, 'huge bathroom': 6348, 'bathroom bathtube': 1121, 'bed big really': 1266, 'big really comfortable': 1423, 'really comfortable whole': 9726, 'comfortable whole room': 2561, 'whole room everything': 13348, 'room everything essential': 10344, 'everything essential minibar': 3984, 'essential minibar tv': 3819, 'minibar tv huge': 7808, 'tv huge bathroom': 12709, 'huge bathroom bathtube': 6349, 'clean staff really': 2327, 'mention': 7735, 'one course': 8641, 'course mention': 2858, 'mention location': 7736, 'location top': 7192, 'one course mention': 8642, 'course mention location': 2859, 'mention location top': 7737, 'track': 12551, 'close interesting': 2404, 'interesting point': 6549, 'point bilbao': 9236, 'bilbao still': 1450, 'still little': 11811, 'bit loud': 1466, 'loud tourist': 7320, 'tourist track': 12515, 'close interesting point': 2405, 'interesting point bilbao': 6550, 'point bilbao still': 9237, 'bilbao still little': 1451, 'still little bit': 11812, 'little bit loud': 7012, 'bit loud tourist': 1467, 'loud tourist track': 7321, 'nice hotel excellent': 8285, 'hotel excellent cuisine': 6002, 'nice clean hotel': 8257, 'wasnt': 13144, 'first day': 4496, 'day arrived': 2999, 'arrived toilet': 796, 'toilet wasnt': 12449, 'wasnt clean': 13145, 'first day arrived': 4497, 'day arrived toilet': 3000, 'arrived toilet wasnt': 797, 'toilet wasnt clean': 12450, 'second day': 10693, 'day toilet': 3036, 'toilet cleaned': 12437, 'cleaned rest': 2345, 'rest stay': 10090, 'stay problem': 11700, 'second day toilet': 10694, 'day toilet cleaned': 3037, 'toilet cleaned rest': 12438, 'cleaned rest stay': 2346, 'rest stay problem': 10091, 'good dinner': 5202, 'dinner excellent': 3249, 'breakfast good dinner': 1632, 'good dinner excellent': 5203, 'six': 11085, 'safisfied': 10579, 'stayed six': 11757, 'six night': 11086, 'hotel safisfied': 6229, 'stayed six night': 11758, 'six night hotel': 11087, 'night hotel safisfied': 8374, 'full russian': 4907, 'russian child': 10562, 'hotel full russian': 6028, 'full russian child': 4908, 'badly': 991, 'behaved': 1310, 'rushed': 10555, 'knocking': 6725, 'full badly': 4894, 'badly behaved': 992, 'behaved child': 1311, 'child rushed': 2160, 'rushed front': 10556, 'front almost': 4879, 'almost knocking': 356, 'hotel full badly': 6027, 'full badly behaved': 4895, 'badly behaved child': 993, 'behaved child rushed': 1312, 'child rushed front': 2161, 'rushed front almost': 10557, 'front almost knocking': 4880, 'soup': 11299, 'dessert': 3190, 'basic edible': 1083, 'edible good': 3558, 'good bread': 5181, 'bread soup': 1587, 'soup dessert': 11300, 'food basic edible': 4582, 'basic edible good': 1084, 'edible good bread': 3559, 'good bread soup': 5182, 'bread soup dessert': 1588, 'boy': 1572, 'clean large': 2302, 'large english': 6788, 'english speaking': 3661, 'speaking room': 11360, 'room boy': 10293, 'boy polite': 1573, 'polite helpfull': 9251, 'room clean large': 10306, 'clean large english': 2303, 'large english speaking': 6789, 'english speaking room': 3662, 'speaking room boy': 11361, 'room boy polite': 10294, 'boy polite helpfull': 1574, 'overworked': 8811, 'effort': 3567, 'staff looked': 11511, 'looked tired': 7243, 'tired overworked': 12417, 'overworked make': 8812, 'make effort': 7522, 'effort smile': 3568, 'smile make': 11227, 'make nice': 7530, 'nice comment': 8262, 'comment knew': 2576, 'knew english': 6722, 'bar staff looked': 1059, 'staff looked tired': 11512, 'looked tired overworked': 7244, 'tired overworked make': 12418, 'overworked make effort': 8813, 'make effort smile': 7523, 'effort smile make': 3569, 'smile make nice': 11228, 'make nice comment': 7531, 'nice comment knew': 8263, 'comment knew english': 2577, 'suitable': 11920, 'nill': 8394, 'geared': 4975, 'suitable couple': 11921, 'couple without': 2854, 'without child': 13406, 'child evening': 2148, 'evening entertainment': 3897, 'entertainment almost': 3743, 'almost nill': 359, 'nill geared': 8395, 'geared family': 4976, 'suitable couple without': 11922, 'couple without child': 2855, 'without child evening': 13407, 'child evening entertainment': 2149, 'evening entertainment almost': 3898, 'entertainment almost nill': 3744, 'almost nill geared': 360, 'nill geared family': 8396, 'beach bit': 1177, 'bit heaven': 1464, 'heaven earth': 5665, 'dana beach bit': 2957, 'beach bit heaven': 1178, 'bit heaven earth': 1465, 'dislike': 3323, 'nothing dislike': 8455, 'dislike hotel': 3324, 'absolutely nothing dislike': 147, 'nothing dislike hotel': 8456, 'spotlessly': 11416, 'spotlessly clean': 11417, 'spotlessly clean food': 11418, 'clean food excellent': 2289, 'food excellent staff': 4613, 'excellent staff really': 4090, 'hotel short': 6239, 'close downtown': 2396, 'nice hotel short': 8291, 'hotel short stay': 6240, 'short stay close': 10950, 'stay close downtown': 11663, 'hotel decent': 5968, 'decent size': 3071, 'nice hotel decent': 8284, 'hotel decent size': 5969, 'decent size room': 3072, 'service friendly': 10816, 'good service friendly': 5303, 'service friendly staff': 10817, 'weight': 13208, 'training': 12568, 'cardio': 1907, 'room lack': 10385, 'lack equipment': 6745, 'equipment basic': 3772, 'basic weight': 1095, 'weight training': 13209, 'training offer': 12569, 'offer state': 8527, 'state art': 11629, 'art cardio': 801, 'cardio equipment': 1908, 'fitness room lack': 4526, 'room lack equipment': 10386, 'lack equipment basic': 6746, 'equipment basic weight': 3773, 'basic weight training': 1096, 'weight training offer': 13210, 'training offer state': 12570, 'offer state art': 8528, 'state art cardio': 11630, 'art cardio equipment': 802, 'recomended': 9869, 'overall hotel': 8786, 'hotel recomended': 6210, 'overall hotel recomended': 8787, 'hotel although': 5879, 'although center': 454, 'great hotel although': 5403, 'hotel although center': 5880, 'eurostars': 3859, 'tower': 12537, 'decoration': 3083, 'eurostars madrid': 3860, 'madrid tower': 7469, 'tower modern': 12538, 'hotel tasteful': 6264, 'tasteful decoration': 12128, 'eurostars madrid tower': 3861, 'madrid tower modern': 7470, 'tower modern hotel': 12539, 'modern hotel tasteful': 7891, 'hotel tasteful decoration': 6265, 'big luxurious': 1418, 'luxurious expected': 7415, 'room big luxurious': 10292, 'big luxurious expected': 1419, 'volvereta': 13031, '30th': 88, 'also word': 448, 'word restaurant': 13430, 'restaurant volvereta': 10170, 'volvereta 30th': 13032, '30th floor': 89, 'floor great': 4559, 'great good': 5398, 'good amazing': 5169, 'amazing view': 542, 'also word restaurant': 449, 'word restaurant volvereta': 13431, 'restaurant volvereta 30th': 10171, 'volvereta 30th floor': 13033, '30th floor great': 90, 'floor great good': 4560, 'great good amazing': 5399, 'good amazing view': 5170, 'nevertheless': 8173, 'aside': 812, 'liverpool': 7046, 'continue': 2722, 'nevertheless good': 8174, 'location aside': 7124, 'aside liverpool': 813, 'liverpool one': 7047, 'one shopping': 8676, 'shopping centre': 10926, 'centre lot': 2008, 'restaurant continue': 10112, 'continue going': 2723, 'going travelling': 5147, 'travelling liverpool': 12618, 'nevertheless good location': 8175, 'good location aside': 5244, 'location aside liverpool': 7125, 'aside liverpool one': 814, 'liverpool one shopping': 7048, 'one shopping centre': 8677, 'shopping centre lot': 10927, 'centre lot bar': 2009, 'lot bar restaurant': 7262, 'bar restaurant continue': 1052, 'restaurant continue going': 10113, 'continue going travelling': 2724, 'going travelling liverpool': 5148, 'europe': 3851, 'best stayed': 1352, 'stayed travelling': 11761, 'travelling europe': 12616, 'europe value': 3852, 'value service': 12888, 'found hotel one': 4707, 'hotel one best': 6171, 'one best stayed': 8630, 'best stayed travelling': 1353, 'stayed travelling europe': 11762, 'travelling europe value': 12617, 'europe value service': 3853, 'exceptional': 4119, 'felt attention': 4418, 'detail staff': 3194, 'staff attitude': 11446, 'room exceptional': 10346, 'felt attention detail': 4419, 'attention detail staff': 867, 'detail staff attitude': 3195, 'staff attitude room': 11447, 'attitude room exceptional': 882, 'miami': 7762, 'worse hotel': 13488, 'hotel miami': 6135, 'miami south': 7763, 'worse hotel miami': 13489, 'hotel miami south': 6136, 'miami south beach': 7764, 'hotel seven': 6237, 'seven day': 10859, 'day two': 3040, 'night change': 8356, 'booked hotel seven': 1543, 'hotel seven day': 6238, 'seven day two': 10860, 'day two night': 3041, 'two night change': 12735, 'noice': 8409, 'hear every': 5644, 'every noice': 3947, 'room hear every': 10370, 'hear every noice': 5645, 'bed especially': 1275, 'especially mattress': 3804, 'mattress unconfortable': 7665, 'bed especially mattress': 1276, 'especially mattress unconfortable': 3805, 'magical': 7473, 'magical taste': 7474, 'taste egypt': 12122, 'magical taste egypt': 7475, 'going hope': 5140, 'hope loved': 5824, 'loved hotel': 7352, 'hotel relaxed': 6213, 'relaxed comfort': 9960, 'going hope loved': 5141, 'hope loved hotel': 5825, 'loved hotel relaxed': 7353, 'hotel relaxed comfort': 6214, 'titanic palace': 12427, 'palace one': 8840, 'one beautiful': 8623, 'hotel seen': 6232, 'seen staff': 10721, 'staff tried': 11558, 'tried best': 12635, 'best help': 1329, 'titanic palace one': 12428, 'palace one beautiful': 8841, 'one beautiful hotel': 8624, 'beautiful hotel seen': 1238, 'hotel seen staff': 6233, 'seen staff tried': 10722, 'staff tried best': 11559, 'tried best help': 12636, 'schhh': 10658, 'tonic': 12454, 'hungry': 6363, 'drink fine': 3444, 'fine english': 4469, 'english schhh': 3659, 'schhh tonic': 10659, 'tonic food': 12455, 'food taste': 4660, 'taste never': 12123, 'never went': 8169, 'went hungry': 13313, 'drink fine english': 3445, 'fine english schhh': 4470, 'english schhh tonic': 3660, 'schhh tonic food': 10660, 'tonic food taste': 12456, 'food taste never': 4661, 'taste never went': 12124, 'never went hungry': 8170, 'cheaper': 2105, 'awayas': 932, 'pickpocketing': 9084, 'shop cheaper': 10913, 'cheaper resort': 2106, 'resort walk': 10071, 'walk awayas': 13062, 'awayas long': 933, 'long careful': 7202, 'careful beware': 1916, 'beware kid': 1388, 'kid pickpocketing': 6677, 'pickpocketing etc': 9085, 'etc fun': 3828, 'fun go': 4911, 'go bus': 5099, 'bus hotel': 1792, 'hotel taxi': 6266, 'taxi reasonable': 12142, 'reasonable little': 9802, 'little bar': 7005, 'bar entertainment': 1031, 'entertainment would': 3749, 'would perfect': 13539, 'perfect break': 9004, 'shop cheaper resort': 10914, 'cheaper resort walk': 2107, 'resort walk awayas': 10072, 'walk awayas long': 13063, 'awayas long careful': 934, 'long careful beware': 7203, 'careful beware kid': 1917, 'beware kid pickpocketing': 1389, 'kid pickpocketing etc': 6678, 'pickpocketing etc fun': 9086, 'etc fun go': 3829, 'fun go bus': 4912, 'go bus hotel': 5100, 'bus hotel taxi': 1793, 'hotel taxi reasonable': 6267, 'taxi reasonable little': 12143, 'reasonable little bar': 9803, 'little bar entertainment': 7006, 'bar entertainment would': 1032, 'entertainment would perfect': 3750, 'would perfect break': 13540, 'choise': 2195, 'good choise': 5193, 'choise tasteful': 2196, 'tasteful meal': 12129, 'meal clean': 7691, 'good choise tasteful': 5194, 'choise tasteful meal': 2197, 'tasteful meal clean': 12130, 'meal clean room': 7692, 'good clean': 5195, 'good clean hotel': 5196, 'varieous': 12892, 'good varieous': 5332, 'food good varieous': 4624, 'choose dine': 2199, 'dine lunch': 3237, 'restaurant choose dine': 10107, 'choose dine lunch': 2200, 'beautifull': 1250, 'beautifull garden': 1251, 'garden swimmingpools': 4966, 'beautifull garden swimmingpools': 1252, 'heated': 5658, 'even pool': 3878, 'pool heated': 9291, 'even pool heated': 3879, 'lagune': 6751, 'boat': 1515, 'lagune boat': 6752, 'boat beach': 1516, 'lagune boat beach': 6753, 'boat beach nice': 1517, 'milano': 7784, 'san': 10588, 'siro': 11061, 'idea hotel': 6386, 'hotel milano': 6137, 'milano san': 7785, 'san siro': 10589, 'idea hotel milano': 6387, 'hotel milano san': 6138, 'milano san siro': 7786, 'general hotel': 4985, 'hotel modern': 6139, 'modern large': 7893, 'large car': 6782, 'general hotel modern': 4986, 'hotel modern large': 6140, 'modern large car': 7894, 'large car park': 6783, 'service normal': 10836, 'maid': 7476, 'maid service': 7477, 'maid service good': 7478, 'dostovat': 3408, 'carry': 1931, 'friendly work': 4867, 'work arrived': 13432, 'arrived dostovat': 790, 'dostovat much': 3409, 'much luggage': 8014, 'luggage carry': 7400, 'carry room': 1932, 'staff friendly work': 11491, 'friendly work arrived': 4868, 'work arrived dostovat': 13433, 'arrived dostovat much': 791, 'dostovat much luggage': 3410, 'much luggage carry': 8015, 'luggage carry room': 7401, 'frill': 4875, 'hotel buffet': 5922, 'buffet frill': 1742, 'breakfast hotel buffet': 1638, 'hotel buffet frill': 5923, 'ofitsyanty': 8544, 'ofitsyanty working': 8545, 'working well': 13469, 'ofitsyanty working well': 8546, 'dinner city': 3245, 'city evening': 2233, 'hotel bar': 5899, 'bar worked': 1067, 'dinner city evening': 3246, 'city evening hotel': 2234, 'evening hotel bar': 3902, 'hotel bar worked': 5900, 'general positive': 4996, 'positive impression': 9350, 'general positive impression': 4997, 'positive impression hotel': 9351, 'excellent hotel staff': 4064, 'chldren': 2167, 'facility adult': 4268, 'adult chldren': 248, 'excellent facility adult': 4051, 'facility adult chldren': 4269, 'range restaurant': 9651, 'range restaurant bar': 9652, 'aqua': 690, 'superb pool': 11965, 'large aqua': 6778, 'aqua park': 691, 'park area': 8870, 'superb pool area': 11966, 'pool area large': 9271, 'area large aqua': 734, 'large aqua park': 6779, 'aqua park area': 692, 'snorkelling': 11256, 'lovely beach': 7359, 'beach area': 1172, 'area access': 705, 'access snorkelling': 177, 'snorkelling water': 11257, 'lovely beach area': 7360, 'beach area access': 1173, 'area access snorkelling': 706, 'access snorkelling water': 178, 'snorkelling water sport': 11258, 'comfortablelounge': 2562, 'room large': 10387, 'large comfortablelounge': 6786, 'comfortablelounge area': 2563, 'large beautifully': 6780, 'beautifully decorated': 1253, 'room large comfortablelounge': 10388, 'large comfortablelounge area': 6787, 'comfortablelounge area large': 2564, 'area large beautifully': 735, 'large beautifully decorated': 6781, 'grewat': 5471, 'spa area': 11302, 'area excellent': 728, 'excellent grewat': 4057, 'grewat gym': 5472, 'gym facility': 5550, 'spa area excellent': 11303, 'area excellent grewat': 729, 'excellent grewat gym': 4058, 'grewat gym facility': 5473, 'underwhelmed': 12781, 'hotel apartment': 5891, 'apartment excellent': 667, 'excellent review': 4080, 'review really': 10202, 'really underwhelmed': 9785, 'booked hotel apartment': 1541, 'hotel apartment excellent': 5892, 'apartment excellent review': 668, 'excellent review really': 4081, 'review really underwhelmed': 10203, 'fee': 4404, 'disclosed': 3296, 'mail': 7479, 'print': 9446, 'website': 13176, 'first arrived': 4492, 'arrived around': 788, 'around pm': 778, 'pm charged': 9234, 'charged steep': 2080, 'steep 20': 11786, 'eur late': 3840, 'late check': 6816, 'check fee': 2116, 'fee disclosed': 4405, 'disclosed confirmation': 3297, 'confirmation mail': 2672, 'mail fine': 7480, 'fine print': 4473, 'print website': 9447, 'website used': 13177, 'used book': 12848, 'first arrived around': 4493, 'arrived around pm': 789, 'around pm charged': 779, 'pm charged steep': 9235, 'charged steep 20': 2081, 'steep 20 eur': 11787, '20 eur late': 50, 'eur late check': 3841, 'late check fee': 6817, 'check fee disclosed': 2117, 'fee disclosed confirmation': 4406, 'disclosed confirmation mail': 3298, 'confirmation mail fine': 2673, 'mail fine print': 7481, 'fine print website': 4474, 'print website used': 9448, 'website used book': 13178, 'used book room': 12849, 'breaker': 1596, 'already deal': 371, 'deal breaker': 3052, 'breaker known': 1597, 'known would': 6736, 'would booked': 13507, 'booked better': 1535, 'already deal breaker': 372, 'deal breaker known': 3053, 'breaker known would': 1598, 'known would booked': 6737, 'would booked better': 13508, 'booked better hotel': 1536, 'better hotel 20': 1368, 'hotel 20 eur': 5870, 'add': 219, 'partying': 8928, 'also add': 391, 'add difficult': 220, 'difficult use': 3226, 'use public': 12842, 'transportation provided': 12588, 'provided set': 9517, 'set house': 10853, 'house rule': 6318, 'rule seemed': 10540, 'seemed made': 10711, 'made partying': 7454, 'partying teenager': 8929, 'also add difficult': 392, 'add difficult use': 221, 'difficult use public': 3227, 'use public transportation': 12843, 'public transportation provided': 9529, 'transportation provided set': 12589, 'provided set house': 9518, 'set house rule': 10854, 'house rule seemed': 6319, 'rule seemed made': 10541, 'seemed made partying': 10712, 'made partying teenager': 7455, 'backpacker': 976, 'say backpacker': 10632, 'minus': 7816, 'persistent': 9041, 'worker': 13454, 'bother': 1562, 'one big': 8632, 'big minus': 1420, 'minus prepare': 7817, 'prepare persistent': 9390, 'persistent shop': 9042, 'shop worker': 10917, 'worker bother': 13455, 'bother time': 1563, 'time trying': 12397, 'trying sell': 12683, 'sell kind': 10744, 'kind thing': 6699, 'one big minus': 8633, 'big minus prepare': 1421, 'minus prepare persistent': 7818, 'prepare persistent shop': 9391, 'persistent shop worker': 9043, 'shop worker bother': 10918, 'worker bother time': 13456, 'bother time trying': 1564, 'time trying sell': 12398, 'trying sell kind': 12684, 'sell kind thing': 10745, 'nice hotel middle': 8288, 'star hotel middle': 11613, 'utrecht': 12864, 'haque': 5620, 'good start': 5317, 'start excursion': 11621, 'excursion also': 4122, 'far away': 4361, 'away utrecht': 928, 'utrecht amsterdam': 12865, 'amsterdam haque': 587, 'good start excursion': 5318, 'start excursion also': 11622, 'excursion also far': 4123, 'also far away': 408, 'far away utrecht': 4362, 'away utrecht amsterdam': 929, 'utrecht amsterdam haque': 12866, 'bid': 1395, 'little bid': 7009, 'bid old': 1396, 'hotel little bid': 6096, 'little bid old': 7010, 'bid old furnished': 1397, 'location friendly': 7157, 'staff perfect': 11529, 'central location friendly': 1992, 'location friendly staff': 7158, 'friendly staff perfect': 4859, 'restaurant lunch': 10141, 'restaurant lunch dinner': 10142, 'woerden': 13413, 'hotel working': 6286, 'working together': 13467, 'together diffrent': 12435, 'diffrent restaurant': 3228, 'restaurant city': 10109, 'city woerden': 2251, 'hotel working together': 6287, 'working together diffrent': 13468, 'together diffrent restaurant': 12436, 'diffrent restaurant city': 3229, 'restaurant city woerden': 10110, 'wifi hotel': 13368, 'free wifi hotel': 4774, 'nice hotel price': 8290, 'leeds': 6873, 'ibis leeds': 6384, 'leeds generally': 6874, 'generally good': 5002, 'ibis leeds generally': 6385, 'leeds generally good': 6875, 'generally good hotel': 5003, 'good hotel price': 5230, 'would say': 13550, 'say good': 10641, 'would say good': 13551, 'say good star': 10642, 'satisfies': 10609, 'functional': 4921, 'clean satisfies': 2319, 'satisfies basic': 10610, 'basic need': 1091, 'need room': 8115, 'got small': 5351, 'small functional': 11143, 'functional tv': 4922, 'tv closed': 12696, 'closed desk': 2432, 'desk bed': 3171, 'comfortable ok': 2552, 'clean satisfies basic': 2320, 'satisfies basic need': 10611, 'basic need room': 1092, 'need room got': 8116, 'room got small': 10366, 'got small functional': 5352, 'small functional tv': 11144, 'functional tv closed': 4923, 'tv closed desk': 12697, 'closed desk bed': 2433, 'desk bed comfortable': 3172, 'bed comfortable ok': 1269, 'bath room': 1107, 'small cool': 11135, 'cool design': 2750, 'bath room small': 1108, 'room small cool': 10467, 'small cool design': 11136, 'friendly quick': 4848, 'receptionist friendly quick': 9853, 'diversity': 3360, 'much diversity': 8002, 'diversity breakfast': 3361, 'breakfast fresh': 1628, 'fresh good': 4785, 'much diversity breakfast': 8003, 'diversity breakfast fresh': 3362, 'breakfast fresh good': 1629, 'fresh good quality': 4786, 'there': 12230, '20 minute': 51, 'distance city': 3335, 'center there': 1986, 'there nothing': 12231, 'nothing around': 8450, 'hotel 20 minute': 5871, '20 minute walking': 52, 'walking distance city': 13083, 'distance city center': 3336, 'city center there': 2223, 'center there nothing': 1987, 'there nothing around': 12232, 'location average': 7126, 'average quality': 908, 'good location average': 5245, 'location average quality': 7127, 'exhibition': 4138, 'located next': 7102, 'next exhibition': 8208, 'exhibition centre': 4139, 'centre outskirt': 2013, 'outskirt lyon': 8773, 'lyon traveling': 7434, 'traveling city': 12605, 'centre take': 2023, 'take time': 12098, 'time place': 12392, 'place well': 9167, 'well served': 13286, 'served public': 10776, 'hotel located next': 6102, 'located next exhibition': 7103, 'next exhibition centre': 8209, 'exhibition centre outskirt': 4140, 'centre outskirt lyon': 2014, 'outskirt lyon traveling': 8774, 'lyon traveling city': 7435, 'traveling city centre': 12606, 'city centre take': 2228, 'centre take time': 2024, 'take time place': 12099, 'time place well': 12393, 'place well served': 9168, 'well served public': 13287, 'served public transport': 10777, 'actually': 213, 'actually tram': 214, 'stop outside': 11829, 'actually tram stop': 215, 'tram stop outside': 12574, 'stop outside hotel': 11830, 'excellent wide': 4105, 'range thing': 9653, 'thing breakfast': 12242, 'quality food hotel': 9549, 'food hotel restaurant': 4634, 'hotel restaurant excellent': 6222, 'restaurant excellent wide': 10118, 'excellent wide range': 4106, 'wide range thing': 13358, 'range thing breakfast': 9654, 'asking': 831, 'issue cleanliness': 6598, 'general including': 4987, 'including rather': 6453, 'rather used': 9686, 'used room': 12853, 'room start': 10488, 'start asking': 11619, 'asking renovation': 832, 'issue cleanliness hotel': 6599, 'cleanliness hotel general': 2366, 'hotel general including': 6035, 'general including rather': 4988, 'including rather used': 6454, 'rather used room': 9687, 'used room start': 12854, 'room start asking': 10489, 'start asking renovation': 11620, 'idem': 6401, 'idem hotel': 6402, 'hotel pool': 6186, 'jacuzzi area': 6629, 'idem hotel pool': 6403, 'hotel pool jacuzzi': 6187, 'pool jacuzzi area': 9292, 'admire': 243, 'advantage location': 259, 'hotel top': 6274, 'floor admire': 4554, 'admire view': 244, 'view lyon': 12950, 'lyon though': 7433, 'advantage location hotel': 260, 'location hotel top': 7163, 'hotel top floor': 6275, 'top floor admire': 12479, 'floor admire view': 4555, 'admire view lyon': 245, 'view lyon though': 12951, 'diidn': 3232, 'big enough': 1412, 'enough balcony': 3707, 'balcony close': 1002, 'close swiming': 2423, 'swiming pool': 12045, 'pool close': 9276, 'close door': 2394, 'door balcony': 3386, 'balcony diidn': 1004, 'diidn hear': 3233, 'hear noise': 5648, 'clean big enough': 2274, 'big enough balcony': 1413, 'enough balcony close': 3708, 'balcony close swiming': 1003, 'close swiming pool': 2424, 'swiming pool close': 12046, 'pool close door': 9277, 'close door balcony': 2395, 'door balcony diidn': 3387, 'balcony diidn hear': 1005, 'diidn hear noise': 3234, 'hear noise outside': 5649, 'ansd': 632, 'olso': 8616, 'mum': 8022, 'sastisfied': 10599, 'cleaness': 2350, 'doesen': 3365, 'two teenager': 12740, 'teenager satisfied': 12177, 'hotel ansd': 5889, 'ansd first': 633, 'first week': 4509, 'week olso': 13187, 'olso mum': 8617, 'mum sastisfied': 8023, 'sastisfied food': 10600, 'food cleaness': 4596, 'cleaness kindness': 2351, 'staff doesen': 11464, 'doesen speak': 3366, 'speak foreign': 11356, 'two teenager satisfied': 12741, 'teenager satisfied hotel': 12178, 'satisfied hotel ansd': 10607, 'hotel ansd first': 5890, 'ansd first week': 634, 'first week olso': 4510, 'week olso mum': 13188, 'olso mum sastisfied': 8618, 'mum sastisfied food': 8024, 'sastisfied food cleaness': 10601, 'food cleaness kindness': 4597, 'cleaness kindness staff': 2352, 'kindness staff doesen': 6703, 'staff doesen speak': 11465, 'doesen speak foreign': 3367, 'speak foreign language': 11357, 'cuase': 2918, 'extremly': 4254, 'hotel nl': 6163, 'nl room': 8405, 'tiny kind': 12410, 'kind hot': 6694, 'hot night': 5858, 'night cuase': 8357, 'cuase open': 2919, 'window important': 13379, 'important room': 6411, 'room street': 10495, 'street side': 11858, 'side extremly': 10995, 'extremly noisy': 4255, 'noisy throughout': 8434, 'like hotel nl': 6936, 'hotel nl room': 6164, 'nl room tiny': 8406, 'room tiny kind': 10502, 'tiny kind hot': 12411, 'kind hot night': 6695, 'hot night cuase': 5859, 'night cuase open': 8358, 'cuase open window': 2920, 'open window important': 8697, 'window important room': 13380, 'important room street': 6412, 'room street side': 10496, 'street side extremly': 11859, 'side extremly noisy': 10996, 'extremly noisy throughout': 4256, 'noisy throughout night': 8435, 'sort': 11285, 'tinier': 12407, 'bath sort': 1109, 'sort even': 11286, 'even tinier': 3890, 'bath sort even': 1110, 'sort even tinier': 11287, 'matress': 7658, 'touch': 12498, 'philosophical': 9075, 'statement': 11633, 'reflected': 9919, 'bur': 1779, 'matress really': 7659, 'really soft': 9772, 'soft may': 11259, 'may ok': 7677, 'ok whole': 8566, 'whole think': 13349, 'think certain': 12274, 'certain shabby': 2038, 'shabby touch': 10886, 'touch philosophical': 12499, 'philosophical statement': 9076, 'statement reflected': 11634, 'reflected staff': 9920, 'staff work': 11572, 'work like': 13439, 'hotel bur': 5933, 'bur without': 1780, 'without friendly': 13408, 'friendly touch': 4864, 'matress really soft': 7660, 'really soft may': 9773, 'soft may ok': 11260, 'may ok whole': 7678, 'ok whole think': 8567, 'whole think certain': 13350, 'think certain shabby': 12275, 'certain shabby touch': 2039, 'shabby touch philosophical': 10887, 'touch philosophical statement': 12500, 'philosophical statement reflected': 9077, 'statement reflected staff': 11635, 'reflected staff work': 9921, 'staff work like': 11573, 'work like hotel': 13440, 'like hotel bur': 6935, 'hotel bur without': 5934, 'bur without friendly': 1781, 'without friendly touch': 13409, 'affordable': 279, 'nice affordable': 8236, 'affordable hotel': 280, 'nice affordable hotel': 8237, 'weekday': 13193, 'great price': 5427, 'price weekday': 9434, 'weekday stay': 13194, 'great price weekday': 5428, 'price weekday stay': 9435, 'costlier': 2778, 'weekend little': 13202, 'little costlier': 7021, 'weekend little costlier': 13203, 'average great': 907, 'pool awesome': 9272, 'nice dining': 8264, 'option hotel': 8716, 'nice dining option': 8265, 'dining option hotel': 3240, 'construction': 2712, 'construction going': 2713, 'going little': 5142, 'little annoying': 7003, 'annoying ok': 624, 'construction going little': 2714, 'going little annoying': 5143, 'little annoying ok': 7004, 'hotel never': 6147, 'worth five': 13490, 'hotel never worth': 6148, 'never worth five': 8171, 'worth five star': 13491, 'electrical': 3589, 'scale': 10649, 'got covered': 5343, 'covered dust': 2872, 'dust electrical': 3489, 'electrical item': 3590, 'item like': 6622, 'like light': 6937, 'light scale': 6917, 'scale bathroom': 10650, 'bathroom working': 1161, 'room got covered': 10365, 'got covered dust': 5344, 'covered dust electrical': 2873, 'dust electrical item': 3490, 'electrical item like': 3591, 'item like light': 6623, 'like light scale': 6938, 'light scale bathroom': 6918, 'scale bathroom working': 10651, 'bass': 1100, 'night expect': 8369, 'expect able': 4143, 'able sleep': 136, 'sleep room': 11106, 'hear bass': 5640, 'bass music': 1101, 'music nightclub': 8035, 'nightclub whole': 8390, 'whole night': 13344, 'night expect able': 8370, 'expect able sleep': 4144, 'able sleep room': 137, 'sleep room hear': 11107, 'room hear bass': 10369, 'hear bass music': 5641, 'bass music nightclub': 1102, 'music nightclub whole': 8036, 'nightclub whole night': 8391, 'money pay': 7922, 'pay room': 8956, 'room stay': 10490, 'never worth money': 8172, 'worth money pay': 13492, 'money pay room': 7923, 'pay room stay': 8957, 'small room bathroom': 11171, 'odor': 8517, 'expired': 4201, 'butter': 1835, 'baguette': 994, 'extremely unpleasant': 4250, 'unpleasant odor': 12814, 'odor bathroom': 8518, 'breakfast almost': 1601, 'almost expired': 354, 'expired date': 4202, 'date food': 2980, 'food butter': 4592, 'butter baguette': 1836, 'extremely unpleasant odor': 4251, 'unpleasant odor bathroom': 12815, 'odor bathroom poor': 8519, 'bathroom poor breakfast': 1147, 'poor breakfast almost': 9322, 'breakfast almost expired': 1602, 'almost expired date': 355, 'expired date food': 4203, 'date food butter': 2981, 'food butter baguette': 4593, 'generally get': 5000, 'get hotel': 5041, 'hotel car': 5939, 'car extremely': 1895, 'extremely difficult': 4237, 'generally get hotel': 5001, 'get hotel car': 5042, 'hotel car extremely': 5940, 'car extremely difficult': 1896, 'hotel unpleasant': 6281, 'unpleasant stay': 12816, 'nice hotel unpleasant': 8293, 'hotel unpleasant stay': 6282, 'close everything': 2397, 'everything frankfurt': 3986, 'frankfurt offer': 4733, 'hotel close everything': 5948, 'close everything frankfurt': 2398, 'everything frankfurt offer': 3987, 'unable': 12759, 'cope': 2759, 'error': 3782, 'discus': 3317, 'unfortunately staff': 12786, 'staff unable': 11560, 'unable cope': 12760, 'cope standard': 2760, 'standard five': 11586, 'hotel bill': 5908, 'bill full': 1452, 'full error': 4905, 'error discus': 3783, 'unfortunately staff unable': 12787, 'staff unable cope': 11561, 'unable cope standard': 12761, 'cope standard five': 2761, 'standard five star': 11587, 'star hotel bill': 11605, 'hotel bill full': 5909, 'bill full error': 1453, 'full error discus': 4906, 'garage': 4957, 'choice relaxing': 2187, 'lovely weekend': 7383, 'good choice relaxing': 5192, 'choice relaxing lovely': 2188, 'relaxing lovely weekend': 9968, 'perfect need': 9018, 'need relaxing': 8113, 'lovely week': 7381, 'week end': 13181, 'end partner': 3647, 'hotel perfect need': 6182, 'perfect need relaxing': 9019, 'need relaxing lovely': 8114, 'relaxing lovely week': 9967, 'lovely week end': 7382, 'week end partner': 13182, 'jaccuzzi': 6626, 'bedroom': 1303, 'dedicaced': 3087, 'sauna jaccuzzi': 10616, 'jaccuzzi perfect': 6627, 'perfect easily': 9010, 'easily access': 3511, 'access bedroom': 167, 'bedroom thanks': 1304, 'thanks dedicaced': 12219, 'dedicaced lift': 3088, 'spa sauna jaccuzzi': 11313, 'sauna jaccuzzi perfect': 10617, 'jaccuzzi perfect easily': 6628, 'perfect easily access': 9011, 'easily access bedroom': 3512, 'access bedroom thanks': 168, 'bedroom thanks dedicaced': 1305, 'thanks dedicaced lift': 12220, 'finish': 4485, 'finish day': 4486, 'day around': 2997, 'around good': 773, 'good meal': 5264, 'meal restaurant': 7700, 'finish day around': 4487, 'day around good': 2998, 'around good meal': 774, 'good meal restaurant': 5265, 'friendy': 4869, 'friendy staff': 4870, 'staff convenient': 11460, 'convenient location': 2732, 'friendy staff convenient': 4871, 'staff convenient location': 11461, 'hotel time': 6272, 'last 12': 6801, '12 month': 23, 'stayed hotel time': 11746, 'hotel time last': 6273, 'time last 12': 12385, 'last 12 month': 6802, 'every time': 3954, 'staff welcome': 11566, 'welcome feel': 13223, 'feel like': 4410, 'like coming': 6923, 'coming home': 2573, 'every time come': 3955, 'time come hotel': 12368, 'come hotel staff': 2516, 'hotel staff welcome': 6255, 'staff welcome feel': 11567, 'welcome feel like': 13224, 'feel like coming': 4411, 'like coming home': 6924, 'inexpensive': 6480, 'location inexpensive': 7164, 'inexpensive price': 6481, 'room always': 10273, 'always clean': 487, 'good location inexpensive': 5251, 'location inexpensive price': 7165, 'inexpensive price room': 6482, 'price room always': 9430, 'room always clean': 10274, 'regrettably': 9945, 'constriction': 2709, 'regrettably hotel': 9946, 'hotel renovated': 6217, 'renovated covered': 10002, 'covered constriction': 2870, 'constriction thing': 2710, 'thing building': 12243, 'regrettably hotel renovated': 9947, 'hotel renovated covered': 6218, 'renovated covered constriction': 10003, 'covered constriction thing': 2871, 'constriction thing building': 2711, 'reply': 10020, 'quicker': 9576, 'expect reply': 4158, 'reply much': 10021, 'much quicker': 8019, 'quicker next': 9577, 'expect reply much': 4159, 'reply much quicker': 10022, 'much quicker next': 8020, 'quicker next time': 9578, 'screen': 10676, 'artwork': 807, 'location fantastic': 7149, 'fantastic close': 4339, 'louvre many': 7341, 'many sight': 7611, 'also balcony': 395, 'balcony good': 1006, 'size flat': 11088, 'flat screen': 4542, 'screen tv': 10677, 'tv comfy': 12698, 'room artwork': 10280, 'artwork nice': 808, 'location fantastic close': 7150, 'fantastic close louvre': 4340, 'close louvre many': 2408, 'louvre many sight': 7342, 'many sight also': 7612, 'sight also balcony': 11014, 'also balcony good': 396, 'balcony good size': 1007, 'good size flat': 5311, 'size flat screen': 11089, 'flat screen tv': 4543, 'screen tv comfy': 10678, 'tv comfy bed': 12699, 'comfy bed room': 2566, 'bed room artwork': 1292, 'room artwork nice': 10281, 'appealing': 669, 'aspect': 833, 'location appealing': 7122, 'appealing aspect': 670, 'aspect hotel': 834, 'louvre walking': 7345, 'distance major': 3337, 'major tourist': 7516, 'tourist sight': 12513, 'also train': 442, 'location appealing aspect': 7123, 'appealing aspect hotel': 671, 'aspect hotel close': 835, 'hotel close louvre': 5949, 'close louvre walking': 2409, 'louvre walking distance': 7346, 'walking distance major': 13084, 'distance major tourist': 3338, 'major tourist sight': 7517, 'tourist sight also': 12514, 'sight also train': 11015, 'also train station': 443, 'conseil': 2699, 'familiarise': 4312, 'conseil attraction': 2700, 'attraction hop': 884, 'bus great': 1790, 'great way': 5459, 'way get': 13159, 'get around': 5024, 'around familiarise': 771, 'familiarise area': 4313, 'area maybe': 742, 'maybe two': 7685, 'two day': 12723, 'day ticket': 3034, 'ticket best': 12342, 'best much': 1342, 'much one': 8017, 'one day': 8643, 'day want': 3042, 'want get': 13113, 'get look': 5047, 'look sight': 7230, 'conseil attraction hop': 2701, 'attraction hop hop': 885, 'hop bus great': 5822, 'bus great way': 1791, 'great way get': 5460, 'way get around': 13160, 'get around familiarise': 5025, 'around familiarise area': 772, 'familiarise area maybe': 4314, 'area maybe two': 743, 'maybe two day': 7686, 'two day ticket': 12724, 'day ticket best': 3035, 'ticket best much': 12343, 'best much one': 1343, 'much one day': 8018, 'one day want': 8644, 'day want get': 3043, 'want get look': 13114, 'get look sight': 5048, 'clean minimal': 2306, 'minimal interior': 7812, 'room clean minimal': 10307, 'clean minimal interior': 2307, 'working phone': 13463, 'phone room': 9080, 'tv working phone': 12712, 'working phone room': 13464, 'flooded': 4551, 'showering': 10980, 'wet': 13322, 'clean however': 2297, 'however get': 6328, 'get flooded': 5037, 'flooded showering': 4552, 'showering people': 10981, 'people one': 8983, 'one room': 8674, 'room wet': 10516, 'bathroom clean however': 1125, 'clean however get': 2298, 'however get flooded': 6329, 'get flooded showering': 5038, 'flooded showering people': 4553, 'showering people one': 10982, 'people one room': 8984, 'one room wet': 8675, 'helpful professional': 5707, 'friendly helpful professional': 4821, 'telephone': 12179, 'hotel provided': 6194, 'provided breakfast': 9505, 'free due': 4739, 'due tv': 3481, 'working telephone': 13465, 'telephone room': 12180, 'hotel provided breakfast': 6195, 'provided breakfast free': 9506, 'breakfast free due': 1625, 'free due tv': 4740, 'due tv working': 3482, 'tv working telephone': 12713, 'working telephone room': 13466, 'unlike': 12804, 'ad': 216, 'bookingcom': 1556, 'unlike ad': 12805, 'ad bookingcom': 217, 'bookingcom breakfast': 1557, 'free person': 4761, 'unlike ad bookingcom': 12806, 'ad bookingcom breakfast': 218, 'bookingcom breakfast free': 1558, 'breakfast free person': 1627, 'confusing': 2676, 'unclear': 12768, 'somewhat confusing': 11279, 'confusing unclear': 2677, 'somewhat confusing unclear': 11280, 'transport airport': 12583, 'airport expensive': 315, 'transport airport expensive': 12584, 'excellent elevator': 4048, 'elevator narrow': 3604, 'narrow stair': 8056, 'location excellent elevator': 7142, 'excellent elevator narrow': 4049, 'elevator narrow stair': 3605, 'safety': 10575, 'attendance': 855, 'safety card': 10576, 'card system': 1905, 'system front': 12063, 'desk attendance': 3169, 'attendance throughout': 856, 'night excellent': 8368, 'safety card system': 10577, 'card system front': 1906, 'system front desk': 12064, 'front desk attendance': 4883, 'desk attendance throughout': 3170, 'attendance throughout night': 857, 'throughout night excellent': 12325, 'fantastic view': 4357, 'fantastic view old': 4358, 'driving': 3465, 'located centre': 7086, 'centre tallinn': 2025, 'tallinn short': 12114, 'short walking': 10958, 'distance old': 3343, 'city short': 2244, 'short driving': 10943, 'driving distance': 3466, 'distance airport': 3334, 'hotel located centre': 6098, 'located centre tallinn': 7087, 'centre tallinn short': 2026, 'tallinn short walking': 12115, 'short walking distance': 10959, 'walking distance old': 13086, 'distance old city': 3344, 'old city short': 8582, 'city short driving': 2245, 'short driving distance': 10944, 'driving distance airport': 3467, 'complain everything': 2605, 'absolutely nothing complain': 146, 'nothing complain everything': 8451, 'complain everything good': 2606, 'two thing': 12742, 'thing especially': 12248, 'especially great': 3799, 'two thing especially': 12743, 'thing especially great': 12249, 'panoramic': 8847, 'dawning': 2990, 'highlighted': 5743, 'sunbeam': 11935, 'first one': 4503, 'one panoramic': 8667, 'panoramic view': 8848, 'city dawning': 2231, 'dawning highlighted': 2991, 'highlighted red': 5744, 'red sunbeam': 9905, 'sunbeam absolutely': 11936, 'absolutely fantastic': 144, 'first one panoramic': 4504, 'one panoramic view': 8668, 'panoramic view old': 8849, 'old city dawning': 8581, 'city dawning highlighted': 2232, 'dawning highlighted red': 2992, 'highlighted red sunbeam': 5745, 'red sunbeam absolutely': 9906, 'sunbeam absolutely fantastic': 11937, 'deprived': 3149, 'second one': 10695, 'one buffet': 8636, 'buffet breakfast': 1736, 'breakfast various': 1685, 'various served': 12910, 'served since': 10778, 'since early': 11045, 'morning deprived': 7963, 'deprived morning': 3150, 'morning flight': 7969, 'second one buffet': 10696, 'one buffet breakfast': 8637, 'buffet breakfast various': 1737, 'breakfast various served': 1686, 'various served since': 12911, 'served since early': 10779, 'since early morning': 11046, 'early morning deprived': 3506, 'morning deprived morning': 7964, 'deprived morning flight': 3151, 'fortunately': 4687, 'cheap fortunately': 2090, 'fortunately paid': 4688, 'paid reasonable': 8834, 'reasonable hotel': 9800, 'hotel definitely': 5970, 'price cheap fortunately': 9412, 'cheap fortunately paid': 2091, 'fortunately paid reasonable': 4689, 'paid reasonable hotel': 8835, 'reasonable hotel definitely': 9801, 'hotel definitely worth': 5971, 'express': 4214, 'balu': 1014, 'mood': 7952, 'entertaintments': 3751, 'laughed': 6827, 'shous': 10960, 'like thank': 6956, 'thank staff': 12213, 'good attitude': 5173, 'attitude express': 878, 'express special': 4215, 'special thanks': 11371, 'thanks balu': 12215, 'balu animation': 1015, 'team good': 12162, 'good mood': 5266, 'mood smile': 7953, 'smile entertaintments': 11223, 'entertaintments never': 3752, 'never laughed': 8157, 'laughed much': 6828, 'much life': 8010, 'life shous': 6911, 'would like thank': 13536, 'like thank staff': 6957, 'thank staff hotel': 12214, 'staff hotel good': 11505, 'hotel good attitude': 6043, 'good attitude express': 5174, 'attitude express special': 879, 'express special thanks': 4216, 'special thanks balu': 11372, 'thanks balu animation': 12216, 'balu animation team': 1016, 'animation team good': 610, 'team good mood': 12163, 'good mood smile': 5267, 'mood smile entertaintments': 7954, 'smile entertaintments never': 11224, 'entertaintments never laughed': 3753, 'never laughed much': 8158, 'laughed much life': 6829, 'much life shous': 8011, 'hilton': 5753, 'hotel within': 6284, 'within hilton': 13396, 'hilton standard': 5754, 'hotel within hilton': 6285, 'within hilton standard': 13397, 'comfortable bed room': 2533, 'bed room sea': 1293, 'forum': 4690, 'ideal location': 6392, 'location forum': 7153, 'forum convention': 4691, 'ideal location forum': 6393, 'location forum convention': 7154, 'forum convention center': 4692, 'close beach': 2383, 'beach shopping': 1206, 'center side': 1982, 'close beach shopping': 2384, 'beach shopping center': 1207, 'shopping center side': 10925, 'center side street': 1983, 'thank nice': 12211, 'thank nice stay': 12212, 'realised': 9711, 'leaving': 6870, 'period': 9038, 'taught': 12137, 'stay real': 11703, 'real pleasure': 9709, 'pleasure looking': 9218, 'forward come': 4695, 'come booked': 2507, 'booked already': 1530, 'already hotel': 373, 'hotel made': 6116, 'mistake booked': 7860, 'booked day': 1537, 'day realised': 3024, 'realised day': 9712, 'day leaving': 3012, 'leaving home': 6871, 'home period': 5806, 'period taught': 9039, 'taught booked': 12138, 'already passed': 375, 'passed glad': 8935, 'glad time': 5085, 'time every': 12369, 'thing getting': 12254, 'getting well': 5059, 'stay real pleasure': 11704, 'real pleasure looking': 9710, 'pleasure looking forward': 9219, 'looking forward come': 7250, 'forward come booked': 4696, 'come booked already': 2508, 'booked already hotel': 1531, 'already hotel made': 374, 'hotel made mistake': 6117, 'made mistake booked': 7450, 'mistake booked day': 7861, 'booked day realised': 1538, 'day realised day': 3025, 'realised day leaving': 9713, 'day leaving home': 3013, 'leaving home period': 6872, 'home period taught': 5807, 'period taught booked': 9040, 'taught booked already': 12139, 'booked already passed': 1532, 'already passed glad': 376, 'passed glad time': 8936, 'glad time every': 5086, 'time every thing': 12370, 'every thing getting': 3952, 'thing getting well': 12255, 'small cheap': 11132, 'small cheap hotel': 11133, 'km': 6719, 'orly': 8746, 'small hotel': 11149, 'hotel km': 6083, 'km orly': 6720, 'orly airport': 8747, 'small hotel km': 11150, 'hotel km orly': 6084, 'km orly airport': 6721, 'find anything': 4443, 'anything interesting': 651, 'interesting around': 6546, 'find anything interesting': 4444, 'anything interesting around': 652, 'small poor': 11166, 'room small poor': 10470, 'roadside': 10237, 'pas': 8933, 'window room': 13383, 'room roadside': 10452, 'roadside many': 10238, 'many car': 7591, 'car pas': 1901, 'pas road': 8934, 'window room roadside': 13384, 'room roadside many': 10453, 'roadside many car': 10239, 'many car pas': 7592, 'car pas road': 1902, 'ideally': 6398, 'florence': 4573, 'ideally situated': 6399, 'situated heart': 11075, 'heart florence': 5657, 'ideally situated heart': 6400, 'situated heart florence': 11076, 'direction': 3258, 'staff warm': 11564, 'warm welcoming': 13139, 'welcoming always': 13231, 'always helpful': 501, 'helpful direction': 5696, 'hotel staff warm': 6254, 'staff warm welcoming': 11565, 'warm welcoming always': 13140, 'welcoming always helpful': 13232, 'always helpful direction': 502, 'breakfast adequate': 1599, 'adequate many': 232, 'many variety': 7617, 'variety bread': 12893, 'bread good': 1581, 'breakfast adequate many': 1600, 'adequate many variety': 233, 'many variety bread': 7618, 'variety bread good': 12894, 'bread good coffee': 1582, 'glitch': 5092, 'glitch egg': 5093, 'egg scrambled': 3575, 'scrambled otherwise': 10674, 'otherwise delivery': 8751, 'delivery issue': 3138, 'issue weekend': 6602, 'glitch egg scrambled': 5094, 'egg scrambled otherwise': 3576, 'scrambled otherwise delivery': 10675, 'otherwise delivery issue': 8752, 'delivery issue weekend': 3139, 'hotel item': 6077, 'item hot': 6620, 'hot breakfast': 5853, 'star hotel item': 11612, 'hotel item hot': 6078, 'item hot breakfast': 6621, 'attending': 861, 'attending staff': 862, 'friendly breakfast': 4803, 'breakfast room': 1669, 'attending staff nice': 863, 'staff nice friendly': 11526, 'nice friendly breakfast': 8273, 'friendly breakfast room': 4804, 'ac': 154, 'well maintained': 13276, 'maintained ac': 7507, 'ac worked': 155, 'worked perfectly': 13452, 'found hotel clean': 4706, 'clean well maintained': 2333, 'well maintained ac': 13277, 'maintained ac worked': 7508, 'ac worked perfectly': 156, 'razor': 9691, 'gel': 4977, 'provides little': 9521, 'little important': 7028, 'important thing': 6414, 'thing like': 12260, 'like razor': 6945, 'razor gel': 9692, 'gel bus': 4978, 'bus ticket': 1799, 'hotel provides little': 6197, 'provides little important': 9522, 'little important thing': 7029, 'important thing like': 6415, 'thing like razor': 12261, 'like razor gel': 6946, 'razor gel bus': 9693, 'gel bus ticket': 4979, 'internet centre': 6560, 'centre great': 2006, 'internet centre great': 6561, 'choises': 2198, 'try hotel': 12677, 'hotel choises': 5943, 'try hotel choises': 12678, 'must pay': 8042, 'pay check': 8952, 'must pay check': 8043, 'moquette': 7955, 'spiderweb': 11391, 'small moquette': 11156, 'moquette stain': 7956, 'stain spiderweb': 11576, 'spiderweb wall': 11392, 'room small moquette': 10469, 'small moquette stain': 11157, 'moquette stain spiderweb': 7957, 'stain spiderweb wall': 11577, 'pillow': 9095, 'hole': 5762, 'unconfortable bed': 12771, 'bed little': 1287, 'little pillow': 7036, 'pillow short': 9096, 'short sheet': 10947, 'sheet hole': 10900, 'unconfortable bed little': 12772, 'bed little pillow': 1288, 'little pillow short': 7037, 'pillow short sheet': 9097, 'short sheet hole': 10948, 'roll': 10250, 'day finished': 3007, 'finished toilet': 4488, 'toilet paper': 12441, 'paper found': 8856, 'found new': 4710, 'new roll': 8191, 'last day finished': 6805, 'day finished toilet': 3008, 'finished toilet paper': 4489, 'toilet paper found': 12442, 'paper found new': 8857, 'found new roll': 4711, 'drain': 3424, 'unclog': 12769, 'drain shower': 3425, 'shower needed': 10974, 'needed unclog': 8131, 'drain shower needed': 3426, 'shower needed unclog': 10975, 'cathode': 1951, 'signal': 11027, 'phone breakfast': 9078, 'breakfast old': 1655, 'old cathode': 8579, 'cathode tv': 1952, 'tv free': 12702, 'free wi': 4772, 'fi low': 4433, 'low signal': 7392, 'signal upper': 11028, 'phone breakfast old': 9079, 'breakfast old cathode': 1656, 'old cathode tv': 8580, 'cathode tv free': 1953, 'tv free wi': 12703, 'free wi fi': 4773, 'wi fi low': 13356, 'fi low signal': 4434, 'low signal upper': 7393, 'signal upper floor': 11029, 'gentle': 5015, 'white': 13335, 'hair': 5568, 'glass': 5089, 'hysterical': 6376, 'staff gentle': 11494, 'gentle enough': 5016, 'enough guy': 3716, 'guy reception': 5544, 'reception white': 9849, 'white hair': 13336, 'hair glass': 5569, 'glass found': 5090, 'found night': 4712, 'night early': 8364, 'morning extremely': 7967, 'extremely rude': 4248, 'rude hysterical': 10530, 'staff gentle enough': 11495, 'gentle enough guy': 5017, 'enough guy reception': 3717, 'guy reception white': 5545, 'reception white hair': 9850, 'white hair glass': 13337, 'hair glass found': 5570, 'glass found night': 5091, 'found night early': 4713, 'night early morning': 8365, 'early morning extremely': 3507, 'morning extremely rude': 7968, 'extremely rude hysterical': 4249, 'winter': 13390, 'nice winter': 8345, 'winter city': 13391, 'trip kln': 12657, 'nice winter city': 8346, 'winter city trip': 13392, 'city trip kln': 2250, 'enjoyed nice': 3697, 'nice weekend': 8337, 'break kln': 1591, 'kln dorint': 6714, 'enjoyed nice weekend': 3698, 'nice weekend break': 8338, 'weekend break kln': 13195, 'break kln dorint': 1592, 'kln really': 6717, 'really worth': 9788, 'worth visiting': 13501, 'visiting dorint': 13023, 'dorint comfortable': 3402, 'comfortable place': 2553, 'kln really worth': 6718, 'really worth visiting': 9789, 'worth visiting dorint': 13502, 'visiting dorint comfortable': 13024, 'dorint comfortable place': 3403, 'comfortable place stay': 2554, 'pity': 9108, 'underground': 12773, 'exact': 4017, 'pity underground': 9109, 'underground parking': 12774, 'parking cost': 8885, 'cost exact': 2774, 'exact 50': 4018, '50 room': 102, 'room rate': 10438, 'pity underground parking': 9110, 'underground parking cost': 12775, 'parking cost exact': 8886, 'cost exact 50': 2775, 'exact 50 room': 4019, '50 room rate': 103, 'indeed': 6471, 'room indeed': 10381, 'indeed comfortable': 6472, 'comfortable food': 2540, 'room indeed comfortable': 10382, 'indeed comfortable food': 6473, 'comfortable food excellent': 2541, 'updated': 12817, '9years': 128, 'clean updated': 2329, 'updated 9years': 12818, '9years ago': 129, 'ago many': 293, 'many room': 7607, 'room enough': 10337, 'enough make': 3718, 'make crowded': 7518, 'crowded full': 2907, 'full board': 4896, 'board breakfast': 1506, 'rest meal': 10086, 'meal enough': 7693, 'enough choice': 3709, 'clean updated 9years': 2330, 'updated 9years ago': 12819, '9years ago many': 130, 'ago many room': 294, 'many room enough': 7608, 'room enough make': 10338, 'enough make crowded': 3719, 'make crowded full': 7519, 'crowded full board': 2908, 'full board breakfast': 4897, 'board breakfast good': 1507, 'breakfast good rest': 1633, 'good rest meal': 5294, 'rest meal enough': 10087, 'meal enough choice': 7694, 'duomo': 3486, 'location minute': 7168, 'minute duomo': 7830, 'duomo loud': 3487, 'loud location': 7309, 'location possible': 7174, 'possible quite': 9363, 'night sleep': 8383, 'good location minute': 5252, 'location minute duomo': 7169, 'minute duomo loud': 7831, 'duomo loud location': 3488, 'loud location possible': 7310, 'location possible quite': 7175, 'possible quite night': 9364, 'quite night sleep': 9620, 'small room old': 11172, 'room old furnished': 10421, 'room worth': 10519, 'worth price': 13496, 'price even': 9418, 'even 50': 3862, '50 euro': 100, 'euro night': 3848, 'room worth price': 10520, 'worth price even': 13497, 'price even 50': 9419, 'even 50 euro': 3863, '50 euro night': 101, 'snack': 11248, 'breakfast go': 1630, 'go enough': 5107, 'enough good': 3714, 'location everywhere': 7138, 'everywhere good': 4012, 'coffee snack': 2471, 'snack morning': 11249, 'breakfast go enough': 1631, 'go enough good': 5108, 'enough good location': 3715, 'good location everywhere': 5246, 'location everywhere good': 7139, 'everywhere good coffee': 4013, 'good coffee snack': 5198, 'coffee snack morning': 2472, 'wc': 13166, 'upper room': 12830, 'small without': 11191, 'without bathroom': 13402, 'bathroom wc': 1160, 'upper room small': 12831, 'room small without': 10473, 'small without bathroom': 11192, 'without bathroom wc': 13403, 'really hotel': 9753, 'hotel low': 6114, 'low budget': 7386, 'budget room': 1731, 'room accommodation': 10268, 'really hotel low': 9754, 'hotel low budget': 6115, 'low budget room': 7387, 'budget room accommodation': 1732, 'wil': 13371, 'wil recommend': 13372, 'recommend anyone': 9871, 'anyone stay': 648, 'wil recommend anyone': 13373, 'recommend anyone stay': 9872, 'excellent star': 4093, 'excellent star hotel': 4094, 'hotel easy': 5988, 'access good': 171, 'location frankfurt': 7155, 'star hotel easy': 11608, 'hotel easy access': 5989, 'easy access good': 3525, 'access good location': 172, 'good location frankfurt': 5249, 'location frankfurt airport': 7156, 'good shuttle': 5306, 'service hotel': 10823, 'good shuttle bus': 5307, 'shuttle bus service': 10984, 'bus service hotel': 1796, 'service hotel frankfurt': 10824, 'hotel frankfurt airport': 6019, 'body': 1521, 'tedious': 12174, 'gym swimming': 5563, 'pool work': 9311, 'work body': 13434, 'body long': 1522, 'long tedious': 7213, 'tedious travel': 12175, 'travel city': 12593, 'gym swimming pool': 5564, 'swimming pool work': 12055, 'pool work body': 9312, 'work body long': 13435, 'body long tedious': 1523, 'long tedious travel': 7214, 'tedious travel city': 12176, 'department': 3146, 'cleaner': 2347, 'wife': 13361, 'grandaughter': 5362, 'junior': 6645, 'sunbeds': 11938, 'first class': 4494, 'class service': 2254, 'service every': 10804, 'every department': 3933, 'department cleaner': 3147, 'cleaner waiter': 2348, 'waiter service': 13054, 'service desk': 10793, 'desk reception': 3177, 'reception booked': 9823, 'booked double': 1539, 'room wife': 10517, 'wife grandaughter': 13362, 'grandaughter given': 5363, 'given free': 5077, 'free upgrade': 4769, 'upgrade junior': 12822, 'junior suite': 6646, 'suite say': 11925, 'say excellent': 10637, 'drink plenty': 3449, 'plenty sunbeds': 9222, 'sunbeds pool': 11939, 'first class service': 4495, 'class service every': 2255, 'service every department': 10805, 'every department cleaner': 3934, 'department cleaner waiter': 3148, 'cleaner waiter service': 2349, 'waiter service desk': 13055, 'service desk reception': 10794, 'desk reception booked': 3178, 'reception booked double': 9824, 'booked double room': 1540, 'double room wife': 3415, 'room wife grandaughter': 10518, 'wife grandaughter given': 13363, 'grandaughter given free': 5364, 'given free upgrade': 5078, 'free upgrade junior': 4770, 'upgrade junior suite': 12823, 'junior suite say': 6647, 'suite say excellent': 11926, 'say excellent food': 10638, 'excellent food drink': 4052, 'food drink plenty': 4609, 'drink plenty sunbeds': 3450, 'plenty sunbeds pool': 9223, 'sunbeds pool beach': 11940, 'favourite hotel': 4396, 'hotel cologne': 5953, 'favourite hotel cologne': 4397, 'excellent value': 4101, 'money good': 7918, 'excellent wellness': 4103, 'excellent value money': 4102, 'value money good': 12885, 'money good breakfast': 7919, 'good breakfast excellent': 5183, 'breakfast excellent wellness': 1624, 'excellent wellness facility': 4104, 'brings': 1706, 'minimum': 7813, 'avoiding': 914, 'though centre': 12297, 'centre public': 2017, 'transport system': 12586, 'system stop': 12065, 'stop right': 11831, 'right front': 10221, 'hotel brings': 5919, 'brings minimum': 1707, 'minimum time': 7814, 'time centre': 12363, 'centre thus': 2027, 'thus avoiding': 12332, 'avoiding parking': 915, 'parking problem': 8898, 'problem like': 9472, 'though centre public': 12298, 'centre public transport': 2018, 'public transport system': 9528, 'transport system stop': 12587, 'system stop right': 12066, 'stop right front': 11832, 'right front hotel': 10222, 'front hotel brings': 4885, 'hotel brings minimum': 5920, 'brings minimum time': 1708, 'minimum time centre': 7815, 'time centre thus': 12364, 'centre thus avoiding': 2028, 'thus avoiding parking': 12333, 'avoiding parking problem': 916, 'parking problem like': 8899, 'budget stay': 1733, 'stay paris': 11698, 'budget stay paris': 1734, 'breakfast decent': 1621, 'decent enough': 3062, 'breakfast decent enough': 1622, 'desired': 3166, 'twin': 12718, '3rds': 91, 'gap': 4954, 'exposed': 4211, 'pipe': 9103, 'accommodation left': 185, 'left something': 6884, 'something desired': 11275, 'desired room': 3167, 'room rather': 10439, 'small twin': 11185, 'twin bed': 12719, 'bed took': 1298, 'took 3rds': 12457, '3rds space': 92, 'space bathroom': 11323, 'bathroom small': 1156, 'small gap': 11145, 'gap wall': 4955, 'wall exposed': 13105, 'exposed pipe': 4212, 'pipe rather': 9104, 'rather noisy': 9681, 'accommodation left something': 186, 'left something desired': 6885, 'something desired room': 11276, 'desired room rather': 3168, 'room rather small': 10440, 'rather small twin': 9684, 'small twin bed': 11186, 'twin bed took': 12720, 'bed took 3rds': 1299, 'took 3rds space': 12458, '3rds space bathroom': 93, 'space bathroom small': 11324, 'bathroom small gap': 1157, 'small gap wall': 11146, 'gap wall exposed': 4956, 'wall exposed pipe': 13106, 'exposed pipe rather': 4213, 'pipe rather noisy': 9105, 'certain amount': 2036, 'amount dust': 566, 'dust floor': 3491, 'certain amount dust': 2037, 'amount dust floor': 567, 'location rather': 7182, 'rather good': 9679, 'good number': 5270, 'number decent': 8496, 'decent shop': 3069, 'restaurant made': 10143, 'made use': 7460, 'location rather good': 7183, 'rather good number': 9680, 'good number decent': 5271, 'number decent shop': 8497, 'decent shop restaurant': 3070, 'shop restaurant made': 10916, 'restaurant made use': 10144, 'great superb': 5443, 'superb staff': 11967, 'staff room': 11540, 'room restaurant': 10451, 'hotel great superb': 6051, 'great superb staff': 5444, 'superb staff room': 11968, 'staff room restaurant': 11541, 'sky': 11103, 'sky spa': 11104, 'spa disappointment': 11306, 'disappointment due': 3290, 'due facility': 3478, 'sky spa disappointment': 11105, 'spa disappointment due': 11307, 'disappointment due facility': 3291, 'constantly': 2706, 'invaded': 6580, 'swim': 12042, 'goggle': 5132, 'floaties': 4548, 'area constantly': 722, 'constantly invaded': 2707, 'invaded family': 6581, 'family single': 4325, 'single swim': 11056, 'swim wear': 12043, 'wear including': 13170, 'including child': 6449, 'child goggle': 2150, 'goggle floaties': 5133, 'floaties spa': 4549, 'spa etiquette': 11308, 'room area constantly': 10277, 'area constantly invaded': 723, 'constantly invaded family': 2708, 'invaded family single': 6582, 'family single swim': 4326, 'single swim wear': 11057, 'swim wear including': 12044, 'wear including child': 13171, 'including child goggle': 6450, 'child goggle floaties': 2151, 'goggle floaties spa': 5134, 'floaties spa etiquette': 4550, 'managed': 7560, 'however sauna': 6336, 'area managed': 740, 'managed well': 7561, 'however sauna steam': 6337, 'room area managed': 10278, 'area managed well': 741, 'quest': 9569, 'proper': 9499, 'signage': 11024, 'suggest staff': 11918, 'staff tell': 11556, 'tell quest': 12183, 'quest proper': 9570, 'proper etiquette': 9500, 'etiquette dress': 3838, 'dress use': 3432, 'facility well': 4289, 'well additional': 13238, 'additional signage': 228, 'signage guest': 11025, 'guest like': 5519, 'like enjoy': 6927, 'enjoy excellent': 3668, 'suggest staff tell': 11919, 'staff tell quest': 11557, 'tell quest proper': 12184, 'quest proper etiquette': 9571, 'proper etiquette dress': 9501, 'etiquette dress use': 3839, 'dress use facility': 3433, 'use facility well': 12841, 'facility well additional': 4290, 'well additional signage': 13239, 'additional signage guest': 229, 'signage guest like': 11026, 'guest like enjoy': 5520, 'like enjoy excellent': 6928, 'enjoy excellent facility': 3669, 'acoustic': 193, 'poor bad': 9317, 'bad acoustic': 977, 'poor bad acoustic': 9318, 'wheel': 13324, 'passed night': 8937, 'main advantage': 7482, 'advantage central': 251, 'near great': 8069, 'great wheel': 5461, 'wheel bridge': 13325, 'passed night hotel': 8938, 'night hotel main': 8373, 'hotel main advantage': 6118, 'main advantage central': 7483, 'advantage central location': 252, 'location near great': 7171, 'near great wheel': 8070, 'great wheel bridge': 5462, 'txi': 12744, 'victoria': 12932, 'pound': 9368, 'waterloo': 13153, 'bem': 1322, 'txi victoria': 12745, 'victoria station': 12933, 'station 12': 11636, '12 pound': 24, 'pound close': 9369, 'close waterloo': 2430, 'waterloo minute': 13154, 'walk big': 13064, 'big bem': 1406, 'txi victoria station': 12746, 'victoria station 12': 12934, 'station 12 pound': 11637, '12 pound close': 25, 'pound close waterloo': 9370, 'close waterloo minute': 2431, 'waterloo minute walk': 13155, 'minute walk big': 7839, 'walk big bem': 13065, 'dissapointment': 3328, 'major dissapointment': 7512, 'dissapointment room': 3329, 'room little': 10391, 'little bathroom': 7007, 'poor amenity': 9313, 'amenity worse': 556, 'worse could': 13486, 'could hear': 2802, 'everything room': 4001, 'room around': 10279, 'major dissapointment room': 7513, 'dissapointment room little': 3330, 'room little bathroom': 10392, 'little bathroom poor': 7008, 'bathroom poor amenity': 1146, 'poor amenity worse': 9314, 'amenity worse could': 557, 'worse could hear': 13487, 'could hear everything': 2803, 'hear everything room': 5647, 'everything room around': 4002, 'remeber': 9985, 'remeber booked': 9986, 'hotel mainly': 6120, 'mainly central': 7501, 'location price': 7178, 'price definately': 9416, 'definately repeat': 3094, 'repeat stay': 10013, 'remeber booked hotel': 9987, 'booked hotel mainly': 1542, 'hotel mainly central': 6121, 'mainly central location': 7502, 'central location price': 1993, 'location price definately': 7179, 'price definately repeat': 9417, 'definately repeat stay': 3095, 'great inclusive': 5408, 'inclusive trip': 6465, 'great inclusive trip': 5409, 'resort absolutely': 10052, 'absolutely beautiful': 142, 'resort absolutely beautiful': 10053, 'bubba': 1717, 'steakhouse': 11779, 'ate': 842, 'food great': 4626, 'especially bubba': 3791, 'bubba steakhouse': 1718, 'steakhouse ate': 11780, 'ate twice': 843, 'food great especially': 4627, 'great especially bubba': 5383, 'especially bubba steakhouse': 3792, 'bubba steakhouse ate': 1719, 'steakhouse ate twice': 11781, 'bartender': 1070, 'pool bartender': 9273, 'bartender extremely': 1071, 'extremely pleasant': 4244, 'pleasant always': 9200, 'always attentive': 483, 'attentive need': 874, 'pool bartender extremely': 9274, 'bartender extremely pleasant': 1072, 'extremely pleasant always': 4245, 'pleasant always attentive': 9201, 'always attentive need': 484, 'excellent time': 4095, 'recommend resort': 9886, 'resort family': 10055, 'family friend': 4316, 'excellent time would': 4096, 'time would highly': 12400, 'highly recommend resort': 5746, 'recommend resort family': 9887, 'resort family friend': 10056, 'hotel amenity': 5885, 'amenity star': 552, 'star service': 11615, 'star hotel amenity': 11603, 'hotel amenity star': 5886, 'amenity star service': 553, 'ambience': 545, 'hotel ambience': 5883, 'ambience good': 546, 'hotel ambience good': 5884, 'breakfast average': 1603, 'bar good': 1035, 'workout': 13470, 'gym small': 5561, 'sufficient standard': 11912, 'standard workout': 11602, 'gym small sufficient': 5562, 'small sufficient standard': 11181, 'sufficient standard workout': 11913, 'nice wellness': 8343, 'wellness breakfast': 13302, 'breakfast staff': 1677, 'nice wellness breakfast': 8344, 'wellness breakfast staff': 13303, 'polite professional': 9253, 'never tried': 8167, 'tried spa': 12641, 'spa swimming': 11317, 'pool though': 9304, 'never tried spa': 8168, 'tried spa swimming': 12642, 'spa swimming pool': 11318, 'swimming pool though': 12053, 'free wireless': 4775, 'connection available': 2690, 'available room': 900, 'room lobby': 10393, 'lobby made': 7064, 'made hotel': 7446, 'hotel attractive': 5895, 'free wireless internet': 4776, 'wireless internet connection': 13394, 'internet connection available': 6562, 'connection available room': 2691, 'available room lobby': 901, 'room lobby made': 10394, 'lobby made hotel': 7065, 'made hotel attractive': 7447, 'deskstop': 3179, 'computer': 2636, 'also several': 430, 'several deskstop': 10865, 'deskstop computer': 3180, 'computer guest': 2637, 'guest use': 5535, 'also several deskstop': 431, 'several deskstop computer': 10866, 'deskstop computer guest': 3181, 'computer guest use': 2638, 'schiphol': 10661, 'surge': 12004, 'whose': 13351, 'cancelled': 1876, 'near schiphol': 8082, 'schiphol airport': 10662, 'airport time': 324, 'time may': 12388, 'may get': 7675, 'get surge': 5054, 'surge guest': 12005, 'guest whose': 5536, 'whose flight': 13352, 'flight cancelled': 4547, 'located near schiphol': 7101, 'near schiphol airport': 8083, 'schiphol airport time': 10663, 'airport time may': 325, 'time may get': 12389, 'may get surge': 7676, 'get surge guest': 5055, 'surge guest whose': 12006, 'guest whose flight': 5537, 'whose flight cancelled': 13353, 'passing': 8939, 'lot group': 7284, 'group passing': 5498, 'passing weekend': 8940, 'lot group passing': 7285, 'group passing weekend': 5499, 'trendy': 12632, 'trendy hotel': 12633, 'nice spot': 8325, 'trendy hotel nice': 12634, 'hotel nice spot': 6159, 'located good': 7092, 'good spot': 5313, 'spot public': 11413, 'transport around': 12585, 'hotel located good': 6100, 'located good spot': 7093, 'good spot public': 5314, 'spot public transport': 11414, 'public transport around': 9527, 'great shopping': 5437, 'shopping mall': 10933, 'mall around': 7549, 'around corner': 768, 'great shopping mall': 5438, 'shopping mall around': 10934, 'mall around corner': 7550, 'good rated': 5290, 'rated restaurant': 9673, 'restaurant outside': 10159, 'nice good rated': 8276, 'good rated restaurant': 5291, 'rated restaurant outside': 9674, 'restaurant outside hotel': 10160, 'outside hotel well': 8764, 'lovely furnished': 7367, 'hotel lovely furnished': 6112, 'breakfast basic': 1606, 'basic however': 1089, 'however tasteful': 6340, 'breakfast basic however': 1607, 'basic however tasteful': 1090, 'student': 11885, 'friendly probably': 4844, 'probably student': 9465, 'bar staff friendly': 1058, 'staff friendly probably': 11489, 'friendly probably student': 4845, 'educated': 3560, 'well english': 13255, 'english educated': 3652, 'reception staff well': 9842, 'staff well english': 11569, 'well english educated': 13256, 'stay nice': 11692, 'overall nice stay': 8795, 'nice stay nice': 8326, 'stay nice place': 11693, 'personally': 9058, 'prefer': 9383, 'nn': 8407, 'personally prefer': 9059, 'prefer one': 9384, 'one nn': 8663, 'nn hotel': 8408, 'personally prefer one': 9060, 'prefer one nn': 9385, 'one nn hotel': 8664, 'enjoyable stay': 3677, 'enjoyable stay hotel': 3678, 'lengthy': 6893, 'gridlocked': 5474, 'drive ground': 3460, 'ground lengthy': 5485, 'lengthy hour': 6894, 'hour morning': 6307, 'morning road': 7971, 'road gridlocked': 10234, 'drive ground lengthy': 3461, 'ground lengthy hour': 5486, 'lengthy hour morning': 6895, 'hour morning road': 6308, 'morning road gridlocked': 7972, 'staff welcoming': 11568, 'hotel staff welcoming': 6256, 'food international': 4635, 'international hotel': 6556, 'hotel food': 6015, 'food buffet': 4590, 'buffet style': 1743, 'style excellent': 11903, 'food international hotel': 4636, 'international hotel food': 6557, 'hotel food buffet': 6016, 'food buffet style': 4591, 'buffet style excellent': 1744, 'wanting': 13127, 'recommend someone': 9888, 'someone wanting': 11273, 'wanting relaxing': 13128, 'relaxing time': 9971, 'would recommend someone': 13548, 'recommend someone wanting': 9889, 'someone wanting relaxing': 11274, 'wanting relaxing time': 13129, 'hotel ample': 5887, 'ample parking': 574, 'parking great': 8889, 'great lobby': 5414, 'hotel ample parking': 5888, 'ample parking great': 575, 'parking great lobby': 8890, 'comfortable staff': 2558, 'staff attentive': 11445, 'clean comfortable staff': 2280, 'comfortable staff attentive': 2559, 'octoberfest': 8514, 'although stayed': 477, 'stayed busy': 11735, 'busy time': 1828, 'day octoberfest': 3020, 'octoberfest staff': 8515, 'staff paid': 11527, 'paid attention': 8826, 'detail felt': 3191, 'felt welcome': 4425, 'although stayed busy': 478, 'stayed busy time': 11736, 'busy time last': 1829, 'time last day': 12386, 'last day octoberfest': 6806, 'day octoberfest staff': 3021, 'octoberfest staff paid': 8516, 'staff paid attention': 11528, 'paid attention detail': 8827, 'attention detail felt': 866, 'detail felt welcome': 3192, 'downstairs': 3419, 'healthy': 5638, 'sure go': 11996, 'go downstairs': 5103, 'downstairs nice': 3420, 'breakfast buffet': 1612, 'buffet fantastic': 1738, 'fantastic healthy': 4343, 'healthy selection': 5639, 'make sure go': 7533, 'sure go downstairs': 11997, 'go downstairs nice': 5104, 'downstairs nice breakfast': 3421, 'nice breakfast buffet': 8251, 'breakfast buffet fantastic': 1613, 'buffet fantastic healthy': 1739, 'fantastic healthy selection': 4344, 'unload': 12807, 'sure unload': 11998, 'unload luggage': 12808, 'luggage entrance': 7402, 'entrance set': 3762, 'set stair': 10855, 'stair parking': 11582, 'parking lot': 8893, 'make sure unload': 7534, 'sure unload luggage': 11999, 'unload luggage entrance': 12809, 'luggage entrance set': 7403, 'entrance set stair': 3763, 'set stair parking': 10856, 'stair parking lot': 11583, 'huge disappointment': 6352, 'hotel worth': 6288, 'worth star': 13499, 'hotel worth star': 6289, 'urgent': 12834, 'tiny furniture': 12408, 'furniture carpet': 4936, 'carpet wall': 1929, 'wall need': 13107, 'need urgent': 8125, 'urgent refurbishment': 12835, 'refurbishment cleaning': 9935, 'cleaning would': 2358, 'would nice': 13538, 'room tiny furniture': 10501, 'tiny furniture carpet': 12409, 'furniture carpet wall': 4937, 'carpet wall need': 1930, 'wall need urgent': 13108, 'need urgent refurbishment': 8126, 'urgent refurbishment cleaning': 12836, 'refurbishment cleaning would': 9936, 'cleaning would nice': 2359, 'strange': 11844, 'strange smell': 11845, 'smell three': 11211, 'three room': 12322, 'strange smell three': 11846, 'smell three room': 11212, 'one tv': 8684, 'tv function': 12704, 'function several': 4917, 'one tv function': 8685, 'tv function several': 12705, 'function several time': 4918, 'nousy': 8478, 'nousy work': 8479, 'work going': 13437, 'going starting': 5146, 'nousy work going': 8480, 'work going starting': 13438, 'good side': 5308, 'side limited': 11001, 'limited two': 6976, 'two location': 12733, 'excellent breakfast': 4039, 'good side limited': 5309, 'side limited two': 11002, 'limited two location': 6977, 'two location excellent': 12734, 'location excellent breakfast': 7140, 'excellent breakfast ok': 4040, 'swan': 12033, 'swiming swan': 12047, 'swan pond': 12034, 'pond park': 9267, 'park view': 8882, 'view lobby': 12949, 'swiming swan pond': 12048, 'swan pond park': 12035, 'pond park view': 9268, 'park view lobby': 8883, 'cared': 1913, 'hospitable': 5836, 'pleasant location': 9206, 'location walk': 7195, 'around pond': 780, 'pond cared': 9265, 'cared hospitable': 1914, 'hospitable way': 5837, 'way hotel': 13161, 'pleasant location walk': 9207, 'location walk around': 7196, 'walk around pond': 13059, 'around pond cared': 781, 'pond cared hospitable': 9266, 'cared hospitable way': 1915, 'hospitable way hotel': 5838, 'variety great': 12902, 'great friendly': 5395, 'food variety great': 4670, 'variety great friendly': 12903, 'great friendly staff': 5396, 'well worth': 13300, 'money time': 7927, 'time spent': 12394, 'well worth money': 13301, 'worth money time': 13495, 'money time spent': 7928, 'everytime': 4005, 'maxxiland': 7669, 'restaurant specially': 10163, 'specially main': 11373, 'restaurant menu': 10147, 'menu everytime': 7738, 'everytime child': 4006, 'child pool': 2158, 'pool cold': 9278, 'cold la': 2481, 'good maxxiland': 5260, 'maxxiland really': 7670, 'good child': 5190, 'room good restaurant': 10364, 'good restaurant specially': 5298, 'restaurant specially main': 10164, 'specially main restaurant': 11374, 'main restaurant menu': 7494, 'restaurant menu everytime': 10148, 'menu everytime child': 7739, 'everytime child pool': 4007, 'child pool cold': 2159, 'pool cold la': 9279, 'cold la carte': 2482, 'carte restaurant good': 1940, 'restaurant good maxxiland': 10127, 'good maxxiland really': 5261, 'maxxiland really good': 7671, 'really good child': 9739, 'march': 7622, '2012': 61, 'february': 4401, 'found titanic': 4724, 'titanic beach': 12423, 'beach spa': 1210, 'spa fantastic': 11309, 'fantastic hotel': 4345, 'stay stayed': 11711, 'stayed month': 11751, 'month march': 7940, 'march 2012': 7623, '2012 also': 62, 'also month': 423, 'month november': 7942, 'november 2012': 8485, '2012 month': 64, 'month february': 7934, 'february 2013': 4402, '2013 staff': 66, 'staff fantastic': 11474, 'found titanic beach': 4725, 'titanic beach spa': 12424, 'beach spa fantastic': 1211, 'spa fantastic hotel': 11310, 'fantastic hotel stay': 4346, 'hotel stay stayed': 6258, 'stay stayed month': 11712, 'stayed month march': 11752, 'month march 2012': 7941, 'march 2012 also': 7624, '2012 also month': 63, 'also month november': 424, 'month november 2012': 7943, 'november 2012 month': 8486, '2012 month february': 65, 'month february 2013': 7935, 'february 2013 staff': 4403, '2013 staff fantastic': 67, 'good nice hotel': 5269, 'friendly personal': 4838, 'surely coming': 12000, 'back good': 960, 'surely coming back': 12001, 'coming back good': 2572, 'back good hotel': 961, 'drink great': 3448, 'food drink great': 4608, 'nothing like': 8465, 'nothing like hotel': 8466, 'swimmingpools enough': 12059, 'upset': 12832, 'upset hotel': 12833, 'fashioned': 4373, 'room staying': 10493, 'staying old': 11775, 'old fashioned': 8590, 'room staying old': 10494, 'staying old fashioned': 11776, 'commode': 2578, 'come door': 2511, 'door left': 3394, 'left hand': 6882, 'hand side': 5589, 'side old': 11003, 'old cabinet': 8577, 'cabinet old': 1844, 'old commode': 8583, 'commode old': 2579, 'old tube': 8609, 'tube television': 12690, 'come door left': 2512, 'door left hand': 3395, 'left hand side': 6883, 'hand side old': 5590, 'side old cabinet': 11004, 'old cabinet old': 8578, 'cabinet old commode': 1845, 'old commode old': 8584, 'commode old tube': 2580, 'old tube television': 8610, 'guessed': 5510, 'guessed right': 5511, 'right big': 10217, 'big dirty': 1410, 'dirty spot': 3269, 'spot sheet': 11415, 'guessed right big': 5512, 'right big dirty': 10218, 'big dirty spot': 1411, 'dirty spot sheet': 3270, 'angry': 599, 'staying 10': 11768, 'minute room': 7837, 'room already': 10269, 'already really': 377, 'really angry': 9720, 'staying 10 minute': 11769, '10 minute room': 8, 'minute room already': 7838, 'room already really': 10270, 'already really angry': 378, 'restroom': 10185, 'dirty public': 3267, 'public restroom': 9526, 'dirty public restroom': 3268, 'surprising': 12016, 'surprising good': 12017, 'surprising good stay': 12018, 'redecorated': 9907, 'refurnished': 9941, 'stayed redecorated': 11753, 'redecorated refurnished': 9908, 'refurnished room': 9942, 'stayed redecorated refurnished': 11754, 'redecorated refurnished room': 9909, 'stay two': 11721, 'good stay two': 5319, 'stay two night': 11722, 'match': 7655, 'ok although': 8547, 'although atmosphere': 450, 'atmosphere match': 853, 'match new': 7656, 'new room': 8192, 'restaurant ok although': 10157, 'ok although atmosphere': 8548, 'although atmosphere match': 451, 'atmosphere match new': 854, 'match new room': 7657, 'advantage hotel': 257, 'advantage hotel location': 258, 'cetral': 2043, 'away foot': 920, 'foot amsterdam': 4673, 'amsterdam cetral': 583, 'cetral train': 2044, 'train terminal': 12565, 'located minute away': 7098, 'minute away foot': 7820, 'away foot amsterdam': 921, 'foot amsterdam cetral': 4674, 'amsterdam cetral train': 584, 'cetral train terminal': 2045, 'price expensive': 9421, 'price expensive ordinary': 9422, 'moreover': 7958, 'clean moreover': 2310, 'moreover problem': 7959, 'problem bathroom': 9466, 'bathroom equipment': 1129, 'equipment shower': 3774, 'shower always': 10965, 'always water': 513, 'water floor': 13147, 'room small bathroom': 10466, 'small bathroom clean': 11129, 'bathroom clean moreover': 1126, 'clean moreover problem': 2311, 'moreover problem bathroom': 7960, 'problem bathroom equipment': 9467, 'bathroom equipment shower': 1130, 'equipment shower always': 3775, 'shower always water': 10966, 'always water floor': 514, 'food usual': 4668, 'usual fast': 12862, 'fast food': 4378, 'food usual fast': 4669, 'usual fast food': 12863, 'fast food breakfast': 4379, 'cancelation': 1873, 'explanation': 4207, 'booking condition': 1550, 'condition free': 2649, 'free cancelation': 4735, 'cancelation charged': 1874, 'charged full': 2076, 'full amount': 4892, 'amount explanation': 568, 'booking condition free': 1551, 'condition free cancelation': 2650, 'free cancelation charged': 4736, 'cancelation charged full': 1875, 'charged full amount': 2077, 'full amount explanation': 4893, 'anyway think': 657, 'think making': 12280, 'making booking': 7542, 'anyway think making': 658, 'think making booking': 12281, 'making booking hotel': 7543, 'suroundings': 12007, 'overall impression': 8788, 'excellent nice': 4074, 'nice suroundings': 8327, 'suroundings great': 12008, 'great distance': 5381, 'distance sea': 3347, 'sea friendly': 10682, 'overall impression hotel': 8789, 'impression hotel excellent': 6424, 'hotel excellent nice': 6003, 'excellent nice suroundings': 4075, 'nice suroundings great': 8328, 'suroundings great distance': 12009, 'great distance sea': 5382, 'distance sea friendly': 3348, 'sea friendly staff': 10683, 'one thing': 8680, 'food could': 4598, 'could variety': 2821, 'variety choice': 12895, 'choice local': 2183, 'local food': 7076, 'one thing could': 8681, 'thing could better': 12244, 'could better food': 2786, 'better food could': 1361, 'food could variety': 4599, 'could variety choice': 2822, 'variety choice local': 12896, 'choice local food': 2184, 'improvement': 6430, 'gold': 5155, 'need quite': 8109, 'quite big': 9603, 'big improvement': 1416, 'improvement gold': 6431, 'gold spa': 5156, 'service need quite': 10835, 'need quite big': 8110, 'quite big improvement': 9604, 'big improvement gold': 1417, 'improvement gold spa': 6432, 'ingredient': 6496, 'impressive': 6426, 'massage good': 7649, 'good ingredient': 5234, 'ingredient spa': 6497, 'treatment impressive': 12626, 'impressive staff': 6427, 'staff talking': 11554, 'talking time': 12112, 'time language': 12383, 'language treatment': 6771, 'treatment help': 12624, 'help relax': 5685, 'massage good ingredient': 7650, 'good ingredient spa': 5235, 'ingredient spa treatment': 6498, 'spa treatment impressive': 11319, 'treatment impressive staff': 12627, 'impressive staff talking': 6428, 'staff talking time': 11555, 'talking time language': 12113, 'time language treatment': 12384, 'language treatment help': 6772, 'treatment help relax': 12625, 'despite would': 3188, 'would definately': 13513, 'definately recommend': 3092, 'hotel holiday': 6058, 'despite would definately': 3189, 'would definately recommend': 13514, 'definately recommend hotel': 3093, 'recommend hotel holiday': 9884, 'hotel holiday good': 6059, 'holiday good time': 5781, 'amazing hotel': 529, 'beaituful': 1226, 'hotel beaituful': 5903, 'restaurantswe': 10172, 'ottoman': 8755, 'bar la': 1040, 'carte restaurantswe': 1942, 'restaurantswe could': 10173, 'easily make': 3515, 'reservation la': 10043, 'restaurant mostly': 10151, 'mostly liked': 7977, 'liked dinner': 6964, 'dinner ottoman': 3254, 'ottoman restaurant': 8756, 'lot bar la': 7261, 'bar la carte': 1041, 'la carte restaurantswe': 6743, 'carte restaurantswe could': 1943, 'restaurantswe could easily': 10174, 'could easily make': 2793, 'easily make reservation': 3516, 'make reservation la': 7532, 'reservation la carte': 10044, 'carte restaurant mostly': 1941, 'restaurant mostly liked': 10152, 'mostly liked dinner': 7978, 'liked dinner ottoman': 6965, 'dinner ottoman restaurant': 3255, '15min': 34, 'facility hotel': 4277, 'hotel 15min': 5868, '15min walk': 35, 'walk city': 13066, 'wellness facility hotel': 13306, 'facility hotel 15min': 4278, 'hotel 15min walk': 5869, '15min walk city': 36, 'walk city center': 13067, 'stop front': 11825, 'tram stop front': 12572, 'stop front hotel': 11826, 'underneath': 12776, 'come car': 2509, 'car car': 1889, 'park underneath': 8880, 'underneath hotel': 12777, 'come car car': 2510, 'car car park': 1890, 'car park underneath': 1900, 'park underneath hotel': 8881, 'excelent': 4032, 'comprehensive': 2633, 'program': 9493, 'aerobic': 270, 'oriental': 8736, 'really excelent': 9735, 'excelent hotel': 4033, 'clean beautiful': 2269, 'beautiful room': 1242, 'room comprehensive': 10323, 'comprehensive choice': 2634, 'choice delicious': 2168, 'drink different': 3441, 'restaurant beach': 10101, 'beach near': 1198, 'people animator': 8969, 'animator waiter': 617, 'waiter cook': 13044, 'cook receptionist': 2747, 'receptionist cleaning': 9851, 'cleaning men': 2353, 'men great': 7733, 'great animation': 5370, 'animation program': 605, 'program step': 9494, 'step aerobic': 11792, 'aerobic oriental': 271, 'oriental dance': 8737, 'dance specially': 2958, 'specially water': 11375, 'gym night': 5555, 'night disco': 8359, 'really excelent hotel': 9736, 'excelent hotel clean': 4034, 'hotel clean beautiful': 5944, 'clean beautiful room': 2270, 'beautiful room comprehensive': 1243, 'room comprehensive choice': 10324, 'comprehensive choice delicious': 2635, 'choice delicious food': 2169, 'delicious food drink': 3122, 'food drink different': 4607, 'drink different restaurant': 3442, 'different restaurant beach': 3220, 'restaurant beach near': 10102, 'beach near hotel': 1199, 'near hotel nice': 8073, 'hotel nice people': 6158, 'nice people animator': 8306, 'people animator waiter': 8970, 'animator waiter cook': 618, 'waiter cook receptionist': 13045, 'cook receptionist cleaning': 2748, 'receptionist cleaning men': 9852, 'cleaning men great': 2354, 'men great animation': 7734, 'great animation program': 5371, 'animation program step': 606, 'program step aerobic': 9495, 'step aerobic oriental': 11793, 'aerobic oriental dance': 272, 'oriental dance specially': 8738, 'dance specially water': 2959, 'specially water gym': 11376, 'water gym night': 13148, 'gym night disco': 5556, 'recommend dana': 9875, 'course recommend dana': 2862, 'recommend dana beach': 9876, 'beautiful quiet': 1241, 'mile': 7787, 'lovely ground': 7370, 'ground quiet': 5489, 'location couple': 7134, 'couple mile': 2846, 'mile outside': 7788, 'outside city': 8758, 'city york': 2252, 'york well': 13600, 'connected park': 2684, 'park ride': 8876, 'ride bus': 10206, 'beautiful hotel lovely': 1237, 'hotel lovely ground': 6113, 'lovely ground quiet': 7371, 'ground quiet location': 5490, 'quiet location couple': 9587, 'location couple mile': 7135, 'couple mile outside': 2847, 'mile outside city': 7789, 'outside city york': 8759, 'city york well': 2253, 'york well connected': 13601, 'well connected park': 13249, 'connected park ride': 2685, 'park ride bus': 8877, 'ride bus service': 10207, 'delightfully': 3133, 'tranquil': 12575, 'atmosphere delightfully': 846, 'delightfully tranquil': 3134, 'tranquil relaxing': 12576, 'lovely place': 7375, 'place return': 9151, 'return busy': 10194, 'busy day': 1824, 'day sightseeing': 3026, 'sightseeing city': 11018, 'atmosphere delightfully tranquil': 847, 'delightfully tranquil relaxing': 3135, 'tranquil relaxing lovely': 12577, 'relaxing lovely place': 9966, 'lovely place return': 7376, 'place return busy': 9152, 'return busy day': 10195, 'busy day sightseeing': 1825, 'day sightseeing city': 3027, 'spacious well': 11348, 'well furnished': 13262, 'room spacious well': 10485, 'spacious well furnished': 11349, 'criticism': 2903, 'updating': 12820, 'refreshing': 9922, 'criticism would': 2904, 'would bathroom': 13505, 'small need': 11158, 'need updating': 8123, 'updating refreshing': 12821, 'criticism would bathroom': 2905, 'would bathroom little': 13506, 'little small need': 7040, 'small need updating': 11159, 'need updating refreshing': 8124, 'said adequate': 10580, 'adequate immaculately': 230, 'said adequate immaculately': 10581, 'adequate immaculately clean': 231, 'room service excellent': 10458, 'likewise': 6973, 'likewise restaurant': 6974, 'likewise restaurant excellent': 6975, 'thoroughly enjoyed': 12293, 'would happily': 13528, 'happily return': 5609, 'return visit': 10198, 'visit york': 13017, 'thoroughly enjoyed stay': 12294, 'enjoyed stay would': 3701, 'stay would happily': 11728, 'would happily return': 13529, 'happily return visit': 5610, 'return visit york': 10199, '8th': 115, '8th stay': 116, 'big hotel': 1414, 'area nearby': 744, 'nearby 300': 8087, '300 guest': 87, 'big hotel area': 1415, 'hotel area nearby': 5893, 'area nearby 300': 745, 'nearby 300 guest': 8088, 'cleanless': 2360, 'zone': 13607, 'cleanless good': 2361, 'good zone': 5340, 'cleanless good zone': 2362, 'many nice': 7597, 'nice change': 8255, 'change since': 2061, 'since last': 11047, 'last stay': 6809, 'many nice change': 7598, 'nice change since': 8256, 'change since last': 2062, 'since last stay': 11048, 'second stay': 10698, 'stay wonderful': 11725, 'second stay wonderful': 10699, 'stay wonderful hotel': 11726, 'wonderful hotel great': 13419, 'beautified': 1227, 'month lot': 7938, 'lot completed': 7268, 'completed beautified': 2620, 'month lot completed': 7939, 'lot completed beautified': 7269, 'landscaped': 6764, 'playground': 9197, 'beautifully landscaped': 1254, 'landscaped ground': 6765, 'ground new': 5487, 'new child': 8180, 'child playground': 2156, 'playground everything': 9198, 'everything last': 3990, 'last year': 6813, 'year yet': 13580, 'yet finished': 13594, 'beautifully landscaped ground': 1255, 'landscaped ground new': 6766, 'ground new child': 5488, 'new child playground': 8181, 'child playground everything': 2157, 'playground everything last': 9199, 'everything last year': 3991, 'last year yet': 6814, 'year yet finished': 13581, 'created': 2896, 'created pleasant': 2897, 'pleasant ground': 9202, 'ground wonderful': 5491, 'created pleasant ground': 2898, 'pleasant ground wonderful': 9203, 'ground wonderful facility': 5492, 'maximum': 7666, 'earned': 3508, 'score': 10672, 'unfortunately give': 12782, 'give maximum': 5067, 'maximum number': 7667, 'number point': 8500, 'point hotel': 9240, 'hotel earned': 5984, 'earned area': 3509, 'area score': 755, 'unfortunately give maximum': 12783, 'give maximum number': 5068, 'maximum number point': 7668, 'number point hotel': 8501, 'point hotel earned': 9241, 'hotel earned area': 5985, 'earned area score': 3510, 'great value': 5453, 'great value money': 5454, 'hotelthe': 6294, 'helpfulathe': 5713, 'moneyi': 7929, 'experience family': 4184, 'stay hotelthe': 11676, 'hotelthe staff': 6295, 'friendly helpfulathe': 4822, 'helpfulathe amenity': 5714, 'amenity hotel': 550, 'value moneyi': 12886, 'moneyi strongly': 7930, 'future visit': 4949, 'visit bulgaria': 13000, 'bulgaria choose': 1772, 'choose hotel': 2203, 'great experience family': 5384, 'experience family stay': 4185, 'family stay hotelthe': 4327, 'stay hotelthe staff': 11677, 'hotelthe staff friendly': 6296, 'staff friendly helpfulathe': 11486, 'friendly helpfulathe amenity': 4823, 'helpfulathe amenity hotel': 5715, 'amenity hotel offer': 551, 'good value moneyi': 5329, 'value moneyi strongly': 12887, 'moneyi strongly recommend': 7931, 'strongly recommend hotel': 11882, 'recommend hotel future': 9883, 'hotel future visit': 6032, 'future visit bulgaria': 4950, 'visit bulgaria choose': 13001, 'bulgaria choose hotel': 1773, 'unacceptable': 12762, 'upon': 12826, 'contacting': 2715, 'cancel': 1870, 'discovered': 3313, 'refund': 9926, 'advice': 264, 'cancelling': 1877, 'policy': 9248, 'upon contacting': 12827, 'contacting hotel': 2716, 'one week': 8688, 'week trip': 13189, 'trip cancel': 12652, 'cancel reservation': 1871, 'reservation discovered': 10039, 'discovered refund': 3314, 'refund possible': 9927, 'possible advice': 9359, 'advice provided': 265, 'provided reservation': 9515, 'reservation cancelling': 10037, 'cancelling policy': 1878, 'upon contacting hotel': 12828, 'contacting hotel one': 2717, 'hotel one week': 6173, 'one week trip': 8689, 'week trip cancel': 13190, 'trip cancel reservation': 12653, 'cancel reservation discovered': 1872, 'reservation discovered refund': 10040, 'discovered refund possible': 3315, 'refund possible advice': 9928, 'possible advice provided': 9360, 'advice provided reservation': 266, 'provided reservation cancelling': 9516, 'reservation cancelling policy': 10038, 'unhappy': 12796, 'unhappy treatment': 12797, 'treatment serious': 12630, 'serious situation': 10766, 'situation staying': 11083, 'staying lot': 11772, 'lot time': 7303, 'unhappy treatment serious': 12798, 'treatment serious situation': 12631, 'serious situation staying': 10767, 'situation staying lot': 11084, 'staying lot time': 11773, 'association': 836, 'future trip': 4947, 'trip hotel': 12655, 'hotel booked': 5912, 'booked association': 1533, 'association suggest': 837, 'suggest people': 11916, 'people careful': 8974, 'future trip hotel': 4948, 'trip hotel booked': 12656, 'hotel booked association': 5913, 'booked association suggest': 1534, 'association suggest people': 838, 'suggest people careful': 11917, 'golden': 5157, 'sand': 10590, 'room golden': 10359, 'golden sand': 5158, 'sand think': 10591, 'think biggest': 12272, 'biggest hotel': 1441, 'hotel bathroom': 5901, 'bathroom bulgaria': 1124, 'biggest room golden': 1444, 'room golden sand': 10360, 'golden sand think': 5159, 'sand think biggest': 10592, 'think biggest hotel': 12273, 'biggest hotel bathroom': 1442, 'hotel bathroom bulgaria': 5902, 'quiet friendly': 9583, 'friendly big': 4801, 'big bed': 1404, 'bed free': 1279, 'internet nice': 6568, 'pool course': 9280, 'quiet friendly big': 9584, 'friendly big bed': 4802, 'big bed free': 1405, 'bed free internet': 1280, 'free internet nice': 4751, 'internet nice pool': 6569, 'nice pool course': 8309, 'pool course recommend': 9281, 'course recommend hotel': 2863, 'bussiness': 1822, 'good cheap': 5188, 'cheap bussiness': 2087, 'bussiness choice': 1823, 'good cheap bussiness': 5189, 'cheap bussiness choice': 2088, 'trafford': 12555, 'good quite': 5288, 'quite cheap': 9607, 'next trafford': 8226, 'trafford shopping': 12556, 'good quite cheap': 5289, 'quite cheap hotel': 9608, 'cheap hotel next': 2098, 'hotel next trafford': 6153, 'next trafford shopping': 8227, 'trafford shopping center': 12557, 'buy': 1837, 'cusines': 2926, 'quiet place': 9590, 'place sleep': 9157, 'sleep well': 11108, 'well internet': 13264, 'internet working': 6572, 'working fast': 13457, 'fast reliable': 4380, 'reliable well': 9976, 'well thanks': 13292, 'thanks huge': 12223, 'huge mall': 6353, 'mall chance': 7551, 'chance buy': 2057, 'buy couple': 1838, 'couple step': 2850, 'step outside': 11799, 'hotel almost': 5877, 'almost everything': 352, 'everything well': 4003, 'well taste': 13290, 'taste cusines': 12120, 'cusines world': 2927, 'quiet place sleep': 9591, 'place sleep well': 9158, 'sleep well internet': 11109, 'well internet working': 13265, 'internet working fast': 6573, 'working fast reliable': 13458, 'fast reliable well': 4381, 'reliable well thanks': 9977, 'well thanks huge': 13293, 'thanks huge mall': 12224, 'huge mall chance': 6354, 'mall chance buy': 7552, 'chance buy couple': 2058, 'buy couple step': 1839, 'couple step outside': 2851, 'step outside hotel': 11800, 'outside hotel almost': 8763, 'hotel almost everything': 5878, 'almost everything well': 353, 'everything well taste': 4004, 'well taste cusines': 13291, 'taste cusines world': 12121, 'hotel find': 6011, 'find nice': 4457, 'nice restaurant': 8315, 'hotel find nice': 6012, 'find nice restaurant': 4458, 'nice restaurant good': 8316, 'restaurant good food': 10125, 'sausage': 10623, 'mashrooms': 7646, 'sausage mashrooms': 10624, 'mashrooms served': 7647, 'served morning': 10774, 'morning good': 7970, 'sausage mashrooms served': 10625, 'mashrooms served morning': 7648, 'served morning good': 10775, 'helping': 5723, 'support': 11986, 'receptionist helpful': 9857, 'helpful helping': 5700, 'helping request': 5724, 'request support': 10027, 'receptionist helpful helping': 9858, 'helpful helping request': 5701, 'helping request support': 5725, 'terrible stay': 12198, 'really modern': 9756, 'modern minimal': 7896, 'hotel really modern': 6207, 'really modern minimal': 9757, 'cocktail': 2448, 'slow even': 11119, 'even welcome': 3891, 'welcome cocktail': 13215, 'cocktail good': 2449, 'check quite slow': 2125, 'quite slow even': 9625, 'slow even welcome': 11120, 'even welcome cocktail': 3892, 'welcome cocktail good': 13216, 'sewer': 10881, 'modern nice': 7897, 'nice toilet': 8333, 'toilet come': 12439, 'come sewer': 2517, 'sewer smell': 10882, 'smell terrible': 11210, 'room modern nice': 10408, 'modern nice toilet': 7898, 'nice toilet come': 8334, 'toilet come sewer': 12440, 'come sewer smell': 2518, 'sewer smell terrible': 10883, 'collected': 2489, 'top towel': 12489, 'towel collected': 12529, 'collected ground': 2490, 'floor really': 4569, 'really uncomfortable': 9784, 'nice pool roof': 8310, 'pool roof top': 9300, 'roof top towel': 10260, 'top towel collected': 12490, 'towel collected ground': 12530, 'collected ground floor': 2491, 'ground floor really': 5482, 'floor really uncomfortable': 4570, 'lack private': 6748, 'private space': 9451, 'space sun': 11331, 'sun bed': 11931, 'bed front': 1281, 'front beach': 4881, 'beach necessary': 1200, 'necessary star': 8096, 'hotel front': 6025, 'lack private space': 6749, 'private space sun': 9452, 'space sun bed': 11332, 'sun bed front': 11932, 'bed front beach': 1282, 'front beach necessary': 4882, 'beach necessary star': 1201, 'necessary star hotel': 8097, 'star hotel front': 11610, 'hotel front beach': 6026, 'spa service': 11315, 'service expensive': 10809, 'spa service expensive': 11316, 'restaurant around': 10098, 'many restaurant around': 7605, 'pollution': 9259, 'pollution surrounding': 9260, 'surrounding street': 12026, 'pollution surrounding street': 9261, 'rest mother': 10088, 'mother dog': 7982, 'good rest mother': 5295, 'rest mother dog': 10089, 'hotel professional': 6192, 'professional warm': 9488, 'warm time': 13136, 'atmosphere hotel professional': 850, 'hotel professional warm': 6193, 'professional warm time': 9489, 'forest': 4680, 'doggy': 3377, 'forest directly': 4681, 'hotel doggy': 5980, 'doggy walk': 3378, 'forest directly next': 4682, 'next hotel doggy': 8213, 'hotel doggy walk': 5981, 'reception helpful': 9833, 'helpful every': 5697, 'every way': 3958, 'reception helpful every': 9834, 'helpful every way': 5698, 'well organized': 13278, 'clean well organized': 2334, 'parking course': 8887, 'course problem': 2860, 'problem shuttle': 9475, 'service fantastic': 10812, 'fantastic left': 4349, 'left car': 6878, 'car hotel': 1897, 'hotel parking': 6176, 'parking take': 8906, 'take mother': 12086, 'mother airport': 7981, 'parking course problem': 8888, 'course problem shuttle': 2861, 'problem shuttle service': 9476, 'shuttle service fantastic': 10986, 'service fantastic left': 10813, 'fantastic left car': 4350, 'left car hotel': 6879, 'car hotel parking': 1898, 'hotel parking take': 6177, 'parking take mother': 8907, 'take mother airport': 12087, 'bed al': 1261, 'al hard': 327, 'hard soft': 5627, 'soft perfect': 11261, 'bed al hard': 1262, 'al hard soft': 328, 'hard soft perfect': 5628, 'adjusting': 240, 'heating': 5662, 'bit trouble': 1482, 'trouble adjusting': 12664, 'adjusting heating': 241, 'heating help': 5663, 'help quick': 5682, 'bit trouble adjusting': 1483, 'trouble adjusting heating': 12665, 'adjusting heating help': 242, 'heating help quick': 5664, 'shower dream': 10971, 'great place business': 5424, 'place business pleasure': 9118, 'pleased': 9212, 'first visit': 4507, 'hotel say': 6230, 'say pleased': 10645, 'pleased experience': 9213, 'first visit hotel': 4508, 'visit hotel say': 13009, 'hotel say pleased': 6231, 'say pleased experience': 10646, 'organization': 8731, 'outstanding': 8775, 'excellent beginning': 4037, 'beginning organization': 1308, 'organization conference': 8732, 'conference attended': 2666, 'attended outstanding': 858, 'service excellent beginning': 10808, 'excellent beginning organization': 4038, 'beginning organization conference': 1309, 'organization conference attended': 8733, 'conference attended outstanding': 2667, 'timing': 12401, 'conference room': 2670, 'spacious bright': 11335, 'bright timing': 1695, 'timing perfect': 12402, 'perfect staff': 9026, 'staff knowledgeable': 11509, 'knowledgeable professional': 6733, 'conference room spacious': 2671, 'room spacious bright': 10482, 'spacious bright timing': 11336, 'bright timing perfect': 1696, 'timing perfect staff': 12403, 'perfect staff knowledgeable': 9027, 'staff knowledgeable professional': 11510, 'transition': 12580, 'located beach': 7082, 'beach comfort': 1181, 'comfort room': 2528, 'room made': 10403, 'stay much': 11690, 'much enjoyable': 8004, 'enjoyable transition': 3679, 'transition business': 12581, 'pleasure easy': 9217, 'located beach comfort': 7083, 'beach comfort room': 1182, 'comfort room made': 2529, 'room made stay': 10404, 'made stay much': 7459, 'stay much enjoyable': 11691, 'much enjoyable transition': 8005, 'enjoyable transition business': 3680, 'transition business pleasure': 12582, 'business pleasure easy': 1813, 'friend colleague': 4790, 'colleague visiting': 2487, 'visiting area': 13022, 'hotel friend colleague': 6022, 'friend colleague visiting': 4791, 'colleague visiting area': 2488, 'gladly': 5087, 'overall great': 8784, 'experience one': 4188, 'would gladly': 13525, 'gladly repeat': 5088, 'overall great experience': 8785, 'great experience one': 5385, 'experience one would': 4189, 'one would gladly': 8695, 'would gladly repeat': 13526, 'handled': 5599, 'saff': 10578, 'request perfectly': 10025, 'perfectly handled': 9028, 'handled saff': 5600, 'request perfectly handled': 10026, 'perfectly handled saff': 9029, 'capable': 1886, 'buffett': 1745, 'moct': 7875, 'staff capable': 11456, 'capable bed': 1887, 'bed super': 1296, 'super comfortable': 11949, 'comfortable breakfast': 2535, 'breakfast buffett': 1614, 'buffett awesome': 1746, 'awesome airport': 935, 'service moct': 10830, 'moct convenient': 7876, 'convenient ever': 2730, 'staff capable bed': 11457, 'capable bed super': 1888, 'bed super comfortable': 1297, 'super comfortable breakfast': 11950, 'comfortable breakfast buffett': 2536, 'breakfast buffett awesome': 1615, 'buffett awesome airport': 1747, 'awesome airport shuttle': 936, 'airport shuttle service': 321, 'shuttle service moct': 10987, 'service moct convenient': 10831, 'moct convenient ever': 7877, 'itc': 6615, 'celebration': 1954, 'queen': 9563, 'dayfor': 3044, 'dissapointed': 3325, 'singke': 11051, 'assured': 839, 'availability': 890, 'locally': 7079, 'stayed itc': 11749, 'itc twice': 6616, 'twice single': 12716, 'single room': 11054, 'room celebration': 10299, 'celebration queen': 1955, 'queen dayfor': 9564, 'dayfor five': 3045, 'five night': 4529, 'night dissapointed': 8360, 'dissapointed singke': 3326, 'singke room': 11052, 'room assured': 10282, 'assured double': 840, 'better partner': 1381, 'partner stayed': 8925, 'stayed five': 11743, 'night later': 8375, 'later month': 6822, 'month found': 7936, 'found room': 4716, 'comfortable adequate': 2530, 'adequate wanted': 234, 'wanted breakfast': 13124, 'hotel found': 6017, 'found right': 4714, 'right choice': 10219, 'choice due': 2170, 'due availability': 3474, 'availability better': 891, 'food locally': 4637, 'stayed itc twice': 11750, 'itc twice single': 6617, 'twice single room': 12717, 'single room celebration': 11055, 'room celebration queen': 10300, 'celebration queen dayfor': 1956, 'queen dayfor five': 9565, 'dayfor five night': 3046, 'five night dissapointed': 4530, 'night dissapointed singke': 8361, 'dissapointed singke room': 3327, 'singke room assured': 11053, 'room assured double': 10283, 'assured double room': 841, 'double room better': 3413, 'room better partner': 10290, 'better partner stayed': 1382, 'partner stayed five': 8926, 'stayed five night': 11744, 'five night later': 4531, 'night later month': 8376, 'later month found': 6823, 'month found room': 7937, 'found room clean': 4717, 'clean comfortable adequate': 2277, 'comfortable adequate wanted': 2531, 'adequate wanted breakfast': 235, 'wanted breakfast hotel': 13125, 'breakfast hotel found': 1640, 'hotel found right': 6018, 'found right choice': 4715, 'right choice due': 10220, 'choice due availability': 2171, 'due availability better': 3475, 'availability better food': 892, 'better food locally': 1362, 'pastry': 8943, 'cake': 1850, 'excellent missed': 4072, 'missed good': 7853, 'coffee enjoyed': 2463, 'enjoyed especially': 3687, 'especially home': 3800, 'home made': 5804, 'made pastry': 7456, 'pastry cake': 8944, 'food excellent missed': 4612, 'excellent missed good': 4073, 'missed good coffee': 7854, 'good coffee enjoyed': 5197, 'coffee enjoyed especially': 2464, 'enjoyed especially home': 3688, 'especially home made': 3801, 'home made pastry': 5805, 'made pastry cake': 7457, 'also fitness': 412, 'fitness choice': 4522, 'food every': 4610, 'every evening': 3937, 'evening good': 3901, 'also fitness choice': 413, 'fitness choice food': 4523, 'choice food every': 2176, 'food every evening': 4611, 'every evening good': 3938, 'pool family': 9284, 'child another': 2146, 'another one': 628, 'one relax': 8673, 'swimming pool family': 12050, 'pool family child': 9285, 'family child another': 4315, 'child another one': 2147, 'another one relax': 629, 'bike could': 1445, 'could take': 2817, 'take short': 12094, 'short trip': 10954, 'trip bad': 12650, 'bad condition': 981, 'bike could take': 1446, 'could take short': 2818, 'take short trip': 12095, 'short trip bad': 10955, 'trip bad condition': 12651, 'terminale': 12191, 'hotel terminale': 6268, 'terminale centrale': 12192, 'centrale milan': 2000, 'budget hotel terminale': 1725, 'hotel terminale centrale': 6269, 'terminale centrale milan': 12193, 'italy': 6612, 'located couple': 7088, 'couple block': 2834, 'block central': 1492, 'central railway': 1996, 'station milan': 11650, 'milan italy': 7782, 'italy called': 6613, 'called terminal': 1856, 'terminal centrale': 12190, 'hotel located couple': 6099, 'located couple block': 7089, 'couple block central': 2835, 'block central railway': 1493, 'central railway station': 1997, 'railway station milan': 9645, 'station milan italy': 11651, 'milan italy called': 7783, 'italy called terminal': 6614, 'called terminal centrale': 1857, 'hotel generally': 6037, 'generally ok': 5004, 'ok condition': 8551, 'bathroom good': 1135, 'budget hotel generally': 1722, 'hotel generally ok': 6038, 'generally ok condition': 5005, 'ok condition room': 8552, 'condition room bathroom': 2652, 'room bathroom good': 10287, 'bathroom good shape': 1136, 'intersection': 6574, 'higher': 5738, 'given fact': 5075, 'fact located': 4293, 'located major': 7096, 'major intersection': 7514, 'intersection noise': 6575, 'noise level': 8414, 'level higher': 6902, 'higher usual': 5739, 'given fact located': 5076, 'fact located major': 4294, 'located major intersection': 7097, 'major intersection noise': 7515, 'intersection noise level': 6576, 'noise level higher': 8415, 'level higher usual': 6903, 'restaurant area': 10096, 'area breakfast': 717, 'breakfast really': 1665, 'poor quality': 9331, 'quality even': 9544, 'even charged': 3866, 'charged despite': 2074, 'despite fact': 3182, 'fact covered': 4291, 'covered reservation': 2874, 'bad thing restaurant': 990, 'thing restaurant area': 12264, 'restaurant area breakfast': 10097, 'area breakfast really': 718, 'breakfast really poor': 1666, 'really poor quality': 9765, 'poor quality even': 9332, 'quality even charged': 9545, 'even charged despite': 3867, 'charged despite fact': 2075, 'despite fact covered': 3183, 'fact covered reservation': 4292, 'edgy': 3554, 'hotel edgy': 5990, 'edgy area': 3555, 'area paris': 748, 'design hotel edgy': 3158, 'hotel edgy area': 5991, 'edgy area paris': 3556, 'commonly': 2584, 'map': 7619, 'montmartre': 7949, 'gare': 4967, 'du': 3468, 'nord': 8442, 'eurostar': 3856, 'one interesting': 8660, 'interesting hotel': 6547, 'stayed ever': 11739, 'ever district': 3906, 'district paris': 3357, 'paris commonly': 8862, 'commonly tourist': 2585, 'tourist map': 12511, 'map still': 7620, 'still short': 11817, 'short walk': 10956, 'walk away': 13060, 'away montmartre': 926, 'montmartre gare': 7950, 'gare du': 4968, 'du nord': 3469, 'nord eurostar': 8443, 'eurostar high': 3857, 'speed rail': 11380, 'rail connection': 9641, 'connection airport': 2688, 'airport rer': 318, 'rer line': 10031, 'line hotel': 6981, 'great discovery': 5380, 'one interesting hotel': 8661, 'interesting hotel stayed': 6548, 'hotel stayed ever': 6259, 'stayed ever district': 11740, 'ever district paris': 3907, 'district paris commonly': 3358, 'paris commonly tourist': 8863, 'commonly tourist map': 2586, 'tourist map still': 12512, 'map still short': 7621, 'still short walk': 11818, 'short walk away': 10957, 'walk away montmartre': 13061, 'away montmartre gare': 927, 'montmartre gare du': 7951, 'gare du nord': 4969, 'du nord eurostar': 3470, 'nord eurostar high': 8444, 'eurostar high speed': 3858, 'high speed rail': 5735, 'speed rail connection': 11381, 'rail connection airport': 9642, 'connection airport rer': 2689, 'airport rer line': 319, 'rer line hotel': 10032, 'line hotel great': 6982, 'hotel great discovery': 6048, 'fabulous': 4260, 'simplistic': 11042, 'fingerprint': 4482, 'room fabulous': 10347, 'fabulous simplistic': 4261, 'simplistic design': 11043, 'design key': 3160, 'key rather': 6662, 'rather fingerprint': 9677, 'fingerprint let': 4483, 'let room': 6898, 'room fabulous simplistic': 10348, 'fabulous simplistic design': 4262, 'simplistic design key': 11044, 'design key rather': 3161, 'key rather fingerprint': 6663, 'rather fingerprint let': 9678, 'fingerprint let room': 4484, 'basement': 1076, 'food brilliant': 4588, 'brilliant small': 1700, 'small gym': 11147, 'gym basement': 5548, 'basement morning': 1077, 'morning work': 7973, 'bar great food': 1036, 'great food brilliant': 5389, 'food brilliant small': 4589, 'brilliant small gym': 1701, 'small gym basement': 11148, 'gym basement morning': 5549, 'basement morning work': 1078, 'pricy': 9444, 'breakfast highly': 1636, 'recommended also': 9898, 'also drink': 406, 'drink rather': 3451, 'rather pricy': 9682, 'pricy bar': 9445, 'breakfast highly recommended': 1637, 'highly recommended also': 5747, 'recommended also drink': 9899, 'also drink rather': 407, 'drink rather pricy': 3452, 'rather pricy bar': 9683, 'credit': 2902, 'excellent vacation': 4097, 'vacation nothing': 12876, 'nothing credit': 8454, 'excellent vacation nothing': 4098, 'vacation nothing credit': 12877, 'great service': 5435, 'service superb': 10849, 'staff really great': 11534, 'really great service': 9745, 'great service superb': 5436, 'product': 9484, 'lot food': 7282, 'good local': 5242, 'local product': 7077, 'product nice': 9485, 'relax paradise': 9954, 'lot food good': 7283, 'food good local': 4619, 'good local product': 5243, 'local product nice': 7078, 'product nice place': 9486, 'nice place relax': 8307, 'place relax paradise': 9149, 'enjoyed well': 3702, 'well recommended': 13283, 'enjoyed well recommended': 3703, 'rent': 10010, 'cycling': 2939, 'agia': 290, 'marinachania': 7625, 'stolen': 11821, 'rent car': 10011, 'car cycling': 1891, 'cycling well': 2940, 'well visit': 13298, 'visit mountain': 13012, 'mountain village': 7992, 'village agia': 12987, 'agia marinachania': 291, 'marinachania especially': 7626, 'especially hotel': 3802, 'hotel stolen': 6260, 'stolen heart': 11822, 'rent car cycling': 10012, 'car cycling well': 1892, 'cycling well visit': 2941, 'well visit mountain': 13299, 'visit mountain village': 13013, 'mountain village agia': 7993, 'village agia marinachania': 12988, 'agia marinachania especially': 292, 'marinachania especially hotel': 7627, 'especially hotel stolen': 3803, 'hotel stolen heart': 6261, 'calimera': 1851, 'forward hear': 4699, 'hear calimera': 5642, 'calimera everywhere': 1852, 'everywhere enjoy': 4008, 'enjoy really': 3672, 'hospitality people': 5840, 'looking forward hear': 7251, 'forward hear calimera': 4700, 'hear calimera everywhere': 5643, 'calimera everywhere enjoy': 1853, 'everywhere enjoy really': 4009, 'enjoy really great': 3673, 'really great hospitality': 9744, 'great hospitality people': 5402, 'good hotel nice': 5229, 'hade': 5565, 'bigger': 1436, 'hade bigger': 5566, 'bigger room': 1437, 'room place': 10425, 'relax sit': 9957, 'hade bigger room': 5567, 'bigger room place': 1438, 'room place relax': 10426, 'place relax sit': 9150, 'really liked': 9755, 'good friendly': 5223, 'friendly room': 4851, 'room cleaned': 10310, 'cleaned every': 2337, 'service good friendly': 10818, 'good friendly room': 5224, 'friendly room cleaned': 4852, 'room cleaned every': 10311, 'cleaned every day': 2338, 'could eat': 2795, 'hotel breakfast': 5914, 'breakfast opinion': 1659, 'opinion little': 8706, 'bit expensive': 1461, 'thing could eat': 12245, 'could eat hotel': 2796, 'eat hotel breakfast': 3541, 'hotel breakfast opinion': 5915, 'breakfast opinion little': 1660, 'opinion little bit': 8707, 'little bit expensive': 7011, 'crowded noisy': 2912, 'noisy smelly': 8430, 'smelly unfriendly': 11218, 'crowded noisy smelly': 2913, 'noisy smelly unfriendly': 8431, 'place awful': 9114, 'marseillan': 7640, 'plage': 9180, 'marseillan plage': 7641, 'plage really': 9181, 'really dirty': 9731, 'dirty place': 3266, 'marseillan plage really': 7642, 'plage really dirty': 9182, 'really dirty place': 9732, 'go want': 5124, 'want quiet': 13120, 'quiet relaxing': 9592, 'relaxing holiday': 9965, 'go want quiet': 5125, 'want quiet relaxing': 13121, 'quiet relaxing holiday': 9593, 'midnight': 7775, 'bar campsite': 1027, 'campsite play': 1866, 'play loud': 9193, 'music every': 8029, 'every night': 3945, 'night till': 8384, 'till midnight': 12358, 'bar campsite play': 1028, 'campsite play loud': 1867, 'play loud music': 9194, 'loud music every': 7313, 'music every night': 8030, 'every night till': 3946, 'night till midnight': 8385, 'sewage': 10879, 'cooking': 2749, 'pitch smelt': 9106, 'smelt sewage': 11219, 'sewage cooking': 10880, 'pitch smelt sewage': 9107, 'smelt sewage cooking': 11220, 'totally': 12496, 'jammed': 6632, 'beach swimming': 1214, 'pool totally': 9305, 'totally jammed': 12497, 'beach swimming pool': 1215, 'swimming pool totally': 12054, 'pool totally jammed': 9306, 'complained campsite': 2611, 'campsite unfriendly': 1868, 'unfriendly interested': 12793, 'complained campsite unfriendly': 2612, 'campsite unfriendly interested': 1869, 'hotel bulgaria': 5932, 'best hotel bulgaria': 1334, 'room bulgaria': 10295, 'bulgaria lovely': 1774, 'lovely sea': 7377, 'biggest room bulgaria': 1443, 'room bulgaria lovely': 10296, 'bulgaria lovely sea': 1775, 'lovely sea view': 7378, 'already booked': 369, 'booked next': 1544, 'next visit': 8228, 'visit 2013': 12999, 'already booked next': 370, 'booked next visit': 1545, 'next visit 2013': 8229, 'recommend everybody': 9877, 'friendly beach': 4799, 'beach minute': 1196, 'walking sea': 13095, 'sea great': 10684, 'staff friendly beach': 11482, 'friendly beach minute': 4800, 'beach minute walking': 1197, 'minute walking sea': 7842, 'walking sea great': 13096, 'good well': 5335, 'well though': 13294, 'though waiter': 12312, 'waiter bit': 13042, 'food good well': 4625, 'good well though': 5336, 'well though waiter': 13295, 'though waiter bit': 12313, 'waiter bit tired': 13043, 'informed': 6487, 'everybody speaks': 3963, 'speaks russian': 11364, 'russian easy': 10563, 'easy get': 3527, 'get informed': 5043, 'informed need': 6488, 'everybody speaks russian': 3964, 'speaks russian easy': 11365, 'russian easy get': 10564, 'easy get informed': 3528, 'get informed need': 5044, 'informed need something': 6489, 'kichen': 6670, 'cupboard': 2925, 'room kitchen': 10383, 'kitchen well': 6707, 'well kichen': 13266, 'kichen old': 6671, 'old gross': 8593, 'gross kind': 5475, 'kind cupboard': 6689, 'studio room kitchen': 11886, 'room kitchen well': 10384, 'kitchen well kichen': 6708, 'well kichen old': 13267, 'kichen old gross': 6672, 'old gross kind': 8594, 'gross kind cupboard': 5476, 'lot space': 7299, 'space room': 11329, 'room general': 10355, 'general issue': 4989, 'issue paris': 6600, 'paris anyway': 8859, 'anyway old': 655, 'old bathroom': 8576, 'lot space room': 7300, 'space room general': 11330, 'room general issue': 10356, 'general issue paris': 4990, 'issue paris anyway': 6601, 'paris anyway old': 8860, 'anyway old bathroom': 656, 'croissant': 2906, 'breakfast brought': 1610, 'brought room': 1712, 'room quality': 10433, 'quality poor': 9553, 'poor better': 9320, 'better going': 1363, 'going grab': 5138, 'grab croissant': 5353, 'breakfast brought room': 1611, 'brought room quality': 1713, 'room quality poor': 10434, 'quality poor better': 9554, 'poor better going': 9321, 'better going grab': 1364, 'going grab croissant': 5139, 'service reliable': 10842, 'reliable several': 9974, 'several mistake': 10869, 'mistake made': 7864, 'made order': 7452, 'order happened': 8725, 'happened colleague': 5607, 'colleague tea': 2485, 'tea instead': 12148, 'instead coffee': 6514, 'coffee show': 2469, 'show getting': 10963, 'getting breakfast': 5057, 'breakfast instead': 1645, 'service reliable several': 10843, 'reliable several mistake': 9975, 'several mistake made': 10870, 'mistake made order': 7865, 'made order happened': 7453, 'order happened colleague': 8726, 'happened colleague tea': 5608, 'colleague tea instead': 2486, 'tea instead coffee': 12149, 'instead coffee show': 6515, 'coffee show getting': 2470, 'show getting breakfast': 10964, 'getting breakfast instead': 5058, 'definetely': 3096, 'avoided': 911, 'arc': 696, 'trimphe': 12647, 'champ': 2052, 'elysees': 3616, 'definetely avoided': 3097, 'avoided except': 912, 'except want': 4117, 'want near': 13118, 'near arc': 8064, 'arc de': 697, 'de trimphe': 3050, 'trimphe champ': 12648, 'champ elysees': 2053, 'elysees better': 3617, 'definetely avoided except': 3098, 'avoided except want': 913, 'except want near': 4118, 'want near arc': 13119, 'near arc de': 8065, 'arc de trimphe': 698, 'de trimphe champ': 3051, 'trimphe champ elysees': 12649, 'champ elysees better': 2054, 'elysees better option': 3618, 'better option around': 1378, 'everthing': 3925, 'location everthing': 7136, 'everthing walking': 3926, 'excellent location everthing': 4068, 'location everthing walking': 7137, 'everthing walking distance': 3927, 'stylish': 11908, 'location stylish': 7188, 'stylish hotel': 11909, 'excellent location stylish': 4069, 'location stylish hotel': 7189, 'deira': 3119, 'shoping': 10919, 'deira city': 3120, 'center shoping': 1980, 'shoping mall': 10920, 'mall across': 7547, 'street metro': 11853, 'station outside': 11653, 'outside entrance': 8760, 'entrance hotel': 3761, 'deira city center': 3121, 'city center shoping': 2222, 'center shoping mall': 1981, 'shoping mall across': 10921, 'mall across street': 7548, 'across street metro': 202, 'street metro station': 11854, 'metro station outside': 7761, 'station outside entrance': 11654, 'outside entrance hotel': 8761, 'need walking': 8127, 'everything need walking': 3999, 'need walking distance': 8128, 'good kitchen': 5238, 'kitchen nice': 6705, 'nice pub': 8312, 'good kitchen nice': 5239, 'kitchen nice pub': 6706, 'structure': 11884, 'pool quite': 9298, 'small look': 11154, 'look forward': 7224, 'forward resort': 4701, 'resort type': 10069, 'type structure': 12749, 'swimming pool quite': 12052, 'pool quite small': 9299, 'quite small look': 9626, 'small look forward': 11155, 'look forward resort': 7225, 'forward resort type': 4702, 'resort type structure': 10070, 'city hotel': 2240, 'hotel comfort': 5954, 'city hotel comfort': 2241, 'courtesious': 2867, 'supplier': 11983, 'desert': 3156, 'attentive courtesious': 868, 'courtesious staff': 2868, 'staff would': 11574, 'would suggest': 13554, 'suggest management': 11914, 'management careful': 7564, 'careful selection': 1918, 'selection supplier': 10738, 'supplier desert': 11984, 'desert trip': 3157, 'attentive courtesious staff': 869, 'courtesious staff would': 2869, 'staff would suggest': 11575, 'would suggest management': 13555, 'suggest management careful': 11915, 'management careful selection': 7565, 'careful selection supplier': 1919, 'selection supplier desert': 10739, 'supplier desert trip': 11985, 'save': 10626, 'save definitely': 10627, 'definitely recommend': 3108, 'save definitely recommend': 10628, 'definitely recommend hotel': 3109, 'price amazing': 9408, 'amazing service': 536, 'service perfect': 10837, 'price amazing service': 9409, 'amazing service perfect': 537, 'provides free': 9519, 'free shuttle': 4765, 'shuttle taxi': 10988, 'taxi different': 12140, 'different place': 3216, 'place strip': 9165, 'strip room': 11879, 'quite spacious': 9628, 'spacious modern': 11343, 'hotel provides free': 6196, 'provides free shuttle': 9520, 'free shuttle taxi': 4766, 'shuttle taxi different': 10989, 'taxi different place': 12141, 'different place strip': 3217, 'place strip room': 9166, 'strip room quite': 11880, 'room quite spacious': 10436, 'quite spacious modern': 9629, 'complimentary breakfast': 2629, 'served lobby': 10772, 'lobby good': 7061, 'complimentary breakfast served': 2630, 'breakfast served lobby': 1671, 'served lobby good': 10773, 'absolutely amazing': 140, 'amazing price': 532, 'price paid': 9427, 'absolutely amazing price': 141, 'amazing price paid': 533, 'hotel complaint': 5957, 'good hotel complaint': 5228, 'couple hotel': 2838, 'hotel gave': 6033, 'gave expected': 4972, 'young couple hotel': 13602, 'couple hotel gave': 2839, 'hotel gave expected': 6034, 'room helpful': 10371, 'nice balcony': 8242, 'balcony sea': 1012, 'clean room helpful': 2317, 'room helpful staff': 10372, 'helpful staff nice': 5709, 'staff nice balcony': 11524, 'nice balcony sea': 8243, 'balcony sea view': 1013, 'pizzeria': 9113, 'good pizzeria': 5280, 'next hotel really': 8215, 'hotel really good': 6206, 'really good pizzeria': 9741, 'unfortutanely': 12788, 'sandbeach': 10593, 'unfortutanely beach': 12789, 'beach 95': 1166, '95 private': 126, 'private sandbeach': 9449, 'sandbeach course': 10594, 'course hotel': 2856, 'hotel fault': 6010, 'unfortutanely beach 95': 12790, 'beach 95 private': 1167, '95 private sandbeach': 127, 'private sandbeach course': 9450, 'sandbeach course hotel': 10595, 'course hotel fault': 2857, 'comfort resort': 2525, 'nice resort': 8313, 'resort 100': 10050, '100 comfort': 11, 'nice resort 100': 8314, 'resort 100 comfort': 10051, 'polite people': 9252, 'clean nice friendly': 2312, 'nice friendly polite': 8274, 'friendly polite people': 4843, '2400': 74, 'long day': 7204, 'day trip': 3038, 'trip luxor': 12658, 'luxor still': 7413, 'still could': 11805, 'could dinner': 2791, 'dinner possible': 3256, 'possible 2400': 9358, 'long day trip': 7205, 'day trip luxor': 3039, 'trip luxor still': 12659, 'luxor still could': 7414, 'still could dinner': 11806, 'could dinner possible': 2792, 'dinner possible 2400': 3257, 'nationality': 8058, 'big variety': 1432, 'variety nationality': 12904, 'nationality age': 8059, 'big variety nationality': 1433, 'variety nationality age': 12905, 'surroundings nice': 12029, 'nice beach': 8246, 'beach friendly': 1187, 'beautiful surroundings nice': 1247, 'surroundings nice beach': 12030, 'nice beach friendly': 8247, 'beach friendly staff': 1188, 'overall liked': 8790, 'liked rest': 6972, 'overall liked rest': 8791, 'note': 8447, 'one note': 8665, 'note would': 8448, 'like fun': 6931, 'fun evening': 4909, 'one note would': 8666, 'note would like': 8449, 'would like fun': 13531, 'like fun evening': 6932, 'fun evening hotel': 4910, 'would also': 13503, 'also like': 421, 'like room': 6947, 'room free': 10353, 'free water': 4771, 'would also like': 13504, 'also like room': 422, 'like room free': 6948, 'room free water': 10354, 'diabolical': 3207, 'holiday except': 5778, 'except food': 4111, 'food food': 4614, 'food diabolical': 4602, 'brilliant holiday except': 1699, 'holiday except food': 5779, 'except food food': 4112, 'food food diabolical': 4615, 'eaten': 3549, 'hotel hardly': 6053, 'hardly eaten': 5631, 'eaten holiday': 3550, 'back hotel hardly': 962, 'hotel hardly eaten': 6054, 'hardly eaten holiday': 5632, 'alanani': 333, 'rocko': 10247, 'axaha': 945, 'alanani rocko': 334, 'rocko axaha': 10248, 'axaha working': 946, 'working five': 13459, 'hotel brilliant': 5918, 'alanani rocko axaha': 335, 'rocko axaha working': 10249, 'axaha working five': 947, 'working five star': 13460, 'star hotel brilliant': 11606, 'holiday awesome': 5763, 'awesome animation': 937, 'great holiday awesome': 5400, 'holiday awesome animation': 5764, 'awesome animation team': 938, 'anybody': 647, 'holiday resort': 5798, 'resort go': 10057, 'go recommend': 5113, 'recommend anybody': 9870, 'great holiday resort': 5401, 'holiday resort go': 5799, 'resort go recommend': 10058, 'go recommend anybody': 5114, 'gemma': 4980, 'aimee': 302, 'whilst': 13329, 'abit': 131, 'gemma aimee': 4981, 'aimee animation': 303, 'team really': 12168, 'really took': 9778, 'took care': 12459, 'care whilst': 1911, 'whilst really': 13330, 'good help': 5225, 'help rest': 5686, 'rest animation': 10078, 'team also': 12154, 'food lovely': 4638, 'lovely could': 7365, 'could abit': 2784, 'abit variety': 132, 'variety day': 12898, 'day nice': 3016, 'nice food': 8272, 'gemma aimee animation': 4982, 'aimee animation team': 304, 'animation team really': 613, 'team really took': 12169, 'really took care': 9779, 'took care whilst': 12460, 'care whilst really': 1912, 'whilst really good': 13331, 'really good help': 9740, 'good help rest': 5226, 'help rest animation': 5687, 'rest animation team': 10079, 'animation team also': 609, 'team also great': 12155, 'also great food': 416, 'great food lovely': 5391, 'food lovely could': 4639, 'lovely could abit': 7366, 'could abit variety': 2785, 'abit variety day': 133, 'variety day nice': 12899, 'day nice food': 3017, 'complain hotel': 2609, 'room pool': 10427, 'pool etc': 9282, 'etc lovely': 3832, 'lovely get': 7368, 'get away': 5026, 'away great': 922, 'great people': 5422, 'people really': 8987, 'staff animation': 11443, 'nothing complain hotel': 8453, 'complain hotel room': 2610, 'hotel room pool': 6225, 'room pool etc': 10428, 'pool etc lovely': 9283, 'etc lovely get': 3833, 'lovely get away': 7369, 'get away great': 5027, 'away great people': 923, 'great people really': 5423, 'people really friendly': 8988, 'really friendly helpful': 9737, 'helpful staff animation': 5708, 'staff animation team': 11444, 'staff also': 11437, 'hotel staff also': 6251, 'staff also great': 11438, 'sun relax': 11933, 'relax family': 9953, 'sun relax family': 11934, 'minidisco': 7809, 'ya': 13557, 'ho': 5757, 'half': 5571, 'dancing': 2963, 'evening dinner': 3893, 'dinner mini': 3252, 'mini mini': 7802, 'mini minidisco': 7804, 'minidisco ya': 7810, 'ya ya': 13560, 'ya ho': 13558, 'ho half': 5758, 'half hour': 5572, 'hour crazy': 6297, 'crazy dancing': 2888, 'dancing kid': 2964, 'kid ready': 6679, 'ready sleep': 9706, 'evening dinner mini': 3894, 'dinner mini mini': 3253, 'mini mini minidisco': 7803, 'mini minidisco ya': 7805, 'minidisco ya ya': 7811, 'ya ya ho': 13561, 'ya ho half': 13559, 'ho half hour': 5759, 'half hour crazy': 5573, 'hour crazy dancing': 6298, 'crazy dancing kid': 2889, 'dancing kid ready': 2965, 'kid ready sleep': 6680, 'picky': 9087, 'espresso': 3814, 'food really': 4648, 'good available': 5175, 'available day': 893, 'day long': 3014, 'long picky': 7208, 'picky italian': 9088, 'italian well': 6607, 'well drink': 13253, 'drink good': 3446, 'good espresso': 5209, 'espresso columbus': 3815, 'columbus bar': 2503, 'food really good': 4649, 'really good available': 9738, 'good available day': 5176, 'available day long': 894, 'day long picky': 3015, 'long picky italian': 7209, 'picky italian well': 9089, 'italian well drink': 6608, 'well drink good': 13254, 'drink good espresso': 3447, 'good espresso columbus': 5210, 'espresso columbus bar': 3816, 'newly': 8195, 'area look': 736, 'look good': 7226, 'good almost': 5165, 'almost newly': 357, 'newly decorated': 8196, 'reception area look': 9822, 'area look good': 737, 'look good almost': 7227, 'good almost newly': 5166, 'almost newly decorated': 358, 'outside look': 8765, 'look dated': 7220, 'dated good': 2982, 'enough state': 3728, 'outside look dated': 8766, 'look dated good': 7221, 'dated good enough': 2983, 'good enough state': 5208, '24': 71, 'nowadays': 8490, 'offer wireless': 8529, 'internet additional': 6558, 'additional 15': 226, '15 euro': 30, 'euro 24': 3844, '24 hour': 72, 'hour okay': 6309, 'okay opinion': 8570, 'opinion free': 8704, 'free nowadays': 4758, 'hotel offer wireless': 6168, 'offer wireless internet': 8530, 'wireless internet additional': 13393, 'internet additional 15': 6559, 'additional 15 euro': 227, '15 euro 24': 31, 'euro 24 hour': 3845, '24 hour okay': 73, 'hour okay opinion': 6310, 'okay opinion free': 8571, 'opinion free nowadays': 8705, 'brussels': 1716, 'hip elegance': 5755, 'elegance louise': 3594, 'louise area': 7324, 'area brussels': 719, 'hip elegance louise': 5756, 'elegance louise area': 3595, 'louise area brussels': 7325, 'modern hip': 7889, 'clean modern hip': 2309, 'loungy': 7338, 'hushed': 6370, 'dark loungy': 2974, 'loungy feel': 7339, 'feel lobby': 4412, 'lobby hushed': 7062, 'hushed modern': 6371, 'modern hall': 7887, 'hall room': 5574, 'dark loungy feel': 2975, 'loungy feel lobby': 7340, 'feel lobby hushed': 4413, 'lobby hushed modern': 7063, 'hushed modern hall': 6372, 'modern hall room': 7888, 'appears': 675, 'appears hotel': 676, 'hotel recently': 6208, 'renovated done': 10004, 'done style': 3384, 'style attention': 11899, 'appears hotel recently': 677, 'hotel recently renovated': 6209, 'recently renovated done': 9818, 'renovated done style': 10005, 'done style attention': 3385, 'style attention detail': 11900, 'robe': 10240, 'nespresso': 8144, 'basic room': 1093, 'room robe': 10454, 'robe slipper': 10241, 'slipper nespresso': 11115, 'nespresso machine': 8145, 'free minibar': 4756, 'minibar drink': 7806, 'basic room robe': 1094, 'room robe slipper': 10455, 'robe slipper nespresso': 10242, 'slipper nespresso machine': 11116, 'nespresso machine free': 8146, 'machine free minibar': 7439, 'free minibar drink': 4757, 'free gym': 4745, 'gym ample': 5546, 'ample spa': 576, 'spa available': 11304, 'available though': 902, 'though use': 12311, 'free gym ample': 4746, 'gym ample spa': 5547, 'ample spa available': 577, 'spa available though': 11305, 'available though use': 903, 'avenue': 904, 'fancy': 4334, 'excellent situated': 4086, 'situated end': 11073, 'end avenue': 3645, 'avenue louise': 905, 'louise lot': 7326, 'lot fancy': 7280, 'fancy shop': 4335, 'location excellent situated': 7143, 'excellent situated end': 4087, 'situated end avenue': 11074, 'end avenue louise': 3646, 'avenue louise lot': 906, 'louise lot fancy': 7327, 'lot fancy shop': 7281, 'fancy shop restaurant': 4336, 'shop restaurant close': 10915, 'sablon': 10572, 'far sablon': 4371, 'sablon downtown': 10573, 'downtown overall': 3422, 'overall well': 8798, 'also far sablon': 409, 'far sablon downtown': 4372, 'sablon downtown overall': 10574, 'downtown overall well': 3423, 'overall well located': 8799, 'shuttle complimentary': 10985, 'airport shuttle complimentary': 320, 'gratis': 5365, 'hotel hotel': 6061, 'hotel shuttle': 6241, 'bus gratis': 1789, 'hotel hotel shuttle': 6062, 'hotel shuttle bus': 6242, 'shuttle bus gratis': 10983, 'hotel airport': 5875, 'airport strict': 322, 'strict rule': 11869, 'rule hotel': 10539, 'hotel airport strict': 5876, 'airport strict rule': 323, 'strict rule hotel': 11870, 'pre': 9377, 'pre booking': 9378, 'booking must': 1553, 'pre booking must': 9379, 'driver': 3462, 'ticket hotel': 12344, 'hotel bus': 5935, 'bus driver': 1787, 'driver sell': 3463, 'sell ticket': 10746, 'ticket hotel bus': 12345, 'hotel bus driver': 5936, 'bus driver sell': 1788, 'driver sell ticket': 3464, 'unless': 12802, 'information provided': 6485, 'provided reception': 9511, 'reception unless': 9845, 'unless ask': 12803, 'information provided reception': 6486, 'provided reception unless': 9512, 'reception unless ask': 9846, 'pull': 9530, 'people pull': 8985, 'pull shuttle': 9531, 'many people pull': 7601, 'people pull shuttle': 8986, 'pull shuttle bus': 9532, 'basic experience': 1085, 'friendly took': 4862, 'took trouble': 12466, 'trouble help': 12666, 'receptionist friendly took': 9854, 'friendly took trouble': 4863, 'took trouble help': 12467, 'hte': 6345, 'bathing': 1113, 'hte bathing': 6346, 'bathing facility': 1114, 'facility good': 4276, 'hte bathing facility': 6347, 'bathing facility good': 1115, 'breakfast sufficient': 1680, 'vriendly': 13037, 'vriendly receptionist': 13038, 'great choice': 5375, 'feeling': 4416, 'quiet large': 9585, 'large feeling': 6790, 'feeling luxury': 4417, 'quiet large feeling': 9586, 'large feeling luxury': 6791, 'nice sauna': 8319, 'sauna area': 10613, 'nice sauna area': 8320, 'staff reception': 11536, 'reception breakfast': 9825, 'excellent helpful': 4059, 'staff reception breakfast': 11537, 'reception breakfast excellent': 9826, 'breakfast excellent helpful': 1623, 'excellent helpful friendly': 4060, 'helpful friendly polite': 5699, 'lanxess': 6776, 'arena': 763, 'certainly come': 2040, 'year another': 13566, 'another event': 625, 'event lanxess': 3903, 'lanxess arena': 6777, 'certainly come back': 2041, 'next year another': 8230, 'year another event': 13567, 'another event lanxess': 626, 'event lanxess arena': 3904, 'polish': 9249, 'spacious room': 11346, 'style old': 11906, 'old like': 8599, 'like polish': 6943, 'polish hotel': 9250, 'spacious room modern': 11347, 'room modern style': 10409, 'modern style old': 7904, 'style old like': 11907, 'old like polish': 8600, 'like polish hotel': 6944, 'prepared': 9392, 'well prepared': 13281, 'prepared kind': 9393, 'staff well prepared': 11570, 'well prepared kind': 13282, 'quality breakfast': 9543, 'good quality breakfast': 5284, 'conncetion': 2678, 'fi free': 4431, 'free good': 4743, 'good conncetion': 5199, 'wi fi free': 13355, 'fi free good': 4432, 'free good conncetion': 4744, 'tried restaurant': 12639, 'food service': 4654, 'really really': 9766, 'really slow': 9768, 'slow despite': 11117, 'despite many': 3184, 'people serve': 8989, 'tried restaurant good': 12640, 'restaurant good quality': 10128, 'good quality food': 5285, 'quality food service': 9550, 'food service really': 4655, 'service really really': 10840, 'really really slow': 9767, 'really slow despite': 9769, 'slow despite many': 11118, 'despite many people': 3185, 'many people serve': 7602, 'spoiled': 11400, 'spoiled impression': 11401, 'impression trip': 6425, 'spoiled impression trip': 11402, 'terrible hotel': 12197, 'correspond': 2766, 'picture': 9090, 'faded': 4295, 'creaky': 2890, 'room correspond': 10325, 'correspond picture': 2767, 'picture old': 9091, 'old furniture': 8591, 'furniture faded': 4938, 'faded linen': 4296, 'linen creaky': 6986, 'creaky bed': 2891, 'bed disgusting': 1271, 'disgusting smell': 3320, 'smell room': 11208, 'room even': 10341, 'though asked': 12295, 'asked booking': 823, 'booking non': 1554, 'non smoking': 8438, 'smoking room': 11244, 'room correspond picture': 10326, 'correspond picture old': 2768, 'picture old furniture': 9092, 'old furniture faded': 8592, 'furniture faded linen': 4939, 'faded linen creaky': 4297, 'linen creaky bed': 6987, 'creaky bed disgusting': 2892, 'bed disgusting smell': 1272, 'disgusting smell room': 3321, 'smell room even': 11209, 'room even though': 10342, 'even though asked': 3883, 'though asked booking': 12296, 'asked booking non': 824, 'booking non smoking': 1555, 'non smoking room': 8439, 'resort room': 10065, 'resort room clean': 10066, 'room clean tidy': 10309, 'excellent selection': 4084, 'selection food': 10734, 'excellent selection food': 4085, 'selection food choice': 10735, 'food choice restaurant': 4595, 'choice restaurant bar': 2189, 'staff cannot': 11454, 'cannot enough': 1879, 'staff cannot enough': 11455, 'finest': 4481, 'frankfurt finest': 4732, 'letdown': 6899, 'main entrance': 7487, 'small letdown': 11151, 'main entrance small': 7488, 'entrance small letdown': 3765, 'instead entrance': 6520, 'small door': 11138, 'door side': 3398, 'side building': 10990, 'instead entrance small': 6521, 'entrance small door': 3764, 'small door side': 11139, 'door side building': 3399, 'remind': 9988, 'inside elegance': 6505, 'elegance atmosphere': 3592, 'atmosphere lobby': 851, 'lobby quickly': 7066, 'quickly remind': 9581, 'remind chose': 9989, 'chose hotel': 2206, 'inside elegance atmosphere': 6506, 'elegance atmosphere lobby': 3593, 'atmosphere lobby quickly': 852, 'lobby quickly remind': 7067, 'quickly remind chose': 9582, 'remind chose hotel': 9990, 'dog friendly': 3370, 'two dog': 12725, 'dog fine': 3368, 'fine area': 4463, 'area take': 757, 'take dog': 12084, 'dog walk': 3373, 'walk dog': 13068, 'dog welcome': 3375, 'welcome even': 13221, 'even restaurant': 3881, 'two dog fine': 12726, 'dog fine area': 3369, 'fine area take': 4464, 'area take dog': 758, 'take dog walk': 12085, 'dog walk dog': 3374, 'walk dog welcome': 13069, 'dog welcome even': 3376, 'welcome even restaurant': 13222, 'rai': 9640, 'short drive': 10941, 'drive amsterdam': 3457, 'amsterdam rai': 591, 'short drive amsterdam': 10942, 'drive amsterdam rai': 3458, 'quietly': 9597, 'god': 5129, 'quietly place': 9598, 'place god': 9137, 'god parking': 5130, 'quietly place god': 9599, 'place god parking': 9138, 'god parking area': 5131, 'byack': 1840, 'write': 13556, 'like go': 6933, 'go byack': 5101, 'byack write': 1841, 'would like go': 13532, 'like go byack': 6934, 'go byack write': 5102, 'builnding': 1763, 'seaside': 10692, 'big territory': 1430, 'territory big': 12199, 'big builnding': 1407, 'builnding smaller': 1764, 'smaller house': 11196, 'house reception': 6316, 'reception building': 9827, 'building till': 1761, 'till seaside': 12359, 'nice hotel big': 8281, 'hotel big territory': 5907, 'big territory big': 1431, 'territory big builnding': 12200, 'big builnding smaller': 1408, 'builnding smaller house': 1765, 'smaller house reception': 11197, 'house reception building': 6317, 'reception building till': 9828, 'building till seaside': 1762, 'best inclusive': 1338, 'inclusive service': 6461, 'service ever': 10802, 'ever experienced': 3908, 'experienced egypt': 4196, 'best inclusive service': 1339, 'inclusive service ever': 6462, 'service ever experienced': 10803, 'ever experienced egypt': 3909, 'clean everywhere': 2286, 'place friendly': 9133, 'great place friendly': 5425, 'place friendly efficient': 9134, 'friendly efficient staff': 4811, 'accepts': 160, 'stayed weekend': 11766, 'weekend good': 13200, 'location village': 7193, 'village beach': 12989, 'beach accepts': 1168, 'accepts dog': 161, 'dog must': 3371, 'must great': 8040, 'stayed weekend good': 11767, 'weekend good location': 13201, 'good location village': 5255, 'location village beach': 7194, 'village beach accepts': 12990, 'beach accepts dog': 1169, 'accepts dog must': 162, 'dog must great': 3372, 'must great staff': 8041, 'great staff helpful': 5439, 'cooperation': 2756, 'cut': 2936, 'everone': 3923, 'park get': 8873, 'get little': 5045, 'little busy': 7015, 'busy function': 1826, 'function worked': 4919, 'worked bit': 13448, 'bit cooperation': 1457, 'cooperation breakfast': 2757, 'breakfast time': 1683, 'time fine': 12373, 'fine week': 4479, 'week would': 13191, 'would preferred': 13541, 'preferred little': 9386, 'little later': 7032, 'later cut': 6820, 'cut sunday': 2937, 'sunday staff': 11943, 'staff sorted': 11550, 'sorted everone': 11289, 'everone satisfaction': 3924, 'car park get': 1899, 'park get little': 8874, 'get little busy': 5046, 'little busy function': 7016, 'busy function worked': 1827, 'function worked bit': 4920, 'worked bit cooperation': 13449, 'bit cooperation breakfast': 1458, 'cooperation breakfast time': 2758, 'breakfast time fine': 1684, 'time fine week': 12374, 'fine week would': 4480, 'week would preferred': 13192, 'would preferred little': 13542, 'preferred little later': 9387, 'little later cut': 7033, 'later cut sunday': 6821, 'cut sunday staff': 2938, 'sunday staff sorted': 11944, 'staff sorted everone': 11551, 'sorted everone satisfaction': 11290, 'groundfloor': 5493, 'scootmobile': 10667, 'fuss': 4942, 'groundfloor room': 5494, 'room access': 10266, 'access scootmobile': 175, 'scootmobile problem': 10670, 'problem parking': 9473, 'parking scootmobile': 8900, 'scootmobile also': 10668, 'also sorted': 432, 'sorted without': 11291, 'without fuss': 13410, 'fuss great': 4943, 'great team': 5445, 'team staff': 12170, 'staff management': 11517, 'groundfloor room access': 5495, 'room access scootmobile': 10267, 'access scootmobile problem': 176, 'scootmobile problem parking': 10671, 'problem parking scootmobile': 9474, 'parking scootmobile also': 8901, 'scootmobile also sorted': 10669, 'also sorted without': 433, 'sorted without fuss': 11292, 'without fuss great': 13411, 'fuss great team': 4944, 'great team staff': 5446, 'team staff management': 12171, 'ok hostel': 8555, 'hotel new': 6149, 'new nicely': 8187, 'nicely designed': 8347, 'designed however': 3162, 'however hostel': 6332, 'hostel atmosphere': 5841, 'hotel new nicely': 6150, 'new nicely designed': 8188, 'nicely designed however': 8348, 'designed however hostel': 3163, 'however hostel atmosphere': 6333, 'common': 2581, 'common area': 2582, 'area small': 756, 'common area small': 2583, 'unbelievable': 12766, 'room stayed': 10491, 'stayed unbelievable': 11764, 'unbelievable small': 12767, 'room stayed unbelievable': 10492, 'stayed unbelievable small': 11765, 'originally': 8743, 'person dorm': 9048, 'dorm think': 3406, 'think originally': 12286, 'originally designed': 8744, 'designed person': 3164, 'person one': 9050, 'person dorm think': 9049, 'dorm think originally': 3407, 'think originally designed': 12287, 'originally designed person': 8745, 'designed person one': 3165, 'move': 7994, 'easy move': 3529, 'move around': 7995, 'easy move around': 3530, 'included price': 6443, 'price however': 9425, 'however supermarket': 6338, 'supermarket next': 11975, 'next door': 8206, 'door grab': 3392, 'grab something': 5354, 'breakfast included price': 1641, 'included price however': 6444, 'price however supermarket': 9426, 'however supermarket next': 6339, 'supermarket next door': 11976, 'next door grab': 8207, 'door grab something': 3393, 'grab something eat': 5355, 'hotel good food': 6044, 'team super': 12172, 'super old': 11957, 'old equipment': 8589, 'animation team super': 614, 'team super old': 12173, 'super old equipment': 11958, 'enterainment': 3736, 'nice show': 8321, 'show enterainment': 10962, 'nice show enterainment': 8322, 'good food nice': 5221, 'food nice people': 4643, 'swimmingpool': 12056, 'chears': 2111, 'swimmingpool super': 12057, 'super good': 11951, 'good area': 5171, 'area chears': 720, 'swimmingpool super good': 12058, 'super good area': 11952, 'good area chears': 5172, 'coktails': 2475, 'drink super': 3455, 'super nice': 11955, 'nice coktails': 8259, 'drink super nice': 3456, 'super nice coktails': 11956, 'beache': 1223, 'bus beache': 1785, 'beache drink': 1224, 'drink al': 3437, 'al time': 329, 'bus beache drink': 1786, 'beache drink al': 1225, 'drink al time': 3438, 'location service': 7184, 'service better': 10790, 'good location service': 5253, 'location service better': 7185, 'clean air': 2265, 'air condition': 307, 'condition worked': 2654, 'worked well': 13453, 'room clean air': 10303, 'clean air condition': 2266, 'air condition worked': 308, 'condition worked well': 2655, 'novotel': 8487, 'interenet': 6533, 'evry': 4014, '2011': 60, 'novotel offering': 8488, 'offering wifi': 8542, 'free except': 4741, 'except lobby': 4113, 'lobby area': 7055, 'area go': 732, 'go using': 5120, 'using interenet': 12858, 'interenet evry': 6534, 'evry slow': 4015, 'slow november': 11125, 'november 2011': 8484, 'novotel offering wifi': 8489, 'offering wifi free': 8543, 'wifi free except': 13366, 'free except lobby': 4742, 'except lobby area': 4114, 'lobby area go': 7056, 'area go using': 733, 'go using interenet': 5121, 'using interenet evry': 12859, 'interenet evry slow': 6535, 'evry slow november': 4016, 'slow november 2011': 11126, 'disapointed': 3280, 'expresso': 4217, 'filter': 4437, 'coffe': 2455, 'disapointed breakfast': 3281, 'breakfast service': 1673, 'service asked': 10785, 'asked double': 825, 'double expresso': 3411, 'expresso instead': 4218, 'instead normal': 6522, 'normal filter': 8445, 'filter coffe': 4438, 'coffe wanted': 2456, 'wanted charge': 13126, 'disapointed breakfast service': 3282, 'breakfast service asked': 1674, 'service asked double': 10786, 'asked double expresso': 826, 'double expresso instead': 3412, 'expresso instead normal': 4219, 'instead normal filter': 6523, 'normal filter coffe': 8446, 'filter coffe wanted': 4439, 'coffe wanted charge': 2457, 'classic': 2256, 'improved': 6429, 'fine classic': 4467, 'classic hotel': 2257, 'need improved': 8108, 'fine classic hotel': 4468, 'classic hotel service': 2258, 'hotel service need': 6236, 'service need improved': 10834, 'hotel fine': 6013, 'fine staff': 4477, 'level standard': 6908, 'hotel fine staff': 6014, 'fine staff service': 4478, 'staff service level': 11547, 'service level standard': 10828, 'argue': 764, 'started argue': 11623, 'argue enter': 765, 'enter coach': 3734, 'coach parking': 2446, 'area front': 730, 'front order': 4886, 'order load': 8727, 'load luggage': 7052, 'started argue enter': 11624, 'argue enter coach': 766, 'enter coach parking': 3735, 'coach parking area': 2447, 'parking area front': 8884, 'area front order': 731, 'front order load': 4887, 'order load luggage': 8728, 'handing': 5593, 'motion': 7983, 'ineffecient': 6477, 'plate': 9186, 'remained': 9978, 'handing key': 5594, 'key slow': 6664, 'slow motion': 11123, 'motion ineffecient': 7984, 'ineffecient breakfast': 6478, 'breakfast guest': 1634, 'guest ask': 5513, 'ask twice': 821, 'twice coffee': 12714, 'tea used': 12152, 'used plate': 12851, 'plate remained': 9187, 'remained long': 9979, 'long table': 7212, 'handing key slow': 5595, 'key slow motion': 6665, 'slow motion ineffecient': 11124, 'motion ineffecient breakfast': 7985, 'ineffecient breakfast guest': 6479, 'breakfast guest ask': 1635, 'guest ask twice': 5514, 'ask twice coffee': 822, 'twice coffee tea': 12715, 'coffee tea used': 2474, 'tea used plate': 12153, 'used plate remained': 12852, 'plate remained long': 9188, 'remained long table': 9980, 'answered': 638, 'politely': 9256, 'solution': 11265, 'question group': 9572, 'group member': 5496, 'member answered': 7721, 'answered politely': 639, 'politely help': 9257, 'help offering': 5680, 'offering solution': 8539, 'question group member': 9573, 'group member answered': 5497, 'member answered politely': 7722, 'answered politely help': 640, 'politely help offering': 9258, 'help offering solution': 5681, 'character': 2069, 'side hotel': 10999, 'hotel building': 5926, 'building full': 1759, 'full character': 4898, 'character charme': 2070, 'side hotel building': 11000, 'hotel building full': 5927, 'building full character': 1760, 'full character charme': 4899, 'great nice': 5418, 'good people': 5276, 'people hotel': 8981, 'great nice good': 5419, 'nice good people': 8275, 'good people hotel': 5277, 'people hotel friendly': 8982, 'hotel friendly helpfull': 6024, 'fantastic luxury': 4351, 'luxury place': 7427, 'fantastic luxury place': 4352, 'tasty': 12131, 'sunrise mamlouk': 11945, 'mamlouk lovely': 7553, 'hotel interesting': 6069, 'interesting architecture': 6544, 'architecture beautiful': 699, 'beautiful garden': 1232, 'garden atmosphere': 4960, 'atmosphere amazing': 844, 'amazing comfortable': 521, 'food tasty': 4664, 'tasty relaxing': 12132, 'relaxing music': 9969, 'music restaurant': 8037, 'sunrise mamlouk lovely': 11946, 'mamlouk lovely hotel': 7554, 'lovely hotel interesting': 7372, 'hotel interesting architecture': 6070, 'interesting architecture beautiful': 6545, 'architecture beautiful garden': 700, 'beautiful garden atmosphere': 1233, 'garden atmosphere amazing': 4961, 'atmosphere amazing comfortable': 845, 'amazing comfortable room': 522, 'comfortable room food': 2557, 'room food tasty': 10351, 'food tasty relaxing': 4665, 'tasty relaxing music': 12133, 'relaxing music restaurant': 9970, 'mina': 7795, 'weal': 13167, 'milad': 7779, 'realy': 9790, 'litle': 7000, 'waiter lobby': 13050, 'lobby bar': 7057, 'bar mina': 1044, 'mina weal': 7796, 'weal milad': 13168, 'milad restaurant': 7780, 'bar realy': 1048, 'realy reliable': 9791, 'reliable helpful': 9972, 'helpful litle': 5704, 'litle bit': 7001, 'bit serious': 1473, 'waiter lobby bar': 13051, 'lobby bar mina': 7058, 'bar mina weal': 1045, 'mina weal milad': 7797, 'weal milad restaurant': 13169, 'milad restaurant bar': 7781, 'restaurant bar realy': 10099, 'bar realy reliable': 1049, 'realy reliable helpful': 9792, 'reliable helpful litle': 9973, 'helpful litle bit': 5705, 'litle bit serious': 7002, 'active': 203, 'holidaymy': 5801, 'aldo': 339, 'negga': 8132, 'girl': 5062, 'aerobicthey': 273, 'proffesional': 9490, 'creative': 2899, 'peoplethe': 8992, 'important active': 6409, 'active rest': 204, 'rest holidaymy': 10082, 'holidaymy expectation': 5802, 'expectation meet': 4164, 'meet team': 7708, 'team animator': 12156, 'animator especially': 615, 'especially aldo': 3787, 'aldo negga': 340, 'negga girl': 8133, 'girl aerobicthey': 5063, 'aerobicthey proffesional': 274, 'proffesional creative': 9491, 'creative always': 2900, 'always smiling': 511, 'smiling young': 11235, 'young peoplethe': 13604, 'peoplethe animation': 8993, 'team positive': 12166, 'positive attitude': 9348, 'attitude life': 880, 'life good': 6909, 'good job': 5236, 'job hotel': 6637, 'important active rest': 6410, 'active rest holidaymy': 205, 'rest holidaymy expectation': 10083, 'holidaymy expectation meet': 5803, 'expectation meet team': 4165, 'meet team animator': 7709, 'team animator especially': 12157, 'animator especially aldo': 616, 'especially aldo negga': 3788, 'aldo negga girl': 341, 'negga girl aerobicthey': 8134, 'girl aerobicthey proffesional': 5064, 'aerobicthey proffesional creative': 275, 'proffesional creative always': 9492, 'creative always smiling': 2901, 'always smiling young': 512, 'smiling young peoplethe': 11236, 'young peoplethe animation': 13605, 'peoplethe animation team': 8994, 'animation team positive': 612, 'team positive attitude': 12167, 'positive attitude life': 9349, 'attitude life good': 881, 'life good job': 6910, 'good job hotel': 5237, 'came': 1858, 'tp': 12548, 'poland': 9245, 'thanks came': 12217, 'came back': 1859, 'back tp': 969, 'tp poland': 12549, 'poland satisfied': 9246, 'satisfied relaxed': 10608, 'thanks came back': 12218, 'came back tp': 1860, 'back tp poland': 970, 'tp poland satisfied': 12550, 'poland satisfied relaxed': 9247, 'hotel free': 6020, 'parking near': 8894, 'near subway': 8085, 'station brought': 11642, 'brought straight': 1714, 'straight city': 11840, 'hotel free parking': 6021, 'free parking near': 4759, 'parking near subway': 8895, 'near subway station': 8086, 'subway station brought': 11910, 'station brought straight': 11643, 'brought straight city': 1715, 'straight city center': 11841, 'worry': 13484, 'worry park': 13485, 'room could': 10327, 'could still': 2815, 'still smell': 11819, 'smell new': 11206, 'new hall': 8186, 'renewed room could': 9994, 'room could still': 10328, 'could still smell': 2816, 'still smell new': 11820, 'smell new hall': 11207, 'perfect resort': 9020, 'resort perfect': 10063, 'perfect resort perfect': 9021, 'resort perfect holiday': 10064, 'perfect choice': 9005, 'choice wonderful': 2193, 'perfect choice wonderful': 9006, 'choice wonderful holiday': 2194, 'marvellous': 7643, 'service marvellous': 10829, 'competence': 2599, 'staff foreign': 11477, 'language general': 6769, 'general competence': 4983, 'competence excellent': 2600, 'staff foreign language': 11478, 'foreign language general': 4679, 'language general competence': 6770, 'general competence excellent': 4984, 'hotel offered': 6169, 'offered great': 8533, 'great leisure': 5412, 'hotel offered great': 6170, 'offered great leisure': 8534, 'great leisure activity': 5413, 'kuku': 6742, 'best animation': 1323, 'animation ever': 603, 'ever seen': 3914, 'seen especially': 10717, 'especially water': 3809, 'gym sasha': 5557, 'sasha kuku': 10596, 'best animation ever': 1324, 'animation ever seen': 604, 'ever seen especially': 3915, 'seen especially water': 10718, 'especially water gym': 3810, 'water gym sasha': 13149, 'gym sasha kuku': 5558, 'man': 7557, 'man amazing': 7558, 'amazing funny': 524, 'funny friendly': 4927, 'hotel guest': 6052, 'man amazing funny': 7559, 'amazing funny friendly': 525, 'funny friendly hotel': 4928, 'friendly hotel guest': 4827, 'hotel placed': 6184, 'placed 30': 9171, 'minute center': 7826, 'center paris': 1976, 'paris metro': 8864, 'metro line': 7754, 'line 12': 6980, 'hotel placed 30': 6185, 'placed 30 minute': 9172, '30 minute center': 83, 'minute center paris': 7827, 'center paris metro': 1977, 'paris metro line': 8865, 'metro line 12': 7755, 'around awful': 767, 'area around awful': 710, 'homeless': 5810, 'lot homeless': 7286, 'afraid': 281, 'afraid safe': 282, 'metro located': 7756, 'minute hotel': 7834, 'metro located minute': 7757, 'located minute hotel': 7099, 'trash': 12590, 'throw': 12326, 'saw': 10629, 'death': 3056, 'rat': 9661, 'hotel lot': 6108, 'lot trash': 7304, 'trash throw': 12591, 'throw place': 12327, 'place saw': 9153, 'saw also': 10630, 'also death': 402, 'death rat': 3057, 'rat street': 9662, 'near hotel lot': 8071, 'hotel lot trash': 6109, 'lot trash throw': 7305, 'trash throw place': 12592, 'throw place saw': 12328, 'place saw also': 9154, 'saw also death': 10631, 'also death rat': 403, 'death rat street': 3058, 'hoovered': 5819, 'tine': 12404, 'room hoovered': 10373, 'hoovered even': 5820, 'even tine': 3888, 'tine day': 12405, 'day happened': 3009, 'room hoovered even': 10374, 'hoovered even tine': 5821, 'even tine day': 3889, 'tine day happened': 12406, 'please': 9210, 'please avoid': 9211, 'good would': 5338, 'come visit': 2521, 'good would come': 5339, 'would come visit': 13512, 'everything alright': 3975, 'alright way': 387, 'way would': 13164, 'come travel': 2519, 'travel egypt': 12594, 'egypt hotel': 3577, 'manager friendly': 7572, 'helpfull also': 5716, 'good work': 5337, 'everything alright way': 3976, 'alright way would': 388, 'way would come': 13165, 'would come travel': 13511, 'come travel egypt': 2520, 'travel egypt hotel': 12595, 'egypt hotel manager': 3578, 'hotel manager friendly': 6126, 'manager friendly helpfull': 7573, 'friendly helpfull also': 4824, 'helpfull also service': 5717, 'service staff good': 10845, 'staff good work': 11497, 'weird': 13211, 'weird stay': 13212, 'tho': 12288, 'tho hotel': 12289, 'hotel self': 6234, 'self okay': 10740, 'tho hotel self': 12290, 'hotel self okay': 6235, 'alot': 367, 'alot people': 368, 'handle': 5596, 'seemed like': 10709, 'like staff': 6952, 'staff handle': 11501, 'handle amount': 5597, 'amount people': 569, 'seemed like staff': 10710, 'like staff handle': 6953, 'staff handle amount': 11502, 'handle amount people': 5598, 'delicious one': 3125, 'one got': 8655, 'food delicious one': 4600, 'delicious one got': 3126, 'hell': 5669, 'area crowded': 726, 'crowded hell': 2909, 'pool area crowded': 9270, 'area crowded hell': 727, 'water clean': 13146, 'room cleaning': 10312, 'cleaning terrible': 2355, 'room cleaning terrible': 10313, 'handling': 5601, 'complaint handling': 2616, 'handling took': 5602, 'took hour': 12461, 'complaint handling took': 2617, 'handling took hour': 5603, 'holiday date': 5772, 'best holiday date': 1331, '5days': 104, 'touring': 12505, 'sri': 11428, 'lanka': 6773, 'dolphin': 3379, 'described': 3153, 'dat': 2979, 'spent 5days': 11387, '5days touring': 105, 'touring sri': 12506, 'sri lanka': 11429, 'lanka day': 6774, 'day club': 3003, 'club hotel': 2440, 'hotel dolphin': 5982, 'dolphin described': 3380, 'described best': 3154, 'holiday dat': 5771, 'spent 5days touring': 11388, '5days touring sri': 106, 'touring sri lanka': 12507, 'sri lanka day': 11430, 'lanka day club': 6775, 'day club hotel': 3004, 'club hotel dolphin': 2441, 'hotel dolphin described': 5983, 'dolphin described best': 3381, 'described best holiday': 3155, 'best holiday dat': 1330, 'husaband': 6364, 'husaband travelled': 6365, 'travelled adult': 12607, 'adult child': 246, 'child partner': 2154, 'partner holiday': 8923, 'could hoped': 2804, 'hoped beautiful': 5828, 'surroundings attentive': 12027, 'attentive intrusive': 870, 'intrusive staff': 6578, 'husaband travelled adult': 6366, 'travelled adult child': 12608, 'adult child partner': 247, 'child partner holiday': 2155, 'partner holiday could': 8924, 'holiday could hoped': 5769, 'could hoped beautiful': 2805, 'hoped beautiful surroundings': 5829, 'beautiful surroundings attentive': 1246, 'surroundings attentive intrusive': 12028, 'attentive intrusive staff': 871, 'intrusive staff excellent': 6579, 'staff excellent food': 11471, 'impeccable': 6408, 'excellent standard': 4091, 'standard cleanliness': 11584, 'cleanliness impeccable': 2367, 'room excellent standard': 10345, 'excellent standard cleanliness': 4092, 'standard cleanliness impeccable': 11585, 'empire': 3625, 'empire palace': 3626, 'palace good': 8836, 'empire palace good': 3627, 'palace good star': 8837, 'staff comfortable': 11458, 'bed great': 1283, 'good staff comfortable': 5315, 'staff comfortable bed': 11459, 'comfortable bed great': 2532, 'bed great breakfast': 1284, 'bathroom bit': 1122, 'small though': 11184, 'room bathroom bit': 10286, 'bathroom bit small': 1123, 'bit small though': 1477, 'rome': 10256, 'distance rome': 3345, 'rome important': 10257, 'important sight': 6413, 'walking distance rome': 13087, 'distance rome important': 3346, 'rome important sight': 10258, 'niuewstraat': 8400, 'hotel gilde': 6041, 'gilde deventer': 5060, 'deventer nl': 3202, 'nl niuewstraat': 8403, 'niuewstraat best': 8401, 'hotel gilde deventer': 6042, 'gilde deventer nl': 5061, 'deventer nl niuewstraat': 3203, 'nl niuewstraat best': 8404, 'niuewstraat best hotel': 8402, 'travel world': 12600, 'world never': 13473, 'never seen': 8163, 'seen friendly': 10719, 'friendly professional': 4846, 'professional staff': 9487, 'travel world never': 12601, 'world never seen': 13474, 'never seen friendly': 8164, 'seen friendly professional': 10720, 'friendly professional staff': 4847, 'every need': 3943, 'need attended': 8102, 'attended quickly': 859, 'quickly happily': 9580, 'every need attended': 3944, 'need attended quickly': 8103, 'attended quickly happily': 860, 'nice every': 8266, 'every part': 3948, 'hotel bright': 5916, 'bright clean': 1693, 'clean garden': 2293, 'garden hotel': 4962, 'room nice every': 10415, 'nice every part': 8267, 'every part hotel': 3949, 'part hotel bright': 8910, 'hotel bright clean': 5917, 'bright clean garden': 1694, 'clean garden hotel': 2294, 'garden hotel beautiful': 4963, 'michel': 7765, 'lead': 6861, 'manager michel': 7578, 'michel stay': 7766, 'stay top': 11715, 'top everything': 12475, 'everything lead': 3992, 'lead example': 6862, 'example well': 4025, 'trained staff': 12567, 'hotel manager michel': 6127, 'manager michel stay': 7579, 'michel stay top': 7767, 'stay top everything': 11716, 'top everything lead': 12476, 'everything lead example': 3993, 'lead example well': 6863, 'example well trained': 4026, 'well trained staff': 13297, 'like family': 6929, 'family since': 4323, 'since staying': 11049, 'staying month': 11774, 'treated like family': 12621, 'like family since': 6930, 'family since staying': 4324, 'since staying month': 11050, 'hotel deventer': 5972, 'deventer gilde': 3201, 'hotel deventer gilde': 5973, 'hotel everyone': 6000, 'everyone business': 3970, 'traveller family': 12613, 'recommend hotel everyone': 9882, 'hotel everyone business': 6001, 'everyone business traveller': 3971, 'business traveller family': 1818, 'miserable': 7847, 'customer hotel': 2932, '10 year': 9, 'year never': 13574, 'never experienced': 8150, 'experienced miserable': 4199, 'miserable service': 7848, 'service year': 10852, 'customer hotel 10': 2933, 'hotel 10 year': 5865, '10 year never': 10, 'year never experienced': 13575, 'never experienced miserable': 8151, 'experienced miserable service': 4200, 'miserable service year': 7849, 'enmenons': 3704, 'year enmenons': 13568, 'enmenons friend': 3705, 'friend family': 4794, 'family last': 4321, 'last time': 6812, 'year enmenons friend': 13569, 'enmenons friend family': 3706, 'friend family last': 4795, 'family last time': 4322, 'tornese': 12493, 'regular': 9948, 'hotel tornese': 6278, 'tornese lost': 12494, 'lost regular': 7259, 'regular customer': 9949, 'hotel tornese lost': 6279, 'tornese lost regular': 12495, 'lost regular customer': 7260, 'attic': 875, 'cheapest': 2108, 'rangemoor': 9655, 'stayed attic': 11729, 'attic room': 876, 'room cheapest': 10301, 'cheapest available': 2109, 'available rangemoor': 898, 'rangemoor park': 9656, 'park hotel': 8875, 'stayed attic room': 11730, 'attic room cheapest': 877, 'room cheapest available': 10302, 'cheapest available rangemoor': 2110, 'available rangemoor park': 899, 'rangemoor park hotel': 9657, 'pretty sheet': 9405, 'sheet clean': 10898, 'clean bed': 2271, 'bed comfy': 1270, 'small room pretty': 11173, 'room pretty sheet': 10430, 'pretty sheet clean': 9406, 'sheet clean bed': 10899, 'clean bed comfy': 2272, 'replenished': 10018, 'also kettle': 417, 'kettle tea': 6658, 'coffee provided': 2467, 'provided replenished': 9513, 'replenished service': 10019, 'washbasin room also': 13141, 'room also kettle': 10271, 'also kettle tea': 418, 'kettle tea coffee': 6659, 'tea coffee provided': 12147, 'coffee provided replenished': 2468, 'provided replenished service': 9514, 'shared': 10892, 'shared shower': 10893, 'shower toilet': 10978, 'toilet steep': 12445, 'steep stair': 11790, 'stair also': 11580, 'also clean': 397, 'shared shower toilet': 10894, 'shower toilet steep': 10979, 'toilet steep stair': 12446, 'steep stair also': 11791, 'stair also clean': 11581, 'extraordinary': 4233, 'full english': 4903, 'english breakfast': 3650, 'served sunday': 10780, 'sunday nothing': 11941, 'nothing extraordinary': 8459, 'extraordinary price': 4234, 'price alright': 9407, 'full english breakfast': 4904, 'english breakfast served': 3651, 'breakfast served sunday': 1672, 'served sunday nothing': 10781, 'sunday nothing extraordinary': 11942, 'nothing extraordinary price': 8460, 'extraordinary price alright': 4235, 'monday': 7911, 'ham': 5582, 'monday breakfast': 7912, 'served another': 10770, 'hotel across': 5873, 'street basic': 11847, 'basic continental': 1081, 'continental cereal': 2720, 'cereal bread': 2032, 'bread one': 1585, 'one type': 8686, 'type ham': 12747, 'ham cheese': 5583, 'cheese juice': 2139, 'juice hot': 6640, 'hot drink': 5854, 'drink etc': 3443, 'monday breakfast served': 7913, 'breakfast served another': 1670, 'served another hotel': 10771, 'another hotel across': 627, 'hotel across street': 5874, 'across street basic': 200, 'street basic continental': 11848, 'basic continental cereal': 1082, 'continental cereal bread': 2721, 'cereal bread one': 2033, 'bread one type': 1586, 'one type ham': 8687, 'type ham cheese': 12748, 'ham cheese juice': 5584, 'cheese juice hot': 2140, 'juice hot drink': 6641, 'hot drink etc': 5855, 'overall absolutely': 8780, 'absolutely alright': 138, 'alright price': 383, 'price pay': 9428, 'pay breakfast': 8950, 'breakfast nothing': 1652, 'nothing special': 8467, 'special nice': 11366, 'nice plus': 8308, 'overall absolutely alright': 8781, 'absolutely alright price': 139, 'alright price pay': 384, 'price pay breakfast': 9429, 'pay breakfast nothing': 8951, 'breakfast nothing special': 1653, 'nothing special nice': 8468, 'special nice plus': 11367, 'amazing holiday': 526, 'massive': 7652, 'possibly': 9365, 'hotel massive': 6131, 'massive everything': 7653, 'everything could': 3981, 'could possibly': 2806, 'possibly need': 9366, 'hotel massive everything': 6132, 'massive everything could': 7654, 'everything could possibly': 3982, 'could possibly need': 2807, 'amazing value': 540, 'money excellent': 7916, 'amazing value money': 541, 'value money excellent': 12884, 'money excellent location': 7917, 'staff amazing': 11441, 'amazing made': 530, 'made whole': 7463, 'holiday even': 5773, 'even point': 3876, 'point extended': 9238, 'extended stay': 4223, 'staff amazing made': 11442, 'amazing made whole': 531, 'made whole holiday': 7464, 'whole holiday even': 13340, 'holiday even point': 5774, 'even point extended': 3877, 'point extended stay': 9239, 'amination': 560, 'eran': 3779, 'true': 12670, 'loved amination': 7350, 'amination staff': 561, 'staff especially': 11468, 'especially eran': 3795, 'eran true': 3780, 'true friend': 12671, 'friend life': 4796, 'loved amination staff': 7351, 'amination staff especially': 562, 'staff especially eran': 11469, 'especially eran true': 3796, 'eran true friend': 3781, 'true friend life': 12672, 'hotel know': 6085, 'best hotel know': 1336, 'importen': 6416, 'peopel': 8966, 'importen thing': 6417, 'thing everyone': 12250, 'everyone working': 3973, 'working good': 13461, 'good peopel': 5274, 'peopel ever': 8967, 'ever meet': 3913, 'importen thing everyone': 6418, 'thing everyone working': 12251, 'everyone working good': 3974, 'working good peopel': 13462, 'good peopel ever': 5275, 'peopel ever meet': 8968, 'ther': 12227, 'exelent': 4136, 'everybody ther': 3965, 'ther job': 12228, 'job exelent': 6636, 'everybody ther job': 3966, 'ther job exelent': 12229, 'standard top': 11600, 'top love': 12486, 'love cleanliness': 7347, 'cleanliness good': 2363, 'good every': 5213, 'every restaurant': 3950, 'restaurant top': 10167, 'top clean': 12473, 'clean good': 2295, 'standard top love': 11601, 'top love cleanliness': 12487, 'love cleanliness good': 7348, 'cleanliness good every': 2364, 'good every restaurant': 5214, 'every restaurant top': 3951, 'restaurant top clean': 10168, 'top clean good': 12474, 'clean good food': 2296, 'thoroughly enjoyable': 12291, 'enjoyable holiday': 3676, 'thoroughly enjoyable holiday': 12292, 'arriving': 798, 'arriving hotel': 799, 'arriving hotel staff': 800, 'hotel staff enough': 6252, 'bungalow': 1776, 'bungalow excellent': 1777, 'excellent pool': 4076, 'pool guy': 9288, 'guy always': 5540, 'always helped': 499, 'helped pleasant': 5691, 'bungalow excellent pool': 1778, 'excellent pool guy': 4077, 'pool guy always': 9289, 'guy always helped': 5541, 'always helped pleasant': 500, 'waiter friendly': 13046, 'friendly pleasant': 4841, 'pleasant helpful': 9204, 'waiter friendly pleasant': 13047, 'friendly pleasant helpful': 4842, 'restaurant fish': 10121, 'fish restaurant': 4519, 'excellent good': 4053, 'carte restaurant fish': 1939, 'restaurant fish restaurant': 10122, 'fish restaurant excellent': 4520, 'restaurant excellent good': 10117, 'excellent good value': 4054, 'travelled world': 12609, 'world rate': 13475, 'rate one': 9667, 'travelled world rate': 12610, 'world rate one': 13476, 'rate one best': 9668, 'husband': 6367, 'became': 1256, 'disabled': 3274, 'husband became': 6368, 'became disabled': 1257, 'disabled recent': 3275, 'recent year': 9815, 'year help': 13572, 'help received': 5683, 'received staff': 9811, 'staff made': 11515, 'made holiday': 7444, 'could relax': 2808, 'relax enjoy': 9951, 'enjoy without': 3674, 'without stress': 13412, 'husband became disabled': 6369, 'became disabled recent': 1258, 'disabled recent year': 3276, 'recent year help': 9816, 'year help received': 13573, 'help received staff': 5684, 'received staff made': 9812, 'staff made holiday': 11516, 'made holiday could': 7445, 'holiday could relax': 5770, 'could relax enjoy': 2809, 'relax enjoy without': 9952, 'enjoy without stress': 3675, 'code': 2450, 'trouser': 12667, 'side dress': 10993, 'dress code': 3429, 'code restaurant': 2453, 'hotel quality': 6198, 'quality would': 9561, 'expect evening': 4152, 'evening dress': 3895, 'code eg': 2451, 'eg long': 3570, 'long trouser': 7215, 'trouser men': 12668, 'men beach': 7731, 'beach wear': 1222, 'side dress code': 10994, 'dress code restaurant': 3431, 'code restaurant hotel': 2454, 'restaurant hotel quality': 10132, 'hotel quality would': 6199, 'quality would expect': 9562, 'would expect evening': 13519, 'expect evening dress': 4153, 'evening dress code': 3896, 'dress code eg': 3430, 'code eg long': 2452, 'eg long trouser': 3571, 'long trouser men': 7216, 'trouser men beach': 12669, 'men beach wear': 7732, 'room perfect': 10423, 'perfect clean': 9007, 'double room perfect': 3414, 'room perfect clean': 10424, 'treat': 12619, 'personal whole': 9056, 'hotel let': 6094, 'let feel': 6896, 'feel welcome': 4414, 'welcome en': 13219, 'en treat': 3643, 'treat care': 12620, 'personal whole hotel': 9057, 'whole hotel let': 13342, 'hotel let feel': 6095, 'let feel welcome': 6897, 'feel welcome en': 4415, 'welcome en treat': 13220, 'en treat care': 3644, 'mo': 7869, 'mo also': 7870, 'also others': 426, 'others friendly': 8748, 'mo also others': 7871, 'also others friendly': 427, 'said personal': 10582, 'personal okay': 9053, 'said personal okay': 10583, 'hussein': 6373, 'one staff': 8678, 'member speaks': 7727, 'speaks good': 11362, 'good dutch': 5204, 'dutch en': 3497, 'en hussein': 3641, 'hussein duty': 6374, 'manager gave': 7574, 'gave warm': 4973, 'warm welcome': 13137, 'welcome pleasant': 13227, 'one staff member': 8679, 'staff member speaks': 11520, 'member speaks good': 7728, 'speaks good dutch': 11363, 'good dutch en': 5205, 'dutch en hussein': 3498, 'en hussein duty': 3642, 'hussein duty manager': 6375, 'duty manager gave': 3499, 'manager gave warm': 7575, 'gave warm welcome': 4974, 'warm welcome pleasant': 13138, 'welcome pleasant stay': 13228, 'snorkeling': 11253, 'reef': 9913, 'thing missed': 12262, 'missed snorkeling': 7855, 'snorkeling reef': 11254, 'reef dutch': 9914, 'dutch channel': 3495, 'channel television': 2065, 'thing missed snorkeling': 12263, 'missed snorkeling reef': 7856, 'snorkeling reef dutch': 11255, 'reef dutch channel': 9915, 'dutch channel television': 3496, 'piece': 9093, 'little piece': 7034, 'piece heaven': 9094, 'little piece heaven': 7035, 'hotel good place': 6045, 'step downtown': 11794, 'breakfast wonderful': 1687, 'vital': 13025, 'accessible': 180, '11': 16, 'vital spa': 13026, 'spa nice': 11311, 'nice interesting': 8295, 'interesting accessible': 6542, 'accessible 11': 181, '11 pm': 17, 'vital spa nice': 13027, 'spa nice interesting': 11312, 'nice interesting accessible': 8296, 'interesting accessible 11': 6543, 'accessible 11 pm': 182, 'traveler': 12602, 'budget location': 1727, 'location budget': 7130, 'budget traveler': 1735, 'good budget location': 5186, 'budget location budget': 1728, 'location budget traveler': 7131, 'tivoli': 12429, 'excellent within': 4107, 'distance tivoli': 3351, 'tivoli city': 12430, 'center general': 1961, 'general plus': 4994, 'plus huge': 9228, 'huge building': 6350, 'building could': 1755, 'easily spot': 3519, 'spot distance': 11411, 'distance never': 3339, 'never get': 8154, 'get lost': 5049, 'location excellent within': 7144, 'excellent within walking': 4108, 'walking distance tivoli': 13089, 'distance tivoli city': 3352, 'tivoli city center': 12431, 'city center general': 2217, 'center general plus': 1962, 'general plus huge': 4995, 'plus huge building': 9229, 'huge building could': 6351, 'building could easily': 1756, 'could easily spot': 2794, 'easily spot distance': 3520, 'spot distance never': 11412, 'distance never get': 3340, 'never get lost': 8155, 'opened': 8698, 'serf': 10761, 'carlsberg': 1920, 'bar ground': 1038, 'floor opened': 4565, 'opened till': 8699, 'till late': 12356, 'late serf': 6818, 'serf cheap': 10762, 'cheap carlsberg': 2089, 'bar ground floor': 1039, 'ground floor opened': 5481, 'floor opened till': 4566, 'opened till late': 8700, 'till late serf': 12357, 'late serf cheap': 6819, 'serf cheap carlsberg': 10763, 'hundred': 6360, 'thousand': 12319, 'excused': 4125, 'maybe staff': 7683, 'friendly one': 4836, 'one expect': 8647, 'expect deal': 4150, 'deal hundred': 3054, 'hundred guest': 6361, 'guest maybe': 5521, 'maybe one': 7679, 'one thousand': 8682, 'thousand busy': 12320, 'busy weekend': 1830, 'weekend night': 13204, 'night may': 8377, 'may excused': 7672, 'maybe staff friendly': 7684, 'staff friendly one': 11488, 'friendly one expect': 4837, 'one expect deal': 8648, 'expect deal hundred': 4151, 'deal hundred guest': 3055, 'hundred guest maybe': 6362, 'guest maybe one': 5522, 'maybe one thousand': 7680, 'one thousand busy': 8683, 'thousand busy weekend': 12321, 'busy weekend night': 1831, 'weekend night may': 13205, 'night may excused': 8378, 'budget accommodation': 1720, 'accommodation booked': 183, 'booked one': 1546, 'one bed': 8625, 'bed dorm': 1273, 'dorm one': 3404, 'one weekend': 8690, 'weekend people': 13206, 'people budget': 8973, 'overall good budget': 8782, 'good budget accommodation': 5185, 'budget accommodation booked': 1721, 'accommodation booked one': 184, 'booked one bed': 1547, 'one bed dorm': 8626, 'bed dorm one': 1274, 'dorm one weekend': 3405, 'one weekend people': 8691, 'weekend people budget': 13207, 'copenhagen': 2762, 'next stay': 8220, 'stay copenhagen': 11664, 'back next stay': 966, 'next stay copenhagen': 8221, 'excecutive': 4027, 'excecutive chef': 4028, 'team excellent': 12158, 'excellent great': 4055, 'excecutive chef team': 4029, 'chef team excellent': 2144, 'team excellent great': 12159, 'excellent great food': 4056, 'wait': 13039, 'learn': 6864, 'bistro': 1454, 'answer': 635, 'query': 9566, 'sou': 11293, 'checking': 2132, 'dull': 3483, 'beverage': 1385, 'neither': 8141, 'greeted': 5468, 'performance': 9030, 'pasta': 8941, 'vacation made': 12874, 'made executive': 7442, 'executive chef': 4129, 'team friendly': 12160, 'friendly cook': 4806, 'cook helpful': 2745, 'helpful always': 5694, 'ready go': 9702, 'go beyond': 5097, 'beyond expectation': 1393, 'expectation wait': 4166, 'wait staff': 13040, 'staff restaurant': 11538, 'restaurant learn': 10139, 'learn lot': 6865, 'lot cook': 7270, 'cook fantastic': 2743, 'fantastic food': 4341, 'restaurant bistro': 10103, 'bistro executive': 1455, 'chef always': 2141, 'always answer': 479, 'answer query': 636, 'query sou': 9567, 'sou chef': 11294, 'always checking': 485, 'checking food': 2133, 'food hot': 4630, 'hot fresh': 5856, 'fresh restaurant': 4787, 'restaurant manager': 10145, 'manager dull': 7570, 'dull staff': 3484, 'food beverage': 4583, 'beverage manager': 1386, 'manager never': 7582, 'never smile': 8165, 'smile face': 11225, 'face neither': 4264, 'neither greeted': 8142, 'greeted guest': 5469, 'guest poor': 5523, 'poor performance': 9329, 'performance visit': 9031, 'food smiling': 4658, 'smiling cook': 11229, 'cook behind': 2741, 'behind pasta': 1314, 'pasta line': 8942, 'vacation made executive': 12875, 'made executive chef': 7443, 'executive chef team': 4131, 'chef team friendly': 2145, 'team friendly cook': 12161, 'friendly cook helpful': 4807, 'cook helpful always': 2746, 'helpful always ready': 5695, 'always ready go': 509, 'ready go beyond': 9703, 'go beyond expectation': 5098, 'beyond expectation wait': 1394, 'expectation wait staff': 4167, 'wait staff restaurant': 13041, 'staff restaurant learn': 11539, 'restaurant learn lot': 10140, 'learn lot cook': 6866, 'lot cook fantastic': 7271, 'cook fantastic food': 2744, 'fantastic food hotel': 4342, 'food hotel main': 4633, 'hotel main restaurant': 6119, 'main restaurant bistro': 7493, 'restaurant bistro executive': 10104, 'bistro executive chef': 1456, 'executive chef always': 4130, 'chef always answer': 2142, 'always answer query': 480, 'answer query sou': 637, 'query sou chef': 9568, 'sou chef always': 11295, 'chef always checking': 2143, 'always checking food': 486, 'checking food hot': 2134, 'food hot fresh': 4631, 'hot fresh restaurant': 5857, 'fresh restaurant manager': 4788, 'restaurant manager dull': 10146, 'manager dull staff': 7571, 'dull staff food': 3485, 'staff food beverage': 11475, 'food beverage manager': 4584, 'beverage manager never': 1387, 'manager never smile': 7583, 'never smile face': 8166, 'smile face neither': 11226, 'face neither greeted': 4265, 'neither greeted guest': 8143, 'greeted guest poor': 5470, 'guest poor performance': 5524, 'poor performance visit': 9330, 'performance visit hotel': 9032, 'visit hotel great': 13008, 'hotel great food': 6049, 'great food smiling': 5394, 'food smiling cook': 4659, 'smiling cook behind': 11230, 'cook behind pasta': 2742, 'behind pasta line': 1315, 'topaz': 12491, 'holiday hotel': 5782, 'hotel topaz': 6276, 'topaz club': 12492, 'best holiday hotel': 1332, 'holiday hotel topaz': 5783, 'hotel topaz club': 6277, '14': 27, 'va': 12867, 'greatincredible': 5465, 'luxuryfood': 7428, 'coktailsstaff': 2476, 'wery': 13316, 'especialy': 3811, 'mohamed': 7905, 'ensures': 3729, 'therethank': 12233, 'allwe': 350, '14 day': 28, 'day stay': 3032, 'stay inclusive': 11680, 'inclusive va': 6466, 'va greatincredible': 12868, 'greatincredible size': 5466, 'size suite': 11095, 'suite clean': 11923, 'clean luxuryfood': 2304, 'luxuryfood good': 7429, 'nice coktailsstaff': 8260, 'coktailsstaff wery': 2477, 'wery friendly': 13317, 'friendly especialy': 4814, 'especialy animation': 3812, 'team manager': 12164, 'manager mohamed': 7580, 'mohamed ensures': 7906, 'ensures everything': 3730, 'need therethank': 8121, 'therethank allwe': 12234, 'allwe enjoyed': 351, '14 day stay': 29, 'day stay inclusive': 3033, 'stay inclusive va': 11681, 'inclusive va greatincredible': 6467, 'va greatincredible size': 12869, 'greatincredible size suite': 5467, 'size suite clean': 11096, 'suite clean luxuryfood': 11924, 'clean luxuryfood good': 2305, 'luxuryfood good nice': 7430, 'good nice coktailsstaff': 5268, 'nice coktailsstaff wery': 8261, 'coktailsstaff wery friendly': 2478, 'wery friendly especialy': 13318, 'friendly especialy animation': 4815, 'especialy animation team': 3813, 'animation team manager': 611, 'team manager mohamed': 12165, 'manager mohamed ensures': 7581, 'mohamed ensures everything': 7907, 'ensures everything need': 3731, 'everything need therethank': 3998, 'need therethank allwe': 8122, 'therethank allwe enjoyed': 12235, 'overlooking': 8806, 'furbished': 4929, 'stayed beach': 11731, 'beach villa': 1220, 'villa overlooking': 12979, 'overlooking sea': 8807, 'sea number': 10687, 'number 50': 8494, '50 beautiful': 98, 'beautiful position': 1239, 'position clean': 9339, 'well furbished': 13261, 'stayed beach villa': 11732, 'beach villa overlooking': 1221, 'villa overlooking sea': 12980, 'overlooking sea number': 8808, 'sea number 50': 10688, 'number 50 beautiful': 8495, '50 beautiful position': 99, 'beautiful position clean': 1240, 'position clean well': 9340, 'clean well furbished': 2331, 'ground around': 5477, 'around villa': 784, 'villa maintained': 12975, 'maintained high': 7509, 'high standard': 5736, 'standard reception': 11593, 'area also': 708, 'also dining': 404, 'dining area': 3238, 'ground around villa': 5478, 'around villa maintained': 785, 'villa maintained high': 12976, 'maintained high standard': 7510, 'high standard reception': 5737, 'standard reception area': 11594, 'reception area also': 9821, 'area also dining': 709, 'also dining area': 405, 'sray': 11425, 'verry': 12921, 'sray cleaning': 11426, 'cleaning verry': 2356, 'verry bad': 12922, 'sray cleaning verry': 11427, 'cleaning verry bad': 2357, 'sleeping': 11110, 'bathroom sleeping': 1154, 'sleeping floor': 11111, 'floor cleaned': 4558, 'bathroom sleeping floor': 1155, 'sleeping floor cleaned': 11112, 'practically': 9374, 'storage': 11835, 'practically storage': 9375, 'storage space': 11836, 'space convenient': 11326, 'practically storage space': 9376, 'storage space convenient': 11837, 'french friendly': 4777, 'staff small': 11548, 'nice hotel friendly': 8286, 'hotel friendly helpful': 6023, 'helpful staff small': 5710, 'staff small room': 11549, 'gobelins': 5126, 'station le': 11648, 'le gobelins': 6849, 'gobelins pretty': 5127, 'pretty close': 9398, 'close bus': 2385, 'stop take': 11833, 'take centre': 12082, 'centre side': 2021, 'side river': 11005, 'river also': 10228, 'also nearby': 425, 'metro station le': 7760, 'station le gobelins': 11649, 'le gobelins pretty': 6850, 'gobelins pretty close': 5128, 'pretty close bus': 9399, 'close bus stop': 2386, 'bus stop take': 1798, 'stop take centre': 11834, 'take centre side': 12083, 'centre side river': 2022, 'side river also': 11006, 'river also nearby': 10229, 'luxemburg': 7408, 'luxemburg garden': 7409, 'garden also': 4958, 'also walking': 446, 'luxemburg garden also': 7410, 'garden also walking': 4959, 'also walking distance': 447, 'connect': 2679, 'stay able': 11658, 'able connect': 134, 'connect wifi': 2680, 'wifi even': 13364, 'even help': 3872, 'help staff': 5688, 'stay able connect': 11659, 'able connect wifi': 135, 'connect wifi even': 2681, 'wifi even help': 13365, 'even help staff': 3873, 'located expect': 7090, 'expect anything': 4146, 'anything beyond': 649, 'beyond basic': 1392, 'well located expect': 13271, 'located expect anything': 7091, 'expect anything beyond': 4147, 'anything beyond basic': 650, 'location explore': 7147, 'explore lyon': 4210, 'good location explore': 5248, 'location explore lyon': 7148, 'basic bit': 1079, 'bit dated': 1459, 'dated hotel': 2984, 'price expect': 9420, 'basic bit dated': 1080, 'bit dated hotel': 1460, 'dated hotel price': 2985, 'hotel price expect': 6189, 'situated across': 11071, 'across river': 198, 'river form': 10230, 'form main': 4685, 'main city': 7485, 'centre close': 2004, 'close one': 2410, 'one bridge': 8634, 'bridge walk': 1691, 'walk take': 13079, 'take 10': 12080, 'situated across river': 11072, 'across river form': 199, 'river form main': 10231, 'form main city': 4686, 'main city centre': 7486, 'city centre close': 2225, 'centre close one': 2005, 'close one bridge': 2411, 'one bridge walk': 8635, 'bridge walk take': 1692, 'walk take 10': 13080, 'take 10 minute': 12081, 'nicest though': 8355, 'area around hotel': 712, 'around hotel nicest': 776, 'hotel nicest though': 6162, 'hotel could': 5962, 'could renovation': 2810, 'hotel could renovation': 5963, 'check took': 2127, 'quite bit': 9605, 'bit time': 1479, 'time guest': 12381, 'guest question': 5525, 'question second': 9574, 'second person': 10697, 'check took quite': 2128, 'took quite bit': 12464, 'quite bit time': 9606, 'bit time guest': 1480, 'time guest question': 12382, 'guest question second': 5526, 'question second person': 9575, 'longer': 7217, 'alright hotel': 381, 'stay night': 11694, 'night explore': 8371, 'explore city': 4208, 'city need': 2242, 'need stay': 8119, 'stay longer': 11686, 'longer probably': 7218, 'probably better': 9455, 'alright hotel stay': 382, 'hotel stay night': 6257, 'stay night explore': 11695, 'night explore city': 8372, 'explore city need': 4209, 'city need stay': 2243, 'need stay longer': 8120, 'stay longer probably': 11687, 'longer probably better': 7219, 'probably better option': 9456, 'best hotel frankfurt': 1335, 'always one': 507, 'ever use': 3918, 'always one best': 508, 'one best hotel': 8629, 'hotel ever use': 5995, 'observation': 8508, 'maker': 7535, 'mixed': 7866, 'observation non': 8509, 'non child': 8436, 'child holiday': 2152, 'holiday maker': 5788, 'maker mixed': 7536, 'mixed child': 7867, 'maker thus': 7538, 'thus noisy': 12338, 'noisy could': 8419, 'could separated': 2813, 'separated least': 10757, 'least block': 6867, 'block room': 1496, 'observation non child': 8510, 'non child holiday': 8437, 'child holiday maker': 2153, 'holiday maker mixed': 5789, 'maker mixed child': 7537, 'mixed child holiday': 7868, 'holiday maker thus': 5790, 'maker thus noisy': 7539, 'thus noisy could': 12339, 'noisy could separated': 8420, 'could separated least': 2814, 'separated least block': 10758, 'least block room': 6868, 'sign': 11021, 'informing': 6490, 'actual': 210, 'indication': 6474, 'pointed': 9242, 'although sign': 475, 'sign informing': 11022, 'informing smoking': 6491, 'smoking area': 11240, 'area could': 724, 'could see': 2811, 'see actual': 10700, 'actual indication': 211, 'indication area': 6475, 'area waiter': 761, 'waiter pointed': 13052, 'pointed people': 9243, 'people smoking': 8990, 'smoking probably': 11242, 'probably eastern': 9459, 'although sign informing': 476, 'sign informing smoking': 11023, 'informing smoking area': 6492, 'smoking area could': 11241, 'area could see': 725, 'could see actual': 2812, 'see actual indication': 10701, 'actual indication area': 212, 'indication area waiter': 6476, 'area waiter pointed': 762, 'waiter pointed people': 13053, 'pointed people smoking': 9244, 'people smoking probably': 8991, 'smoking probably eastern': 11243, 'probably eastern european': 9460, 'christmas': 2210, 'stayed christmas': 11737, 'christmas wonderful': 2211, 'stayed christmas wonderful': 11738, 'christmas wonderful hotel': 2212, 'brand': 1575, 'eleventh': 3608, 'seems brand': 10715, 'brand new': 1576, 'new staff': 8193, 'efficient nice': 3561, 'nice fitness': 8270, 'fitness eleventh': 4524, 'eleventh floor': 3609, 'floor room': 4571, 'view tallinn': 12968, 'seems brand new': 10716, 'brand new staff': 1577, 'new staff friendly': 8194, 'staff friendly efficient': 11485, 'friendly efficient nice': 4810, 'efficient nice fitness': 3562, 'nice fitness eleventh': 8271, 'fitness eleventh floor': 4525, 'eleventh floor room': 3610, 'floor room view': 4572, 'room view tallinn': 10510, 'walk gran': 13070, 'via got': 12928, 'got madrid': 5349, 'madrid city': 7465, 'city tour': 2248, 'tour bus': 12501, 'bus went': 1804, 'went hotel': 13311, 'hotel 15': 5866, 'minute back': 7822, 'back tour': 968, 'minute walk gran': 7840, 'walk gran via': 13071, 'gran via got': 5357, 'via got madrid': 12929, 'got madrid city': 5350, 'madrid city tour': 7466, 'city tour bus': 2249, 'tour bus went': 12502, 'bus went hotel': 1805, 'went hotel 15': 13312, 'hotel 15 minute': 5867, '15 minute back': 32, 'minute back tour': 7823, 'kindly': 6700, 'flamenco': 4538, 'straight forward': 11842, 'forward friendly': 4697, 'reception personnel': 9837, 'personnel kindly': 9066, 'kindly helped': 6701, 'helped order': 5689, 'order table': 8729, 'table flamenco': 12071, 'flamenco good': 4539, 'good recommendation': 5292, 'recommendation go': 9896, 'go town': 5119, 'straight forward friendly': 11843, 'forward friendly reception': 4698, 'friendly reception personnel': 4849, 'reception personnel kindly': 9838, 'personnel kindly helped': 9067, 'kindly helped order': 6702, 'helped order table': 5690, 'order table flamenco': 8730, 'table flamenco good': 12072, 'flamenco good recommendation': 4540, 'good recommendation go': 5293, 'recommendation go town': 9897, 'seeng': 10723, 'load shopping': 7053, 'shopping opportunity': 10935, 'opportunity brilliant': 8708, 'brilliant food': 1697, 'food near': 4640, 'near mostly': 8077, 'mostly sight': 7979, 'sight seeng': 11016, 'seeng within': 10724, 'load shopping opportunity': 7054, 'shopping opportunity brilliant': 10936, 'opportunity brilliant food': 8709, 'brilliant food near': 1698, 'food near mostly': 4641, 'near mostly sight': 8078, 'mostly sight seeng': 7980, 'sight seeng within': 11017, 'seeng within walking': 10725, 'bedding': 1300, 'con': 2639, 'space two': 11333, 'two good': 12727, 'good bedding': 5179, 'bedding towel': 1301, 'towel comfy': 12531, 'bed air': 1259, 'air con': 305, 'con good': 2640, 'good shower': 5304, 'shower surprisingly': 10976, 'surprisingly quite': 12021, 'room good enough': 10362, 'good enough space': 5207, 'enough space two': 3725, 'space two good': 11334, 'two good bedding': 12728, 'good bedding towel': 5180, 'bedding towel comfy': 1302, 'towel comfy bed': 12532, 'comfy bed air': 2565, 'bed air con': 1260, 'air con good': 306, 'con good shower': 2641, 'good shower surprisingly': 5305, 'shower surprisingly quite': 10977, 'surprisingly quite night': 12022, 'fantastic weekend': 4359, 'break sea': 1595, 'fantastic weekend break': 4360, 'weekend break sea': 13197, 'thessaloniki': 12236, 'blue': 1503, 'beautiful beach': 1228, 'beach hotel': 1194, 'hotel le': 6092, 'le hour': 6853, 'hour thessaloniki': 6312, 'thessaloniki fantastic': 12237, 'fantastic sea': 4353, 'view one': 12958, 'best beach': 1325, 'beach organized': 1202, 'organized blue': 8734, 'blue flag': 1504, 'flag ever': 4534, 'ever visited': 3921, 'visited ideal': 13018, 'ideal weekend': 6396, 'break long': 1593, 'long summer': 7210, 'summer holiday': 11928, 'beautiful beach hotel': 1229, 'beach hotel le': 1195, 'hotel le hour': 6093, 'le hour thessaloniki': 6854, 'hour thessaloniki fantastic': 6313, 'thessaloniki fantastic sea': 12238, 'fantastic sea view': 4354, 'sea view one': 10689, 'view one best': 12959, 'one best beach': 8627, 'best beach organized': 1326, 'beach organized blue': 1203, 'organized blue flag': 8735, 'blue flag ever': 1505, 'flag ever visited': 4535, 'ever visited ideal': 3922, 'visited ideal weekend': 13019, 'ideal weekend break': 6397, 'weekend break long': 13196, 'break long summer': 1594, 'long summer holiday': 7211, 'many thing': 7615, 'thing water': 12268, 'sport mountain': 11403, 'mountain excursion': 7990, 'excursion etc': 4124, 'many thing water': 7616, 'thing water sport': 12269, 'water sport mountain': 13152, 'sport mountain excursion': 11404, 'mountain excursion etc': 7991, 'enthusiastic': 3754, 'vice': 12930, 'versa': 12923, 'kid enthusiastic': 6675, 'enthusiastic pool': 3755, 'pool two': 9307, 'two lift': 12731, 'lift take': 6914, 'take pool': 12088, 'pool level': 9294, 'level beach': 6900, 'beach vice': 1216, 'vice versa': 12931, 'kid enthusiastic pool': 6676, 'enthusiastic pool two': 3756, 'pool two lift': 9308, 'two lift take': 12732, 'lift take pool': 6915, 'take pool level': 12089, 'pool level beach': 9295, 'level beach vice': 6901, 'beach vice versa': 1217, 'friendly many': 4832, 'many facility': 7595, 'facility beach': 4270, 'restaurant mini': 10149, 'mini market': 7800, 'market cafe': 7628, 'cafe service': 1846, 'service high': 10821, 'high level': 5734, 'personnel friendly many': 9063, 'friendly many facility': 4833, 'many facility beach': 7596, 'facility beach bar': 4271, 'beach bar restaurant': 1175, 'bar restaurant mini': 1053, 'restaurant mini market': 10150, 'mini market cafe': 7801, 'market cafe service': 7629, 'cafe service high': 1847, 'service high level': 10822, 'maisonette': 7511, 'room maisonette': 10405, 'nice hotel nice': 8289, 'nice room maisonette': 8317, 'breakfast quite': 1663, 'quite expensive': 9613, 'expensive overall': 4179, 'breakfast quite expensive': 1664, 'quite expensive overall': 9614, 'expensive overall nice': 4180, 'overall nice hotel': 8794, 'nice hotel clean': 8283, 'pleaseure': 9214, 'business pleaseure': 1811, 'pleaseure family': 9215, 'family visit': 4329, 'recommend hotel business': 9880, 'hotel business pleaseure': 5937, 'business pleaseure family': 1812, 'pleaseure family visit': 9216, 'family visit cologne': 4330, 'possibilties': 9357, 'good parking': 5272, 'parking possibilties': 8897, 'good parking possibilties': 5273, 'smart simple': 11205, 'montjuic': 7946, 'jean': 6633, 'miro': 7844, 'institute': 6524, 'seeing': 10706, 'modern budget': 7881, 'near la': 8074, 'rambla montjuic': 9649, 'montjuic jean': 7947, 'jean miro': 6634, 'miro institute': 7845, 'institute worth': 6525, 'worth seeing': 13498, 'modern budget hotel': 7882, 'budget hotel near': 1723, 'hotel near la': 6145, 'near la rambla': 8075, 'la rambla montjuic': 6744, 'rambla montjuic jean': 9650, 'montjuic jean miro': 7948, 'jean miro institute': 6635, 'miro institute worth': 7846, 'institute worth seeing': 6526, 'helpfull made': 5721, 'stay enjoyable': 11665, 'friendly helpfull made': 4826, 'helpfull made stay': 5722, 'made stay enjoyable': 7458, 'story': 11839, 'room different': 10331, 'different story': 3221, 'room different story': 10332, 'cramped': 2882, 'although clean': 457, 'clean equipped': 2282, 'equipped basic': 3776, 'basic felt': 1086, 'felt cramped': 4420, 'although clean equipped': 458, 'clean equipped basic': 2283, 'equipped basic felt': 3777, 'basic felt cramped': 1087, 'reality': 9714, 'knew expect': 6723, 'expect small': 4160, 'room reality': 10441, 'reality tiny': 9715, 'knew expect small': 6724, 'expect small room': 4161, 'small room reality': 11174, 'room reality tiny': 10442, 'maybe would': 7687, 'would enough': 13517, 'space one': 11327, 'one person': 8669, 'person couple': 9046, 'couple may': 2844, 'may feel': 7673, 'feel crowded': 4407, 'maybe would enough': 7688, 'would enough space': 13518, 'enough space one': 3724, 'space one person': 11328, 'one person couple': 8670, 'person couple may': 9047, 'couple may feel': 2845, 'may feel crowded': 7674, 'still nice': 11813, 'nice budget': 8252, 'hotel young': 6292, 'young traveller': 13606, 'still nice budget': 11814, 'nice budget hotel': 8253, 'budget hotel young': 1726, 'hotel young traveller': 6293, 'small pool': 11164, 'small pool roof': 11165, 'turkey': 12691, 'hotel turkey': 6280, 'great hotel turkey': 5406, 'place one': 9145, 'place one best': 9146, 'one best vacation': 8631, 'condition pleasure': 2651, 'bar territory': 1061, 'territory hotel': 12201, 'lot restaurant bar': 7295, 'restaurant bar territory': 10100, 'bar territory hotel': 1062, 'personnel work': 9070, 'work excellent': 13436, 'personnel work excellent': 9071, 'westminster': 13319, 'numerous': 8502, 'location across': 7118, 'across bridge': 194, 'bridge palace': 1689, 'palace westminster': 8842, 'westminster walking': 13320, 'distance numerous': 3341, 'numerous touristic': 8503, 'touristic attraction': 12518, 'excellent location across': 4067, 'location across bridge': 7119, 'across bridge palace': 195, 'bridge palace westminster': 1690, 'palace westminster walking': 8843, 'westminster walking distance': 13321, 'walking distance numerous': 13085, 'distance numerous touristic': 3342, 'numerous touristic attraction': 8504, 'distance tube': 3353, 'tube station': 12688, 'station bus': 11644, 'bus station': 1797, 'within minute walking': 13401, 'walking distance tube': 13090, 'distance tube station': 3354, 'tube station bus': 12689, 'station bus station': 11645, 'smooth': 11245, 'enjoyed fast': 3689, 'fast smooth': 4382, 'smooth check': 11246, 'check check': 2114, 'check procedure': 2124, 'enjoyed fast smooth': 3690, 'fast smooth check': 4383, 'smooth check check': 11247, 'check check procedure': 2115, 'kept': 6653, 'color': 2499, 'spacious luxurious': 11341, 'luxurious kept': 7416, 'kept clean': 6654, 'modern furniture': 7885, 'furniture relaxing': 4940, 'relaxing color': 9963, 'studio room spacious': 11887, 'room spacious luxurious': 10483, 'spacious luxurious kept': 11342, 'luxurious kept clean': 7417, 'kept clean modern': 6655, 'clean modern furniture': 2308, 'modern furniture relaxing': 7886, 'furniture relaxing color': 4941, 'toiletry': 12451, 'bathrobe': 1116, 'entire': 3757, 'large good': 6792, 'quality toiletry': 9559, 'toiletry provided': 12452, 'provided including': 9507, 'including bathrobe': 6447, 'bathrobe slipper': 1117, 'slipper entire': 11113, 'entire family': 3758, 'bathroom large good': 1138, 'large good quality': 6793, 'good quality toiletry': 5287, 'quality toiletry provided': 9560, 'toiletry provided including': 12453, 'provided including bathrobe': 9508, 'including bathrobe slipper': 6448, 'bathrobe slipper entire': 1118, 'slipper entire family': 11114, 'london': 7201, 'definitely back': 3099, 'time london': 12387, 'definitely back hotel': 3100, 'hotel next time': 6152, 'next time london': 8225, 'hotel siena': 6243, 'siena close': 11011, 'close railway': 2412, 'hotel siena close': 6244, 'siena close railway': 11012, 'close railway station': 2413, 'raliway': 9646, 'moder': 7878, 'intend': 6530, 'isit': 6595, 'close raliway': 2414, 'raliway station': 9647, 'station 300': 11638, '300 easy': 85, 'reach friendly': 9698, 'staff breakfast': 11450, 'ok room': 8562, 'comfortable moder': 2548, 'moder ok': 7879, 'ok star': 8564, 'hotel recommend': 6211, 'recommend couple': 9873, 'couple intend': 2840, 'intend isit': 6531, 'isit siena': 6596, 'siena also': 11009, 'also close': 400, 'hotel close raliway': 5950, 'close raliway station': 2415, 'raliway station 300': 9648, 'station 300 easy': 11639, '300 easy reach': 86, 'easy reach friendly': 3532, 'reach friendly staff': 9699, 'friendly staff breakfast': 4857, 'staff breakfast ok': 11451, 'breakfast ok room': 1654, 'ok room clean': 8563, 'clean comfortable moder': 2279, 'comfortable moder ok': 2549, 'moder ok star': 7880, 'ok star hotel': 8565, 'star hotel enjoyed': 11609, 'hotel enjoyed stay': 5992, 'enjoyed stay hotel': 3699, 'stay hotel recommend': 11675, 'hotel recommend couple': 6212, 'recommend couple intend': 9874, 'couple intend isit': 2841, 'intend isit siena': 6532, 'isit siena also': 6597, 'siena also close': 11010, 'also close city': 401, 'surprise great': 12010, 'food room': 4652, 'surprise great food': 12011, 'great food room': 5393, 'food room service': 4653, 'amsterdam hotel': 589, 'amsterdam hotel good': 590, 'surprised excellent': 12012, 'cuisine hotel': 2924, 'surprised excellent cuisine': 12013, 'excellent cuisine hotel': 4047, 'desk extremely': 3173, 'extremely well': 4252, 'trained positive': 12566, 'front desk extremely': 4884, 'desk extremely well': 3174, 'extremely well trained': 4253, 'well trained positive': 13296, 'amstel': 578, 'also surprisingly': 440, 'surprisingly close': 12019, 'close train': 2425, 'train amsterdam': 12561, 'amsterdam amstel': 581, 'amstel station': 579, 'station tram': 11655, 'also surprisingly close': 441, 'surprisingly close train': 12020, 'close train amsterdam': 2426, 'train amsterdam amstel': 12562, 'amsterdam amstel station': 582, 'amstel station tram': 580, 'casa': 1944, '400': 94, 'glad chose': 5081, 'chose casa': 2204, 'casa 400': 1945, 'glad chose casa': 5082, 'chose casa 400': 2205, 'great central': 5373, 'great central location': 5374, 'positioned': 9345, 'well positioned': 13279, 'positioned city': 9346, 'city sightseeing': 2246, 'sightseeing well': 11019, 'connected easy': 2682, 'access airport': 163, 'airport metro': 317, 'well positioned city': 13280, 'positioned city sightseeing': 9347, 'city sightseeing well': 2247, 'sightseeing well connected': 11020, 'well connected easy': 13248, 'connected easy access': 2683, 'easy access airport': 3524, 'access airport metro': 164, 'lovely bar': 7357, 'bar lobby': 1042, 'lobby staff': 7068, 'friendly nice': 4834, 'nice well': 8341, 'well helpfull': 13263, 'lovely bar lobby': 7358, 'bar lobby staff': 1043, 'lobby staff friendly': 7069, 'staff friendly nice': 11487, 'friendly nice well': 4835, 'nice well helpfull': 8342, 'clean bit': 2275, 'small side': 11175, 'side good': 10997, 'room clean bit': 10304, 'clean bit small': 2276, 'bit small side': 1476, 'small side good': 11176, 'side good value': 10998, 'good inclusive': 5232, 'good inclusive hotel': 5233, 'luxurous': 7418, 'spacy': 11352, 'area looked': 738, 'looked luxurous': 7234, 'luxurous spacy': 7419, 'area looked luxurous': 739, 'looked luxurous spacy': 7235, 'room top': 10505, 'top class': 12472, 'hotel room top': 6227, 'room top class': 10506, 'incl': 6433, 'fridge': 4789, 'executive room': 4134, 'standard size': 11598, 'better looking': 1371, 'looking incl': 7254, 'incl small': 6434, 'small fridge': 11142, 'executive room standard': 4135, 'room standard size': 10487, 'standard size room': 11599, 'size room better': 11093, 'room better looking': 10289, 'better looking incl': 1372, 'looking incl small': 7255, 'incl small fridge': 6435, 'par': 8858, 'bed par': 1291, 'somebody': 11266, 'plumbing': 9225, 'cooling': 2753, 'ticking': 12346, 'room noisy': 10417, 'noisy eg': 8423, 'eg somebody': 3572, 'somebody taking': 11267, 'taking shower': 12103, 'shower hear': 10972, 'hear plumbing': 5650, 'plumbing cooling': 9226, 'cooling next': 2754, 'next hour': 8216, 'hour loud': 6305, 'loud ticking': 7318, 'ticking noise': 12347, 'room noisy eg': 10418, 'noisy eg somebody': 8424, 'eg somebody taking': 3573, 'somebody taking shower': 11268, 'taking shower hear': 12104, 'shower hear plumbing': 10973, 'hear plumbing cooling': 5651, 'plumbing cooling next': 9227, 'cooling next hour': 2755, 'next hour loud': 8217, 'hour loud ticking': 6306, 'loud ticking noise': 7319, 'akward': 326, 'mediocre': 7703, 'melk': 7718, 'breakfast mediocre': 1650, 'mediocre bread': 7704, 'bread hard': 1583, 'hard scrambled': 5625, 'egg melk': 3574, 'breakfast mediocre bread': 1651, 'mediocre bread hard': 7705, 'bread hard scrambled': 1584, 'hard scrambled egg': 5626, 'scrambled egg melk': 10673, 'really gross': 9746, 'staff talk': 11552, 'talk english': 12105, 'english well': 3665, 'staff talk english': 11553, 'talk english well': 12106, 'sneaky': 11250, 'hotel sneaky': 6249, 'sneaky thus': 11251, 'thus experienced': 12336, 'experienced making': 4197, 'making money': 7546, 'hotel sneaky thus': 6250, 'sneaky thus experienced': 11252, 'thus experienced making': 12337, 'experienced making money': 4198, 'conveniently': 2737, 'sdermalm': 10679, 'conveniently located': 2738, 'located sdermalm': 7106, 'sdermalm close': 10680, 'close tube': 2429, 'conveniently located sdermalm': 2739, 'located sdermalm close': 7107, 'sdermalm close tube': 10681, 'apart': 662, 'apart bed': 663, 'bed also': 1263, 'also ask': 393, 'ask big': 815, 'big bathroom': 1402, 'bathroom standard': 1158, 'room hotel': 10375, 'apart bed also': 664, 'bed also ask': 1264, 'also ask big': 394, 'ask big bathroom': 816, 'big bathroom standard': 1403, 'bathroom standard room': 1159, 'standard room hotel': 11597, 'room hotel offer': 10376, 'meeting': 7710, 'appreciate': 687, 'day number': 3018, 'number meeting': 8498, 'meeting coming': 7711, 'back appreciate': 953, 'appreciate hotel': 688, 'hotel quiet': 6200, 'quiet offered': 9588, 'offered restaurant': 8535, 'great selection': 5431, 'selection different': 10732, 'different food': 3213, 'day number meeting': 3019, 'number meeting coming': 8499, 'meeting coming back': 7712, 'coming back appreciate': 2571, 'back appreciate hotel': 954, 'appreciate hotel quiet': 689, 'hotel quiet offered': 6201, 'quiet offered restaurant': 9589, 'offered restaurant great': 8536, 'restaurant great selection': 10131, 'great selection different': 5432, 'selection different food': 10733, 'try fish': 12675, 'fish delicious': 4511, 'delicious meal': 3123, 'meal evening': 7695, 'try fish delicious': 12676, 'fish delicious meal': 4512, 'delicious meal evening': 3124, 'process': 9482, 'check alright': 2112, 'alright two': 385, 'two guest': 12729, 'guest took': 5533, 'quite time': 9632, 'time check': 12365, 'check member': 2122, 'member staff': 7729, 'staff called': 11452, 'called reception': 1854, 'reception speed': 9839, 'speed checkout': 11378, 'checkout process': 2135, 'process guest': 9483, 'check alright two': 2113, 'alright two guest': 386, 'two guest took': 12730, 'guest took quite': 5534, 'took quite time': 12465, 'quite time check': 9633, 'time check member': 12366, 'check member staff': 2123, 'member staff called': 7730, 'staff called reception': 11453, 'called reception speed': 1855, 'reception speed checkout': 9840, 'speed checkout process': 11379, 'checkout process guest': 2136, 'koln': 6738, 'centre koln': 2007, 'wellness hotel close': 13308, 'hotel close city': 5947, 'close city centre': 2393, 'city centre koln': 2226, 'possitive': 9367, 'hotel possitive': 6188, 'best place': 1346, 'stay middle': 11688, 'best place stay': 1347, 'place stay middle': 9162, 'stay middle paris': 11689, 'halle': 5575, 'hotel situated': 6245, 'paris next': 8866, 'next le': 8218, 'le halle': 6851, 'halle metro': 5576, 'metro rer': 7758, 'rer station': 10033, 'nice hotel situated': 8292, 'hotel situated middle': 6246, 'situated middle paris': 11077, 'middle paris next': 7772, 'paris next le': 8867, 'next le halle': 8219, 'le halle metro': 6852, 'halle metro rer': 5577, 'metro rer station': 7759, 'easily find': 3513, 'find connection': 4449, 'connection every': 2692, 'every tourist': 3956, 'tourist attraction': 12508, 'easily find connection': 3514, 'find connection every': 4450, 'connection every tourist': 2693, 'every tourist attraction': 3957, 'notre': 8475, 'dame': 2954, 'pompidou': 9262, 'seine': 10726, 'louvre notre': 7343, 'notre dame': 8476, 'dame centre': 2955, 'centre pompidou': 2015, 'pompidou river': 9263, 'river seine': 10232, 'seine le': 10727, 'le min': 6855, 'louvre notre dame': 7344, 'notre dame centre': 8477, 'dame centre pompidou': 2956, 'centre pompidou river': 2016, 'pompidou river seine': 9264, 'river seine le': 10233, 'seine le min': 10728, 'le min walk': 6856, 'hotel many': 6129, 'many bar': 7589, 'bar pub': 1046, 'pub club': 9523, 'near hotel many': 8072, 'hotel many bar': 6130, 'many bar pub': 7590, 'bar pub club': 1047, 'disadvantage': 3277, 'fountain': 4726, 'disadvantage hotel': 3278, 'hotel noise': 6165, 'noise fountain': 8412, 'fountain situated': 4727, 'situated square': 11079, 'square next': 11423, 'disadvantage hotel noise': 3279, 'hotel noise fountain': 6166, 'noise fountain situated': 8413, 'fountain situated square': 4728, 'situated square next': 11080, 'square next hotel': 11424, 'view site': 12964, 'site quiet': 11068, 'room view site': 10509, 'view site quiet': 12965, 'equiped': 3768, 'kitchenete': 6709, 'toaster': 12432, 'electric': 3586, 'microwave': 7768, 'dishwasher': 3322, 'room equiped': 10339, 'equiped good': 3769, 'good kitchenete': 5240, 'kitchenete facility': 6710, 'facility toaster': 4287, 'toaster electric': 12433, 'electric kettle': 3587, 'kettle microwave': 6656, 'microwave dishwasher': 7769, 'hotel room equiped': 6223, 'room equiped good': 10340, 'equiped good kitchenete': 3770, 'good kitchenete facility': 5241, 'kitchenete facility toaster': 6711, 'facility toaster electric': 4288, 'toaster electric kettle': 12434, 'electric kettle microwave': 3588, 'kettle microwave dishwasher': 6657, 'holiday nice': 5791, 'week melia': 13185, 'melia hotel': 7716, 'week melia hotel': 13186, 'melia hotel enjoyed': 7717, 'amasing': 520, 'booked room': 1548, 'view view': 12969, 'view really': 12960, 'really amasing': 9719, 'booked room sea': 1549, 'sea view view': 10690, 'view view really': 12970, 'view really amasing': 12961, 'really helpfull': 9749, 'friendly felt': 4816, 'felt good': 4421, 'good everywhere': 5215, 'everywhere everybody': 4010, 'everybody always': 3959, 'always give': 495, 'give information': 5065, 'information help': 6483, 'food good staff': 4622, 'good staff really': 5316, 'staff really helpfull': 11535, 'really helpfull friendly': 9750, 'helpfull friendly felt': 5718, 'friendly felt good': 4817, 'felt good everywhere': 4422, 'good everywhere everybody': 5216, 'everywhere everybody always': 4011, 'everybody always give': 3960, 'always give information': 496, 'give information help': 5066, 'room reasonable': 10445, 'reasonable well': 9804, 'well book': 13242, 'book early': 1525, 'early discount': 3504, 'discount definitely': 3307, 'price room reasonable': 9431, 'room reasonable well': 10446, 'reasonable well book': 9805, 'well book early': 13243, 'book early discount': 1526, 'early discount definitely': 3505, 'near river': 8081, 'every thing hotel': 3953, 'thing hotel perfect': 12259, 'hotel perfect location': 6181, 'perfect location near': 9017, 'location near river': 7172, 'breakfast wonderfull': 1688, 'transfer': 12578, 'close shopping': 2418, 'restaurant transfer': 10169, 'close shopping restaurant': 2419, 'shopping restaurant transfer': 10938, 'stuff helpfull': 11890, 'immidiately': 6406, 'service immidiately': 10825, 'immidiately come': 6407, 'room clean room': 10308, 'clean room service': 2318, 'room service immidiately': 10459, 'service immidiately come': 10826, 'seashore': 10691, 'close center': 2387, 'center baku': 1959, 'baku even': 996, 'though located': 12303, 'located poor': 7104, 'poor area': 9315, 'area best': 713, 'located seashore': 7108, 'hotel location close': 6104, 'location close center': 7132, 'close center baku': 2388, 'center baku even': 1960, 'baku even though': 997, 'even though located': 3886, 'though located poor': 12304, 'located poor area': 7105, 'poor area best': 9316, 'area best hotel': 714, 'best hotel located': 1337, 'hotel located seashore': 6103, 'july': 6642, 'conditioner': 2656, 'really hot': 9751, 'hot baku': 5851, 'baku july': 998, 'july main': 6643, 'main problem': 7491, 'problem hotel': 9470, 'bad air': 978, 'air conditioner': 309, 'conditioner hardly': 2657, 'hardly working': 5635, 'really hot baku': 9752, 'hot baku july': 5852, 'baku july main': 999, 'july main problem': 6644, 'main problem hotel': 7492, 'problem hotel bad': 9471, 'hotel bad air': 5897, 'bad air conditioner': 979, 'air conditioner hardly': 310, 'conditioner hardly working': 2658, 'also cleanliness': 398, 'hotel best': 5904, 'best side': 1350, 'side carpet': 10991, 'carpet always': 1927, 'always dirty': 488, 'also cleanliness hotel': 399, 'cleanliness hotel best': 2365, 'hotel best side': 5905, 'best side carpet': 1351, 'side carpet always': 10992, 'carpet always dirty': 1928, 'azerbaijan': 948, 'liked balcony': 6962, 'balcony room': 1010, 'nice bathroom': 8244, 'bathroom necessary': 1144, 'necessary thing': 8098, 'thing good': 12256, 'good tv': 5327, 'tv lot': 12710, 'lot channel': 7263, 'channel english': 2063, 'english russian': 3657, 'russian azerbaijan': 10560, 'azerbaijan german': 949, 'liked balcony room': 6963, 'balcony room nice': 1011, 'room nice bathroom': 10414, 'nice bathroom necessary': 8245, 'bathroom necessary thing': 1145, 'necessary thing good': 8099, 'thing good tv': 12257, 'good tv lot': 5328, 'tv lot channel': 12711, 'lot channel english': 7264, 'channel english russian': 2064, 'english russian azerbaijan': 3658, 'russian azerbaijan german': 10561, 'stuff really': 11893, 'really smiling': 9770, 'smiling nice': 11233, 'nice helped': 8277, 'helped quickly': 5692, 'quickly asked': 9579, 'stuff really smiling': 11894, 'really smiling nice': 9771, 'smiling nice helped': 11234, 'nice helped quickly': 8278, 'helped quickly asked': 5693, 'hotel fantastic': 6008, 'fantastic staff': 4355, 'hotel fantastic staff': 6009, 'fantastic staff enough': 4356, 'friendly funny': 4818, 'varied': 12889, 'complex': 2626, 'vast': 12912, 'good varied': 5330, 'varied complex': 12890, 'complex vast': 2627, 'vast beautiful': 12913, 'food good varied': 4623, 'good varied complex': 5331, 'varied complex vast': 12891, 'complex vast beautiful': 2628, 'room immaculately': 10379, 'clean inclusive': 2300, 'inclusive package': 6460, 'room immaculately clean': 10380, 'immaculately clean inclusive': 6405, 'clean inclusive package': 2301, 'definitely stay': 3114, 'would definitely stay': 13516, 'smoker': 11237, 'room great': 10367, 'great separated': 5433, 'separated smoker': 10759, 'smoker family': 11238, 'room great separated': 10368, 'great separated smoker': 5434, 'separated smoker family': 10760, 'smoker family child': 11239, 'supervicion': 11977, 'control': 2725, 'result': 10186, 'client': 2370, 'apply': 681, 'finally': 4440, 'lot staff': 7301, 'member always': 7719, 'always efficient': 489, 'efficient supervicion': 3564, 'supervicion oriented': 11978, 'oriented control': 8739, 'control procedure': 2726, 'procedure instead': 9480, 'instead control': 6516, 'control result': 2728, 'result client': 10187, 'client satisfaction': 2371, 'satisfaction staff': 10605, 'member apply': 7723, 'apply strict': 682, 'strict procedure': 11867, 'procedure finally': 9478, 'finally really': 4441, 'really taking': 9776, 'taking care': 12101, 'care result': 1909, 'result responsible': 10189, 'responsible procedure': 10073, 'lot staff member': 7302, 'staff member always': 11518, 'member always efficient': 7720, 'always efficient supervicion': 490, 'efficient supervicion oriented': 3565, 'supervicion oriented control': 11979, 'oriented control procedure': 8740, 'control procedure instead': 2727, 'procedure instead control': 9481, 'instead control result': 6517, 'control result client': 2729, 'result client satisfaction': 10188, 'client satisfaction staff': 2372, 'satisfaction staff member': 10606, 'staff member apply': 11519, 'member apply strict': 7724, 'apply strict procedure': 683, 'strict procedure finally': 11868, 'procedure finally really': 9479, 'finally really taking': 4442, 'really taking care': 9777, 'taking care result': 12102, 'care result responsible': 1910, 'result responsible procedure': 10190, 'linked': 6992, 'tide': 12348, 'restricted': 10182, 'resident': 10045, 'present': 9394, 'beach activity': 1170, 'activity linked': 206, 'linked tide': 6993, 'tide hour': 12349, 'hour hour': 6303, 'hour day': 6299, 'day beach': 3001, 'beach club': 1179, 'club mainly': 2442, 'mainly restricted': 7503, 'restricted villa': 10183, 'villa resident': 12983, 'resident even': 10046, 'even present': 3880, 'beach activity linked': 1171, 'activity linked tide': 207, 'linked tide hour': 6994, 'tide hour hour': 12350, 'hour hour day': 6304, 'hour day beach': 6300, 'day beach club': 3002, 'beach club mainly': 1180, 'club mainly restricted': 2443, 'mainly restricted villa': 7504, 'restricted villa resident': 10184, 'villa resident even': 12984, 'resident even present': 10047, 'wedding': 13179, 'party': 8927, 'great overall': 5420, 'overall vacation': 8796, 'vacation part': 12878, 'part wedding': 8920, 'wedding party': 13180, 'great overall vacation': 5421, 'overall vacation part': 8797, 'vacation part wedding': 12879, 'part wedding party': 8921, 'spacious comfortable': 11337, 'spacious comfortable room': 11338, 'laid': 6754, 'expansive': 4141, 'villa nicely': 12977, 'nicely laid': 8349, 'laid across': 6755, 'across expansive': 196, 'expansive ground': 4142, 'villa nicely laid': 12978, 'nicely laid across': 8350, 'laid across expansive': 6756, 'across expansive ground': 197, 'basically': 1097, 'cruise': 2915, 'ship': 10903, 'concept': 2642, 'land': 6760, 'basically luxury': 1098, 'luxury cruise': 7422, 'cruise ship': 2916, 'ship concept': 10904, 'concept land': 2643, 'basically luxury cruise': 1099, 'luxury cruise ship': 7423, 'cruise ship concept': 2917, 'ship concept land': 10905, 'extensive': 4225, 'ground extensive': 5479, 'extensive walking': 4226, 'walking far': 13092, 'far main': 4367, 'main building': 7484, 'ground extensive walking': 5480, 'extensive walking far': 4227, 'walking far main': 13093, 'far main building': 4368, 'exercise': 4137, 'however good': 6330, 'good daily': 5200, 'daily exercise': 2942, 'however good daily': 6331, 'good daily exercise': 5201, 'cheap yet': 2103, 'yet comfy': 13590, 'comfy option': 2569, 'option day': 8712, 'day amsterdam': 2995, 'amsterdam south': 592, 'cheap yet comfy': 2104, 'yet comfy option': 13591, 'comfy option day': 2570, 'option day amsterdam': 8713, 'day amsterdam south': 2996, 'around expect': 769, 'expect amsterdam': 4145, 'area around expect': 711, 'around expect amsterdam': 770, 'however tram': 6341, 'stop le': 11827, 'le minute': 6857, 'away walking': 930, 'walking hotel': 13094, 'however tram stop': 6342, 'tram stop le': 12573, 'stop le minute': 11828, 'le minute away': 6858, 'minute away walking': 7821, 'away walking hotel': 931, 'room ok': 10419, 'ok european': 8553, 'european standard': 3855, 'hotel room ok': 6224, 'room ok european': 10420, 'ok european standard': 8554, 'american': 558, 'might small': 7777, 'small american': 11127, 'american standard': 559, 'might small american': 7778, 'small american standard': 11128, 'staff polite': 11530, 'polite speak': 9254, 'speak excellent': 11354, 'excellent english': 4050, 'clean staff polite': 2326, 'staff polite speak': 11531, 'polite speak excellent': 9255, 'speak excellent english': 11355, 'best choice': 1327, 'choice strip': 2190, 'one best choice': 8628, 'best choice strip': 1328, 'mega': 7713, '90': 117, 'one first': 8649, 'first mega': 4501, 'mega resort': 7714, 'resort strip': 10067, 'strip 90': 11871, '90 really': 118, 'really starting': 9774, 'starting show': 11627, 'show age': 10961, 'one first mega': 8650, 'first mega resort': 4502, 'mega resort strip': 7715, 'resort strip 90': 10068, 'strip 90 really': 11872, '90 really starting': 119, 'really starting show': 9775, 'starting show age': 11628, 'rate rock': 9669, 'rock low': 10243, 'low pay': 7390, 'pay get': 8955, 'rate rock low': 9670, 'rock low pay': 10244, 'low pay get': 7391, 'invited': 6583, 'stayed invited': 11747, 'invited guest': 6584, 'guest would': 5538, 'would probably': 13543, 'probably stay': 9463, 'stay pay': 11699, 'stayed invited guest': 11748, 'invited guest would': 6585, 'guest would probably': 5539, 'would probably stay': 13544, 'probably stay pay': 9464, 'selected': 10729, 'deteriorating': 3198, 'concierge': 2644, 'failure': 4303, 'recognize': 9866, 'repeated': 10015, 'newspaper': 8197, 'fall': 4309, 'fatal': 4387, 'suppose': 11987, 'bellman': 1319, 'failing': 4300, 'salute': 10585, 'room super': 10497, 'super small': 11961, 'small especially': 11140, 'especially bathroom': 3789, 'bathroom always': 1119, 'always ask': 481, 'ask high': 819, 'high floor': 5732, 'floor quite': 4567, 'quite view': 9638, 'view better': 12941, 'choice limited': 2181, 'limited well': 6978, 'well selected': 13284, 'selected personal': 10730, 'personal service': 9054, 'service deteriorating': 10795, 'deteriorating especially': 3199, 'especially concierge': 3793, 'concierge service': 2645, 'service failure': 10810, 'failure recognize': 4304, 'recognize repeated': 9867, 'repeated request': 10016, 'request french': 10023, 'french newspaper': 4780, 'newspaper instead': 8198, 'instead english': 6518, 'english beware': 3648, 'beware small': 1390, 'small step': 11177, 'step elevator': 11795, 'elevator coming': 3602, 'coming restaurant': 2574, 'restaurant fall': 10119, 'fall would': 4310, 'would fatal': 13521, 'fatal suppose': 4388, 'suppose efficient': 11988, 'staff found': 11479, 'found stay': 4722, 'stay bellman': 11660, 'bellman never': 1320, 'never failing': 8152, 'failing salute': 4301, 'salute guest': 10586, 'guest smile': 5530, 'room super small': 10498, 'super small especially': 11962, 'small especially bathroom': 11141, 'especially bathroom always': 3790, 'bathroom always ask': 1120, 'always ask high': 482, 'ask high floor': 820, 'high floor quite': 5733, 'floor quite view': 4568, 'quite view better': 9639, 'view better food': 12942, 'better food choice': 1360, 'food choice limited': 4594, 'choice limited well': 2182, 'limited well selected': 6979, 'well selected personal': 13285, 'selected personal service': 10731, 'personal service deteriorating': 9055, 'service deteriorating especially': 10796, 'deteriorating especially concierge': 3200, 'especially concierge service': 3794, 'concierge service failure': 2646, 'service failure recognize': 10811, 'failure recognize repeated': 4305, 'recognize repeated request': 9868, 'repeated request french': 10017, 'request french newspaper': 10024, 'french newspaper instead': 4781, 'newspaper instead english': 8199, 'instead english beware': 6519, 'english beware small': 3649, 'beware small step': 1391, 'small step elevator': 11178, 'step elevator coming': 11796, 'elevator coming restaurant': 3603, 'coming restaurant fall': 2575, 'restaurant fall would': 10120, 'fall would fatal': 4311, 'would fatal suppose': 13522, 'fatal suppose efficient': 4389, 'suppose efficient staff': 11989, 'efficient staff found': 3563, 'staff found stay': 11480, 'found stay bellman': 4723, 'stay bellman never': 11661, 'bellman never failing': 1321, 'never failing salute': 8153, 'failing salute guest': 4302, 'salute guest smile': 10587, 'new bed': 8178, 'bed linen': 1285, 'linen uncomfortable': 6990, 'uncomfortable smell': 12770, 'new bed linen': 8179, 'bed linen uncomfortable': 1286, 'linen uncomfortable smell': 6991, 'acceptable': 157, 'acceptable short': 158, 'short business': 10939, 'acceptable short business': 159, 'short business trip': 10940, 'pretty basic': 9395, 'pretty basic hotel': 9396, 'okay business': 8568, 'okay business trip': 8569, 'located center': 7084, 'center outskirt': 1974, 'outskirt generally': 8771, 'generally well': 5006, 'connected public': 2686, 'located center outskirt': 7085, 'center outskirt generally': 1975, 'outskirt generally well': 8772, 'generally well connected': 5007, 'well connected public': 13250, 'connected public transportation': 2687, 'touristy': 12521, 'really touristy': 9782, 'touristy area': 12522, 'area rather': 751, 'rather business': 9675, 'business residential': 1816, 'really touristy area': 9783, 'touristy area rather': 12523, 'area rather business': 752, 'rather business residential': 9676, 'breakfast standard': 1678, 'standard le': 11591, 'le find': 6847, 'find business': 4447, 'business hotel': 1808, 'breakfast standard le': 1679, 'standard le find': 11592, 'le find business': 6848, 'find business hotel': 4448, 'fi place': 4435, 'place quite': 9147, 'wi fi place': 13357, 'fi place quite': 4436, 'place quite slow': 9148, 'room generally': 10357, 'generally fine': 4998, 'fine refurbishment': 4475, 'refurbishment would': 9939, 'would good': 13527, 'room generally fine': 10358, 'generally fine refurbishment': 4999, 'fine refurbishment would': 4476, 'refurbishment would good': 9940, 'inner': 6500, 'probably biggest': 9457, 'biggest complaint': 1439, 'complaint view': 2618, 'view window': 12973, 'window inner': 13381, 'inner yard': 6501, 'probably biggest complaint': 9458, 'biggest complaint view': 1440, 'complaint view window': 2619, 'view window inner': 12974, 'window inner yard': 13382, 'pretty dark': 9400, 'room pretty dark': 10429, 'chosen': 2207, 'would chosen': 13509, 'chosen something': 2208, 'something different': 11277, 'family stay would': 4328, 'stay would chosen': 11727, 'would chosen something': 13510, 'chosen something different': 2209, 'animaters': 600, 'espaccely': 3784, 'emily': 3622, 'amel': 547, 'miss': 7850, 'awesome time': 939, 'time great': 12379, 'great animaters': 5368, 'animaters espaccely': 601, 'espaccely emily': 3785, 'emily amel': 3623, 'amel miss': 548, 'miss much': 7851, 'much fun': 8006, 'fun hotel': 4913, 'awesome time great': 940, 'time great animaters': 12380, 'great animaters espaccely': 5369, 'animaters espaccely emily': 602, 'espaccely emily amel': 3786, 'emily amel miss': 3624, 'amel miss much': 549, 'miss much fun': 7852, 'much fun hotel': 8007, 'asian': 809, 'thats': 12225, 'hotel everybody': 5998, 'everybody eat': 3961, 'eat asian': 3537, 'asian restaurant': 810, 'restaurant thats': 10165, 'thats dream': 12226, 'recommend hotel everybody': 9881, 'hotel everybody eat': 5999, 'everybody eat asian': 3962, 'eat asian restaurant': 3538, 'asian restaurant thats': 811, 'restaurant thats dream': 10166, 'thank great': 12207, 'thank great time': 12208, 'great time come': 5449, 'time come back': 12367, 'good bed': 5177, 'bed breakfast': 1267, 'good bed breakfast': 5178, 'tuscany': 12695, 'paid last': 8832, 'last minute': 6807, 'minute price': 7835, 'price thus': 9432, 'thus cheap': 12334, 'hotel extremely': 6006, 'extremely reasonable': 4246, 'reasonable compared': 9798, 'compared place': 2592, 'place stayed': 9163, 'stayed tuscany': 11763, 'paid last minute': 8833, 'last minute price': 6808, 'minute price thus': 7836, 'price thus cheap': 9433, 'thus cheap hotel': 12335, 'cheap hotel extremely': 2097, 'hotel extremely reasonable': 6007, 'extremely reasonable compared': 4247, 'reasonable compared place': 9799, 'compared place stayed': 2593, 'place stayed tuscany': 9164, 'name': 8049, 'nothing grand': 8461, 'grand except': 5358, 'except name': 4115, 'name hotel': 8050, 'nothing grand except': 8462, 'grand except name': 5359, 'except name hotel': 4116, 'foyer': 4729, 'beautiful foyer': 1230, 'foyer staff': 4730, 'beautiful foyer staff': 1231, 'foyer staff helpful': 4731, 'bland': 1484, 'bland dark': 1485, 'dark little': 2972, 'little shabby': 7038, 'bland dark little': 1486, 'dark little shabby': 2973, '2nd': 78, 'backing': 973, 'alley': 342, '2nd floor': 79, 'floor backing': 4556, 'backing delivery': 974, 'delivery alley': 3136, 'alley bar': 343, '2nd floor backing': 80, 'floor backing delivery': 4557, 'backing delivery alley': 975, 'delivery alley bar': 3137, 'extreme': 4236, 'noisy extreme': 8425, 'housekeeping': 6320, 'frequent': 4784, 'housekeeping frequent': 6321, 'enough plenty': 3722, 'plenty hot': 9220, 'hot water': 5860, 'clean enough plenty': 2281, 'enough plenty hot': 3723, 'plenty hot water': 9221, 'urine': 12837, 'though toilet': 12309, 'toilet smelt': 12443, 'smelt strongly': 11221, 'strongly urine': 11883, 'though toilet smelt': 12310, 'toilet smelt strongly': 12444, 'smelt strongly urine': 11222, 'tag': 12078, 'ridiculous': 10211, 'cannot speak': 1882, 'speak room': 11358, 'room available': 10284, 'available give': 895, 'give star': 5073, 'star tag': 11616, 'tag ridiculous': 12079, 'cannot speak room': 1883, 'speak room available': 11359, 'room available give': 10285, 'available give star': 896, 'give star tag': 5074, 'star tag ridiculous': 11617, 'environment first': 3766, 'first stay': 4505, 'stay trier': 11719, 'trier would': 12645, 'like come': 6921, 'back family': 959, 'attractive environment first': 886, 'environment first stay': 3767, 'first stay trier': 4506, 'stay trier would': 11720, 'trier would like': 12646, 'would like come': 13530, 'like come back': 6922, 'come back family': 2506, 'courteous': 2866, 'friendly courteous': 4808, 'staff friendly courteous': 11483, 'looking cheap': 7247, 'cheap hostel': 2094, 'hostel centre': 5842, 'madrid need': 7467, 'need service': 8117, 'service worth': 10850, 'worth trying': 13500, 'looking cheap hostel': 7248, 'cheap hostel centre': 2095, 'hostel centre madrid': 5843, 'centre madrid need': 2010, 'madrid need service': 7468, 'need service worth': 8118, 'service worth trying': 10851, 'anyway chance': 653, 'chance breakfast': 2055, 'breakfast restaurant': 1667, 'anyway chance breakfast': 654, 'chance breakfast restaurant': 2056, 'breakfast restaurant hotel': 1668, 'placement': 9174, 'sol': 11262, 'hand big': 5585, 'big advantage': 1398, 'advantage hostel': 255, 'hostel placement': 5844, 'placement centre': 9175, 'madrid walking': 7471, 'distance sol': 3349, 'sol gran': 11263, 'via etc': 12926, 'etc would': 3836, 'recommend hostel': 9878, 'hostel short': 5846, 'hand big advantage': 5586, 'big advantage hostel': 1399, 'advantage hostel placement': 256, 'hostel placement centre': 5845, 'placement centre madrid': 9176, 'centre madrid walking': 2011, 'madrid walking distance': 7472, 'walking distance sol': 13088, 'distance sol gran': 3350, 'sol gran via': 11264, 'gran via etc': 5356, 'via etc would': 12927, 'etc would recommend': 3837, 'would recommend hostel': 13547, 'recommend hostel short': 9879, 'hostel short stay': 5847, 'short stay city': 10949, '4years': 95, '18': 40, 'lived': 7043, 'guess': 5507, 'say hotel': 10643, 'hotel last': 6088, 'last 4years': 6803, '4years hotel': 96, 'hotel dated': 5966, 'dated staff': 2988, 'good ever': 5211, 'ever vegetarian': 3919, 'vegetarian night': 12919, 'night week': 8386, 'week fish': 13183, 'fish night': 4515, 'night eat': 8366, 'eat several': 3545, 'several friend': 10867, 'friend come': 4792, 'hotel kid': 6079, 'kid age': 6673, 'age 18': 286, '18 lived': 41, 'lived entertainment': 7044, 'entertainment fantastic': 3745, 'fantastic job': 4347, 'job work': 6638, 'work really': 13443, 'really hard': 9747, 'hard make': 5623, 'make hotel': 7528, 'hotel fun': 6029, 'fun place': 4914, 'place guess': 9141, 'guess way': 5508, 'way keep': 13162, 'say hotel last': 10644, 'hotel last 4years': 6089, 'last 4years hotel': 6804, '4years hotel dated': 97, 'hotel dated staff': 5967, 'dated staff great': 2989, 'staff great food': 11498, 'great food good': 5390, 'food good ever': 4618, 'good ever vegetarian': 5212, 'ever vegetarian night': 3920, 'vegetarian night week': 12920, 'night week fish': 8387, 'week fish night': 13184, 'fish night eat': 4516, 'night eat several': 8367, 'eat several friend': 3546, 'several friend come': 10868, 'friend come hotel': 4793, 'come hotel kid': 2515, 'hotel kid age': 6080, 'kid age 18': 6674, 'age 18 lived': 287, '18 lived entertainment': 42, 'lived entertainment fantastic': 7045, 'entertainment fantastic job': 3746, 'fantastic job work': 4348, 'job work really': 6639, 'work really hard': 13444, 'really hard make': 9748, 'hard make hotel': 5624, 'make hotel fun': 7529, 'hotel fun place': 6030, 'fun place guess': 4915, 'place guess way': 9142, 'guess way keep': 5509, 'way keep coming': 13163, 'exspectations': 4220, 'exspectations use': 4221, 'use everything': 12839, 'exspectations use everything': 4222, 'use everything ok': 12840, 'near beach': 8068, 'climation': 2373, 'room climation': 10316, 'good room climation': 5299, 'italien': 6609, 'chaos': 2066, 'balcony italien': 1008, 'italien tv': 6610, 'tv german': 12706, 'german english': 5018, 'english parking': 3655, 'parking situation': 8902, 'situation little': 11081, 'little chaos': 7019, 'chaos always': 2067, 'always find': 493, 'find place': 4459, 'place service': 9155, 'service breakfast': 10791, 'thing eat': 12246, 'eat loud': 3543, 'loud weekend': 7322, 'weekend event': 13198, 'event outside': 3905, 'balcony italien tv': 1009, 'italien tv german': 6611, 'tv german english': 12707, 'german english parking': 5019, 'english parking situation': 3656, 'parking situation little': 8903, 'situation little chaos': 11082, 'little chaos always': 7020, 'chaos always find': 2068, 'always find place': 494, 'find place service': 4460, 'place service breakfast': 9156, 'service breakfast bad': 10792, 'breakfast bad thing': 1605, 'bad thing eat': 989, 'thing eat loud': 12247, 'eat loud weekend': 3544, 'loud weekend event': 7323, 'weekend event outside': 13199, 'pleasant stay hotel': 9209, 'surroundings park': 12031, 'park around': 8871, 'surroundings park around': 12032, 'park around hotel': 8872, 'around hotel nice': 775, 'also staff': 436, 'hotel helpful': 6056, 'also staff hotel': 437, 'staff hotel helpful': 11506, 'hotel helpful friendly': 6057, 'food friendly': 4616, 'perfect holiday good': 9014, 'holiday good food': 5780, 'good food friendly': 5220, 'food friendly staff': 4617, 'enjoyed much': 3696, 'perfect enjoyed': 9012, 'enjoyed leisure': 3693, 'food good location': 4620, 'good location hotel': 5250, 'location hotel perfect': 7162, 'hotel perfect enjoyed': 6180, 'perfect enjoyed leisure': 9013, 'enjoyed leisure activity': 3694, 'tyson': 12753, 'kristina': 6739, 'emeli': 3619, 'denis': 3140, 'sasha tyson': 10597, 'tyson kristina': 12754, 'kristina emeli': 6740, 'emeli denis': 3620, 'denis friendly': 3141, 'sasha tyson kristina': 10598, 'tyson kristina emeli': 12755, 'kristina emeli denis': 6741, 'emeli denis friendly': 3621, 'denis friendly staff': 3142, 'love resort': 7349, 'really complain': 9727, 'complain anything': 2604, 'really complain anything': 9728, 'excellent like': 4065, 'visit resort': 13016, 'everything excellent like': 3985, 'excellent like visit': 4066, 'like visit resort': 6961, 'friendly always': 4797, 'ready help': 9704, 'help little': 5675, 'little difficult': 7022, 'difficult talk': 3224, 'talk okay': 12107, 'staff friendly always': 11481, 'friendly always ready': 4798, 'always ready help': 510, 'ready help little': 9705, 'help little difficult': 5676, 'little difficult talk': 7023, 'difficult talk okay': 3225, 'favorite': 4391, 'think new': 12284, 'new favorite': 8184, 'favorite place': 4392, 'place go': 9135, 'go vacation': 5122, 'vacation everything': 12871, 'think new favorite': 12285, 'new favorite place': 8185, 'favorite place go': 4393, 'place go vacation': 9136, 'go vacation everything': 5123, 'vacation everything perfect': 12872, '2000': 57, 'silly': 11032, 'band': 1017, 'day age': 2993, 'age charge': 288, 'charge euro': 2072, 'euro 2000': 3842, '2000 wi': 58, 'fi day': 4429, 'day silly': 3028, 'silly low': 11033, 'low band': 7384, 'band free': 1018, 'free room': 4764, 'day age charge': 2994, 'age charge euro': 289, 'charge euro 2000': 2073, 'euro 2000 wi': 3843, '2000 wi fi': 59, 'wi fi day': 13354, 'fi day silly': 4430, 'day silly low': 3029, 'silly low band': 11034, 'low band free': 7385, 'band free room': 1019, 'relaxing friendly': 9964, 'although hotel': 469, 'hotel renovation': 6219, 'renovation visit': 10008, 'visit friendly': 13006, 'friendly comfortable': 4805, 'although hotel renovation': 470, 'hotel renovation visit': 6220, 'renovation visit friendly': 10009, 'visit friendly comfortable': 13007, 'dec': 3059, 'nov': 8481, 'forward back': 4693, 'back dec': 957, 'dec renovation': 3060, 'renovation completed': 10006, 'completed beginning': 2621, 'beginning nov': 1306, 'nov excellent': 8482, 'excellent spot': 4088, 'spot brilliant': 11407, 'looking forward back': 7249, 'forward back dec': 4694, 'back dec renovation': 958, 'dec renovation completed': 3061, 'renovation completed beginning': 10007, 'completed beginning nov': 2622, 'beginning nov excellent': 1307, 'nov excellent spot': 8483, 'excellent spot brilliant': 4089, 'spot brilliant holiday': 11408, 'vacationd': 12880, 'excellent vacationd': 4099, 'vacationd honeymoon': 12881, 'excellent vacationd honeymoon': 4100, 'vacation ever': 12870, 'best vacation ever': 1354, 'great kindness': 5410, 'delicious smiling': 3127, 'smiling face': 11231, 'face around': 4263, 'everything great kindness': 3989, 'great kindness staff': 5411, 'kindness staff food': 6704, 'staff food delicious': 11476, 'food delicious smiling': 4601, 'delicious smiling face': 3128, 'smiling face around': 11232, 'wonderfull time': 13426, 'time fun': 12375, 'fun time': 4916, 'wonderfull time fun': 13427, 'time fun time': 12376, 'overpriced': 8809, 'overpriced service': 8810, 'alone': 361, 'purpose': 9533, 'traveling alone': 12603, 'alone business': 362, 'business purpose': 1814, 'purpose hotel': 9534, 'hotel convenient': 5960, 'convenient next': 2735, 'next convention': 8204, 'center next': 1970, 'next subway': 8222, 'traveling alone business': 12604, 'alone business purpose': 363, 'business purpose hotel': 1815, 'purpose hotel convenient': 9535, 'hotel convenient next': 5961, 'convenient next convention': 2736, 'next convention center': 8205, 'convention center next': 2740, 'center next subway': 1971, 'next subway station': 8223, 'otherwise would': 8753, 'stay somewhere': 11707, 'otherwise would stay': 8754, 'would stay somewhere': 13553, 'stay somewhere else': 11708, 'simple hotel': 11040, 'small little': 11152, 'little table': 7041, 'table also': 12067, 'also use': 444, 'use desk': 12838, 'simple hotel room': 11041, 'hotel room small': 6226, 'room small little': 10468, 'small little table': 11153, 'little table also': 7042, 'table also use': 12068, 'also use desk': 445, 'area residential': 753, 'residential many': 10048, 'many shopping': 7609, 'shopping dining': 10928, 'area residential many': 754, 'residential many shopping': 10049, 'many shopping dining': 7610, 'shopping dining option': 10929, 'dining option around': 3239, 'refrigerator': 9923, 'refrigerator room': 9924, 'food bar': 4581, 'refrigerator room food': 9925, 'room food bar': 10349, 'city good': 2237, 'city good food': 2238, 'laying': 6839, 'hotel laying': 6090, 'laying real': 6840, 'center lyon': 1964, 'lyon old': 7431, 'old part': 8605, 'part town': 8916, 'town around': 12542, 'hotel laying real': 6091, 'laying real center': 6841, 'real center lyon': 9707, 'center lyon old': 1965, 'lyon old part': 7432, 'old part town': 8606, 'part town around': 8917, 'excusive': 4126, 'cloth': 2437, 'boutique': 1569, 'antic': 641, 'funiture': 4924, 'afew': 276, 'ia': 6377, 'leg': 6888, 'close lot': 2406, 'lot narrow': 7289, 'narrow old': 8054, 'old street': 8607, 'street shopping': 11855, 'shopping kind': 10931, 'kind also': 6683, 'also find': 410, 'find excusive': 4451, 'excusive cloth': 4127, 'cloth boutique': 2438, 'boutique antic': 1570, 'antic shop': 642, 'shop book': 10911, 'book funiture': 1527, 'funiture etc': 4925, 'etc afew': 3823, 'afew block': 277, 'block away': 1490, 'away ia': 924, 'ia also': 6378, 'also large': 419, 'large walking': 6794, 'walking street': 13097, 'restaurant every': 10115, 'every corner': 3930, 'corner find': 2763, 'find bar': 4445, 'bar sit': 1054, 'sit rest': 11064, 'rest leg': 10084, 'leg cool': 6889, 'cool drink': 2751, 'close lot narrow': 2407, 'lot narrow old': 7290, 'narrow old street': 8055, 'old street shopping': 8608, 'street shopping kind': 11856, 'shopping kind also': 10932, 'kind also find': 6684, 'also find excusive': 411, 'find excusive cloth': 4452, 'excusive cloth boutique': 4128, 'cloth boutique antic': 2439, 'boutique antic shop': 1571, 'antic shop book': 643, 'shop book funiture': 10912, 'book funiture etc': 1528, 'funiture etc afew': 4926, 'etc afew block': 3824, 'afew block away': 278, 'block away ia': 1491, 'away ia also': 925, 'ia also large': 6379, 'also large walking': 420, 'large walking street': 6795, 'walking street shopping': 13098, 'street shopping restaurant': 11857, 'shopping restaurant every': 10937, 'restaurant every corner': 10116, 'every corner find': 3931, 'corner find bar': 2764, 'find bar sit': 4446, 'bar sit rest': 1055, 'sit rest leg': 11065, 'rest leg cool': 10085, 'leg cool drink': 6890, 'advertised': 261, 'advertised free': 262, 'advertised free parking': 263, 'confirmation state': 2674, 'state free': 11631, 'hotel honor': 6060, 'confirmation state free': 2675, 'state free parking': 11632, 'parking hotel honor': 8891, 'scam': 10652, '12 euro': 21, 'per hour': 8998, 'hour scam': 6311, '12 euro per': 22, 'euro per hour': 3849, 'per hour scam': 8999, 'excellent holiday': 4061, 'holiday excellent': 5776, 'excellent holiday excellent': 4062, 'holiday excellent staff': 5777, 'gent': 5012, 'efficiently': 3566, 'disappointed travel': 3283, 'travel gent': 12596, 'gent made': 5013, 'mistake booking': 7862, 'manager sorted': 7584, 'sorted efficiently': 11288, 'disappointed travel gent': 3284, 'travel gent made': 12597, 'gent made mistake': 5014, 'made mistake booking': 7451, 'mistake booking hotel': 7863, 'booking hotel manager': 1552, 'hotel manager sorted': 6128, 'manager sorted efficiently': 7585, 'wonderful could': 13417, 'could welcoming': 2823, 'welcoming helpful': 13233, 'staff wonderful could': 11571, 'wonderful could welcoming': 13418, 'could welcoming helpful': 2824, 'thrown': 12329, 'russian tourist': 10570, 'tourist guest': 12509, 'guest german': 5517, 'german thrown': 5022, 'thrown would': 12330, 'definitely return': 3112, 'future could': 4945, 'could fault': 2798, 'fault anything': 4390, 'mainly russian tourist': 7506, 'russian tourist guest': 10571, 'tourist guest german': 12510, 'guest german thrown': 5518, 'german thrown would': 5023, 'thrown would definitely': 12331, 'would definitely return': 13515, 'definitely return hotel': 3113, 'return hotel future': 10196, 'hotel future could': 6031, 'future could fault': 4946, 'could fault anything': 2799, 'anywhere': 659, 'bonus': 1524, 'variety offer': 12906, 'offer dine': 8522, 'dine anywhere': 3235, 'anywhere seven': 660, 'seven different': 10861, 'different dining': 3211, 'dining room': 3241, 'room resort': 10449, 'resort bonus': 10054, 'food variety offer': 4671, 'variety offer dine': 12907, 'offer dine anywhere': 8523, 'dine anywhere seven': 3236, 'anywhere seven different': 661, 'seven different dining': 10862, 'different dining room': 3212, 'dining room resort': 3242, 'room resort bonus': 10450, 'met': 7748, 'money really': 7924, 'stay well': 11723, 'well done': 13251, 'done staff': 3382, 'staff met': 11521, 'definitely worth money': 3115, 'worth money really': 13493, 'money really enjoyed': 7925, 'enjoyed stay well': 3700, 'stay well done': 11724, 'well done staff': 13252, 'done staff met': 3383, 'horrible hotel': 5833, 'port': 9337, 'vieuz': 12938, 'next city': 8202, 'center port': 1978, 'port vieuz': 9338, 'next city center': 8203, 'city center port': 2221, 'center port vieuz': 1979, 'owner speak': 8814, 'speak english': 11353, 'owner speak english': 8815, 'recieve': 9861, 'recieve bill': 9862, 'winows': 13389, 'room loud': 10399, 'loud old': 7316, 'old winows': 8613, 'room loud old': 10400, 'loud old winows': 7317, 'bug': 1748, 'th': 12202, 'room dirty': 10333, 'dirty bug': 3262, 'bug running': 1749, 'running th': 10553, 'th floor': 12203, 'room dirty bug': 10334, 'dirty bug running': 3263, 'bug running th': 1750, 'running th floor': 10554, 'recieved': 9863, 'bath clean': 1103, 'clean recieved': 2314, 'recieved room': 9864, 'room empty': 10335, 'empty shower': 3639, 'shower bottle': 10969, 'bottle guest': 1565, 'guest shower': 5529, 'bath clean recieved': 1104, 'clean recieved room': 2315, 'recieved room empty': 9865, 'room empty shower': 10336, 'empty shower bottle': 3640, 'shower bottle guest': 10970, 'bottle guest shower': 1566}\n"
     ]
    }
   ],
   "source": [
    "#getting Vocablary of tf-idf\n",
    "print(tv.vocabulary_)"
   ]
  },
  {
   "cell_type": "markdown",
   "metadata": {},
   "source": [
    "## Labelling the sentiment"
   ]
  },
  {
   "cell_type": "code",
   "execution_count": 152,
   "metadata": {},
   "outputs": [
    {
     "name": "stdout",
     "output_type": "stream",
     "text": [
      "(1400, 1)\n"
     ]
    }
   ],
   "source": [
    "#Labelling the sentiment analysis\n",
    "lb=LabelBinarizer()\n",
    "sentiment_data=lb.fit_transform(df_lemm['Polarity'])\n",
    "print(sentiment_data.shape)"
   ]
  },
  {
   "cell_type": "code",
   "execution_count": 153,
   "metadata": {},
   "outputs": [
    {
     "name": "stdout",
     "output_type": "stream",
     "text": [
      "[[1]\n",
      " [1]\n",
      " [1]\n",
      " ...\n",
      " [0]\n",
      " [0]\n",
      " [0]]\n",
      "[[0]\n",
      " [0]\n",
      " [0]\n",
      " [1]\n",
      " [1]\n",
      " [1]\n",
      " [0]\n",
      " [1]\n",
      " [1]\n",
      " [1]\n",
      " [1]\n",
      " [1]\n",
      " [1]\n",
      " [1]\n",
      " [1]\n",
      " [1]\n",
      " [1]\n",
      " [1]\n",
      " [1]\n",
      " [1]\n",
      " [1]\n",
      " [1]\n",
      " [1]\n",
      " [1]\n",
      " [1]\n",
      " [0]\n",
      " [1]\n",
      " [1]\n",
      " [1]\n",
      " [1]\n",
      " [1]\n",
      " [0]\n",
      " [1]\n",
      " [1]\n",
      " [0]\n",
      " [1]\n",
      " [1]\n",
      " [1]\n",
      " [0]\n",
      " [0]\n",
      " [0]\n",
      " [0]\n",
      " [0]\n",
      " [0]\n",
      " [1]\n",
      " [1]\n",
      " [1]\n",
      " [1]\n",
      " [1]\n",
      " [1]]\n"
     ]
    }
   ],
   "source": [
    "#Spliting the sentiment data\n",
    "train_sentiments=sentiment_data[:1350]\n",
    "test_sentiments=sentiment_data[1350:]\n",
    "print(train_sentiments)\n",
    "print(test_sentiments)"
   ]
  },
  {
   "cell_type": "markdown",
   "metadata": {},
   "source": [
    "## Logistic Regression"
   ]
  },
  {
   "cell_type": "code",
   "execution_count": 154,
   "metadata": {},
   "outputs": [
    {
     "name": "stdout",
     "output_type": "stream",
     "text": [
      "LogisticRegression(random_state=42)\n",
      "LogisticRegression(random_state=42)\n"
     ]
    }
   ],
   "source": [
    "## Logistic Regression\n",
    "lr=LogisticRegression(penalty='l2',max_iter=100,random_state=42)\n",
    "#Fitting the model for Bag of words\n",
    "lr_bow=lr.fit(cv_train_reviews,np.ravel(train_sentiments))\n",
    "print(lr_bow)\n",
    "\n",
    "lr_tfidf = lr.fit(tv_train_reviews,np.ravel(train_sentiments))\n",
    "print(lr_tfidf)"
   ]
  },
  {
   "cell_type": "code",
   "execution_count": 155,
   "metadata": {},
   "outputs": [
    {
     "name": "stdout",
     "output_type": "stream",
     "text": [
      "[1 1 1 1 1 1 1 1 1 1 1 1 1 1 1 1 1 1 1 1 1 1 1 1 1 1 1 1 1 1 1 1 1 1 1 1 1\n",
      " 1 1 1 1 1 1 1 1 1 1 1 1 1]\n",
      "[1 1 1 1 1 1 1 1 1 1 1 1 1 1 1 1 1 1 1 1 1 1 1 1 1 1 1 1 1 1 1 1 1 1 1 1 1\n",
      " 1 1 1 1 1 1 1 1 1 1 1 1 1]\n"
     ]
    }
   ],
   "source": [
    "#Predicting the model for bag of words\n",
    "lr_bow_predict=lr_bow.predict(cv_test_reviews)\n",
    "print(lr_bow_predict)\n",
    "\n",
    "#predicting the model for tf-idf\n",
    "lr_tfidf_predict = lr_tfidf.predict(tv_test_reviews)\n",
    "print(lr_tfidf_predict)"
   ]
  },
  {
   "cell_type": "code",
   "execution_count": 156,
   "metadata": {},
   "outputs": [
    {
     "name": "stdout",
     "output_type": "stream",
     "text": [
      "lr_bow_score : 0.74\n",
      "lr_tfidf_score : 0.74\n"
     ]
    }
   ],
   "source": [
    "#accuracy score for bow features\n",
    "lr_bow_score=accuracy_score(test_sentiments,lr_bow_predict)\n",
    "print(\"lr_bow_score :\",lr_bow_score)\n",
    "\n",
    "#Accuracy score for tfidf features\n",
    "lr_tfidf_score=accuracy_score(test_sentiments,lr_tfidf_predict)\n",
    "print(\"lr_tfidf_score :\",lr_tfidf_score)"
   ]
  },
  {
   "cell_type": "code",
   "execution_count": 43,
   "metadata": {},
   "outputs": [
    {
     "name": "stdout",
     "output_type": "stream",
     "text": [
      "[[37  0]\n",
      " [13  0]]\n",
      "[[37  0]\n",
      " [13  0]]\n"
     ]
    }
   ],
   "source": [
    "#confusion matrix for bag of words\n",
    "lr_cm_bow=confusion_matrix(test_sentiments,lr_bow_predict,labels=[1,0])\n",
    "print(lr_cm_bow)\n",
    "\n",
    "#confusion matrix for tfidf features\n",
    "lr_cm_tfidf=confusion_matrix(test_sentiments,lr_tfidf_predict,labels=[1,0])\n",
    "print(lr_cm_tfidf)"
   ]
  },
  {
   "cell_type": "code",
   "execution_count": 157,
   "metadata": {},
   "outputs": [
    {
     "data": {
      "text/plain": [
       "(array([0.5, 1.5]), [Text(0, 0.5, '0'), Text(0, 1.5, '1')])"
      ]
     },
     "execution_count": 157,
     "metadata": {},
     "output_type": "execute_result"
    },
    {
     "data": {
      "image/png": "[encoded data removed]",
      "text/plain": [
       "<Figure size 432x288 with 1 Axes>"
      ]
     },
     "metadata": {
      "needs_background": "light"
     },
     "output_type": "display_data"
    }
   ],
   "source": [
    "classes = np.unique(test_sentiments)\n",
    "fig, ax = plt.subplots()\n",
    "sns.heatmap(lr_cm_bow, annot=True, fmt='d', ax=ax, cmap=plt.cm.Blues, \n",
    "            cbar=False)\n",
    "ax.set(xlabel=\"Pred\", ylabel=\"True\", xticklabels=classes, \n",
    "       yticklabels=classes, title=\"Confusion matrix\")\n",
    "plt.yticks(rotation=0)"
   ]
  },
  {
   "cell_type": "code",
   "execution_count": 44,
   "metadata": {},
   "outputs": [],
   "source": [
    "result ={} \n",
    "result[\"Logistic Regression BOW\"] =lr_bow_score\n",
    "result[\"Logistic Regression TFidf\"] =lr_tfidf_score"
   ]
  },
  {
   "cell_type": "code",
   "execution_count": 50,
   "metadata": {},
   "outputs": [
    {
     "name": "stdout",
     "output_type": "stream",
     "text": [
      "              precision    recall  f1-score   support\n",
      "\n",
      "           1       0.74      1.00      0.85        37\n",
      "           0       0.00      0.00      0.00        13\n",
      "\n",
      "    accuracy                           0.74        50\n",
      "   macro avg       0.37      0.50      0.43        50\n",
      "weighted avg       0.55      0.74      0.63        50\n",
      "\n"
     ]
    }
   ],
   "source": [
    "from sklearn.metrics import classification_report\n",
    "print(classification_report(test_sentiments,lr_tfidf_predict,labels=[1,0]))"
   ]
  },
  {
   "cell_type": "markdown",
   "metadata": {},
   "source": [
    "### Stocastic gradient decent "
   ]
  },
  {
   "cell_type": "code",
   "execution_count": 55,
   "metadata": {},
   "outputs": [
    {
     "name": "stdout",
     "output_type": "stream",
     "text": [
      "SGDClassifier(max_iter=500, random_state=42)\n",
      "SGDClassifier(max_iter=500, random_state=42)\n"
     ]
    }
   ],
   "source": [
    "#training the linear svm\n",
    "svm=SGDClassifier(loss='hinge',max_iter=500,random_state=42)\n",
    "#fitting the svm for bag of words\n",
    "svm_bow=svm.fit(cv_train_reviews,np.ravel(train_sentiments))\n",
    "print(svm_bow)\n",
    "\n",
    "#fitting the svm for tfidf features\n",
    "svm_tfidf=svm.fit(tv_train_reviews,np.ravel(train_sentiments))\n",
    "print(svm_tfidf)"
   ]
  },
  {
   "cell_type": "code",
   "execution_count": 56,
   "metadata": {},
   "outputs": [
    {
     "name": "stdout",
     "output_type": "stream",
     "text": [
      "[1 1 1 1 1 1 0 1 1 1 1 1 1 1 1 1 1 1 1 1 1 1 1 1 1 1 1 1 1 1 1 1 1 1 1 1 1\n",
      " 1 1 1 1 1 1 1 1 1 1 1 1 1]\n",
      "[1 1 1 1 1 1 0 1 1 1 1 1 1 1 1 1 1 1 1 1 1 1 1 1 1 1 1 1 1 1 1 1 1 1 1 1 1\n",
      " 1 1 1 1 1 1 1 1 1 1 1 1 1]\n"
     ]
    }
   ],
   "source": [
    "#Predicting the model for bag of words\n",
    "svm_bow_predict=svm.predict(cv_test_reviews)\n",
    "print(svm_bow_predict)\n",
    "\n",
    "#Predicting the model for tfidf features\n",
    "svm_tfidf_predict=svm.predict(tv_test_reviews)\n",
    "print(svm_tfidf_predict)"
   ]
  },
  {
   "cell_type": "code",
   "execution_count": 57,
   "metadata": {},
   "outputs": [
    {
     "name": "stdout",
     "output_type": "stream",
     "text": [
      "svm_bow_score : 0.76\n",
      "svm_tfidf_score : 0.76\n"
     ]
    }
   ],
   "source": [
    "#Accuracy score for bag of words\n",
    "svm_bow_score=accuracy_score(test_sentiments,svm_bow_predict)\n",
    "print(\"svm_bow_score :\",svm_bow_score)\n",
    "\n",
    "#Accuracy score for tfidf features\n",
    "svm_tfidf_score=accuracy_score(test_sentiments,svm_tfidf_predict)\n",
    "print(\"svm_tfidf_score :\",svm_tfidf_score)"
   ]
  },
  {
   "cell_type": "code",
   "execution_count": 58,
   "metadata": {},
   "outputs": [
    {
     "ename": "NameError",
     "evalue": "name 'cm_bow' is not defined",
     "output_type": "error",
     "traceback": [
      "\u001b[1;31m---------------------------------------------------------------------------\u001b[0m",
      "\u001b[1;31mNameError\u001b[0m                                 Traceback (most recent call last)",
      "\u001b[1;32m<ipython-input-58-1728295c06ff>\u001b[0m in \u001b[0;36m<module>\u001b[1;34m\u001b[0m\n\u001b[0;32m      1\u001b[0m \u001b[1;31m#confusion matrix for bag of words\u001b[0m\u001b[1;33m\u001b[0m\u001b[1;33m\u001b[0m\u001b[1;33m\u001b[0m\u001b[0m\n\u001b[0;32m      2\u001b[0m \u001b[0msgd_cm_bow\u001b[0m\u001b[1;33m=\u001b[0m\u001b[0mconfusion_matrix\u001b[0m\u001b[1;33m(\u001b[0m\u001b[0mtest_sentiments\u001b[0m\u001b[1;33m,\u001b[0m\u001b[0msvm_bow_predict\u001b[0m\u001b[1;33m,\u001b[0m\u001b[0mlabels\u001b[0m\u001b[1;33m=\u001b[0m\u001b[1;33m[\u001b[0m\u001b[1;36m1\u001b[0m\u001b[1;33m,\u001b[0m\u001b[1;36m0\u001b[0m\u001b[1;33m]\u001b[0m\u001b[1;33m)\u001b[0m\u001b[1;33m\u001b[0m\u001b[1;33m\u001b[0m\u001b[0m\n\u001b[1;32m----> 3\u001b[1;33m \u001b[0mprint\u001b[0m\u001b[1;33m(\u001b[0m\u001b[0mcm_bow\u001b[0m\u001b[1;33m)\u001b[0m\u001b[1;33m\u001b[0m\u001b[1;33m\u001b[0m\u001b[0m\n\u001b[0m\u001b[0;32m      4\u001b[0m \u001b[1;31m#confusion matrix for tfidf features\u001b[0m\u001b[1;33m\u001b[0m\u001b[1;33m\u001b[0m\u001b[1;33m\u001b[0m\u001b[0m\n\u001b[0;32m      5\u001b[0m \u001b[0msgd_cm_tfidf\u001b[0m\u001b[1;33m=\u001b[0m\u001b[0mconfusion_matrix\u001b[0m\u001b[1;33m(\u001b[0m\u001b[0mtest_sentiments\u001b[0m\u001b[1;33m,\u001b[0m\u001b[0msvm_tfidf_predict\u001b[0m\u001b[1;33m,\u001b[0m\u001b[0mlabels\u001b[0m\u001b[1;33m=\u001b[0m\u001b[1;33m[\u001b[0m\u001b[1;36m1\u001b[0m\u001b[1;33m,\u001b[0m\u001b[1;36m0\u001b[0m\u001b[1;33m]\u001b[0m\u001b[1;33m)\u001b[0m\u001b[1;33m\u001b[0m\u001b[1;33m\u001b[0m\u001b[0m\n",
      "\u001b[1;31mNameError\u001b[0m: name 'cm_bow' is not defined"
     ]
    }
   ],
   "source": [
    "#confusion matrix for bag of words\n",
    "sgd_cm_bow=confusion_matrix(test_sentiments,svm_bow_predict,labels=[1,0])\n",
    "print(cm_bow)\n",
    "#confusion matrix for tfidf features\n",
    "sgd_cm_tfidf=confusion_matrix(test_sentiments,svm_tfidf_predict,labels=[1,0])\n",
    "print(cm_tfidf)"
   ]
  },
  {
   "cell_type": "code",
   "execution_count": 59,
   "metadata": {},
   "outputs": [
    {
     "data": {
      "text/plain": [
       "(array([0.5, 1.5]), [Text(0, 0.5, '0'), Text(0, 1.5, '1')])"
      ]
     },
     "execution_count": 59,
     "metadata": {},
     "output_type": "execute_result"
    },
    {
     "data": {
      "image/png": "[encoded data removed]",
      "text/plain": [
       "<Figure size 432x288 with 1 Axes>"
      ]
     },
     "metadata": {
      "needs_background": "light"
     },
     "output_type": "display_data"
    }
   ],
   "source": [
    "classes = np.unique(test_sentiments)\n",
    "fig, ax = plt.subplots()\n",
    "sns.heatmap(sgd_cm_bow, annot=True, fmt='d', ax=ax, cmap=plt.cm.Blues, \n",
    "            cbar=False)\n",
    "ax.set(xlabel=\"Pred\", ylabel=\"True\", xticklabels=classes, \n",
    "       yticklabels=classes, title=\"Confusion matrix\")\n",
    "plt.yticks(rotation=0)"
   ]
  },
  {
   "cell_type": "code",
   "execution_count": 60,
   "metadata": {},
   "outputs": [],
   "source": [
    "result[\"SGD BOW\"] =svm_bow_score\n",
    "result[\"SGD TF-IDF\"] =svm_tfidf_score"
   ]
  },
  {
   "cell_type": "markdown",
   "metadata": {},
   "source": [
    "## Naive Bayes"
   ]
  },
  {
   "cell_type": "code",
   "execution_count": 61,
   "metadata": {},
   "outputs": [],
   "source": [
    "from sklearn.naive_bayes import GaussianNB\n",
    "nb = GaussianNB()"
   ]
  },
  {
   "cell_type": "code",
   "execution_count": 62,
   "metadata": {},
   "outputs": [],
   "source": [
    "#fitting naive model for bow\n",
    "nb_bow = nb.fit(cv_train_reviews.toarray(),np.ravel(train_sentiments))\n",
    "\n",
    "#fitting naive model for tf-idf\n",
    "nb_tfidf = nb.fit(cv_train_reviews.toarray(),np.ravel(train_sentiments))"
   ]
  },
  {
   "cell_type": "code",
   "execution_count": 63,
   "metadata": {},
   "outputs": [
    {
     "name": "stdout",
     "output_type": "stream",
     "text": [
      "[0 0 0 1 0 1 0 0 0 0 0 1 1 0 0 1 0 1 0 0 0 0 1 1 0 1 1 0 0 1 0 0 1 0 0 1 0\n",
      " 1 0 1 0 0 1 0 1 0 1 0 0 0]\n",
      "[0 0 0 1 0 1 0 0 0 0 0 1 1 0 0 1 0 1 0 0 0 0 1 1 0 1 1 0 0 1 0 0 1 0 0 1 0\n",
      " 1 0 1 0 0 1 0 1 0 1 0 0 0]\n"
     ]
    }
   ],
   "source": [
    "#Predicting the model for bag of words\n",
    "nb_bow_predict=nb_bow.predict(cv_test_reviews.toarray())\n",
    "print(nb_bow_predict)\n",
    "\n",
    "#Predicting the model for tf-idf\n",
    "nb_tfidf_predict=nb_tfidf.predict(cv_test_reviews.toarray())\n",
    "print(nb_bow_predict)"
   ]
  },
  {
   "cell_type": "code",
   "execution_count": 66,
   "metadata": {},
   "outputs": [
    {
     "name": "stdout",
     "output_type": "stream",
     "text": [
      "Naive bayes Score: 0.5\n",
      "Naive_tfidf_score : 0.5\n"
     ]
    }
   ],
   "source": [
    "from sklearn.metrics import accuracy_score\n",
    "# Accuracy \n",
    "nb_bow_score = accuracy_score(test_sentiments, nb_bow_predict)\n",
    "print(\"Naive bayes Score:\",nb_bow_score)\n",
    "\n",
    "#Accuracy score for tfidf features\n",
    "nb_tfidf_score=accuracy_score(test_sentiments,nb_tfidf_predict)\n",
    "print(\"Naive_tfidf_score :\",nb_tfidf_score)"
   ]
  },
  {
   "cell_type": "code",
   "execution_count": 67,
   "metadata": {},
   "outputs": [
    {
     "name": "stdout",
     "output_type": "stream",
     "text": [
      "[[15 22]\n",
      " [ 3 10]]\n"
     ]
    }
   ],
   "source": [
    "#confusion matrix for bag of words\n",
    "nb_cm_bow=confusion_matrix(test_sentiments,nb_bow_predict,labels=[1,0])\n",
    "print(nb_cm_bow)"
   ]
  },
  {
   "cell_type": "code",
   "execution_count": 68,
   "metadata": {},
   "outputs": [
    {
     "data": {
      "text/plain": [
       "(array([0.5, 1.5]), [Text(0, 0.5, '0'), Text(0, 1.5, '1')])"
      ]
     },
     "execution_count": 68,
     "metadata": {},
     "output_type": "execute_result"
    },
    {
     "data": {
      "image/png": "[encoded data removed]",
      "text/plain": [
       "<Figure size 432x288 with 1 Axes>"
      ]
     },
     "metadata": {
      "needs_background": "light"
     },
     "output_type": "display_data"
    }
   ],
   "source": [
    "classes = np.unique(test_sentiments)\n",
    "fig, ax = plt.subplots()\n",
    "sns.heatmap(nb_cm_bow, annot=True, fmt='d', ax=ax, cmap=plt.cm.Blues, \n",
    "            cbar=False)\n",
    "ax.set(xlabel=\"Pred\", ylabel=\"True\", xticklabels=classes, \n",
    "       yticklabels=classes, title=\"Confusion matrix\")\n",
    "plt.yticks(rotation=0)"
   ]
  },
  {
   "cell_type": "code",
   "execution_count": 69,
   "metadata": {},
   "outputs": [],
   "source": [
    "result[\"Naive bias BOW\"] =nb_bow_score\n",
    "result[\"Naive bias TF-IDF\"] =nb_tfidf_score"
   ]
  },
  {
   "cell_type": "code",
   "execution_count": 70,
   "metadata": {},
   "outputs": [
    {
     "name": "stdout",
     "output_type": "stream",
     "text": [
      "              precision    recall  f1-score   support\n",
      "\n",
      "           1       0.83      0.41      0.55        37\n",
      "           0       0.31      0.77      0.44        13\n",
      "\n",
      "    accuracy                           0.50        50\n",
      "   macro avg       0.57      0.59      0.49        50\n",
      "weighted avg       0.70      0.50      0.52        50\n",
      "\n"
     ]
    }
   ],
   "source": [
    "from sklearn.metrics import classification_report\n",
    "print(classification_report(test_sentiments,nb_bow_predict,labels=[1,0]))"
   ]
  },
  {
   "cell_type": "markdown",
   "metadata": {},
   "source": [
    "## Random Forest "
   ]
  },
  {
   "cell_type": "code",
   "execution_count": 159,
   "metadata": {},
   "outputs": [],
   "source": [
    "from sklearn.ensemble import RandomForestClassifier\n",
    "from sklearn.model_selection import cross_val_score\n",
    "\n",
    "rf = RandomForestClassifier()\n",
    "scores = cross_val_score(rf,cv_train_reviews,np.ravel(train_sentiments),cv=5)"
   ]
  },
  {
   "cell_type": "code",
   "execution_count": 160,
   "metadata": {},
   "outputs": [],
   "source": [
    "def print_results(results):\n",
    "    print('BEST PARAMS: {}\\n'.format(results.best_params_))\n",
    "\n",
    "    means = results.cv_results_['mean_test_score']\n",
    "    stds = results.cv_results_['std_test_score']\n",
    "    for mean, std, params in zip(means, stds, results.cv_results_['params']):\n",
    "        print('{} (+/-{}) for {}'.format(round(mean, 3), round(std * 2, 3), params))"
   ]
  },
  {
   "cell_type": "code",
   "execution_count": 161,
   "metadata": {},
   "outputs": [
    {
     "name": "stdout",
     "output_type": "stream",
     "text": [
      "BEST PARAMS: {'max_depth': 2, 'n_estimators': 5}\n",
      "\n",
      "0.722 (+/-0.0) for {'max_depth': 2, 'n_estimators': 5}\n",
      "0.722 (+/-0.0) for {'max_depth': 2, 'n_estimators': 50}\n",
      "0.722 (+/-0.0) for {'max_depth': 2, 'n_estimators': 100}\n",
      "0.722 (+/-0.0) for {'max_depth': 10, 'n_estimators': 5}\n",
      "0.722 (+/-0.0) for {'max_depth': 10, 'n_estimators': 50}\n",
      "0.722 (+/-0.0) for {'max_depth': 10, 'n_estimators': 100}\n",
      "0.722 (+/-0.0) for {'max_depth': 20, 'n_estimators': 5}\n",
      "0.722 (+/-0.0) for {'max_depth': 20, 'n_estimators': 50}\n",
      "0.722 (+/-0.0) for {'max_depth': 20, 'n_estimators': 100}\n",
      "0.722 (+/-0.0) for {'max_depth': None, 'n_estimators': 5}\n",
      "0.722 (+/-0.0) for {'max_depth': None, 'n_estimators': 50}\n",
      "0.722 (+/-0.0) for {'max_depth': None, 'n_estimators': 100}\n"
     ]
    }
   ],
   "source": [
    "from sklearn.model_selection import GridSearchCV\n",
    "\n",
    "rf = RandomForestClassifier()\n",
    "parameters = {\n",
    "    'n_estimators': [5,50,100],\n",
    "    'max_depth': [2,10,20,None]\n",
    "}\n",
    "\n",
    "cv = GridSearchCV(rf,parameters)\n",
    "cv.fit(cv_train_reviews,np.ravel(train_sentiments))\n",
    "print_results(cv)"
   ]
  },
  {
   "cell_type": "code",
   "execution_count": 162,
   "metadata": {},
   "outputs": [],
   "source": [
    "rf_bow = RandomForestClassifier(n_estimators=5,max_depth=2)\n",
    "rf_bow.fit(cv_train_reviews,np.ravel(train_sentiments))\n",
    "rf_bow_predict = rf_bow.predict(cv_test_reviews)"
   ]
  },
  {
   "cell_type": "code",
   "execution_count": 163,
   "metadata": {},
   "outputs": [
    {
     "name": "stdout",
     "output_type": "stream",
     "text": [
      "Random forest Score: 74.0\n"
     ]
    }
   ],
   "source": [
    "# Accuracy \n",
    "accuracy = accuracy_score(test_sentiments, rf_bow_predict)\n",
    "print(\"Random forest Score:\",accuracy*100)"
   ]
  },
  {
   "cell_type": "code",
   "execution_count": 164,
   "metadata": {},
   "outputs": [
    {
     "data": {
      "text/plain": [
       "array([1, 1, 1, 1, 1, 1, 1, 1, 1, 1, 1, 1, 1, 1, 1, 1, 1, 1, 1, 1, 1, 1,\n",
       "       1, 1, 1, 1, 1, 1, 1, 1, 1, 1, 1, 1, 1, 1, 1, 1, 1, 1, 1, 1, 1, 1,\n",
       "       1, 1, 1, 1, 1, 1])"
      ]
     },
     "execution_count": 164,
     "metadata": {},
     "output_type": "execute_result"
    }
   ],
   "source": [
    "rf_bow_predict"
   ]
  },
  {
   "cell_type": "code",
   "execution_count": 166,
   "metadata": {},
   "outputs": [
    {
     "name": "stdout",
     "output_type": "stream",
     "text": [
      "[[37  0]\n",
      " [13  0]]\n"
     ]
    }
   ],
   "source": [
    "#confusion matrix for bag of words\n",
    "nb_cm_bow=confusion_matrix(test_sentiments,rf_bow_predict,labels=[1,0])\n",
    "print(nb_cm_bow)"
   ]
  },
  {
   "cell_type": "code",
   "execution_count": 77,
   "metadata": {},
   "outputs": [],
   "source": [
    "result[\"Random Forest\"]=accuracy"
   ]
  },
  {
   "cell_type": "code",
   "execution_count": 80,
   "metadata": {},
   "outputs": [
    {
     "name": "stdout",
     "output_type": "stream",
     "text": [
      "              precision    recall  f1-score   support\n",
      "\n",
      "           0       0.00      0.00      0.00        13\n",
      "           1       0.74      1.00      0.85        37\n",
      "\n",
      "    accuracy                           0.74        50\n",
      "   macro avg       0.37      0.50      0.43        50\n",
      "weighted avg       0.55      0.74      0.63        50\n",
      "\n"
     ]
    }
   ],
   "source": [
    "from sklearn.metrics import classification_report\n",
    "print(classification_report(test_sentiments, rf_bow_predict))"
   ]
  },
  {
   "cell_type": "markdown",
   "metadata": {},
   "source": [
    "## Word Cloud"
   ]
  },
  {
   "cell_type": "code",
   "execution_count": 225,
   "metadata": {},
   "outputs": [
    {
     "data": {
      "text/plain": [
       "<function matplotlib.pyplot.show(close=None, block=None)>"
      ]
     },
     "execution_count": 225,
     "metadata": {},
     "output_type": "execute_result"
    },
    {
     "data": {
      "image/png": "[encoded data removed]",
      "text/plain": [
       "<Figure size 720x720 with 1 Axes>"
      ]
     },
     "metadata": {
      "needs_background": "light"
     },
     "output_type": "display_data"
    }
   ],
   "source": [
    "#word cloud for positive review words\n",
    "plt.figure(figsize=(10,10))\n",
    "positive_text=train_reviews[2]\n",
    "WC=WordCloud(width=1000,height=500,max_words=500,min_font_size=5)\n",
    "positive_words=WC.generate(positive_text)\n",
    "plt.imshow(positive_words,interpolation='bilinear')\n",
    "plt.show"
   ]
  },
  {
   "cell_type": "code",
   "execution_count": 224,
   "metadata": {},
   "outputs": [
    {
     "data": {
      "text/plain": [
       "<function matplotlib.pyplot.show(close=None, block=None)>"
      ]
     },
     "execution_count": 224,
     "metadata": {},
     "output_type": "execute_result"
    },
    {
     "data": {
      "image/png": "[encoded data removed]",
      "text/plain": [
       "<Figure size 720x720 with 1 Axes>"
      ]
     },
     "metadata": {
      "needs_background": "light"
     },
     "output_type": "display_data"
    }
   ],
   "source": [
    "#Word cloud for negative review words\n",
    "plt.figure(figsize=(10,10))\n",
    "negative_text=train_reviews[4]\n",
    "WC=WordCloud(width=1000,height=500,max_words=500,min_font_size=5)\n",
    "negative_words=WC.generate(negative_text)\n",
    "plt.imshow(negative_words,interpolation='bilinear')\n",
    "plt.show"
   ]
  },
  {
   "cell_type": "code",
   "execution_count": null,
   "metadata": {},
   "outputs": [],
   "source": []
  },
  {
   "cell_type": "markdown",
   "metadata": {},
   "source": [
    "## LSTM"
   ]
  },
  {
   "cell_type": "code",
   "execution_count": 167,
   "metadata": {},
   "outputs": [],
   "source": [
    "from tensorflow.keras.preprocessing.text import Tokenizer\n",
    "from tensorflow.keras.preprocessing.sequence import pad_sequences\n",
    "from tensorflow.keras.layers import Dense, Flatten, Embedding, LSTM, GRU,Dropout\n",
    "from tensorflow.keras.models import Sequential\n",
    "from sklearn.model_selection import train_test_split\n",
    "from tensorflow.keras.layers import *"
   ]
  },
  {
   "cell_type": "code",
   "execution_count": 168,
   "metadata": {
    "scrolled": false
   },
   "outputs": [
    {
     "name": "stdout",
     "output_type": "stream",
     "text": [
      "0       yes really great experience visited various pl...\n",
      "1                           explain word grand place look\n",
      "2        unique blend old world royal charm modern luxury\n",
      "3                    definitely going whenever get chance\n",
      "4                                  bit pricey away center\n",
      "                              ...                        \n",
      "1345                                  owner speak english\n",
      "1346                                         recieve bill\n",
      "1347                                 room loud old winows\n",
      "1348                      room dirty bug running th floor\n",
      "1349    bath clean recieved room empty shower bottle g...\n",
      "Name: Text, Length: 1350, dtype: object\n"
     ]
    }
   ],
   "source": [
    "print(train_reviews)"
   ]
  },
  {
   "cell_type": "code",
   "execution_count": 169,
   "metadata": {},
   "outputs": [],
   "source": [
    "tokenizer = Tokenizer(num_words=1000, lower=True,split=' ')\n",
    "tokenizer.fit_on_texts(df_lemm['Text'].values)\n",
    "\n",
    "X = tokenizer.texts_to_sequences(df_lemm['Text'].values)\n",
    "X = pad_sequences(X)"
   ]
  },
  {
   "cell_type": "code",
   "execution_count": 170,
   "metadata": {},
   "outputs": [
    {
     "data": {
      "text/plain": [
       "{'hotel': 1,\n",
       " 'room': 2,\n",
       " 'good': 3,\n",
       " 'staff': 4,\n",
       " 'nice': 5,\n",
       " 'great': 6,\n",
       " 'food': 7,\n",
       " 'friendly': 8,\n",
       " 'clean': 9,\n",
       " 'breakfast': 10,\n",
       " 'stay': 11,\n",
       " 'excellent': 12,\n",
       " 'restaurant': 13,\n",
       " 'location': 14,\n",
       " 'service': 15,\n",
       " 'place': 16,\n",
       " 'would': 17,\n",
       " 'really': 18,\n",
       " 'one': 19,\n",
       " 'beach': 20,\n",
       " 'well': 21,\n",
       " 'small': 22,\n",
       " 'area': 23,\n",
       " 'holiday': 24,\n",
       " 'best': 25,\n",
       " 'city': 26,\n",
       " 'bathroom': 27,\n",
       " 'close': 28,\n",
       " 'time': 29,\n",
       " 'also': 30,\n",
       " 'bar': 31,\n",
       " 'u': 32,\n",
       " 'pool': 33,\n",
       " 'everything': 34,\n",
       " 'free': 35,\n",
       " 'like': 36,\n",
       " 'day': 37,\n",
       " 'lot': 38,\n",
       " 'old': 39,\n",
       " 'next': 40,\n",
       " 'little': 41,\n",
       " 'star': 42,\n",
       " 'helpful': 43,\n",
       " 'choice': 44,\n",
       " 'always': 45,\n",
       " 'night': 46,\n",
       " 'view': 47,\n",
       " 'recommend': 48,\n",
       " 'center': 49,\n",
       " 'perfect': 50,\n",
       " 'comfortable': 51,\n",
       " 'price': 52,\n",
       " 'could': 53,\n",
       " 'bed': 54,\n",
       " 'around': 55,\n",
       " 'back': 56,\n",
       " 'get': 57,\n",
       " 'quite': 58,\n",
       " 'modern': 59,\n",
       " 'even': 60,\n",
       " 'go': 61,\n",
       " 'facility': 62,\n",
       " 'stayed': 63,\n",
       " 'beautiful': 64,\n",
       " 'located': 65,\n",
       " 'better': 66,\n",
       " 'need': 67,\n",
       " 'minute': 68,\n",
       " '2': 69,\n",
       " 'walk': 70,\n",
       " 'people': 71,\n",
       " 'thing': 72,\n",
       " 'lovely': 73,\n",
       " 'guest': 74,\n",
       " 'enough': 75,\n",
       " 'parking': 76,\n",
       " 'ever': 77,\n",
       " 'station': 78,\n",
       " 'big': 79,\n",
       " 'definitely': 80,\n",
       " 'bit': 81,\n",
       " 'walking': 82,\n",
       " 'every': 83,\n",
       " 'poor': 84,\n",
       " 'wonderful': 85,\n",
       " 'trip': 86,\n",
       " 'made': 87,\n",
       " 'near': 88,\n",
       " 'quality': 89,\n",
       " 'business': 90,\n",
       " 'floor': 91,\n",
       " 'visit': 92,\n",
       " 'money': 93,\n",
       " 'fantastic': 94,\n",
       " 'reception': 95,\n",
       " 'centre': 96,\n",
       " 'ok': 97,\n",
       " 'resort': 98,\n",
       " 'value': 99,\n",
       " 'never': 100,\n",
       " '5': 101,\n",
       " 'many': 102,\n",
       " 'bus': 103,\n",
       " 'family': 104,\n",
       " 'enjoyed': 105,\n",
       " 'come': 106,\n",
       " 'quiet': 107,\n",
       " 'much': 108,\n",
       " 'street': 109,\n",
       " 'top': 110,\n",
       " 'english': 111,\n",
       " 'standard': 112,\n",
       " 'distance': 113,\n",
       " 'though': 114,\n",
       " 'although': 115,\n",
       " 'especially': 116,\n",
       " 'first': 117,\n",
       " 'help': 118,\n",
       " 'spa': 119,\n",
       " 'airport': 120,\n",
       " 'year': 121,\n",
       " 'amazing': 122,\n",
       " 'large': 123,\n",
       " 'child': 124,\n",
       " 'offer': 125,\n",
       " 'basic': 126,\n",
       " 'cheap': 127,\n",
       " 'nothing': 128,\n",
       " 'available': 129,\n",
       " 'however': 130,\n",
       " 'shopping': 131,\n",
       " 'bad': 132,\n",
       " 'coffee': 133,\n",
       " 'animation': 134,\n",
       " 'short': 135,\n",
       " 'drink': 136,\n",
       " '4': 137,\n",
       " 'two': 138,\n",
       " 'going': 139,\n",
       " 'away': 140,\n",
       " 'outside': 141,\n",
       " 'easy': 142,\n",
       " 'kind': 143,\n",
       " 'side': 144,\n",
       " 'take': 145,\n",
       " 'overall': 146,\n",
       " 'expect': 147,\n",
       " 'main': 148,\n",
       " 'russian': 149,\n",
       " 'use': 150,\n",
       " 'make': 151,\n",
       " 'check': 152,\n",
       " 'lobby': 153,\n",
       " 'weekend': 154,\n",
       " 'budget': 155,\n",
       " 'park': 156,\n",
       " 'booked': 157,\n",
       " 'team': 158,\n",
       " 'tv': 159,\n",
       " 'sea': 160,\n",
       " 'noisy': 161,\n",
       " 'shower': 162,\n",
       " 'paris': 163,\n",
       " 'gym': 164,\n",
       " 'internet': 165,\n",
       " 'work': 166,\n",
       " 'whole': 167,\n",
       " 'find': 168,\n",
       " 'couple': 169,\n",
       " 'welcome': 170,\n",
       " 'variety': 171,\n",
       " 'found': 172,\n",
       " 'space': 173,\n",
       " 'new': 174,\n",
       " 'absolutely': 175,\n",
       " 'option': 176,\n",
       " 'comfort': 177,\n",
       " 'ground': 178,\n",
       " 'worth': 179,\n",
       " 'hour': 180,\n",
       " 'experience': 181,\n",
       " 'part': 182,\n",
       " 'luxury': 183,\n",
       " 'look': 184,\n",
       " 'noise': 185,\n",
       " 'relax': 186,\n",
       " 'stop': 187,\n",
       " 'spacious': 188,\n",
       " 'amsterdam': 189,\n",
       " 'full': 190,\n",
       " 'music': 191,\n",
       " 'etc': 192,\n",
       " 'front': 193,\n",
       " 'fine': 194,\n",
       " 'central': 195,\n",
       " 'access': 196,\n",
       " 'dinner': 197,\n",
       " 'five': 198,\n",
       " 'town': 199,\n",
       " 'morning': 200,\n",
       " 'want': 201,\n",
       " 'super': 202,\n",
       " 'provided': 203,\n",
       " 'relaxing': 204,\n",
       " 'host': 205,\n",
       " 'swimming': 206,\n",
       " 'think': 207,\n",
       " 'car': 208,\n",
       " 'wellness': 209,\n",
       " 'inclusive': 210,\n",
       " 'extremely': 211,\n",
       " 'dirty': 212,\n",
       " 'way': 213,\n",
       " 'course': 214,\n",
       " 'say': 215,\n",
       " 'last': 216,\n",
       " 'different': 217,\n",
       " 'le': 218,\n",
       " 'size': 219,\n",
       " 'loud': 220,\n",
       " 'rest': 221,\n",
       " 'long': 222,\n",
       " '3': 223,\n",
       " 'helpfull': 224,\n",
       " 'shop': 225,\n",
       " 'evening': 226,\n",
       " 'pleasant': 227,\n",
       " 'water': 228,\n",
       " 'working': 229,\n",
       " 'sauna': 230,\n",
       " 'delicious': 231,\n",
       " 'recommended': 232,\n",
       " 'easily': 233,\n",
       " 'staying': 234,\n",
       " 'door': 235,\n",
       " 'far': 236,\n",
       " 'liked': 237,\n",
       " 'looked': 238,\n",
       " 'pretty': 239,\n",
       " 'problem': 240,\n",
       " 'dana': 241,\n",
       " 'without': 242,\n",
       " 'offered': 243,\n",
       " 'general': 244,\n",
       " 'eat': 245,\n",
       " 'got': 246,\n",
       " 'tea': 247,\n",
       " 'still': 248,\n",
       " 'rather': 249,\n",
       " 'looking': 250,\n",
       " 'expensive': 251,\n",
       " 'atmosphere': 252,\n",
       " 'condition': 253,\n",
       " 'month': 254,\n",
       " 'hot': 255,\n",
       " 'hear': 256,\n",
       " 'manager': 257,\n",
       " 'bread': 258,\n",
       " 'week': 259,\n",
       " 'world': 260,\n",
       " '20': 261,\n",
       " 'wall': 262,\n",
       " 'crowded': 263,\n",
       " 'convenient': 264,\n",
       " 'furnished': 265,\n",
       " 'highly': 266,\n",
       " 'step': 267,\n",
       " 'probably': 268,\n",
       " 'several': 269,\n",
       " 'within': 270,\n",
       " 'wifi': 271,\n",
       " 'connection': 272,\n",
       " 'spot': 273,\n",
       " 'strip': 274,\n",
       " 'right': 275,\n",
       " 'reservation': 276,\n",
       " 'balcony': 277,\n",
       " 'b': 278,\n",
       " 'building': 279,\n",
       " 'meal': 280,\n",
       " 'personnel': 281,\n",
       " 'low': 282,\n",
       " 'waiter': 283,\n",
       " 'management': 284,\n",
       " 'took': 285,\n",
       " 'level': 286,\n",
       " 'member': 287,\n",
       " 'metro': 288,\n",
       " 'person': 289,\n",
       " 'vacation': 290,\n",
       " 'cleaned': 291,\n",
       " 'early': 292,\n",
       " 'buffet': 293,\n",
       " 'receptionist': 294,\n",
       " 'public': 295,\n",
       " 'carte': 296,\n",
       " 'warm': 297,\n",
       " 'toilet': 298,\n",
       " 'table': 299,\n",
       " 'across': 300,\n",
       " 'pay': 301,\n",
       " 'feel': 302,\n",
       " 'generally': 303,\n",
       " 'shuttle': 304,\n",
       " 'instead': 305,\n",
       " 'train': 306,\n",
       " 'tram': 307,\n",
       " 'decorated': 308,\n",
       " 'lounge': 309,\n",
       " 'try': 310,\n",
       " 'smaller': 311,\n",
       " 'superb': 312,\n",
       " 'decent': 313,\n",
       " 'fun': 314,\n",
       " 'air': 315,\n",
       " 'comfy': 316,\n",
       " 'already': 317,\n",
       " 'window': 318,\n",
       " 'special': 319,\n",
       " 'tourist': 320,\n",
       " 'customer': 321,\n",
       " 'german': 322,\n",
       " 'cleanliness': 323,\n",
       " 'worked': 324,\n",
       " 'something': 325,\n",
       " 'style': 326,\n",
       " 'fish': 327,\n",
       " 'impression': 328,\n",
       " 'paid': 329,\n",
       " 'villa': 330,\n",
       " 'left': 331,\n",
       " 'euro': 332,\n",
       " 'welcoming': 333,\n",
       " 'garden': 334,\n",
       " 'rate': 335,\n",
       " 'hurghada': 336,\n",
       " 'la': 337,\n",
       " 'booking': 338,\n",
       " 'slow': 339,\n",
       " 'break': 340,\n",
       " '10': 341,\n",
       " 'expectation': 342,\n",
       " 'supermarket': 343,\n",
       " 'situated': 344,\n",
       " 'middle': 345,\n",
       " 'home': 346,\n",
       " 'sure': 347,\n",
       " 'amp': 348,\n",
       " 'busy': 349,\n",
       " 'frankfurt': 350,\n",
       " 'desk': 351,\n",
       " 'almost': 352,\n",
       " 'served': 353,\n",
       " 'coming': 354,\n",
       " 'anything': 355,\n",
       " 'friend': 356,\n",
       " 'smell': 357,\n",
       " 'personal': 358,\n",
       " 'dog': 359,\n",
       " 'everybody': 360,\n",
       " 'hostel': 361,\n",
       " 'kln': 362,\n",
       " 'book': 363,\n",
       " 'know': 364,\n",
       " 'bath': 365,\n",
       " 'used': 366,\n",
       " 'advantage': 367,\n",
       " 'subway': 368,\n",
       " 'arrived': 369,\n",
       " 'expected': 370,\n",
       " 'huge': 371,\n",
       " 'maybe': 372,\n",
       " 'language': 373,\n",
       " 'including': 374,\n",
       " 'entrance': 375,\n",
       " 'luggage': 376,\n",
       " 'felt': 377,\n",
       " 'surrounding': 378,\n",
       " 'pleasure': 379,\n",
       " 'asked': 380,\n",
       " 'fast': 381,\n",
       " 'key': 382,\n",
       " 'ideal': 383,\n",
       " 'happy': 384,\n",
       " 'lack': 385,\n",
       " 'range': 386,\n",
       " 'bike': 387,\n",
       " 'club': 388,\n",
       " 'french': 389,\n",
       " 'positive': 390,\n",
       " 'enjoyable': 391,\n",
       " 'thanks': 392,\n",
       " 'machine': 393,\n",
       " 'towel': 394,\n",
       " 'another': 395,\n",
       " 'enjoy': 396,\n",
       " 'palace': 397,\n",
       " 'amenity': 398,\n",
       " 'kid': 399,\n",
       " 'give': 400,\n",
       " 'attentive': 401,\n",
       " 'average': 402,\n",
       " 'rude': 403,\n",
       " 'egypt': 404,\n",
       " 'thus': 405,\n",
       " 'cool': 406,\n",
       " 'reasonable': 407,\n",
       " 'equipment': 408,\n",
       " 'hard': 409,\n",
       " 'yet': 410,\n",
       " 'awesome': 411,\n",
       " 'due': 412,\n",
       " 'important': 413,\n",
       " 'selection': 414,\n",
       " 'high': 415,\n",
       " 'except': 416,\n",
       " 'disco': 417,\n",
       " 'ask': 418,\n",
       " 'travel': 419,\n",
       " 'interesting': 420,\n",
       " 'speaking': 421,\n",
       " 'polite': 422,\n",
       " 'transport': 423,\n",
       " 'speak': 424,\n",
       " 'dining': 425,\n",
       " 'sleep': 426,\n",
       " 'sight': 427,\n",
       " 'professional': 428,\n",
       " '7': 429,\n",
       " 'forward': 430,\n",
       " 'quickly': 431,\n",
       " 'brilliant': 432,\n",
       " '1': 433,\n",
       " 'okay': 434,\n",
       " 'alright': 435,\n",
       " 'stuff': 436,\n",
       " 'real': 437,\n",
       " 'included': 438,\n",
       " 'taste': 439,\n",
       " 'elegant': 440,\n",
       " '8': 441,\n",
       " 'min': 442,\n",
       " 'experienced': 443,\n",
       " 'surprised': 444,\n",
       " 'thank': 445,\n",
       " 'item': 446,\n",
       " 'plus': 447,\n",
       " 'tired': 448,\n",
       " 'cannot': 449,\n",
       " 'else': 450,\n",
       " 'entertainment': 451,\n",
       " 'keep': 452,\n",
       " 'renovated': 453,\n",
       " 'elevator': 454,\n",
       " 'young': 455,\n",
       " 'paradise': 456,\n",
       " 'foreign': 457,\n",
       " 'making': 458,\n",
       " 'traveller': 459,\n",
       " 'fitness': 460,\n",
       " 'possible': 461,\n",
       " 'favourite': 462,\n",
       " 'design': 463,\n",
       " 'detail': 464,\n",
       " 'offering': 465,\n",
       " 'despite': 466,\n",
       " 'must': 467,\n",
       " 'went': 468,\n",
       " 'spent': 469,\n",
       " 'vip': 470,\n",
       " 'mini': 471,\n",
       " 'wine': 472,\n",
       " 'treatment': 473,\n",
       " 'summer': 474,\n",
       " 'executive': 475,\n",
       " 'block': 476,\n",
       " 'inside': 477,\n",
       " 'interested': 478,\n",
       " 'hop': 479,\n",
       " 'unfortunately': 480,\n",
       " 'linen': 481,\n",
       " 'priced': 482,\n",
       " 'difficult': 483,\n",
       " 'recommendation': 484,\n",
       " 'awful': 485,\n",
       " 'talk': 486,\n",
       " 'mainly': 487,\n",
       " 'disappointment': 488,\n",
       " 'plenty': 489,\n",
       " 'placed': 490,\n",
       " 'least': 491,\n",
       " 'steam': 492,\n",
       " 'tried': 493,\n",
       " 'unfriendly': 494,\n",
       " 'attitude': 495,\n",
       " 'choose': 496,\n",
       " 'activity': 497,\n",
       " 'position': 498,\n",
       " 'extra': 499,\n",
       " 'charged': 500,\n",
       " 'dorint': 501,\n",
       " 'cologne': 502,\n",
       " 'dated': 503,\n",
       " 'closed': 504,\n",
       " 'attention': 505,\n",
       " 'might': 506,\n",
       " 'sheet': 507,\n",
       " 'group': 508,\n",
       " 'line': 509,\n",
       " 'complain': 510,\n",
       " 'return': 511,\n",
       " 'tiny': 512,\n",
       " 'second': 513,\n",
       " 'smile': 514,\n",
       " 'madrid': 515,\n",
       " 'speaks': 516,\n",
       " 'otherwise': 517,\n",
       " 'holland': 518,\n",
       " 'lyon': 519,\n",
       " 'renovation': 520,\n",
       " 'may': 521,\n",
       " '12': 522,\n",
       " 'ticket': 523,\n",
       " 'egg': 524,\n",
       " 'scrambled': 525,\n",
       " 'wi': 526,\n",
       " 'fi': 527,\n",
       " 'everywhere': 528,\n",
       " 'accommodation': 529,\n",
       " 'wonderfully': 530,\n",
       " 'en': 531,\n",
       " 'suite': 532,\n",
       " 'double': 533,\n",
       " 'number': 534,\n",
       " 'alphons': 535,\n",
       " 'martha': 536,\n",
       " 'complaint': 537,\n",
       " 'cleaning': 538,\n",
       " 'juice': 539,\n",
       " 'cook': 540,\n",
       " 'bulgaria': 541,\n",
       " 'biggest': 542,\n",
       " 'terrible': 543,\n",
       " 'age': 544,\n",
       " 'efficient': 545,\n",
       " 'smiling': 546,\n",
       " 'chef': 547,\n",
       " 'river': 548,\n",
       " 'procedure': 549,\n",
       " 'chance': 550,\n",
       " '30': 551,\n",
       " 'mattress': 552,\n",
       " 'colleague': 553,\n",
       " 'hand': 554,\n",
       " 'reach': 555,\n",
       " 'carlton': 556,\n",
       " 'market': 557,\n",
       " 'nearby': 558,\n",
       " 'square': 559,\n",
       " 'architecture': 560,\n",
       " 'thought': 561,\n",
       " 'someone': 562,\n",
       " 'glad': 563,\n",
       " 'stress': 564,\n",
       " 'guy': 565,\n",
       " 'conditioning': 566,\n",
       " 'romantic': 567,\n",
       " 'dust': 568,\n",
       " 'mean': 569,\n",
       " 'cozy': 570,\n",
       " 'seven': 571,\n",
       " 'employee': 572,\n",
       " 'recently': 573,\n",
       " 'via': 574,\n",
       " 'road': 575,\n",
       " 'siena': 576,\n",
       " 'enter': 577,\n",
       " 'climb': 578,\n",
       " 'owner': 579,\n",
       " 'willing': 580,\n",
       " 'earth': 581,\n",
       " 'iron': 582,\n",
       " 'charge': 583,\n",
       " 'titanic': 584,\n",
       " 'meet': 585,\n",
       " 'sport': 586,\n",
       " 'roof': 587,\n",
       " 'lunch': 588,\n",
       " 'gave': 589,\n",
       " 'nicest': 590,\n",
       " 'package': 591,\n",
       " 'given': 592,\n",
       " 'information': 593,\n",
       " 'needed': 594,\n",
       " 'see': 595,\n",
       " 'running': 596,\n",
       " 'private': 597,\n",
       " 'wide': 598,\n",
       " 'anyone': 599,\n",
       " 'rule': 600,\n",
       " 'serious': 601,\n",
       " '100': 602,\n",
       " 'discount': 603,\n",
       " 'treated': 604,\n",
       " 'shape': 605,\n",
       " 'seemed': 606,\n",
       " 'heart': 607,\n",
       " 'art': 608,\n",
       " 'loved': 609,\n",
       " 'late': 610,\n",
       " 'unpleasant': 611,\n",
       " 'tour': 612,\n",
       " 'lift': 613,\n",
       " 'upper': 614,\n",
       " 'narrow': 615,\n",
       " 'hardly': 616,\n",
       " 'ibis': 617,\n",
       " 'november': 618,\n",
       " 'leisure': 619,\n",
       " 'ride': 620,\n",
       " 'ala': 621,\n",
       " 'italian': 622,\n",
       " 'hi': 623,\n",
       " 'avoid': 624,\n",
       " 'shabby': 625,\n",
       " 'ago': 626,\n",
       " 'board': 627,\n",
       " 'non': 628,\n",
       " 'compared': 629,\n",
       " 'fruit': 630,\n",
       " 'steep': 631,\n",
       " 'campsite': 632,\n",
       " 'site': 633,\n",
       " 'situation': 634,\n",
       " 'village': 635,\n",
       " 'adult': 636,\n",
       " 'typical': 637,\n",
       " 'inn': 638,\n",
       " 'simple': 639,\n",
       " 'cost': 640,\n",
       " 'self': 641,\n",
       " 'local': 642,\n",
       " 'sufficient': 643,\n",
       " 'trier': 644,\n",
       " '15': 645,\n",
       " 'drive': 646,\n",
       " 'rated': 647,\n",
       " 'certainly': 648,\n",
       " 'refurbishment': 649,\n",
       " 'directly': 650,\n",
       " 'everyone': 651,\n",
       " 'sit': 652,\n",
       " 'speed': 653,\n",
       " 'taxi': 654,\n",
       " 'foot': 655,\n",
       " 'european': 656,\n",
       " 'upgrade': 657,\n",
       " 'south': 658,\n",
       " 'conference': 659,\n",
       " 'play': 660,\n",
       " 'change': 661,\n",
       " 'house': 662,\n",
       " 'trying': 663,\n",
       " 'relaxed': 664,\n",
       " 'point': 665,\n",
       " 'downtown': 666,\n",
       " 'state': 667,\n",
       " 'tasteful': 668,\n",
       " 'fault': 669,\n",
       " 'worse': 670,\n",
       " 'seen': 671,\n",
       " 'careful': 672,\n",
       " 'together': 673,\n",
       " 'prepare': 674,\n",
       " 'fresh': 675,\n",
       " 'issue': 676,\n",
       " 'satisfied': 677,\n",
       " 'covered': 678,\n",
       " 'partner': 679,\n",
       " 'louvre': 680,\n",
       " 'major': 681,\n",
       " 'attraction': 682,\n",
       " 'minimal': 683,\n",
       " 'stair': 684,\n",
       " 'since': 685,\n",
       " 'life': 686,\n",
       " 'mistake': 687,\n",
       " 'adequate': 688,\n",
       " 'perfectly': 689,\n",
       " '50': 690,\n",
       " 'france': 691,\n",
       " 'class': 692,\n",
       " 'amount': 693,\n",
       " 'suggest': 694,\n",
       " 'dress': 695,\n",
       " 'bridge': 696,\n",
       " 'twice': 697,\n",
       " 'intrusive': 698,\n",
       " 'attractive': 699,\n",
       " 'mall': 700,\n",
       " 'furniture': 701,\n",
       " 'carpet': 702,\n",
       " 'knowledgeable': 703,\n",
       " 'cheese': 704,\n",
       " 'safe': 705,\n",
       " 'tube': 706,\n",
       " 'anyway': 707,\n",
       " 'connected': 708,\n",
       " 'strongly': 709,\n",
       " 'future': 710,\n",
       " 'reliable': 711,\n",
       " 'request': 712,\n",
       " 'hospitality': 713,\n",
       " 'till': 714,\n",
       " 'melia': 715,\n",
       " 'order': 716,\n",
       " 'show': 717,\n",
       " 'type': 718,\n",
       " 'surroundings': 719,\n",
       " 'care': 720,\n",
       " 'ready': 721,\n",
       " 'dark': 722,\n",
       " 'hall': 723,\n",
       " 'done': 724,\n",
       " 'smoking': 725,\n",
       " 'sorted': 726,\n",
       " 'job': 727,\n",
       " 'helped': 728,\n",
       " 'visited': 729,\n",
       " 'various': 730,\n",
       " 'word': 731,\n",
       " 'grand': 732,\n",
       " 'unique': 733,\n",
       " 'flat': 734,\n",
       " 'discovery': 735,\n",
       " 'international': 736,\n",
       " 'renewed': 737,\n",
       " 'nh': 738,\n",
       " 'cinema': 739,\n",
       " 'somewhat': 740,\n",
       " 'edible': 741,\n",
       " 'borring': 742,\n",
       " 'perfume': 743,\n",
       " 'diffrent': 744,\n",
       " 'complained': 745,\n",
       " 'honeymoon': 746,\n",
       " 'honor': 747,\n",
       " 'literally': 748,\n",
       " 'de': 749,\n",
       " 'opera': 750,\n",
       " 'smelly': 751,\n",
       " 'highway': 752,\n",
       " 'review': 753,\n",
       " 'chair': 754,\n",
       " 'cabinet': 755,\n",
       " 'chain': 756,\n",
       " 'behind': 757,\n",
       " 'spend': 758,\n",
       " 'open': 759,\n",
       " 'honeymooner': 760,\n",
       " 'game': 761,\n",
       " 'adjusted': 762,\n",
       " 'splendid': 763,\n",
       " 'generous': 764,\n",
       " 'overal': 765,\n",
       " 'weather': 766,\n",
       " 'tidy': 767,\n",
       " 'preferred': 768,\n",
       " 'sunrise': 769,\n",
       " 'egyptian': 770,\n",
       " 'annoying': 771,\n",
       " 'continental': 772,\n",
       " 'boring': 773,\n",
       " 'opportunity': 774,\n",
       " 'started': 775,\n",
       " 'crazy': 776,\n",
       " 'tell': 777,\n",
       " 'wish': 778,\n",
       " 'responsible': 779,\n",
       " 'damage': 780,\n",
       " 'horrible': 781,\n",
       " 'bottle': 782,\n",
       " 'smart': 783,\n",
       " 'surely': 784,\n",
       " 'monmarte': 785,\n",
       " '95': 786,\n",
       " 'decided': 787,\n",
       " 'form': 788,\n",
       " 'district': 789,\n",
       " 'washbasin': 790,\n",
       " 'idea': 791,\n",
       " 'charme': 792,\n",
       " 'extended': 793,\n",
       " 'barcelona': 794,\n",
       " 'cafe': 795,\n",
       " 'coach': 796,\n",
       " 'interior': 797,\n",
       " '18th': 798,\n",
       " 'century': 799,\n",
       " 'equipped': 800,\n",
       " 'touristic': 801,\n",
       " 'rambla': 802,\n",
       " 'bilbao': 803,\n",
       " 'oriented': 804,\n",
       " 'known': 805,\n",
       " 'others': 806,\n",
       " 'brit': 807,\n",
       " 'mamlouk': 808,\n",
       " 'cold': 809,\n",
       " 'honest': 810,\n",
       " 'somewhere': 811,\n",
       " 'luxor': 812,\n",
       " 'seems': 813,\n",
       " 'run': 814,\n",
       " 'addition': 815,\n",
       " 'disgusting': 816,\n",
       " 'card': 817,\n",
       " 'rail': 818,\n",
       " 'cereal': 819,\n",
       " 'recent': 820,\n",
       " 'red': 821,\n",
       " 'flag': 822,\n",
       " 'pitch': 823,\n",
       " 'hope': 824,\n",
       " 'nightclub': 825,\n",
       " 'vegetarian': 826,\n",
       " 'restourant': 827,\n",
       " 'bring': 828,\n",
       " 'hallmark': 829,\n",
       " 'three': 830,\n",
       " 'considering': 831,\n",
       " 'received': 832,\n",
       " 'menu': 833,\n",
       " 'ne': 834,\n",
       " 'der': 835,\n",
       " 'messe': 836,\n",
       " 'hoped': 837,\n",
       " 'four': 838,\n",
       " 'jacuzzi': 839,\n",
       " 'disappointing': 840,\n",
       " 'comment': 841,\n",
       " 'columbus': 842,\n",
       " 'rebuilding': 843,\n",
       " 'held': 844,\n",
       " 'serve': 845,\n",
       " 'paper': 846,\n",
       " 'n': 847,\n",
       " 'apartment': 848,\n",
       " 'daily': 849,\n",
       " 'example': 850,\n",
       " 'stain': 851,\n",
       " 'eastern': 852,\n",
       " 'pleasantly': 853,\n",
       " 'sunbed': 854,\n",
       " 'steigenberger': 855,\n",
       " 'frankfurtter': 856,\n",
       " 'hof': 857,\n",
       " 'dj': 858,\n",
       " 'dance': 859,\n",
       " 'empty': 860,\n",
       " 'stupid': 861,\n",
       " 'shoe': 862,\n",
       " 'rock': 863,\n",
       " 'country': 864,\n",
       " 'using': 865,\n",
       " 'per': 866,\n",
       " 'checkout': 867,\n",
       " 'duty': 868,\n",
       " 'talking': 869,\n",
       " 'massage': 870,\n",
       " 'yard': 871,\n",
       " 'light': 872,\n",
       " 'minibar': 873,\n",
       " 'cuisine': 874,\n",
       " 'knew': 875,\n",
       " 'heaven': 876,\n",
       " 'luxurious': 877,\n",
       " 'liverpool': 878,\n",
       " 'travelling': 879,\n",
       " 'exceptional': 880,\n",
       " 'unconfortable': 881,\n",
       " 'beware': 882,\n",
       " 'dine': 883,\n",
       " 'swimmingpools': 884,\n",
       " 'normal': 885,\n",
       " 'beautifully': 886,\n",
       " 'disappointed': 887,\n",
       " '9': 888,\n",
       " 'pm': 889,\n",
       " 'eur': 890,\n",
       " 'confirmation': 891,\n",
       " 'deal': 892,\n",
       " 'transportation': 893,\n",
       " 'set': 894,\n",
       " 'teenager': 895,\n",
       " 'goodthe': 896,\n",
       " 'worst': 897,\n",
       " 'goavoid': 898,\n",
       " 'turkish': 899,\n",
       " 'riko': 900,\n",
       " 'intensive': 901,\n",
       " 'exception': 902,\n",
       " 'sell': 903,\n",
       " 'start': 904,\n",
       " 'excursion': 905,\n",
       " 'quick': 906,\n",
       " 'outskirt': 907,\n",
       " 'traveling': 908,\n",
       " 'swiming': 909,\n",
       " 'kindness': 910,\n",
       " 'nl': 911,\n",
       " 'throughout': 912,\n",
       " 'soft': 913,\n",
       " 'certain': 914,\n",
       " 'touch': 915,\n",
       " 'affordable': 916,\n",
       " 'able': 917,\n",
       " 'date': 918,\n",
       " 'bill': 919,\n",
       " 'end': 920,\n",
       " 'phone': 921,\n",
       " 'system': 922,\n",
       " 'tallinn': 923,\n",
       " 'flight': 924,\n",
       " 'express': 925,\n",
       " 'convention': 926,\n",
       " 'passed': 927,\n",
       " 'getting': 928,\n",
       " 'delivery': 929,\n",
       " 'maintained': 930,\n",
       " 'provides': 931,\n",
       " 'finished': 932,\n",
       " 'visiting': 933,\n",
       " 'snack': 934,\n",
       " 'ingeniously': 935,\n",
       " 'toast': 936,\n",
       " 'jam': 937,\n",
       " 'feast': 938,\n",
       " 'behold': 939,\n",
       " 'single': 940,\n",
       " 'wear': 941,\n",
       " 'etiquette': 942,\n",
       " 'additional': 943,\n",
       " 'definately': 944,\n",
       " 'repeat': 945,\n",
       " 'accommodating': 946,\n",
       " 'finding': 947,\n",
       " 'wireless': 948,\n",
       " 'corner': 949,\n",
       " 'ample': 950,\n",
       " 'function': 951,\n",
       " 'starting': 952,\n",
       " 'limited': 953,\n",
       " 'pond': 954,\n",
       " 'specially': 955,\n",
       " 'l': 956,\n",
       " '2012': 957,\n",
       " '2013': 958,\n",
       " 'spakenburg': 959,\n",
       " 'neat': 960,\n",
       " 'chocolate': 961,\n",
       " 'sprinkle': 962,\n",
       " 'hire': 963,\n",
       " 'returning': 964,\n",
       " 'television': 965,\n",
       " 'surprise': 966,\n",
       " 'ordinary': 967,\n",
       " 'terminal': 968,\n",
       " 'usual': 969,\n",
       " 'mostly': 970,\n",
       " 'excelent': 971,\n",
       " 'animator': 972,\n",
       " 'men': 973,\n",
       " 'york': 974,\n",
       " 'sightseeing': 975,\n",
       " 'said': 976,\n",
       " 'immaculately': 977,\n",
       " 'thoroughly': 978,\n",
       " 'happily': 979,\n",
       " '300': 980,\n",
       " 'completed': 981,\n",
       " '6': 982,\n",
       " 'uncomfortable': 983,\n",
       " 'sun': 984,\n",
       " 'necessary': 985,\n",
       " 'mother': 986,\n",
       " 'organized': 987,\n",
       " 'al': 988,\n",
       " 'trouble': 989,\n",
       " 'dream': 990,\n",
       " 'beginning': 991,\n",
       " 'attended': 992,\n",
       " 'bright': 993,\n",
       " 'later': 994,\n",
       " 'wanted': 995,\n",
       " 'missed': 996,\n",
       " 'centrale': 997,\n",
       " 'milan': 998,\n",
       " 'railway': 999,\n",
       " 'called': 1000,\n",
       " ...}"
      ]
     },
     "execution_count": 170,
     "metadata": {},
     "output_type": "execute_result"
    }
   ],
   "source": [
    "tokenizer.word_index"
   ]
  },
  {
   "cell_type": "code",
   "execution_count": 171,
   "metadata": {},
   "outputs": [
    {
     "name": "stdout",
     "output_type": "stream",
     "text": [
      "['yes really great experience visited various place wonderful part trip stay oberoi udaivilas luxury hotel'\n",
      " 'explain word grand place look'\n",
      " 'unique blend old world royal charm modern luxury' ...\n",
      " 'hospitality service highest level' 'definitely come back' 'best class']\n"
     ]
    }
   ],
   "source": [
    "print(df_lemm['Text'].values)"
   ]
  },
  {
   "cell_type": "code",
   "execution_count": 172,
   "metadata": {},
   "outputs": [
    {
     "data": {
      "text/plain": [
       "array([[  0,   0,   0, ...,  11, 183,   1],\n",
       "       [  0,   0,   0, ..., 732,  16, 184],\n",
       "       [  0,   0,   0, ..., 260,  59, 183],\n",
       "       ...,\n",
       "       [  0,   0,   0, ..., 713,  15, 286],\n",
       "       [  0,   0,   0, ...,  80, 106,  56],\n",
       "       [  0,   0,   0, ...,   0,  25, 692]])"
      ]
     },
     "execution_count": 172,
     "metadata": {},
     "output_type": "execute_result"
    }
   ],
   "source": [
    "X"
   ]
  },
  {
   "cell_type": "code",
   "execution_count": 173,
   "metadata": {},
   "outputs": [
    {
     "name": "stdout",
     "output_type": "stream",
     "text": [
      "Model: \"sequential_5\"\n",
      "_________________________________________________________________\n",
      "Layer (type)                 Output Shape              Param #   \n",
      "=================================================================\n",
      "embedding_5 (Embedding)      (None, 46, 100)           100000    \n",
      "_________________________________________________________________\n",
      "lstm_9 (LSTM)                (None, 46, 100)           80400     \n",
      "_________________________________________________________________\n",
      "lstm_10 (LSTM)               (None, 46, 50)            30200     \n",
      "_________________________________________________________________\n",
      "lstm_11 (LSTM)               (None, 25)                7600      \n",
      "_________________________________________________________________\n",
      "dense_7 (Dense)              (None, 1)                 26        \n",
      "=================================================================\n",
      "Total params: 218,226\n",
      "Trainable params: 218,226\n",
      "Non-trainable params: 0\n",
      "_________________________________________________________________\n",
      "None\n"
     ]
    }
   ],
   "source": [
    "embed_dim = 100\n",
    "lstm_out = 50\n",
    "batch_size = 32\n",
    "\n",
    "model = Sequential()\n",
    "model.add(Embedding(1000, embed_dim,input_length = X.shape[1]))\n",
    "model.add(LSTM(100,return_sequences=True))\n",
    "model.add(LSTM(50,return_sequences=True))\n",
    "model.add(LSTM(25))\n",
    "model.add(Dense(1,activation='sigmoid'))\n",
    "print(model.summary())"
   ]
  },
  {
   "cell_type": "code",
   "execution_count": 174,
   "metadata": {},
   "outputs": [],
   "source": [
    "Y = sentiment_data"
   ]
  },
  {
   "cell_type": "code",
   "execution_count": 175,
   "metadata": {},
   "outputs": [
    {
     "data": {
      "text/plain": [
       "array([[1],\n",
       "       [1],\n",
       "       [1],\n",
       "       ...,\n",
       "       [1],\n",
       "       [1],\n",
       "       [1]])"
      ]
     },
     "execution_count": 175,
     "metadata": {},
     "output_type": "execute_result"
    }
   ],
   "source": [
    "Y"
   ]
  },
  {
   "cell_type": "code",
   "execution_count": 176,
   "metadata": {},
   "outputs": [
    {
     "name": "stdout",
     "output_type": "stream",
     "text": [
      "Epoch 1/10\n",
      "40/40 [==============================] - 12s 152ms/step - loss: 0.6233 - acc: 0.6999 - val_loss: 0.5657 - val_acc: 0.7429\n",
      "Epoch 2/10\n",
      "40/40 [==============================] - 3s 87ms/step - loss: 0.5914 - acc: 0.7176 - val_loss: 0.5600 - val_acc: 0.7500\n",
      "Epoch 3/10\n",
      "40/40 [==============================] - 3s 82ms/step - loss: 0.5023 - acc: 0.7526 - val_loss: 0.4825 - val_acc: 0.7714\n",
      "Epoch 4/10\n",
      "40/40 [==============================] - 3s 81ms/step - loss: 0.3052 - acc: 0.8821 - val_loss: 0.5040 - val_acc: 0.7643\n",
      "Epoch 5/10\n",
      "40/40 [==============================] - 3s 80ms/step - loss: 0.2432 - acc: 0.9121 - val_loss: 0.5667 - val_acc: 0.7714\n",
      "Epoch 6/10\n",
      "40/40 [==============================] - 3s 80ms/step - loss: 0.1992 - acc: 0.9228 - val_loss: 0.6653 - val_acc: 0.7857\n",
      "Epoch 7/10\n",
      "40/40 [==============================] - 3s 79ms/step - loss: 0.1507 - acc: 0.9487 - val_loss: 0.7394 - val_acc: 0.7786\n",
      "Epoch 8/10\n",
      "40/40 [==============================] - 3s 79ms/step - loss: 0.1244 - acc: 0.9556 - val_loss: 0.7893 - val_acc: 0.7857\n",
      "Epoch 9/10\n",
      "40/40 [==============================] - 3s 80ms/step - loss: 0.1054 - acc: 0.9658 - val_loss: 0.8368 - val_acc: 0.7786\n",
      "Epoch 10/10\n",
      "40/40 [==============================] - 3s 82ms/step - loss: 0.0756 - acc: 0.9742 - val_loss: 0.9000 - val_acc: 0.7571\n"
     ]
    }
   ],
   "source": [
    "X_train, X_test, Y_train, Y_test = train_test_split(X,Y, test_size = 0.10, random_state = 42)\n",
    "\n",
    "model.compile(loss = 'binary_crossentropy', optimizer='adam',metrics = ['acc'])\n",
    "history = model.fit(X_train, Y_train,validation_data = (X_test,Y_test), epochs=10,batch_size =32)"
   ]
  },
  {
   "cell_type": "code",
   "execution_count": 177,
   "metadata": {},
   "outputs": [
    {
     "name": "stdout",
     "output_type": "stream",
     "text": [
      "5/5 [==============================] - 0s 24ms/step - loss: 0.9000 - acc: 0.7571\n",
      "score: 0.90\n",
      "accuracy: 0.76\n"
     ]
    }
   ],
   "source": [
    "score,acc_lstm = model.evaluate(X_test,Y_test,batch_size=32)\n",
    "print(\"score: %.2f\" %(score))\n",
    "print(\"accuracy: %.2f\" %(acc_lstm))"
   ]
  },
  {
   "cell_type": "code",
   "execution_count": 178,
   "metadata": {},
   "outputs": [
    {
     "data": {
      "image/png": "[encoded data removed]",
      "text/plain": [
       "<Figure size 432x360 with 1 Axes>"
      ]
     },
     "metadata": {
      "needs_background": "light"
     },
     "output_type": "display_data"
    }
   ],
   "source": [
    "import matplotlib.pyplot as plt \n",
    "plt.figure(figsize=(6,5))\n",
    "plt.plot(history.history['acc'], label='Training')\n",
    "plt.plot(history.history['val_acc'], label='Val')\n",
    "plt.title('Model Accuracy vs Epoch')\n",
    "plt.ylabel('Accuracy')\n",
    "plt.xlabel('Epochs')\n",
    "plt.legend()\n",
    "plt.show()"
   ]
  },
  {
   "cell_type": "code",
   "execution_count": 179,
   "metadata": {},
   "outputs": [
    {
     "name": "stderr",
     "output_type": "stream",
     "text": [
      "C:\\Users\\bluecoder\\anaconda3\\lib\\site-packages\\tensorflow\\python\\keras\\engine\\sequential.py:450: UserWarning: `model.predict_classes()` is deprecated and will be removed after 2021-01-01. Please use instead:* `np.argmax(model.predict(x), axis=-1)`,   if your model does multi-class classification   (e.g. if it uses a `softmax` last-layer activation).* `(model.predict(x) > 0.5).astype(\"int32\")`,   if your model does binary classification   (e.g. if it uses a `sigmoid` last-layer activation).\n",
      "  warnings.warn('`model.predict_classes()` is deprecated and '\n"
     ]
    },
    {
     "name": "stdout",
     "output_type": "stream",
     "text": [
      "Prediction:  [[1]\n",
      " [1]\n",
      " [0]\n",
      " [0]\n",
      " [0]]\n",
      "Actual: \n",
      " [[1]\n",
      " [1]\n",
      " [1]\n",
      " [0]\n",
      " [0]]\n"
     ]
    }
   ],
   "source": [
    "print(\"Prediction: \",model.predict_classes(X_test[5:10]))\n",
    "print(\"Actual: \\n\",Y_test[5:10])"
   ]
  },
  {
   "cell_type": "code",
   "execution_count": 346,
   "metadata": {},
   "outputs": [],
   "source": [
    "result[\"LSTM\"] = acc_lstm"
   ]
  },
  {
   "cell_type": "markdown",
   "metadata": {},
   "source": [
    "# CNN"
   ]
  },
  {
   "cell_type": "code",
   "execution_count": 182,
   "metadata": {},
   "outputs": [
    {
     "data": {
      "text/plain": [
       "array([[  0,   0,   0, ...,  11, 183,   1],\n",
       "       [  0,   0,   0, ..., 732,  16, 184],\n",
       "       [  0,   0,   0, ..., 260,  59, 183],\n",
       "       ...,\n",
       "       [  0,   0,   0, ..., 713,  15, 286],\n",
       "       [  0,   0,   0, ...,  80, 106,  56],\n",
       "       [  0,   0,   0, ...,   0,  25, 692]])"
      ]
     },
     "execution_count": 182,
     "metadata": {},
     "output_type": "execute_result"
    }
   ],
   "source": [
    "#using padded sequence\n",
    "X"
   ]
  },
  {
   "cell_type": "code",
   "execution_count": 183,
   "metadata": {},
   "outputs": [
    {
     "name": "stdout",
     "output_type": "stream",
     "text": [
      "Model: \"sequential_6\"\n",
      "_________________________________________________________________\n",
      "Layer (type)                 Output Shape              Param #   \n",
      "=================================================================\n",
      "embedding_6 (Embedding)      (None, 46, 100)           200000    \n",
      "_________________________________________________________________\n",
      "conv1d_4 (Conv1D)            (None, 44, 64)            19264     \n",
      "_________________________________________________________________\n",
      "max_pooling1d_4 (MaxPooling1 (None, 22, 64)            0         \n",
      "_________________________________________________________________\n",
      "conv1d_5 (Conv1D)            (None, 20, 32)            6176      \n",
      "_________________________________________________________________\n",
      "max_pooling1d_5 (MaxPooling1 (None, 10, 32)            0         \n",
      "_________________________________________________________________\n",
      "flatten_2 (Flatten)          (None, 320)               0         \n",
      "_________________________________________________________________\n",
      "dense_8 (Dense)              (None, 8)                 2568      \n",
      "_________________________________________________________________\n",
      "dense_9 (Dense)              (None, 1)                 9         \n",
      "=================================================================\n",
      "Total params: 228,017\n",
      "Trainable params: 228,017\n",
      "Non-trainable params: 0\n",
      "_________________________________________________________________\n"
     ]
    }
   ],
   "source": [
    "model_cnn = Sequential()\n",
    "model_cnn.add(Embedding(2000,embed_dim,input_length=X.shape[1]))\n",
    "model_cnn.add(Conv1D(64,3,activation='relu'))\n",
    "model_cnn.add(MaxPooling1D(2,2))\n",
    "model_cnn.add(Conv1D(32,3,activation='relu'))\n",
    "model_cnn.add(MaxPooling1D(2,2))\n",
    "model_cnn.add(Flatten())\n",
    "model_cnn.add(Dense(8,activation='relu'))\n",
    "model_cnn.add(Dense(1,activation='sigmoid'))\n",
    "model_cnn.compile(loss = 'binary_crossentropy', optimizer='adam',metrics = ['acc'])\n",
    "model_cnn.summary()"
   ]
  },
  {
   "cell_type": "code",
   "execution_count": 184,
   "metadata": {},
   "outputs": [
    {
     "name": "stdout",
     "output_type": "stream",
     "text": [
      "Epoch 1/10\n",
      "42/42 [==============================] - 1s 18ms/step - loss: 0.6355 - acc: 0.7237 - val_loss: 0.5778 - val_acc: 0.7286\n",
      "Epoch 2/10\n",
      "42/42 [==============================] - 0s 11ms/step - loss: 0.5684 - acc: 0.7329 - val_loss: 0.5149 - val_acc: 0.7286\n",
      "Epoch 3/10\n",
      "42/42 [==============================] - 0s 11ms/step - loss: 0.4822 - acc: 0.6959 - val_loss: 0.4276 - val_acc: 0.7429\n",
      "Epoch 4/10\n",
      "42/42 [==============================] - 0s 12ms/step - loss: 0.3255 - acc: 0.8434 - val_loss: 0.4895 - val_acc: 0.7857\n",
      "Epoch 5/10\n",
      "42/42 [==============================] - 0s 11ms/step - loss: 0.2780 - acc: 0.9072 - val_loss: 0.5285 - val_acc: 0.8000\n",
      "Epoch 6/10\n",
      "42/42 [==============================] - 0s 11ms/step - loss: 0.2510 - acc: 0.9413 - val_loss: 0.6172 - val_acc: 0.7714\n",
      "Epoch 7/10\n",
      "42/42 [==============================] - 0s 11ms/step - loss: 0.2221 - acc: 0.9605 - val_loss: 0.6319 - val_acc: 0.7714\n",
      "Epoch 8/10\n",
      "42/42 [==============================] - 0s 11ms/step - loss: 0.2242 - acc: 0.9619 - val_loss: 0.7572 - val_acc: 0.7857\n",
      "Epoch 9/10\n",
      "42/42 [==============================] - 0s 11ms/step - loss: 0.1724 - acc: 0.9576 - val_loss: 0.8536 - val_acc: 0.7143\n",
      "Epoch 10/10\n",
      "42/42 [==============================] - 0s 11ms/step - loss: 0.0894 - acc: 0.9742 - val_loss: 0.8794 - val_acc: 0.7429\n"
     ]
    }
   ],
   "source": [
    "X_train, X_test, Y_train, Y_test = train_test_split(X,Y, test_size = 0.05, random_state = 42)\n",
    "history_cnn = model_cnn.fit(X_train, Y_train,validation_data = (X_test,Y_test), epochs=10,batch_size =32)"
   ]
  },
  {
   "cell_type": "code",
   "execution_count": 114,
   "metadata": {},
   "outputs": [
    {
     "name": "stdout",
     "output_type": "stream",
     "text": [
      "3/3 [==============================] - 0s 7ms/step - loss: 0.7976 - acc: 0.7300\n",
      "score: 0.80\n",
      "accuracy: 0.73\n"
     ]
    }
   ],
   "source": [
    "score,acc_cnn = model_cnn.evaluate(X_test,Y_test,batch_size=32)\n",
    "print(\"score: %.2f\" %(score))\n",
    "print(\"accuracy: %.2f\" %(acc_cnn))"
   ]
  },
  {
   "cell_type": "code",
   "execution_count": 185,
   "metadata": {
    "scrolled": true
   },
   "outputs": [
    {
     "data": {
      "image/png": "[encoded data removed]",
      "text/plain": [
       "<Figure size 432x360 with 1 Axes>"
      ]
     },
     "metadata": {
      "needs_background": "light"
     },
     "output_type": "display_data"
    }
   ],
   "source": [
    "import matplotlib.pyplot as plt \n",
    "plt.figure(figsize=(6,5))\n",
    "\n",
    "plt.plot(history_cnn.history['acc'], label='Training')\n",
    "plt.plot(history_cnn.history['val_acc'], label='Val')\n",
    "plt.title('Model Accuracy vs Epoch')\n",
    "plt.ylabel('Accuracy')\n",
    "plt.xlabel('Epochs')\n",
    "plt.legend()\n",
    "plt.show()"
   ]
  },
  {
   "cell_type": "code",
   "execution_count": 255,
   "metadata": {},
   "outputs": [
    {
     "data": {
      "image/png": "[encoded data removed]",
      "text/plain": [
       "<Figure size 432x360 with 1 Axes>"
      ]
     },
     "metadata": {
      "needs_background": "light"
     },
     "output_type": "display_data"
    }
   ],
   "source": [
    "import matplotlib.pyplot as plt \n",
    "plt.figure(figsize=(6,5))\n",
    "\n",
    "plt.plot(history_cnn.history['loss'], label='Training')\n",
    "plt.plot(history_cnn.history['val_loss'], label='Val')\n",
    "plt.title('Model Loss vs Epoch')\n",
    "plt.ylabel('Loss')\n",
    "plt.xlabel('Epochs')\n",
    "plt.show()"
   ]
  },
  {
   "cell_type": "code",
   "execution_count": 347,
   "metadata": {},
   "outputs": [],
   "source": [
    "result[\"CNN\"] = acc"
   ]
  },
  {
   "cell_type": "code",
   "execution_count": 348,
   "metadata": {},
   "outputs": [
    {
     "data": {
      "text/plain": [
       "{'Logistic Regression BOW': 0.74,\n",
       " 'Logistic Regression TFidf': 0.74,\n",
       " 'SGD BOW': 0.76,\n",
       " 'SGD TF-IDF': 0.5,\n",
       " 'Naive bias BOW': 0.5,\n",
       " 'Naive bias TF-IDF': 0.5,\n",
       " 'LSTM': 0.7714285850524902,\n",
       " 'CNN': 0.7300000190734863}"
      ]
     },
     "execution_count": 348,
     "metadata": {},
     "output_type": "execute_result"
    }
   ],
   "source": [
    "result"
   ]
  },
  {
   "cell_type": "code",
   "execution_count": 350,
   "metadata": {},
   "outputs": [],
   "source": [
    "result_df = pd.DataFrame(result,index=[0])"
   ]
  },
  {
   "cell_type": "code",
   "execution_count": 351,
   "metadata": {},
   "outputs": [
    {
     "data": {
      "text/html": [
       "<div>\n",
       "<style scoped>\n",
       "    .dataframe tbody tr th:only-of-type {\n",
       "        vertical-align: middle;\n",
       "    }\n",
       "\n",
       "    .dataframe tbody tr th {\n",
       "        vertical-align: top;\n",
       "    }\n",
       "\n",
       "    .dataframe thead th {\n",
       "        text-align: right;\n",
       "    }\n",
       "</style>\n",
       "<table border=\"1\" class=\"dataframe\">\n",
       "  <thead>\n",
       "    <tr style=\"text-align: right;\">\n",
       "      <th></th>\n",
       "      <th>Logistic Regression BOW</th>\n",
       "      <th>Logistic Regression TFidf</th>\n",
       "      <th>SGD BOW</th>\n",
       "      <th>SGD TF-IDF</th>\n",
       "      <th>Naive bias BOW</th>\n",
       "      <th>Naive bias TF-IDF</th>\n",
       "      <th>LSTM</th>\n",
       "      <th>CNN</th>\n",
       "    </tr>\n",
       "  </thead>\n",
       "  <tbody>\n",
       "    <tr>\n",
       "      <th>0</th>\n",
       "      <td>0.74</td>\n",
       "      <td>0.74</td>\n",
       "      <td>0.76</td>\n",
       "      <td>0.5</td>\n",
       "      <td>0.5</td>\n",
       "      <td>0.5</td>\n",
       "      <td>0.771429</td>\n",
       "      <td>0.73</td>\n",
       "    </tr>\n",
       "  </tbody>\n",
       "</table>\n",
       "</div>"
      ],
      "text/plain": [
       "   Logistic Regression BOW  Logistic Regression TFidf  SGD BOW  SGD TF-IDF  \\\n",
       "0                     0.74                       0.74     0.76         0.5   \n",
       "\n",
       "   Naive bias BOW  Naive bias TF-IDF      LSTM   CNN  \n",
       "0             0.5                0.5  0.771429  0.73  "
      ]
     },
     "execution_count": 351,
     "metadata": {},
     "output_type": "execute_result"
    }
   ],
   "source": [
    "result_df"
   ]
  },
  {
   "cell_type": "code",
   "execution_count": 361,
   "metadata": {},
   "outputs": [
    {
     "data": {
      "image/png": "[encoded data removed]",
      "text/plain": [
       "<Figure size 864x576 with 1 Axes>"
      ]
     },
     "metadata": {
      "needs_background": "light"
     },
     "output_type": "display_data"
    }
   ],
   "source": [
    "names = list(result.keys())\n",
    "values = list(result.values())\n",
    "plt.figure(figsize=(12,8))\n",
    "plt.barh(range(len(result)), values, tick_label=names)\n",
    "plt.show()"
   ]
  },
  {
   "cell_type": "code",
   "execution_count": null,
   "metadata": {},
   "outputs": [],
   "source": []
  },
  {
   "cell_type": "markdown",
   "metadata": {},
   "source": [
    "# Model with multiple output"
   ]
  },
  {
   "cell_type": "code",
   "execution_count": 31,
   "metadata": {},
   "outputs": [
    {
     "data": {
      "text/plain": [
       "(1400, 3)"
      ]
     },
     "execution_count": 31,
     "metadata": {},
     "output_type": "execute_result"
    }
   ],
   "source": [
    "df_intensity.shape"
   ]
  },
  {
   "cell_type": "code",
   "execution_count": 32,
   "metadata": {},
   "outputs": [],
   "source": [
    "train_reviews_in = df_intensity.Text[:1350]\n",
    "test_reviews_in = df_intensity.Text[1350:]"
   ]
  },
  {
   "cell_type": "code",
   "execution_count": 33,
   "metadata": {},
   "outputs": [
    {
     "name": "stdout",
     "output_type": "stream",
     "text": [
      "(1350,)\n",
      "(50,)\n"
     ]
    }
   ],
   "source": [
    "print(train_reviews_in.shape)\n",
    "print(test_reviews_in.shape)"
   ]
  },
  {
   "cell_type": "code",
   "execution_count": 34,
   "metadata": {},
   "outputs": [],
   "source": [
    "#Count Vectorizer\n",
    "cv_in = CountVectorizer(min_df=0,max_df=1,binary=False,ngram_range=(1,3))\n",
    "cvin_train_reviews=cv_in.fit_transform(train_reviews_in)\n",
    "cvin_test_reviews=cv_in.transform(test_reviews_in)\n",
    "\n",
    "#TF-IDF vectorizer\n",
    "#It is used to convert text documents to matrix of tfidf features\n",
    "tv_in = TfidfVectorizer(min_df=0,max_df=1,use_idf=True,ngram_range=(1,3))\n",
    "tvin_train_reviews = tv_in.fit_transform(train_reviews_in)\n",
    "tvin_test_reviews = tv_in.transform(test_reviews_in)"
   ]
  },
  {
   "cell_type": "code",
   "execution_count": 35,
   "metadata": {},
   "outputs": [
    {
     "name": "stdout",
     "output_type": "stream",
     "text": [
      "Count Vectorizer:\n",
      "(1350, 13284)\n",
      "(50, 13284)\n",
      "Tf-Idf Vectorizer\n",
      "(1350, 13284)\n",
      "(50, 13284)\n"
     ]
    }
   ],
   "source": [
    "print('Count Vectorizer:')\n",
    "print(cvin_train_reviews.shape)\n",
    "print(cvin_test_reviews.shape)\n",
    "\n",
    "print(\"Tf-Idf Vectorizer\")\n",
    "print(tvin_train_reviews.shape)\n",
    "print(tvin_test_reviews.shape)\n"
   ]
  },
  {
   "cell_type": "code",
   "execution_count": 36,
   "metadata": {},
   "outputs": [
    {
     "name": "stdout",
     "output_type": "stream",
     "text": [
      "(1350, 2)\n",
      "(50, 2)\n"
     ]
    }
   ],
   "source": [
    "#Spliting the sentiment data\n",
    "train_sentiments_in = df_intensity.iloc[:1350,1:]\n",
    "test_sentiments_in = df_intensity.iloc[1350:,1:]\n",
    "print(train_sentiments_in.shape)\n",
    "print(test_sentiments_in.shape)"
   ]
  },
  {
   "cell_type": "code",
   "execution_count": 37,
   "metadata": {},
   "outputs": [],
   "source": []
  },
  {
   "cell_type": "markdown",
   "metadata": {},
   "source": [
    "## Random forest classifier"
   ]
  },
  {
   "cell_type": "code",
   "execution_count": 54,
   "metadata": {},
   "outputs": [
    {
     "data": {
      "text/plain": [
       "RandomForestClassifier(max_depth=2, n_estimators=5)"
      ]
     },
     "execution_count": 54,
     "metadata": {},
     "output_type": "execute_result"
    }
   ],
   "source": [
    "from sklearn.ensemble import RandomForestClassifier\n",
    "from sklearn.model_selection import cross_val_score\n",
    "#scores = cross_val_score(rf_in,cvin_train_reviews,train_sentiments_in,cv=5)"
   ]
  },
  {
   "cell_type": "code",
   "execution_count": 50,
   "metadata": {},
   "outputs": [],
   "source": [
    "def print_results(results):\n",
    "    print('BEST PARAMS: {}\\n'.format(results.best_params_))\n",
    "\n",
    "    means = results.cv_results_['mean_test_score']\n",
    "    stds = results.cv_results_['std_test_score']\n",
    "    for mean, std, params in zip(means, stds, results.cv_results_['params']):\n",
    "        print('{} (+/-{}) for {}'.format(round(mean, 3), round(std * 2, 3), params))"
   ]
  },
  {
   "cell_type": "code",
   "execution_count": 52,
   "metadata": {},
   "outputs": [
    {
     "name": "stdout",
     "output_type": "stream",
     "text": [
      "BEST PARAMS: {'max_depth': 2, 'n_estimators': 5}\n",
      "\n",
      "0.44 (+/-0.035) for {'max_depth': 2, 'n_estimators': 5}\n",
      "0.44 (+/-0.035) for {'max_depth': 2, 'n_estimators': 50}\n",
      "0.44 (+/-0.035) for {'max_depth': 2, 'n_estimators': 100}\n",
      "0.44 (+/-0.035) for {'max_depth': 10, 'n_estimators': 5}\n",
      "0.44 (+/-0.035) for {'max_depth': 10, 'n_estimators': 50}\n",
      "0.44 (+/-0.035) for {'max_depth': 10, 'n_estimators': 100}\n",
      "0.44 (+/-0.035) for {'max_depth': 20, 'n_estimators': 5}\n",
      "0.44 (+/-0.035) for {'max_depth': 20, 'n_estimators': 50}\n",
      "0.44 (+/-0.035) for {'max_depth': 20, 'n_estimators': 100}\n",
      "0.304 (+/-0.107) for {'max_depth': None, 'n_estimators': 5}\n",
      "0.304 (+/-0.107) for {'max_depth': None, 'n_estimators': 50}\n",
      "0.304 (+/-0.107) for {'max_depth': None, 'n_estimators': 100}\n"
     ]
    }
   ],
   "source": [
    "from sklearn.model_selection import GridSearchCV\n",
    "\n",
    "rf = RandomForestClassifier()\n",
    "parameters = {\n",
    "    'n_estimators': [5,50,100],\n",
    "    'max_depth': [2,10,20,None]\n",
    "}\n",
    "\n",
    "cv = GridSearchCV(rf,parameters)\n",
    "cv.fit(cvin_train_reviews,train_sentiments_in)\n",
    "print_results(cv)"
   ]
  },
  {
   "cell_type": "code",
   "execution_count": 55,
   "metadata": {},
   "outputs": [
    {
     "data": {
      "text/plain": [
       "RandomForestClassifier(max_depth=2, n_estimators=5)"
      ]
     },
     "execution_count": 55,
     "metadata": {},
     "output_type": "execute_result"
    }
   ],
   "source": [
    "rf_in = RandomForestClassifier(n_estimators=5,max_depth=2)\n",
    "rf_in.fit(cvin_train_reviews,train_sentiments_in)"
   ]
  },
  {
   "cell_type": "code",
   "execution_count": 57,
   "metadata": {},
   "outputs": [
    {
     "name": "stdout",
     "output_type": "stream",
     "text": [
      "Random forest Score: 44.0\n"
     ]
    }
   ],
   "source": [
    "# Accuracy \n",
    "y_predict = rf_in.predict(cvin_test_reviews)\n",
    "accuracy = accuracy_score(test_sentiments_in, y_predict)\n",
    "print(\"Random forest Score:\",accuracy*100)"
   ]
  },
  {
   "cell_type": "code",
   "execution_count": 58,
   "metadata": {},
   "outputs": [
    {
     "name": "stdout",
     "output_type": "stream",
     "text": [
      "              precision    recall  f1-score   support\n",
      "\n",
      "           0       0.74      1.00      0.85        37\n",
      "           1       0.00      0.00      0.00        16\n",
      "\n",
      "   micro avg       0.74      0.70      0.72        53\n",
      "   macro avg       0.37      0.50      0.43        53\n",
      "weighted avg       0.52      0.70      0.59        53\n",
      " samples avg       0.74      0.59      0.64        53\n",
      "\n"
     ]
    }
   ],
   "source": [
    "from sklearn import metrics\n",
    "class_wise = metrics.classification_report(y_true=test_sentiments_in, y_pred=rf_in.predict(cvin_test_reviews))\n",
    "print(class_wise)"
   ]
  },
  {
   "cell_type": "code",
   "execution_count": 59,
   "metadata": {},
   "outputs": [
    {
     "data": {
      "text/html": [
       "<div>\n",
       "<style scoped>\n",
       "    .dataframe tbody tr th:only-of-type {\n",
       "        vertical-align: middle;\n",
       "    }\n",
       "\n",
       "    .dataframe tbody tr th {\n",
       "        vertical-align: top;\n",
       "    }\n",
       "\n",
       "    .dataframe thead th {\n",
       "        text-align: right;\n",
       "    }\n",
       "</style>\n",
       "<table border=\"1\" class=\"dataframe\">\n",
       "  <thead>\n",
       "    <tr style=\"text-align: right;\">\n",
       "      <th></th>\n",
       "      <th>0</th>\n",
       "      <th>1</th>\n",
       "    </tr>\n",
       "  </thead>\n",
       "  <tbody>\n",
       "    <tr>\n",
       "      <th>0</th>\n",
       "      <td>1</td>\n",
       "      <td>0</td>\n",
       "    </tr>\n",
       "    <tr>\n",
       "      <th>1</th>\n",
       "      <td>1</td>\n",
       "      <td>0</td>\n",
       "    </tr>\n",
       "    <tr>\n",
       "      <th>2</th>\n",
       "      <td>1</td>\n",
       "      <td>0</td>\n",
       "    </tr>\n",
       "    <tr>\n",
       "      <th>3</th>\n",
       "      <td>1</td>\n",
       "      <td>0</td>\n",
       "    </tr>\n",
       "    <tr>\n",
       "      <th>4</th>\n",
       "      <td>1</td>\n",
       "      <td>0</td>\n",
       "    </tr>\n",
       "  </tbody>\n",
       "</table>\n",
       "</div>"
      ],
      "text/plain": [
       "   0  1\n",
       "0  1  0\n",
       "1  1  0\n",
       "2  1  0\n",
       "3  1  0\n",
       "4  1  0"
      ]
     },
     "execution_count": 59,
     "metadata": {},
     "output_type": "execute_result"
    }
   ],
   "source": [
    "predictions = pd.DataFrame(y_predict)\n",
    "predictions.head()"
   ]
  },
  {
   "cell_type": "code",
   "execution_count": 60,
   "metadata": {},
   "outputs": [
    {
     "data": {
      "text/html": [
       "<div>\n",
       "<style scoped>\n",
       "    .dataframe tbody tr th:only-of-type {\n",
       "        vertical-align: middle;\n",
       "    }\n",
       "\n",
       "    .dataframe tbody tr th {\n",
       "        vertical-align: top;\n",
       "    }\n",
       "\n",
       "    .dataframe thead th {\n",
       "        text-align: right;\n",
       "    }\n",
       "</style>\n",
       "<table border=\"1\" class=\"dataframe\">\n",
       "  <thead>\n",
       "    <tr style=\"text-align: right;\">\n",
       "      <th></th>\n",
       "      <th>Polarity</th>\n",
       "      <th>Intensity</th>\n",
       "    </tr>\n",
       "  </thead>\n",
       "  <tbody>\n",
       "    <tr>\n",
       "      <th>0</th>\n",
       "      <td>1</td>\n",
       "      <td>0</td>\n",
       "    </tr>\n",
       "    <tr>\n",
       "      <th>1</th>\n",
       "      <td>1</td>\n",
       "      <td>0</td>\n",
       "    </tr>\n",
       "    <tr>\n",
       "      <th>2</th>\n",
       "      <td>1</td>\n",
       "      <td>1</td>\n",
       "    </tr>\n",
       "    <tr>\n",
       "      <th>3</th>\n",
       "      <td>1</td>\n",
       "      <td>1</td>\n",
       "    </tr>\n",
       "    <tr>\n",
       "      <th>4</th>\n",
       "      <td>0</td>\n",
       "      <td>0</td>\n",
       "    </tr>\n",
       "  </tbody>\n",
       "</table>\n",
       "</div>"
      ],
      "text/plain": [
       "   Polarity  Intensity\n",
       "0         1          0\n",
       "1         1          0\n",
       "2         1          1\n",
       "3         1          1\n",
       "4         0          0"
      ]
     },
     "execution_count": 60,
     "metadata": {},
     "output_type": "execute_result"
    }
   ],
   "source": [
    "predictions = pd.DataFrame(train_sentiments_in)\n",
    "predictions.head()"
   ]
  },
  {
   "cell_type": "code",
   "execution_count": null,
   "metadata": {},
   "outputs": [],
   "source": []
  },
  {
   "cell_type": "markdown",
   "metadata": {},
   "source": [
    "### LSTM"
   ]
  },
  {
   "cell_type": "code",
   "execution_count": 62,
   "metadata": {
    "scrolled": false
   },
   "outputs": [
    {
     "name": "stdout",
     "output_type": "stream",
     "text": [
      "0       ye realli great experi visit variou place wond...\n",
      "1                           explain word grand place look\n",
      "2         uniqu blend old world royal charm modern luxuri\n",
      "3                             definit go whenev get chanc\n",
      "4                                  bit pricey away center\n",
      "                              ...                        \n",
      "1345                                  owner speak english\n",
      "1346                                          reciev bill\n",
      "1347                                  room loud old winow\n",
      "1348                          room dirti bug run th floor\n",
      "1349    bath clean reciev room empti shower bottl gues...\n",
      "Name: Text, Length: 1350, dtype: object\n"
     ]
    }
   ],
   "source": [
    "print(train_reviews_in)"
   ]
  },
  {
   "cell_type": "code",
   "execution_count": 93,
   "metadata": {},
   "outputs": [
    {
     "data": {
      "text/plain": [
       "61"
      ]
     },
     "execution_count": 93,
     "metadata": {},
     "output_type": "execute_result"
    }
   ],
   "source": [
    "total = df_intensity.Text.values\n",
    "max_len = max([len(x.split()) for x in total])\n",
    "max_len"
   ]
  },
  {
   "cell_type": "code",
   "execution_count": 94,
   "metadata": {},
   "outputs": [],
   "source": [
    "tokenizer = Tokenizer(num_words=1500, lower=True,split=' ')\n",
    "tokenizer.fit_on_texts(df_intensity['Text'].values)\n",
    "\n",
    "X = tokenizer.texts_to_sequences(df_intensity['Text'].values)\n",
    "X = pad_sequences(X,maxlen = max_len)"
   ]
  },
  {
   "cell_type": "code",
   "execution_count": 64,
   "metadata": {},
   "outputs": [
    {
     "data": {
      "text/plain": [
       "{'hotel': 1,\n",
       " 'room': 2,\n",
       " 'good': 3,\n",
       " 'staff': 4,\n",
       " 'stay': 5,\n",
       " 'nice': 6,\n",
       " 'great': 7,\n",
       " 'clean': 8,\n",
       " 'food': 9,\n",
       " 'locat': 10,\n",
       " 'friendli': 11,\n",
       " 'breakfast': 12,\n",
       " 'excel': 13,\n",
       " 'restaur': 14,\n",
       " 'servic': 15,\n",
       " 'well': 16,\n",
       " 'place': 17,\n",
       " 'would': 18,\n",
       " 'beach': 19,\n",
       " 'realli': 20,\n",
       " 'one': 21,\n",
       " 'small': 22,\n",
       " 'help': 23,\n",
       " 'area': 24,\n",
       " 'holiday': 25,\n",
       " 'best': 26,\n",
       " 'close': 27,\n",
       " 'walk': 28,\n",
       " 'citi': 29,\n",
       " 'recommend': 30,\n",
       " 'like': 31,\n",
       " 'bathroom': 32,\n",
       " 'time': 33,\n",
       " 'also': 34,\n",
       " 'bar': 35,\n",
       " 'u': 36,\n",
       " 'comfort': 37,\n",
       " 'go': 38,\n",
       " 'pool': 39,\n",
       " 'everyth': 40,\n",
       " 'park': 41,\n",
       " 'even': 42,\n",
       " 'free': 43,\n",
       " 'day': 44,\n",
       " 'price': 45,\n",
       " 'lot': 46,\n",
       " 'old': 47,\n",
       " 'next': 48,\n",
       " 'littl': 49,\n",
       " 'star': 50,\n",
       " 'choic': 51,\n",
       " 'alway': 52,\n",
       " 'night': 53,\n",
       " 'enjoy': 54,\n",
       " 'look': 55,\n",
       " 'get': 56,\n",
       " 'view': 57,\n",
       " 'work': 58,\n",
       " 'bed': 59,\n",
       " 'love': 60,\n",
       " 'back': 61,\n",
       " 'center': 62,\n",
       " 'quit': 63,\n",
       " 'offer': 64,\n",
       " 'perfect': 65,\n",
       " 'could': 66,\n",
       " 'around': 67,\n",
       " 'need': 68,\n",
       " 'relax': 69,\n",
       " 'beauti': 70,\n",
       " 'busi': 71,\n",
       " 'modern': 72,\n",
       " 'book': 73,\n",
       " 'expect': 74,\n",
       " 'come': 75,\n",
       " 'visit': 76,\n",
       " 'wonder': 77,\n",
       " 'facil': 78,\n",
       " 'better': 79,\n",
       " 'shop': 80,\n",
       " 'minut': 81,\n",
       " '2': 82,\n",
       " 'peopl': 83,\n",
       " 'thing': 84,\n",
       " 'guest': 85,\n",
       " 'definit': 86,\n",
       " 'enough': 87,\n",
       " 'ever': 88,\n",
       " 'station': 89,\n",
       " 'big': 90,\n",
       " 'bit': 91,\n",
       " 'everi': 92,\n",
       " 'use': 93,\n",
       " 'poor': 94,\n",
       " 'trip': 95,\n",
       " 'made': 96,\n",
       " 'near': 97,\n",
       " 'qualiti': 98,\n",
       " 'floor': 99,\n",
       " 'money': 100,\n",
       " 'fantast': 101,\n",
       " 'recept': 102,\n",
       " 'centr': 103,\n",
       " 'ok': 104,\n",
       " 'welcom': 105,\n",
       " 'gener': 106,\n",
       " 'resort': 107,\n",
       " 'valu': 108,\n",
       " 'never': 109,\n",
       " '5': 110,\n",
       " 'mani': 111,\n",
       " 'famili': 112,\n",
       " 'quiet': 113,\n",
       " 'much': 114,\n",
       " 'street': 115,\n",
       " 'top': 116,\n",
       " 'english': 117,\n",
       " 'standard': 118,\n",
       " 'make': 119,\n",
       " 'travel': 120,\n",
       " 'manag': 121,\n",
       " 'distanc': 122,\n",
       " 'though': 123,\n",
       " 'although': 124,\n",
       " 'especi': 125,\n",
       " 'first': 126,\n",
       " 'anim': 127,\n",
       " 'check': 128,\n",
       " 'spa': 129,\n",
       " 'airport': 130,\n",
       " 'bu': 131,\n",
       " 'kind': 132,\n",
       " 'basic': 133,\n",
       " 'take': 134,\n",
       " 'avail': 135,\n",
       " 'year': 136,\n",
       " 'amaz': 137,\n",
       " 'person': 138,\n",
       " 'larg': 139,\n",
       " 'child': 140,\n",
       " 'speak': 141,\n",
       " 'tri': 142,\n",
       " 'cheap': 143,\n",
       " 'noth': 144,\n",
       " 'howev': 145,\n",
       " 'find': 146,\n",
       " 'central': 147,\n",
       " 'bad': 148,\n",
       " 'coffe': 149,\n",
       " 'short': 150,\n",
       " 'drink': 151,\n",
       " '4': 152,\n",
       " 'want': 153,\n",
       " 'two': 154,\n",
       " 'luxuri': 155,\n",
       " 'away': 156,\n",
       " 'outsid': 157,\n",
       " 'easi': 158,\n",
       " 'side': 159,\n",
       " 'shower': 160,\n",
       " 'overal': 161,\n",
       " 'main': 162,\n",
       " 'russian': 163,\n",
       " 'lobbi': 164,\n",
       " 'weekend': 165,\n",
       " 'budget': 166,\n",
       " 'provid': 167,\n",
       " 'team': 168,\n",
       " 'tv': 169,\n",
       " 'sea': 170,\n",
       " 'noisi': 171,\n",
       " 'pari': 172,\n",
       " 'condit': 173,\n",
       " 'gym': 174,\n",
       " 'internet': 175,\n",
       " 'connect': 176,\n",
       " 'whole': 177,\n",
       " 'coupl': 178,\n",
       " 'varieti': 179,\n",
       " 'found': 180,\n",
       " 'space': 181,\n",
       " 'ask': 182,\n",
       " 'access': 183,\n",
       " 'new': 184,\n",
       " 'absolut': 185,\n",
       " 'option': 186,\n",
       " 'ground': 187,\n",
       " 'worth': 188,\n",
       " 'hour': 189,\n",
       " 'experi': 190,\n",
       " 'part': 191,\n",
       " 'swim': 192,\n",
       " 'nois': 193,\n",
       " 'stop': 194,\n",
       " 'includ': 195,\n",
       " 'spaciou': 196,\n",
       " 'extrem': 197,\n",
       " 'amsterdam': 198,\n",
       " 'full': 199,\n",
       " 'except': 200,\n",
       " 'interest': 201,\n",
       " 'music': 202,\n",
       " 'etc': 203,\n",
       " 'front': 204,\n",
       " 'fine': 205,\n",
       " 'dinner': 206,\n",
       " 'five': 207,\n",
       " 'town': 208,\n",
       " 'rest': 209,\n",
       " 'posit': 210,\n",
       " 'morn': 211,\n",
       " 'super': 212,\n",
       " 'host': 213,\n",
       " 'train': 214,\n",
       " 'think': 215,\n",
       " 'car': 216,\n",
       " 'decor': 217,\n",
       " 'inclus': 218,\n",
       " 'dirti': 219,\n",
       " 'thank': 220,\n",
       " 'way': 221,\n",
       " 'cours': 222,\n",
       " 'say': 223,\n",
       " 'last': 224,\n",
       " 'differ': 225,\n",
       " 'le': 226,\n",
       " 'size': 227,\n",
       " 'loud': 228,\n",
       " 'rate': 229,\n",
       " 'expens': 230,\n",
       " 'long': 231,\n",
       " 'attent': 232,\n",
       " '3': 233,\n",
       " 'helpful': 234,\n",
       " 'situat': 235,\n",
       " 'serv': 236,\n",
       " 'pleasant': 237,\n",
       " 'water': 238,\n",
       " 'sauna': 239,\n",
       " 'conveni': 240,\n",
       " 'delici': 241,\n",
       " 'tast': 242,\n",
       " 'easili': 243,\n",
       " 'door': 244,\n",
       " 'far': 245,\n",
       " 'pretti': 246,\n",
       " 'problem': 247,\n",
       " 'special': 248,\n",
       " 'tourist': 249,\n",
       " 'renov': 250,\n",
       " 'build': 251,\n",
       " 'surround': 252,\n",
       " 'dana': 253,\n",
       " 'without': 254,\n",
       " 'eat': 255,\n",
       " 'got': 256,\n",
       " 'tea': 257,\n",
       " 'sure': 258,\n",
       " 'still': 259,\n",
       " 'rather': 260,\n",
       " 'equip': 261,\n",
       " 'atmospher': 262,\n",
       " 'disappoint': 263,\n",
       " 'feel': 264,\n",
       " 'month': 265,\n",
       " 'hot': 266,\n",
       " 'hear': 267,\n",
       " 'bread': 268,\n",
       " 'smile': 269,\n",
       " 'week': 270,\n",
       " 'world': 271,\n",
       " '20': 272,\n",
       " 'wall': 273,\n",
       " 'complain': 274,\n",
       " 'crowd': 275,\n",
       " 'furnish': 276,\n",
       " 'highli': 277,\n",
       " 'step': 278,\n",
       " 'probabl': 279,\n",
       " 'sever': 280,\n",
       " 'decent': 281,\n",
       " 'within': 282,\n",
       " 'arriv': 283,\n",
       " 'surpris': 284,\n",
       " 'wifi': 285,\n",
       " 'spot': 286,\n",
       " 'strip': 287,\n",
       " 'right': 288,\n",
       " 'reserv': 289,\n",
       " 'balconi': 290,\n",
       " 'b': 291,\n",
       " 'meal': 292,\n",
       " 'personnel': 293,\n",
       " 'low': 294,\n",
       " 'charg': 295,\n",
       " 'waiter': 296,\n",
       " 'impress': 297,\n",
       " 'took': 298,\n",
       " 'level': 299,\n",
       " 'member': 300,\n",
       " 'metro': 301,\n",
       " 'vacat': 302,\n",
       " 'earli': 303,\n",
       " 'buffet': 304,\n",
       " 'receptionist': 305,\n",
       " 'public': 306,\n",
       " 'cart': 307,\n",
       " 'warm': 308,\n",
       " 'toilet': 309,\n",
       " 'tabl': 310,\n",
       " 'reason': 311,\n",
       " 'smell': 312,\n",
       " 'across': 313,\n",
       " 'pay': 314,\n",
       " 'care': 315,\n",
       " 'dine': 316,\n",
       " 'transport': 317,\n",
       " 'shuttl': 318,\n",
       " 'instead': 319,\n",
       " 'tram': 320,\n",
       " 'loung': 321,\n",
       " 'smaller': 322,\n",
       " 'superb': 323,\n",
       " 'eleg': 324,\n",
       " 'bath': 325,\n",
       " 'fun': 326,\n",
       " 'air': 327,\n",
       " 'comfi': 328,\n",
       " 'alreadi': 329,\n",
       " 'window': 330,\n",
       " 'custom': 331,\n",
       " 'german': 332,\n",
       " 'cleanli': 333,\n",
       " 'someth': 334,\n",
       " 'style': 335,\n",
       " 'possibl': 336,\n",
       " 'ideal': 337,\n",
       " 'fish': 338,\n",
       " 'start': 339,\n",
       " 'paid': 340,\n",
       " 'design': 341,\n",
       " 'villa': 342,\n",
       " 'left': 343,\n",
       " 'euro': 344,\n",
       " 'garden': 345,\n",
       " 'hurghada': 346,\n",
       " 'la': 347,\n",
       " 'slow': 348,\n",
       " 'talk': 349,\n",
       " 'break': 350,\n",
       " '10': 351,\n",
       " 'cool': 352,\n",
       " 'supermarket': 353,\n",
       " 'middl': 354,\n",
       " 'home': 355,\n",
       " 'date': 356,\n",
       " 'select': 357,\n",
       " 'amp': 358,\n",
       " 'frankfurt': 359,\n",
       " 'return': 360,\n",
       " 'desk': 361,\n",
       " 'almost': 362,\n",
       " 'polit': 363,\n",
       " 'sleep': 364,\n",
       " 'attract': 365,\n",
       " 'anyth': 366,\n",
       " 'accommod': 367,\n",
       " 'friend': 368,\n",
       " 'dog': 369,\n",
       " 'everybodi': 370,\n",
       " 'hostel': 371,\n",
       " 'kln': 372,\n",
       " 'know': 373,\n",
       " 'advantag': 374,\n",
       " 'subway': 375,\n",
       " 'huge': 376,\n",
       " 'mayb': 377,\n",
       " 'entertain': 378,\n",
       " 'languag': 379,\n",
       " 'recent': 380,\n",
       " 'entranc': 381,\n",
       " 'luggag': 382,\n",
       " 'felt': 383,\n",
       " 'pleasur': 384,\n",
       " 'fast': 385,\n",
       " 'key': 386,\n",
       " 'happi': 387,\n",
       " 'inform': 388,\n",
       " 'lack': 389,\n",
       " 'run': 390,\n",
       " 'rang': 391,\n",
       " 'bike': 392,\n",
       " 'club': 393,\n",
       " 'french': 394,\n",
       " 'seem': 395,\n",
       " 'machin': 396,\n",
       " 'towel': 397,\n",
       " 'anoth': 398,\n",
       " 'hop': 399,\n",
       " 'palac': 400,\n",
       " 'amen': 401,\n",
       " 'kid': 402,\n",
       " 'give': 403,\n",
       " 'averag': 404,\n",
       " 'rude': 405,\n",
       " 'egypt': 406,\n",
       " 'avoid': 407,\n",
       " 'thu': 408,\n",
       " 'hard': 409,\n",
       " 'hospit': 410,\n",
       " 'yet': 411,\n",
       " 'activ': 412,\n",
       " 'awesom': 413,\n",
       " 'due': 414,\n",
       " 'import': 415,\n",
       " 'high': 416,\n",
       " 'disco': 417,\n",
       " 'sight': 418,\n",
       " 'profession': 419,\n",
       " '7': 420,\n",
       " 'forward': 421,\n",
       " 'quickli': 422,\n",
       " 'cook': 423,\n",
       " 'brilliant': 424,\n",
       " '1': 425,\n",
       " 'okay': 426,\n",
       " 'effici': 427,\n",
       " 'alright': 428,\n",
       " 'charm': 429,\n",
       " 'hand': 430,\n",
       " 'stuff': 431,\n",
       " 'real': 432,\n",
       " 'reach': 433,\n",
       " 'honeymoon': 434,\n",
       " 'enter': 435,\n",
       " '8': 436,\n",
       " 'min': 437,\n",
       " 'experienc': 438,\n",
       " 'dust': 439,\n",
       " 'item': 440,\n",
       " 'plu': 441,\n",
       " 'mess': 442,\n",
       " 'tire': 443,\n",
       " 'cannot': 444,\n",
       " 'el': 445,\n",
       " 'keep': 446,\n",
       " 'climb': 447,\n",
       " 'elev': 448,\n",
       " 'young': 449,\n",
       " 'paradis': 450,\n",
       " 'knowledg': 451,\n",
       " 'foreign': 452,\n",
       " 'iron': 453,\n",
       " 'meet': 454,\n",
       " 'fit': 455,\n",
       " 'favourit': 456,\n",
       " 'see': 457,\n",
       " 'detail': 458,\n",
       " 'despit': 459,\n",
       " 'must': 460,\n",
       " 'went': 461,\n",
       " 'spent': 462,\n",
       " 'vip': 463,\n",
       " 'mini': 464,\n",
       " 'wine': 465,\n",
       " 'treatment': 466,\n",
       " 'treat': 467,\n",
       " 'summer': 468,\n",
       " 'execut': 469,\n",
       " 'block': 470,\n",
       " 'insid': 471,\n",
       " 'tour': 472,\n",
       " 'unfortun': 473,\n",
       " 'linen': 474,\n",
       " 'dress': 475,\n",
       " 'difficult': 476,\n",
       " 'aw': 477,\n",
       " 'mainli': 478,\n",
       " 'plenti': 479,\n",
       " 'addit': 480,\n",
       " 'least': 481,\n",
       " 'steam': 482,\n",
       " 'request': 483,\n",
       " 'hope': 484,\n",
       " 'unfriendli': 485,\n",
       " 'attitud': 486,\n",
       " 'choos': 487,\n",
       " 'extra': 488,\n",
       " 'local': 489,\n",
       " 'drive': 490,\n",
       " 'dorint': 491,\n",
       " 'cologn': 492,\n",
       " 'miss': 493,\n",
       " 'might': 494,\n",
       " 'sheet': 495,\n",
       " 'repeat': 496,\n",
       " 'group': 497,\n",
       " 'line': 498,\n",
       " 'tini': 499,\n",
       " 'point': 500,\n",
       " 'second': 501,\n",
       " 'madrid': 502,\n",
       " 'otherwis': 503,\n",
       " 'prepar': 504,\n",
       " 'holland': 505,\n",
       " 'satisfi': 506,\n",
       " 'lyon': 507,\n",
       " 'sort': 508,\n",
       " 'may': 509,\n",
       " '12': 510,\n",
       " 'ticket': 511,\n",
       " 'attend': 512,\n",
       " 'pas': 513,\n",
       " 'egg': 514,\n",
       " 'scrambl': 515,\n",
       " 'wi': 516,\n",
       " 'fi': 517,\n",
       " 'everywher': 518,\n",
       " 'en': 519,\n",
       " 'suit': 520,\n",
       " 'doubl': 521,\n",
       " 'number': 522,\n",
       " 'alphon': 523,\n",
       " 'martha': 524,\n",
       " 'cancel': 525,\n",
       " 'complaint': 526,\n",
       " 'juic': 527,\n",
       " 'bulgaria': 528,\n",
       " 'biggest': 529,\n",
       " 'terribl': 530,\n",
       " 'age': 531,\n",
       " 'hall': 532,\n",
       " 'chef': 533,\n",
       " 'river': 534,\n",
       " 'procedur': 535,\n",
       " 'chanc': 536,\n",
       " '30': 537,\n",
       " 'mattress': 538,\n",
       " 'colleagu': 539,\n",
       " 'intern': 540,\n",
       " 'carlton': 541,\n",
       " 'market': 542,\n",
       " 'nearbi': 543,\n",
       " 'squar': 544,\n",
       " 'architectur': 545,\n",
       " 'thought': 546,\n",
       " 'someon': 547,\n",
       " 'glad': 548,\n",
       " 'stress': 549,\n",
       " 'guy': 550,\n",
       " 'romant': 551,\n",
       " 'damag': 552,\n",
       " 'mean': 553,\n",
       " 'cozi': 554,\n",
       " 'open': 555,\n",
       " 'happen': 556,\n",
       " 'seven': 557,\n",
       " 'employe': 558,\n",
       " 'adjust': 559,\n",
       " 'via': 560,\n",
       " 'road': 561,\n",
       " 'siena': 562,\n",
       " 'owner': 563,\n",
       " 'will': 564,\n",
       " 'earth': 565,\n",
       " 'set': 566,\n",
       " 'prefer': 567,\n",
       " 'titan': 568,\n",
       " 'sport': 569,\n",
       " 'roof': 570,\n",
       " 'lunch': 571,\n",
       " 'gave': 572,\n",
       " 'nicest': 573,\n",
       " 'packag': 574,\n",
       " 'given': 575,\n",
       " 'privat': 576,\n",
       " 'wide': 577,\n",
       " 'anyon': 578,\n",
       " 'rule': 579,\n",
       " 'seriou': 580,\n",
       " '100': 581,\n",
       " 'discount': 582,\n",
       " 'shape': 583,\n",
       " 'heart': 584,\n",
       " 'art': 585,\n",
       " 'late': 586,\n",
       " 'unpleas': 587,\n",
       " 'separ': 588,\n",
       " 'lift': 589,\n",
       " 'upper': 590,\n",
       " 'narrow': 591,\n",
       " 'hardli': 592,\n",
       " 'ibi': 593,\n",
       " 'novemb': 594,\n",
       " 'orient': 595,\n",
       " 'leisur': 596,\n",
       " 'ride': 597,\n",
       " 'ala': 598,\n",
       " 'italian': 599,\n",
       " 'hi': 600,\n",
       " 'shabbi': 601,\n",
       " 'ago': 602,\n",
       " 'board': 603,\n",
       " 'non': 604,\n",
       " 'compar': 605,\n",
       " 'fruit': 606,\n",
       " 'steep': 607,\n",
       " 'campsit': 608,\n",
       " 'complet': 609,\n",
       " 'site': 610,\n",
       " 'villag': 611,\n",
       " 'adult': 612,\n",
       " 'bring': 613,\n",
       " 'typic': 614,\n",
       " 'inn': 615,\n",
       " 'simpl': 616,\n",
       " 'cost': 617,\n",
       " 'self': 618,\n",
       " 'suffici': 619,\n",
       " 'trier': 620,\n",
       " '15': 621,\n",
       " 'certainli': 622,\n",
       " 'refurbish': 623,\n",
       " 'directli': 624,\n",
       " 'everyon': 625,\n",
       " 'sit': 626,\n",
       " 'speed': 627,\n",
       " 'apart': 628,\n",
       " 'taxi': 629,\n",
       " 'foot': 630,\n",
       " 'european': 631,\n",
       " 'upgrad': 632,\n",
       " 'sunb': 633,\n",
       " 'south': 634,\n",
       " 'confer': 635,\n",
       " 'play': 636,\n",
       " 'danc': 637,\n",
       " 'chang': 638,\n",
       " 'hous': 639,\n",
       " 'downtown': 640,\n",
       " 'state': 641,\n",
       " 'fault': 642,\n",
       " 'wors': 643,\n",
       " 'seen': 644,\n",
       " 'swimmingpool': 645,\n",
       " 'togeth': 646,\n",
       " 'function': 647,\n",
       " 'fresh': 648,\n",
       " 'issu': 649,\n",
       " 'cover': 650,\n",
       " 'partner': 651,\n",
       " 'finish': 652,\n",
       " 'louvr': 653,\n",
       " 'major': 654,\n",
       " 'minim': 655,\n",
       " 'stair': 656,\n",
       " 'sinc': 657,\n",
       " 'life': 658,\n",
       " 'mistak': 659,\n",
       " 'adequ': 660,\n",
       " 'perfectli': 661,\n",
       " '50': 662,\n",
       " 'franc': 663,\n",
       " 'jam': 664,\n",
       " 'class': 665,\n",
       " 'amount': 666,\n",
       " 'suggest': 667,\n",
       " 'bridg': 668,\n",
       " 'twice': 669,\n",
       " 'intrus': 670,\n",
       " 'mall': 671,\n",
       " 'furnitur': 672,\n",
       " 'carpet': 673,\n",
       " 'chees': 674,\n",
       " 'safe': 675,\n",
       " 'tube': 676,\n",
       " 'usual': 677,\n",
       " 'anyway': 678,\n",
       " 'strongli': 679,\n",
       " 'futur': 680,\n",
       " 'reliabl': 681,\n",
       " 'organ': 682,\n",
       " 'handl': 683,\n",
       " 'till': 684,\n",
       " 'melia': 685,\n",
       " 'order': 686,\n",
       " 'show': 687,\n",
       " 'type': 688,\n",
       " 'readi': 689,\n",
       " 'dark': 690,\n",
       " 'done': 691,\n",
       " 'smoke': 692,\n",
       " 'job': 693,\n",
       " 'variou': 694,\n",
       " 'word': 695,\n",
       " 'grand': 696,\n",
       " 'uniqu': 697,\n",
       " 'flat': 698,\n",
       " 'discoveri': 699,\n",
       " 'discov': 700,\n",
       " 'renew': 701,\n",
       " 'nh': 702,\n",
       " 'cinema': 703,\n",
       " 'somewhat': 704,\n",
       " 'edibl': 705,\n",
       " 'bor': 706,\n",
       " 'perfum': 707,\n",
       " 'diffrent': 708,\n",
       " 'honor': 709,\n",
       " 'liter': 710,\n",
       " 'landscap': 711,\n",
       " 'de': 712,\n",
       " 'opera': 713,\n",
       " 'smelli': 714,\n",
       " 'highway': 715,\n",
       " 'marvel': 716,\n",
       " 'review': 717,\n",
       " 'color': 718,\n",
       " 'chair': 719,\n",
       " 'cabinet': 720,\n",
       " 'purpos': 721,\n",
       " 'chain': 722,\n",
       " 'behind': 723,\n",
       " 'spend': 724,\n",
       " 'supris': 725,\n",
       " 'game': 726,\n",
       " 'splendid': 727,\n",
       " 'over': 728,\n",
       " 'weather': 729,\n",
       " 'tidi': 730,\n",
       " 'sunris': 731,\n",
       " 'egyptian': 732,\n",
       " 'compet': 733,\n",
       " 'annoy': 734,\n",
       " 'continent': 735,\n",
       " 'bore': 736,\n",
       " 'opportun': 737,\n",
       " 'crazi': 738,\n",
       " 'tell': 739,\n",
       " 'live': 740,\n",
       " 'wish': 741,\n",
       " 'respons': 742,\n",
       " 'put': 743,\n",
       " 'horribl': 744,\n",
       " 'bottl': 745,\n",
       " 'name': 746,\n",
       " 'smart': 747,\n",
       " 'monmart': 748,\n",
       " '95': 749,\n",
       " 'transit': 750,\n",
       " 'decid': 751,\n",
       " 'form': 752,\n",
       " 'district': 753,\n",
       " 'washbasin': 754,\n",
       " 'idea': 755,\n",
       " 'extend': 756,\n",
       " 'allow': 757,\n",
       " 'barcelona': 758,\n",
       " 'cafe': 759,\n",
       " 'coach': 760,\n",
       " 'interior': 761,\n",
       " '18th': 762,\n",
       " 'centuri': 763,\n",
       " 'rambla': 764,\n",
       " 'bilbao': 765,\n",
       " 'known': 766,\n",
       " 'refurb': 767,\n",
       " 'laugh': 768,\n",
       " 'other': 769,\n",
       " 'brit': 770,\n",
       " 'mamlouk': 771,\n",
       " 'cold': 772,\n",
       " 'honest': 773,\n",
       " 'tan': 774,\n",
       " 'somewher': 775,\n",
       " 'appear': 776,\n",
       " 'luxor': 777,\n",
       " 'disgust': 778,\n",
       " 'disclos': 779,\n",
       " 'card': 780,\n",
       " 'rail': 781,\n",
       " 'cereal': 782,\n",
       " 'red': 783,\n",
       " 'flag': 784,\n",
       " 'lay': 785,\n",
       " 'pitch': 786,\n",
       " 'nightclub': 787,\n",
       " 'vegetarian': 788,\n",
       " 'restour': 789,\n",
       " 'hallmark': 790,\n",
       " 'appli': 791,\n",
       " 'notic': 792,\n",
       " 'three': 793,\n",
       " 'consid': 794,\n",
       " 'receiv': 795,\n",
       " 'menu': 796,\n",
       " 'ne': 797,\n",
       " 'der': 798,\n",
       " 'four': 799,\n",
       " 'jacuzzi': 800,\n",
       " 'collect': 801,\n",
       " 'comment': 802,\n",
       " 'columbu': 803,\n",
       " 'rebuild': 804,\n",
       " 'held': 805,\n",
       " 'paper': 806,\n",
       " 'n': 807,\n",
       " 'highlight': 808,\n",
       " 'daili': 809,\n",
       " 'exampl': 810,\n",
       " 'stain': 811,\n",
       " 'eastern': 812,\n",
       " 'fail': 813,\n",
       " 'pleasantli': 814,\n",
       " 'steigenberg': 815,\n",
       " 'frankfurtt': 816,\n",
       " 'hof': 817,\n",
       " 'dj': 818,\n",
       " 'empti': 819,\n",
       " 'stupid': 820,\n",
       " 'shoe': 821,\n",
       " 'rock': 822,\n",
       " 'countri': 823,\n",
       " 'per': 824,\n",
       " 'checkout': 825,\n",
       " 'duti': 826,\n",
       " 'massag': 827,\n",
       " 'yard': 828,\n",
       " 'light': 829,\n",
       " 'minibar': 830,\n",
       " 'cuisin': 831,\n",
       " 'knew': 832,\n",
       " 'heaven': 833,\n",
       " 'recomend': 834,\n",
       " 'eurostar': 835,\n",
       " 'liverpool': 836,\n",
       " 'unconfort': 837,\n",
       " 'bewar': 838,\n",
       " 'chois': 839,\n",
       " 'heat': 840,\n",
       " 'normal': 841,\n",
       " 'snorkel': 842,\n",
       " '9': 843,\n",
       " 'pm': 844,\n",
       " 'eur': 845,\n",
       " 'confirm': 846,\n",
       " 'deal': 847,\n",
       " 'parti': 848,\n",
       " 'teenag': 849,\n",
       " 'goodth': 850,\n",
       " 'worst': 851,\n",
       " 'goavoid': 852,\n",
       " 'turkish': 853,\n",
       " 'riko': 854,\n",
       " 'intens': 855,\n",
       " 'sell': 856,\n",
       " 'excurs': 857,\n",
       " 'quick': 858,\n",
       " 'outskirt': 859,\n",
       " 'actual': 860,\n",
       " 'swime': 861,\n",
       " 'nl': 862,\n",
       " 'throughout': 863,\n",
       " 'soft': 864,\n",
       " 'certain': 865,\n",
       " 'touch': 866,\n",
       " 'afford': 867,\n",
       " 'electr': 868,\n",
       " 'abl': 869,\n",
       " 'bill': 870,\n",
       " 'end': 871,\n",
       " 'phone': 872,\n",
       " 'system': 873,\n",
       " 'tallinn': 874,\n",
       " 'flight': 875,\n",
       " 'express': 876,\n",
       " 'convent': 877,\n",
       " 'deliveri': 878,\n",
       " 'maintain': 879,\n",
       " 'updat': 880,\n",
       " 'snack': 881,\n",
       " 'ingeni': 882,\n",
       " 'toast': 883,\n",
       " 'feast': 884,\n",
       " 'behold': 885,\n",
       " 'singl': 886,\n",
       " 'wear': 887,\n",
       " 'etiquett': 888,\n",
       " 'dissapoint': 889,\n",
       " 'defin': 890,\n",
       " 'wireless': 891,\n",
       " 'corner': 892,\n",
       " 'ampl': 893,\n",
       " 'limit': 894,\n",
       " 'pond': 895,\n",
       " 'l': 896,\n",
       " '2012': 897,\n",
       " '2013': 898,\n",
       " 'spakenburg': 899,\n",
       " 'neat': 900,\n",
       " 'chocol': 901,\n",
       " 'sprinkl': 902,\n",
       " 'hire': 903,\n",
       " 'televis': 904,\n",
       " 'guess': 905,\n",
       " 'ordinari': 906,\n",
       " 'termin': 907,\n",
       " 'improv': 908,\n",
       " 'mostli': 909,\n",
       " 'men': 910,\n",
       " 'york': 911,\n",
       " 'sightse': 912,\n",
       " 'said': 913,\n",
       " 'immacul': 914,\n",
       " 'thoroughli': 915,\n",
       " 'happili': 916,\n",
       " '300': 917,\n",
       " '6': 918,\n",
       " 'uncomfort': 919,\n",
       " 'sun': 920,\n",
       " 'necessari': 921,\n",
       " 'mother': 922,\n",
       " 'al': 923,\n",
       " 'troubl': 924,\n",
       " 'dream': 925,\n",
       " 'plea': 926,\n",
       " 'begin': 927,\n",
       " 'bright': 928,\n",
       " 'later': 929,\n",
       " 'milan': 930,\n",
       " 'railway': 931,\n",
       " 'call': 932,\n",
       " 'fact': 933,\n",
       " 'rer': 934,\n",
       " 'let': 935,\n",
       " 'mountain': 936,\n",
       " 'opinion': 937,\n",
       " 'smelt': 938,\n",
       " 'studio': 939,\n",
       " 'kitchen': 940,\n",
       " 'gross': 941,\n",
       " 'brought': 942,\n",
       " 'grab': 943,\n",
       " 'croissant': 944,\n",
       " 'pub': 945,\n",
       " 'complimentari': 946,\n",
       " 'ya': 947,\n",
       " 'hip': 948,\n",
       " 'louis': 949,\n",
       " 'slipper': 950,\n",
       " 'fanci': 951,\n",
       " 'strict': 952,\n",
       " 'event': 953,\n",
       " 'chose': 954,\n",
       " 'territori': 955,\n",
       " 'accept': 956,\n",
       " 'sunday': 957,\n",
       " 'satisfact': 958,\n",
       " 'scootmobil': 959,\n",
       " 'dorm': 960,\n",
       " 'load': 961,\n",
       " 'question': 962,\n",
       " 'answer': 963,\n",
       " 'straight': 964,\n",
       " 'sasha': 965,\n",
       " 'funni': 966,\n",
       " 'gild': 967,\n",
       " 'devent': 968,\n",
       " 'lost': 969,\n",
       " 'kettl': 970,\n",
       " 'code': 971,\n",
       " 'eg': 972,\n",
       " 'dutch': 973,\n",
       " 'channel': 974,\n",
       " 'excus': 975,\n",
       " 'beyond': 976,\n",
       " 'face': 977,\n",
       " 'explor': 978,\n",
       " 'maker': 979,\n",
       " 'gran': 980,\n",
       " 'surprisingli': 981,\n",
       " 'spaci': 982,\n",
       " 'wonderful': 983,\n",
       " 'baku': 984,\n",
       " 'control': 985,\n",
       " 'result': 986,\n",
       " 'invit': 987,\n",
       " 'residenti': 988,\n",
       " 'inner': 989,\n",
       " 'frequent': 990,\n",
       " 'domicil': 991,\n",
       " 'environ': 992,\n",
       " 'reciev': 993,\n",
       " 'besid': 994,\n",
       " 'properti': 995,\n",
       " 'golf': 996,\n",
       " 'ye': 997,\n",
       " 'oberoi': 998,\n",
       " 'udaivila': 999,\n",
       " 'explain': 1000,\n",
       " ...}"
      ]
     },
     "execution_count": 64,
     "metadata": {},
     "output_type": "execute_result"
    }
   ],
   "source": [
    "tokenizer.word_index"
   ]
  },
  {
   "cell_type": "code",
   "execution_count": 88,
   "metadata": {},
   "outputs": [
    {
     "name": "stdout",
     "output_type": "stream",
     "text": [
      "['ye realli great experi visit variou place wonder part trip stay oberoi udaivila luxuri hotel'\n",
      " 'explain word grand place look'\n",
      " 'uniqu blend old world royal charm modern luxuri' ...\n",
      " 'hospit servic highest level' 'definit come back' 'best class']\n"
     ]
    }
   ],
   "source": [
    "print(df_intensity['Text'].values)"
   ]
  },
  {
   "cell_type": "code",
   "execution_count": 89,
   "metadata": {},
   "outputs": [
    {
     "data": {
      "text/plain": [
       "(1400, 46)"
      ]
     },
     "execution_count": 89,
     "metadata": {},
     "output_type": "execute_result"
    }
   ],
   "source": [
    "X.shape"
   ]
  },
  {
   "cell_type": "code",
   "execution_count": 90,
   "metadata": {},
   "outputs": [
    {
     "name": "stdout",
     "output_type": "stream",
     "text": [
      "Model: \"sequential_1\"\n",
      "_________________________________________________________________\n",
      "Layer (type)                 Output Shape              Param #   \n",
      "=================================================================\n",
      "embedding_1 (Embedding)      (None, 46, 100)           150000    \n",
      "_________________________________________________________________\n",
      "lstm_3 (LSTM)                (None, 46, 100)           80400     \n",
      "_________________________________________________________________\n",
      "lstm_4 (LSTM)                (None, 46, 50)            30200     \n",
      "_________________________________________________________________\n",
      "lstm_5 (LSTM)                (None, 25)                7600      \n",
      "_________________________________________________________________\n",
      "dense_1 (Dense)              (None, 2)                 52        \n",
      "=================================================================\n",
      "Total params: 268,252\n",
      "Trainable params: 268,252\n",
      "Non-trainable params: 0\n",
      "_________________________________________________________________\n",
      "None\n"
     ]
    }
   ],
   "source": [
    "embed_dim = 100\n",
    "lstm_out = 50\n",
    "batch_size = 32\n",
    "\n",
    "model = Sequential()\n",
    "model.add(Embedding(1500, embed_dim,input_length = X.shape[1]))\n",
    "model.add(LSTM(100,return_sequences=True))\n",
    "model.add(LSTM(50,return_sequences=True))\n",
    "model.add(LSTM(25))\n",
    "model.add(Dense(2,activation='sigmoid'))\n",
    "print(model.summary())"
   ]
  },
  {
   "cell_type": "code",
   "execution_count": 91,
   "metadata": {},
   "outputs": [],
   "source": [
    "Y = df_intensity.iloc[:,1:]"
   ]
  },
  {
   "cell_type": "code",
   "execution_count": 92,
   "metadata": {},
   "outputs": [
    {
     "data": {
      "text/html": [
       "<div>\n",
       "<style scoped>\n",
       "    .dataframe tbody tr th:only-of-type {\n",
       "        vertical-align: middle;\n",
       "    }\n",
       "\n",
       "    .dataframe tbody tr th {\n",
       "        vertical-align: top;\n",
       "    }\n",
       "\n",
       "    .dataframe thead th {\n",
       "        text-align: right;\n",
       "    }\n",
       "</style>\n",
       "<table border=\"1\" class=\"dataframe\">\n",
       "  <thead>\n",
       "    <tr style=\"text-align: right;\">\n",
       "      <th></th>\n",
       "      <th>Polarity</th>\n",
       "      <th>Intensity</th>\n",
       "    </tr>\n",
       "  </thead>\n",
       "  <tbody>\n",
       "    <tr>\n",
       "      <th>0</th>\n",
       "      <td>1</td>\n",
       "      <td>0</td>\n",
       "    </tr>\n",
       "    <tr>\n",
       "      <th>1</th>\n",
       "      <td>1</td>\n",
       "      <td>0</td>\n",
       "    </tr>\n",
       "    <tr>\n",
       "      <th>2</th>\n",
       "      <td>1</td>\n",
       "      <td>1</td>\n",
       "    </tr>\n",
       "    <tr>\n",
       "      <th>3</th>\n",
       "      <td>1</td>\n",
       "      <td>1</td>\n",
       "    </tr>\n",
       "    <tr>\n",
       "      <th>4</th>\n",
       "      <td>0</td>\n",
       "      <td>0</td>\n",
       "    </tr>\n",
       "    <tr>\n",
       "      <th>...</th>\n",
       "      <td>...</td>\n",
       "      <td>...</td>\n",
       "    </tr>\n",
       "    <tr>\n",
       "      <th>1395</th>\n",
       "      <td>1</td>\n",
       "      <td>0</td>\n",
       "    </tr>\n",
       "    <tr>\n",
       "      <th>1396</th>\n",
       "      <td>1</td>\n",
       "      <td>0</td>\n",
       "    </tr>\n",
       "    <tr>\n",
       "      <th>1397</th>\n",
       "      <td>1</td>\n",
       "      <td>1</td>\n",
       "    </tr>\n",
       "    <tr>\n",
       "      <th>1398</th>\n",
       "      <td>1</td>\n",
       "      <td>1</td>\n",
       "    </tr>\n",
       "    <tr>\n",
       "      <th>1399</th>\n",
       "      <td>1</td>\n",
       "      <td>1</td>\n",
       "    </tr>\n",
       "  </tbody>\n",
       "</table>\n",
       "<p>1400 rows × 2 columns</p>\n",
       "</div>"
      ],
      "text/plain": [
       "      Polarity  Intensity\n",
       "0            1          0\n",
       "1            1          0\n",
       "2            1          1\n",
       "3            1          1\n",
       "4            0          0\n",
       "...        ...        ...\n",
       "1395         1          0\n",
       "1396         1          0\n",
       "1397         1          1\n",
       "1398         1          1\n",
       "1399         1          1\n",
       "\n",
       "[1400 rows x 2 columns]"
      ]
     },
     "execution_count": 92,
     "metadata": {},
     "output_type": "execute_result"
    }
   ],
   "source": [
    "Y"
   ]
  },
  {
   "cell_type": "code",
   "execution_count": 93,
   "metadata": {},
   "outputs": [
    {
     "name": "stdout",
     "output_type": "stream",
     "text": [
      "Epoch 1/10\n",
      "40/40 [==============================] - 20s 189ms/step - loss: 0.6381 - acc: 0.9470 - val_loss: 0.6004 - val_acc: 0.9571\n",
      "Epoch 2/10\n",
      "40/40 [==============================] - 7s 165ms/step - loss: 0.6073 - acc: 0.9521 - val_loss: 0.5900 - val_acc: 0.9571\n",
      "Epoch 3/10\n",
      "40/40 [==============================] - 4s 112ms/step - loss: 0.5832 - acc: 0.9537 - val_loss: 0.5735 - val_acc: 0.9357\n",
      "Epoch 4/10\n",
      "40/40 [==============================] - 4s 112ms/step - loss: 0.5011 - acc: 0.9362 - val_loss: 0.5465 - val_acc: 0.9357\n",
      "Epoch 5/10\n",
      "40/40 [==============================] - 6s 161ms/step - loss: 0.4357 - acc: 0.9443 - val_loss: 0.5871 - val_acc: 0.8929\n",
      "Epoch 6/10\n",
      "40/40 [==============================] - 4s 112ms/step - loss: 0.3804 - acc: 0.8878 - val_loss: 0.6394 - val_acc: 0.8429\n",
      "Epoch 7/10\n",
      "40/40 [==============================] - 5s 114ms/step - loss: 0.3604 - acc: 0.8487 - val_loss: 0.6164 - val_acc: 0.8643\n",
      "Epoch 8/10\n",
      "40/40 [==============================] - 5s 131ms/step - loss: 0.3428 - acc: 0.8532 - val_loss: 0.6801 - val_acc: 0.7929\n",
      "Epoch 9/10\n",
      "40/40 [==============================] - 6s 158ms/step - loss: 0.3130 - acc: 0.8303 - val_loss: 0.6894 - val_acc: 0.7714\n",
      "Epoch 10/10\n",
      "40/40 [==============================] - 4s 111ms/step - loss: 0.2744 - acc: 0.8092 - val_loss: 0.7540 - val_acc: 0.7143\n"
     ]
    }
   ],
   "source": [
    "X_train, X_test, Y_train, Y_test = train_test_split(X,Y, test_size = 0.10, random_state = 42)\n",
    "\n",
    "model.compile(loss = 'binary_crossentropy', optimizer='adam',metrics = ['acc'])\n",
    "history = model.fit(X_train, Y_train,validation_data = (X_test,Y_test), epochs=10,batch_size =32)"
   ]
  },
  {
   "cell_type": "code",
   "execution_count": 94,
   "metadata": {},
   "outputs": [
    {
     "name": "stdout",
     "output_type": "stream",
     "text": [
      "5/5 [==============================] - 0s 30ms/step - loss: 0.7540 - acc: 0.7143\n",
      "score: 0.75\n",
      "accuracy: 0.71\n"
     ]
    }
   ],
   "source": [
    "score,acc_lstm = model.evaluate(X_test,Y_test,batch_size=32)\n",
    "print(\"score: %.2f\" %(score))\n",
    "print(\"accuracy: %.2f\" %(acc_lstm))"
   ]
  },
  {
   "cell_type": "code",
   "execution_count": 95,
   "metadata": {},
   "outputs": [
    {
     "data": {
      "image/png": "[encoded data removed]",
      "text/plain": [
       "<Figure size 432x360 with 1 Axes>"
      ]
     },
     "metadata": {
      "needs_background": "light"
     },
     "output_type": "display_data"
    }
   ],
   "source": [
    "import matplotlib.pyplot as plt \n",
    "plt.figure(figsize=(6,5))\n",
    "\n",
    "plt.plot(history.history['acc'], label='Training')\n",
    "plt.plot(history.history['val_acc'], label='Testing')\n",
    "plt.title('Model Accuracy vs Epoch')\n",
    "plt.legend()\n",
    "plt.ylabel('Accuracy')\n",
    "plt.xlabel('Epochs')\n",
    "plt.show()"
   ]
  },
  {
   "cell_type": "code",
   "execution_count": 81,
   "metadata": {},
   "outputs": [
    {
     "data": {
      "text/html": [
       "<div>\n",
       "<style scoped>\n",
       "    .dataframe tbody tr th:only-of-type {\n",
       "        vertical-align: middle;\n",
       "    }\n",
       "\n",
       "    .dataframe tbody tr th {\n",
       "        vertical-align: top;\n",
       "    }\n",
       "\n",
       "    .dataframe thead th {\n",
       "        text-align: right;\n",
       "    }\n",
       "</style>\n",
       "<table border=\"1\" class=\"dataframe\">\n",
       "  <thead>\n",
       "    <tr style=\"text-align: right;\">\n",
       "      <th></th>\n",
       "      <th>0</th>\n",
       "      <th>1</th>\n",
       "    </tr>\n",
       "  </thead>\n",
       "  <tbody>\n",
       "    <tr>\n",
       "      <th>0</th>\n",
       "      <td>0.132909</td>\n",
       "      <td>0.099123</td>\n",
       "    </tr>\n",
       "    <tr>\n",
       "      <th>1</th>\n",
       "      <td>0.977925</td>\n",
       "      <td>0.960064</td>\n",
       "    </tr>\n",
       "    <tr>\n",
       "      <th>2</th>\n",
       "      <td>0.977177</td>\n",
       "      <td>0.017985</td>\n",
       "    </tr>\n",
       "    <tr>\n",
       "      <th>3</th>\n",
       "      <td>0.014986</td>\n",
       "      <td>0.012215</td>\n",
       "    </tr>\n",
       "    <tr>\n",
       "      <th>4</th>\n",
       "      <td>0.062417</td>\n",
       "      <td>0.007451</td>\n",
       "    </tr>\n",
       "  </tbody>\n",
       "</table>\n",
       "</div>"
      ],
      "text/plain": [
       "          0         1\n",
       "0  0.132909  0.099123\n",
       "1  0.977925  0.960064\n",
       "2  0.977177  0.017985\n",
       "3  0.014986  0.012215\n",
       "4  0.062417  0.007451"
      ]
     },
     "execution_count": 81,
     "metadata": {},
     "output_type": "execute_result"
    }
   ],
   "source": [
    "y_pred = model.predict(X_test)\n",
    "prediction = pd.DataFrame(y_pred)\n",
    "prediction.head()"
   ]
  },
  {
   "cell_type": "code",
   "execution_count": 87,
   "metadata": {},
   "outputs": [],
   "source": [
    "prediction[0] = prediction[0].apply(lambda x: round(x))\n",
    "prediction[1] = prediction[1].apply(lambda x: round(x))"
   ]
  },
  {
   "cell_type": "code",
   "execution_count": 88,
   "metadata": {},
   "outputs": [
    {
     "data": {
      "text/html": [
       "<div>\n",
       "<style scoped>\n",
       "    .dataframe tbody tr th:only-of-type {\n",
       "        vertical-align: middle;\n",
       "    }\n",
       "\n",
       "    .dataframe tbody tr th {\n",
       "        vertical-align: top;\n",
       "    }\n",
       "\n",
       "    .dataframe thead th {\n",
       "        text-align: right;\n",
       "    }\n",
       "</style>\n",
       "<table border=\"1\" class=\"dataframe\">\n",
       "  <thead>\n",
       "    <tr style=\"text-align: right;\">\n",
       "      <th></th>\n",
       "      <th>0</th>\n",
       "      <th>1</th>\n",
       "    </tr>\n",
       "  </thead>\n",
       "  <tbody>\n",
       "    <tr>\n",
       "      <th>0</th>\n",
       "      <td>0</td>\n",
       "      <td>0</td>\n",
       "    </tr>\n",
       "    <tr>\n",
       "      <th>1</th>\n",
       "      <td>1</td>\n",
       "      <td>1</td>\n",
       "    </tr>\n",
       "    <tr>\n",
       "      <th>2</th>\n",
       "      <td>1</td>\n",
       "      <td>0</td>\n",
       "    </tr>\n",
       "    <tr>\n",
       "      <th>3</th>\n",
       "      <td>0</td>\n",
       "      <td>0</td>\n",
       "    </tr>\n",
       "    <tr>\n",
       "      <th>4</th>\n",
       "      <td>0</td>\n",
       "      <td>0</td>\n",
       "    </tr>\n",
       "  </tbody>\n",
       "</table>\n",
       "</div>"
      ],
      "text/plain": [
       "   0  1\n",
       "0  0  0\n",
       "1  1  1\n",
       "2  1  0\n",
       "3  0  0\n",
       "4  0  0"
      ]
     },
     "execution_count": 88,
     "metadata": {},
     "output_type": "execute_result"
    }
   ],
   "source": [
    "prediction.head()"
   ]
  },
  {
   "cell_type": "code",
   "execution_count": 83,
   "metadata": {},
   "outputs": [
    {
     "data": {
      "text/html": [
       "<div>\n",
       "<style scoped>\n",
       "    .dataframe tbody tr th:only-of-type {\n",
       "        vertical-align: middle;\n",
       "    }\n",
       "\n",
       "    .dataframe tbody tr th {\n",
       "        vertical-align: top;\n",
       "    }\n",
       "\n",
       "    .dataframe thead th {\n",
       "        text-align: right;\n",
       "    }\n",
       "</style>\n",
       "<table border=\"1\" class=\"dataframe\">\n",
       "  <thead>\n",
       "    <tr style=\"text-align: right;\">\n",
       "      <th></th>\n",
       "      <th>Polarity</th>\n",
       "      <th>Intensity</th>\n",
       "    </tr>\n",
       "  </thead>\n",
       "  <tbody>\n",
       "    <tr>\n",
       "      <th>665</th>\n",
       "      <td>0</td>\n",
       "      <td>0</td>\n",
       "    </tr>\n",
       "    <tr>\n",
       "      <th>624</th>\n",
       "      <td>1</td>\n",
       "      <td>1</td>\n",
       "    </tr>\n",
       "    <tr>\n",
       "      <th>115</th>\n",
       "      <td>1</td>\n",
       "      <td>0</td>\n",
       "    </tr>\n",
       "    <tr>\n",
       "      <th>478</th>\n",
       "      <td>1</td>\n",
       "      <td>0</td>\n",
       "    </tr>\n",
       "    <tr>\n",
       "      <th>233</th>\n",
       "      <td>1</td>\n",
       "      <td>0</td>\n",
       "    </tr>\n",
       "  </tbody>\n",
       "</table>\n",
       "</div>"
      ],
      "text/plain": [
       "     Polarity  Intensity\n",
       "665         0          0\n",
       "624         1          1\n",
       "115         1          0\n",
       "478         1          0\n",
       "233         1          0"
      ]
     },
     "execution_count": 83,
     "metadata": {},
     "output_type": "execute_result"
    }
   ],
   "source": [
    "Y_test.head()"
   ]
  },
  {
   "cell_type": "code",
   "execution_count": null,
   "metadata": {},
   "outputs": [],
   "source": []
  },
  {
   "cell_type": "markdown",
   "metadata": {},
   "source": [
    "# BERT for Sentiment Analysis"
   ]
  },
  {
   "cell_type": "code",
   "execution_count": 35,
   "metadata": {},
   "outputs": [
    {
     "data": {
      "text/html": [
       "<div>\n",
       "<style scoped>\n",
       "    .dataframe tbody tr th:only-of-type {\n",
       "        vertical-align: middle;\n",
       "    }\n",
       "\n",
       "    .dataframe tbody tr th {\n",
       "        vertical-align: top;\n",
       "    }\n",
       "\n",
       "    .dataframe thead th {\n",
       "        text-align: right;\n",
       "    }\n",
       "</style>\n",
       "<table border=\"1\" class=\"dataframe\">\n",
       "  <thead>\n",
       "    <tr style=\"text-align: right;\">\n",
       "      <th></th>\n",
       "      <th>Text</th>\n",
       "      <th>Polarity</th>\n",
       "    </tr>\n",
       "  </thead>\n",
       "  <tbody>\n",
       "    <tr>\n",
       "      <th>0</th>\n",
       "      <td>yes really great experience visited various pl...</td>\n",
       "      <td>Positive</td>\n",
       "    </tr>\n",
       "    <tr>\n",
       "      <th>1</th>\n",
       "      <td>explain word grand place look</td>\n",
       "      <td>Positive</td>\n",
       "    </tr>\n",
       "    <tr>\n",
       "      <th>2</th>\n",
       "      <td>unique blend old world royal charm modern luxury</td>\n",
       "      <td>Positive</td>\n",
       "    </tr>\n",
       "    <tr>\n",
       "      <th>3</th>\n",
       "      <td>definitely going whenever get chance</td>\n",
       "      <td>Positive</td>\n",
       "    </tr>\n",
       "    <tr>\n",
       "      <th>4</th>\n",
       "      <td>bit pricey away center</td>\n",
       "      <td>Negative</td>\n",
       "    </tr>\n",
       "  </tbody>\n",
       "</table>\n",
       "</div>"
      ],
      "text/plain": [
       "                                                Text  Polarity\n",
       "0  yes really great experience visited various pl...  Positive\n",
       "1                      explain word grand place look  Positive\n",
       "2   unique blend old world royal charm modern luxury  Positive\n",
       "3               definitely going whenever get chance  Positive\n",
       "4                             bit pricey away center  Negative"
      ]
     },
     "execution_count": 35,
     "metadata": {},
     "output_type": "execute_result"
    }
   ],
   "source": [
    "df_lemm.head()"
   ]
  },
  {
   "cell_type": "code",
   "execution_count": 36,
   "metadata": {},
   "outputs": [],
   "source": [
    "train = df_lemm.iloc[0:1390,:]\n",
    "test = df_lemm.iloc[1390:,:]"
   ]
  },
  {
   "cell_type": "code",
   "execution_count": null,
   "metadata": {},
   "outputs": [],
   "source": []
  },
  {
   "cell_type": "code",
   "execution_count": 41,
   "metadata": {},
   "outputs": [
    {
     "data": {
      "text/html": [
       "<div>\n",
       "<style scoped>\n",
       "    .dataframe tbody tr th:only-of-type {\n",
       "        vertical-align: middle;\n",
       "    }\n",
       "\n",
       "    .dataframe tbody tr th {\n",
       "        vertical-align: top;\n",
       "    }\n",
       "\n",
       "    .dataframe thead th {\n",
       "        text-align: right;\n",
       "    }\n",
       "</style>\n",
       "<table border=\"1\" class=\"dataframe\">\n",
       "  <thead>\n",
       "    <tr style=\"text-align: right;\">\n",
       "      <th></th>\n",
       "      <th>guid</th>\n",
       "      <th>label</th>\n",
       "      <th>alpha</th>\n",
       "      <th>text</th>\n",
       "    </tr>\n",
       "  </thead>\n",
       "  <tbody>\n",
       "    <tr>\n",
       "      <th>0</th>\n",
       "      <td>0</td>\n",
       "      <td>Positive</td>\n",
       "      <td>a</td>\n",
       "      <td>yes really great experience visited various pl...</td>\n",
       "    </tr>\n",
       "    <tr>\n",
       "      <th>1</th>\n",
       "      <td>1</td>\n",
       "      <td>Positive</td>\n",
       "      <td>a</td>\n",
       "      <td>explain word grand place look</td>\n",
       "    </tr>\n",
       "    <tr>\n",
       "      <th>2</th>\n",
       "      <td>2</td>\n",
       "      <td>Positive</td>\n",
       "      <td>a</td>\n",
       "      <td>unique blend old world royal charm modern luxury</td>\n",
       "    </tr>\n",
       "    <tr>\n",
       "      <th>3</th>\n",
       "      <td>3</td>\n",
       "      <td>Positive</td>\n",
       "      <td>a</td>\n",
       "      <td>definitely going whenever get chance</td>\n",
       "    </tr>\n",
       "    <tr>\n",
       "      <th>4</th>\n",
       "      <td>4</td>\n",
       "      <td>Negative</td>\n",
       "      <td>a</td>\n",
       "      <td>bit pricey away center</td>\n",
       "    </tr>\n",
       "  </tbody>\n",
       "</table>\n",
       "</div>"
      ],
      "text/plain": [
       "   guid     label alpha                                               text\n",
       "0     0  Positive     a  yes really great experience visited various pl...\n",
       "1     1  Positive     a                      explain word grand place look\n",
       "2     2  Positive     a   unique blend old world royal charm modern luxury\n",
       "3     3  Positive     a               definitely going whenever get chance\n",
       "4     4  Negative     a                             bit pricey away center"
      ]
     },
     "execution_count": 41,
     "metadata": {},
     "output_type": "execute_result"
    }
   ],
   "source": [
    "# code\n",
    "# Convert training data into BERT format\n",
    "train_bert = pd.DataFrame({\n",
    "  'guid': range(len(train)),\n",
    " 'label':train['Polarity'],\n",
    " 'alpha': ['a']*train.shape[0],\n",
    " 'text': train['Text'].replace(r'\\n', '', regex = True)\n",
    "})\n",
    "train_bert.head()\n"
   ]
  },
  {
   "cell_type": "code",
   "execution_count": 42,
   "metadata": {},
   "outputs": [
    {
     "data": {
      "text/html": [
       "<div>\n",
       "<style scoped>\n",
       "    .dataframe tbody tr th:only-of-type {\n",
       "        vertical-align: middle;\n",
       "    }\n",
       "\n",
       "    .dataframe tbody tr th {\n",
       "        vertical-align: top;\n",
       "    }\n",
       "\n",
       "    .dataframe thead th {\n",
       "        text-align: right;\n",
       "    }\n",
       "</style>\n",
       "<table border=\"1\" class=\"dataframe\">\n",
       "  <thead>\n",
       "    <tr style=\"text-align: right;\">\n",
       "      <th></th>\n",
       "      <th>id</th>\n",
       "      <th>text</th>\n",
       "    </tr>\n",
       "  </thead>\n",
       "  <tbody>\n",
       "    <tr>\n",
       "      <th>1390</th>\n",
       "      <td>0</td>\n",
       "      <td>noisy poor room insulation</td>\n",
       "    </tr>\n",
       "    <tr>\n",
       "      <th>1391</th>\n",
       "      <td>1</td>\n",
       "      <td>carpet hotel instead wooden floor spread maxim...</td>\n",
       "    </tr>\n",
       "    <tr>\n",
       "      <th>1392</th>\n",
       "      <td>2</td>\n",
       "      <td>usually hear noise even 3am 4</td>\n",
       "    </tr>\n",
       "    <tr>\n",
       "      <th>1393</th>\n",
       "      <td>3</td>\n",
       "      <td>experience worse hostel</td>\n",
       "    </tr>\n",
       "    <tr>\n",
       "      <th>1394</th>\n",
       "      <td>4</td>\n",
       "      <td>excelent place golf beach</td>\n",
       "    </tr>\n",
       "  </tbody>\n",
       "</table>\n",
       "</div>"
      ],
      "text/plain": [
       "      id                                               text\n",
       "1390   0                         noisy poor room insulation\n",
       "1391   1  carpet hotel instead wooden floor spread maxim...\n",
       "1392   2                      usually hear noise even 3am 4\n",
       "1393   3                            experience worse hostel\n",
       "1394   4                          excelent place golf beach"
      ]
     },
     "execution_count": 42,
     "metadata": {},
     "output_type": "execute_result"
    }
   ],
   "source": [
    "# convert test data into bert format\n",
    "bert_test = pd.DataFrame({\n",
    " 'id':range(len(test)),\n",
    " 'text': test['Text'].replace(r'\\n', ' ', regex = True)\n",
    "})\n",
    "bert_test.head()"
   ]
  },
  {
   "cell_type": "code",
   "execution_count": 44,
   "metadata": {},
   "outputs": [],
   "source": [
    "import os\n",
    "import re\n",
    "import numpy as np\n",
    "import pandas as pd\n",
    "from sklearn.preprocessing import LabelEncoder\n",
    "from sklearn.model_selection import train_test_split\n",
    "import tensorflow as tf\n",
    "from tensorflow import keras\n",
    "import csv\n",
    "from sklearn import metrics\n"
   ]
  },
  {
   "cell_type": "code",
   "execution_count": 47,
   "metadata": {},
   "outputs": [],
   "source": [
    "# split data into train and validation set\n",
    "bert_train, bert_val = train_test_split(train_bert, test_size = 0.1)\n",
    "# save train, validation and testfile to afolder\n",
    "bert_train.to_csv('bert/Hotel_Dataset/train.tsv', sep ='\\t', index = False, header = False)\n",
    "bert_val.to_csv('bert/Hotel_Dataset/dev.tsv', sep ='\\t', index = False, header = False)\n",
    "bert_test.to_csv('bert/Hotel_Dataset/test.tsv', sep ='\\t', index = False, header = True)"
   ]
  },
  {
   "cell_type": "code",
   "execution_count": 61,
   "metadata": {},
   "outputs": [
    {
     "ename": "SyntaxError",
     "evalue": "cannot assign to operator (<ipython-input-61-789f3ab631a5>, line 7)",
     "output_type": "error",
     "traceback": [
      "\u001b[1;36m  File \u001b[1;32m\"<ipython-input-61-789f3ab631a5>\"\u001b[1;36m, line \u001b[1;32m7\u001b[0m\n\u001b[1;33m    task_name = cola --do_train = true --do_eval = true\u001b[0m\n\u001b[1;37m                ^\u001b[0m\n\u001b[1;31mSyntaxError\u001b[0m\u001b[1;31m:\u001b[0m cannot assign to operator\n"
     ]
    }
   ],
   "source": [
    "\n",
    "# Most of the arguments  hereare self-explanatory but some  arguments needs  to be explained:\n",
    "# task name:We have discussed this above .Here we need toperform binary  classification that why we use cola\n",
    "# vocab file :  A vocab file (vocab.txt) to map WordPiece to word id.\n",
    "# init checkpoint:  A tensorflow checkpoint required. Here we used downloaded bert.\n",
    "# max_seq_length :caps the maximunumber of words  to each reviews\n",
    "# bert_config_file: file contains hyperparameter settings ! python bert / run_classifier.py\n",
    "--task_name = cola --do_train = true --do_eval = true\n",
    "--data_dir =bert/Hotel_Dataset\n",
    "--vocab_file =uncased/vocab.txt\n",
    "--bert_config_file =uncased/bert_config.json\n",
    "--init_checkpoint =uncased/bert_model.ckpt\n",
    "--max_seq_length = 64\n",
    "--train_batch_size = 8 --learning_rate = 2e-5\n",
    "--num_train_epochs = 3.0\n",
    "--output_dir =bert_output\n",
    "--do_lower_case = True"
   ]
  },
  {
   "cell_type": "code",
   "execution_count": null,
   "metadata": {},
   "outputs": [],
   "source": []
  }
 ],
 "metadata": {
  "kernelspec": {
   "display_name": "Python 3",
   "language": "python",
   "name": "python3"
  },
  "language_info": {
   "codemirror_mode": {
    "name": "ipython",
    "version": 3
   },
   "file_extension": ".py",
   "mimetype": "text/x-python",
   "name": "python",
   "nbconvert_exporter": "python",
   "pygments_lexer": "ipython3",
   "version": "3.8.5"
  }
 },
 "nbformat": 4,
 "nbformat_minor": 2
}
